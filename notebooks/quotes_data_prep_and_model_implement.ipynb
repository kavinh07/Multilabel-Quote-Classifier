{
  "nbformat": 4,
  "nbformat_minor": 0,
  "metadata": {
    "colab": {
      "provenance": [],
      "gpuType": "T4"
    },
    "kernelspec": {
      "name": "python3",
      "display_name": "Python 3"
    },
    "language_info": {
      "name": "python"
    },
    "accelerator": "GPU",
    "widgets": {
      "application/vnd.jupyter.widget-state+json": {
        "bd90bd9f0da14e9fa215d657aa83923e": {
          "model_module": "@jupyter-widgets/controls",
          "model_name": "HBoxModel",
          "model_module_version": "1.5.0",
          "state": {
            "_dom_classes": [],
            "_model_module": "@jupyter-widgets/controls",
            "_model_module_version": "1.5.0",
            "_model_name": "HBoxModel",
            "_view_count": null,
            "_view_module": "@jupyter-widgets/controls",
            "_view_module_version": "1.5.0",
            "_view_name": "HBoxView",
            "box_style": "",
            "children": [
              "IPY_MODEL_50c5436410b6477ea18bddca74133549",
              "IPY_MODEL_ee92a0b2f2414f38a59a00cf429cf490",
              "IPY_MODEL_a6e0bc93e0f048a08152114307bd34c0"
            ],
            "layout": "IPY_MODEL_5a1c3ae863a1454ebb79d1f5172f7442"
          }
        },
        "50c5436410b6477ea18bddca74133549": {
          "model_module": "@jupyter-widgets/controls",
          "model_name": "HTMLModel",
          "model_module_version": "1.5.0",
          "state": {
            "_dom_classes": [],
            "_model_module": "@jupyter-widgets/controls",
            "_model_module_version": "1.5.0",
            "_model_name": "HTMLModel",
            "_view_count": null,
            "_view_module": "@jupyter-widgets/controls",
            "_view_module_version": "1.5.0",
            "_view_name": "HTMLView",
            "description": "",
            "description_tooltip": null,
            "layout": "IPY_MODEL_077189d8ac8c4f8f83aff1d4b6aaa488",
            "placeholder": "​",
            "style": "IPY_MODEL_7a6ab45a914a4285a55473c8eae2d9a9",
            "value": "Downloading builder script: "
          }
        },
        "ee92a0b2f2414f38a59a00cf429cf490": {
          "model_module": "@jupyter-widgets/controls",
          "model_name": "FloatProgressModel",
          "model_module_version": "1.5.0",
          "state": {
            "_dom_classes": [],
            "_model_module": "@jupyter-widgets/controls",
            "_model_module_version": "1.5.0",
            "_model_name": "FloatProgressModel",
            "_view_count": null,
            "_view_module": "@jupyter-widgets/controls",
            "_view_module_version": "1.5.0",
            "_view_name": "ProgressView",
            "bar_style": "success",
            "description": "",
            "description_tooltip": null,
            "layout": "IPY_MODEL_cca0cb7104ab4ab59ba358d7cb41e016",
            "max": 1715,
            "min": 0,
            "orientation": "horizontal",
            "style": "IPY_MODEL_1fbcbddf05d940149137f10e5499f4ec",
            "value": 1715
          }
        },
        "a6e0bc93e0f048a08152114307bd34c0": {
          "model_module": "@jupyter-widgets/controls",
          "model_name": "HTMLModel",
          "model_module_version": "1.5.0",
          "state": {
            "_dom_classes": [],
            "_model_module": "@jupyter-widgets/controls",
            "_model_module_version": "1.5.0",
            "_model_name": "HTMLModel",
            "_view_count": null,
            "_view_module": "@jupyter-widgets/controls",
            "_view_module_version": "1.5.0",
            "_view_name": "HTMLView",
            "description": "",
            "description_tooltip": null,
            "layout": "IPY_MODEL_8a483a5fee1c4cf48a98548828a720d4",
            "placeholder": "​",
            "style": "IPY_MODEL_3035865137bc45f98db7721e17377e14",
            "value": " 4.50k/? [00:00&lt;00:00, 149kB/s]"
          }
        },
        "5a1c3ae863a1454ebb79d1f5172f7442": {
          "model_module": "@jupyter-widgets/base",
          "model_name": "LayoutModel",
          "model_module_version": "1.2.0",
          "state": {
            "_model_module": "@jupyter-widgets/base",
            "_model_module_version": "1.2.0",
            "_model_name": "LayoutModel",
            "_view_count": null,
            "_view_module": "@jupyter-widgets/base",
            "_view_module_version": "1.2.0",
            "_view_name": "LayoutView",
            "align_content": null,
            "align_items": null,
            "align_self": null,
            "border": null,
            "bottom": null,
            "display": null,
            "flex": null,
            "flex_flow": null,
            "grid_area": null,
            "grid_auto_columns": null,
            "grid_auto_flow": null,
            "grid_auto_rows": null,
            "grid_column": null,
            "grid_gap": null,
            "grid_row": null,
            "grid_template_areas": null,
            "grid_template_columns": null,
            "grid_template_rows": null,
            "height": null,
            "justify_content": null,
            "justify_items": null,
            "left": null,
            "margin": null,
            "max_height": null,
            "max_width": null,
            "min_height": null,
            "min_width": null,
            "object_fit": null,
            "object_position": null,
            "order": null,
            "overflow": null,
            "overflow_x": null,
            "overflow_y": null,
            "padding": null,
            "right": null,
            "top": null,
            "visibility": null,
            "width": null
          }
        },
        "077189d8ac8c4f8f83aff1d4b6aaa488": {
          "model_module": "@jupyter-widgets/base",
          "model_name": "LayoutModel",
          "model_module_version": "1.2.0",
          "state": {
            "_model_module": "@jupyter-widgets/base",
            "_model_module_version": "1.2.0",
            "_model_name": "LayoutModel",
            "_view_count": null,
            "_view_module": "@jupyter-widgets/base",
            "_view_module_version": "1.2.0",
            "_view_name": "LayoutView",
            "align_content": null,
            "align_items": null,
            "align_self": null,
            "border": null,
            "bottom": null,
            "display": null,
            "flex": null,
            "flex_flow": null,
            "grid_area": null,
            "grid_auto_columns": null,
            "grid_auto_flow": null,
            "grid_auto_rows": null,
            "grid_column": null,
            "grid_gap": null,
            "grid_row": null,
            "grid_template_areas": null,
            "grid_template_columns": null,
            "grid_template_rows": null,
            "height": null,
            "justify_content": null,
            "justify_items": null,
            "left": null,
            "margin": null,
            "max_height": null,
            "max_width": null,
            "min_height": null,
            "min_width": null,
            "object_fit": null,
            "object_position": null,
            "order": null,
            "overflow": null,
            "overflow_x": null,
            "overflow_y": null,
            "padding": null,
            "right": null,
            "top": null,
            "visibility": null,
            "width": null
          }
        },
        "7a6ab45a914a4285a55473c8eae2d9a9": {
          "model_module": "@jupyter-widgets/controls",
          "model_name": "DescriptionStyleModel",
          "model_module_version": "1.5.0",
          "state": {
            "_model_module": "@jupyter-widgets/controls",
            "_model_module_version": "1.5.0",
            "_model_name": "DescriptionStyleModel",
            "_view_count": null,
            "_view_module": "@jupyter-widgets/base",
            "_view_module_version": "1.2.0",
            "_view_name": "StyleView",
            "description_width": ""
          }
        },
        "cca0cb7104ab4ab59ba358d7cb41e016": {
          "model_module": "@jupyter-widgets/base",
          "model_name": "LayoutModel",
          "model_module_version": "1.2.0",
          "state": {
            "_model_module": "@jupyter-widgets/base",
            "_model_module_version": "1.2.0",
            "_model_name": "LayoutModel",
            "_view_count": null,
            "_view_module": "@jupyter-widgets/base",
            "_view_module_version": "1.2.0",
            "_view_name": "LayoutView",
            "align_content": null,
            "align_items": null,
            "align_self": null,
            "border": null,
            "bottom": null,
            "display": null,
            "flex": null,
            "flex_flow": null,
            "grid_area": null,
            "grid_auto_columns": null,
            "grid_auto_flow": null,
            "grid_auto_rows": null,
            "grid_column": null,
            "grid_gap": null,
            "grid_row": null,
            "grid_template_areas": null,
            "grid_template_columns": null,
            "grid_template_rows": null,
            "height": null,
            "justify_content": null,
            "justify_items": null,
            "left": null,
            "margin": null,
            "max_height": null,
            "max_width": null,
            "min_height": null,
            "min_width": null,
            "object_fit": null,
            "object_position": null,
            "order": null,
            "overflow": null,
            "overflow_x": null,
            "overflow_y": null,
            "padding": null,
            "right": null,
            "top": null,
            "visibility": null,
            "width": null
          }
        },
        "1fbcbddf05d940149137f10e5499f4ec": {
          "model_module": "@jupyter-widgets/controls",
          "model_name": "ProgressStyleModel",
          "model_module_version": "1.5.0",
          "state": {
            "_model_module": "@jupyter-widgets/controls",
            "_model_module_version": "1.5.0",
            "_model_name": "ProgressStyleModel",
            "_view_count": null,
            "_view_module": "@jupyter-widgets/base",
            "_view_module_version": "1.2.0",
            "_view_name": "StyleView",
            "bar_color": null,
            "description_width": ""
          }
        },
        "8a483a5fee1c4cf48a98548828a720d4": {
          "model_module": "@jupyter-widgets/base",
          "model_name": "LayoutModel",
          "model_module_version": "1.2.0",
          "state": {
            "_model_module": "@jupyter-widgets/base",
            "_model_module_version": "1.2.0",
            "_model_name": "LayoutModel",
            "_view_count": null,
            "_view_module": "@jupyter-widgets/base",
            "_view_module_version": "1.2.0",
            "_view_name": "LayoutView",
            "align_content": null,
            "align_items": null,
            "align_self": null,
            "border": null,
            "bottom": null,
            "display": null,
            "flex": null,
            "flex_flow": null,
            "grid_area": null,
            "grid_auto_columns": null,
            "grid_auto_flow": null,
            "grid_auto_rows": null,
            "grid_column": null,
            "grid_gap": null,
            "grid_row": null,
            "grid_template_areas": null,
            "grid_template_columns": null,
            "grid_template_rows": null,
            "height": null,
            "justify_content": null,
            "justify_items": null,
            "left": null,
            "margin": null,
            "max_height": null,
            "max_width": null,
            "min_height": null,
            "min_width": null,
            "object_fit": null,
            "object_position": null,
            "order": null,
            "overflow": null,
            "overflow_x": null,
            "overflow_y": null,
            "padding": null,
            "right": null,
            "top": null,
            "visibility": null,
            "width": null
          }
        },
        "3035865137bc45f98db7721e17377e14": {
          "model_module": "@jupyter-widgets/controls",
          "model_name": "DescriptionStyleModel",
          "model_module_version": "1.5.0",
          "state": {
            "_model_module": "@jupyter-widgets/controls",
            "_model_module_version": "1.5.0",
            "_model_name": "DescriptionStyleModel",
            "_view_count": null,
            "_view_module": "@jupyter-widgets/base",
            "_view_module_version": "1.2.0",
            "_view_name": "StyleView",
            "description_width": ""
          }
        },
        "6f9ebbf86285449586b58841e4cdf08a": {
          "model_module": "@jupyter-widgets/controls",
          "model_name": "HBoxModel",
          "model_module_version": "1.5.0",
          "state": {
            "_dom_classes": [],
            "_model_module": "@jupyter-widgets/controls",
            "_model_module_version": "1.5.0",
            "_model_name": "HBoxModel",
            "_view_count": null,
            "_view_module": "@jupyter-widgets/controls",
            "_view_module_version": "1.5.0",
            "_view_name": "HBoxView",
            "box_style": "",
            "children": [
              "IPY_MODEL_dec5dd50fed34d939b34377d912fff64",
              "IPY_MODEL_4f8a957c87f54c6fa010d36b1df6eafc",
              "IPY_MODEL_fa242aa8d38d4fd983a4706cda7652e3"
            ],
            "layout": "IPY_MODEL_7f02c224d5b24fc9a27b587c93d00470"
          }
        },
        "dec5dd50fed34d939b34377d912fff64": {
          "model_module": "@jupyter-widgets/controls",
          "model_name": "HTMLModel",
          "model_module_version": "1.5.0",
          "state": {
            "_dom_classes": [],
            "_model_module": "@jupyter-widgets/controls",
            "_model_module_version": "1.5.0",
            "_model_name": "HTMLModel",
            "_view_count": null,
            "_view_module": "@jupyter-widgets/controls",
            "_view_module_version": "1.5.0",
            "_view_name": "HTMLView",
            "description": "",
            "description_tooltip": null,
            "layout": "IPY_MODEL_1ae678f2a03b4b95aa85256c61d45726",
            "placeholder": "​",
            "style": "IPY_MODEL_0450a12c68b34259bf40120e3d912d6d",
            "value": "Downloading extra modules: "
          }
        },
        "4f8a957c87f54c6fa010d36b1df6eafc": {
          "model_module": "@jupyter-widgets/controls",
          "model_name": "FloatProgressModel",
          "model_module_version": "1.5.0",
          "state": {
            "_dom_classes": [],
            "_model_module": "@jupyter-widgets/controls",
            "_model_module_version": "1.5.0",
            "_model_name": "FloatProgressModel",
            "_view_count": null,
            "_view_module": "@jupyter-widgets/controls",
            "_view_module_version": "1.5.0",
            "_view_name": "ProgressView",
            "bar_style": "success",
            "description": "",
            "description_tooltip": null,
            "layout": "IPY_MODEL_c1d06e4010494cbb81a61c6687b326df",
            "max": 1109,
            "min": 0,
            "orientation": "horizontal",
            "style": "IPY_MODEL_4710fb45895c4a6aaf426d2a62501346",
            "value": 1109
          }
        },
        "fa242aa8d38d4fd983a4706cda7652e3": {
          "model_module": "@jupyter-widgets/controls",
          "model_name": "HTMLModel",
          "model_module_version": "1.5.0",
          "state": {
            "_dom_classes": [],
            "_model_module": "@jupyter-widgets/controls",
            "_model_module_version": "1.5.0",
            "_model_name": "HTMLModel",
            "_view_count": null,
            "_view_module": "@jupyter-widgets/controls",
            "_view_module_version": "1.5.0",
            "_view_name": "HTMLView",
            "description": "",
            "description_tooltip": null,
            "layout": "IPY_MODEL_c8ccf657ce7343878ad32a5e8e9da0d5",
            "placeholder": "​",
            "style": "IPY_MODEL_02e811b0b0d74e368dec990a48f1cf04",
            "value": " 3.30k/? [00:00&lt;00:00, 65.9kB/s]"
          }
        },
        "7f02c224d5b24fc9a27b587c93d00470": {
          "model_module": "@jupyter-widgets/base",
          "model_name": "LayoutModel",
          "model_module_version": "1.2.0",
          "state": {
            "_model_module": "@jupyter-widgets/base",
            "_model_module_version": "1.2.0",
            "_model_name": "LayoutModel",
            "_view_count": null,
            "_view_module": "@jupyter-widgets/base",
            "_view_module_version": "1.2.0",
            "_view_name": "LayoutView",
            "align_content": null,
            "align_items": null,
            "align_self": null,
            "border": null,
            "bottom": null,
            "display": null,
            "flex": null,
            "flex_flow": null,
            "grid_area": null,
            "grid_auto_columns": null,
            "grid_auto_flow": null,
            "grid_auto_rows": null,
            "grid_column": null,
            "grid_gap": null,
            "grid_row": null,
            "grid_template_areas": null,
            "grid_template_columns": null,
            "grid_template_rows": null,
            "height": null,
            "justify_content": null,
            "justify_items": null,
            "left": null,
            "margin": null,
            "max_height": null,
            "max_width": null,
            "min_height": null,
            "min_width": null,
            "object_fit": null,
            "object_position": null,
            "order": null,
            "overflow": null,
            "overflow_x": null,
            "overflow_y": null,
            "padding": null,
            "right": null,
            "top": null,
            "visibility": null,
            "width": null
          }
        },
        "1ae678f2a03b4b95aa85256c61d45726": {
          "model_module": "@jupyter-widgets/base",
          "model_name": "LayoutModel",
          "model_module_version": "1.2.0",
          "state": {
            "_model_module": "@jupyter-widgets/base",
            "_model_module_version": "1.2.0",
            "_model_name": "LayoutModel",
            "_view_count": null,
            "_view_module": "@jupyter-widgets/base",
            "_view_module_version": "1.2.0",
            "_view_name": "LayoutView",
            "align_content": null,
            "align_items": null,
            "align_self": null,
            "border": null,
            "bottom": null,
            "display": null,
            "flex": null,
            "flex_flow": null,
            "grid_area": null,
            "grid_auto_columns": null,
            "grid_auto_flow": null,
            "grid_auto_rows": null,
            "grid_column": null,
            "grid_gap": null,
            "grid_row": null,
            "grid_template_areas": null,
            "grid_template_columns": null,
            "grid_template_rows": null,
            "height": null,
            "justify_content": null,
            "justify_items": null,
            "left": null,
            "margin": null,
            "max_height": null,
            "max_width": null,
            "min_height": null,
            "min_width": null,
            "object_fit": null,
            "object_position": null,
            "order": null,
            "overflow": null,
            "overflow_x": null,
            "overflow_y": null,
            "padding": null,
            "right": null,
            "top": null,
            "visibility": null,
            "width": null
          }
        },
        "0450a12c68b34259bf40120e3d912d6d": {
          "model_module": "@jupyter-widgets/controls",
          "model_name": "DescriptionStyleModel",
          "model_module_version": "1.5.0",
          "state": {
            "_model_module": "@jupyter-widgets/controls",
            "_model_module_version": "1.5.0",
            "_model_name": "DescriptionStyleModel",
            "_view_count": null,
            "_view_module": "@jupyter-widgets/base",
            "_view_module_version": "1.2.0",
            "_view_name": "StyleView",
            "description_width": ""
          }
        },
        "c1d06e4010494cbb81a61c6687b326df": {
          "model_module": "@jupyter-widgets/base",
          "model_name": "LayoutModel",
          "model_module_version": "1.2.0",
          "state": {
            "_model_module": "@jupyter-widgets/base",
            "_model_module_version": "1.2.0",
            "_model_name": "LayoutModel",
            "_view_count": null,
            "_view_module": "@jupyter-widgets/base",
            "_view_module_version": "1.2.0",
            "_view_name": "LayoutView",
            "align_content": null,
            "align_items": null,
            "align_self": null,
            "border": null,
            "bottom": null,
            "display": null,
            "flex": null,
            "flex_flow": null,
            "grid_area": null,
            "grid_auto_columns": null,
            "grid_auto_flow": null,
            "grid_auto_rows": null,
            "grid_column": null,
            "grid_gap": null,
            "grid_row": null,
            "grid_template_areas": null,
            "grid_template_columns": null,
            "grid_template_rows": null,
            "height": null,
            "justify_content": null,
            "justify_items": null,
            "left": null,
            "margin": null,
            "max_height": null,
            "max_width": null,
            "min_height": null,
            "min_width": null,
            "object_fit": null,
            "object_position": null,
            "order": null,
            "overflow": null,
            "overflow_x": null,
            "overflow_y": null,
            "padding": null,
            "right": null,
            "top": null,
            "visibility": null,
            "width": null
          }
        },
        "4710fb45895c4a6aaf426d2a62501346": {
          "model_module": "@jupyter-widgets/controls",
          "model_name": "ProgressStyleModel",
          "model_module_version": "1.5.0",
          "state": {
            "_model_module": "@jupyter-widgets/controls",
            "_model_module_version": "1.5.0",
            "_model_name": "ProgressStyleModel",
            "_view_count": null,
            "_view_module": "@jupyter-widgets/base",
            "_view_module_version": "1.2.0",
            "_view_name": "StyleView",
            "bar_color": null,
            "description_width": ""
          }
        },
        "c8ccf657ce7343878ad32a5e8e9da0d5": {
          "model_module": "@jupyter-widgets/base",
          "model_name": "LayoutModel",
          "model_module_version": "1.2.0",
          "state": {
            "_model_module": "@jupyter-widgets/base",
            "_model_module_version": "1.2.0",
            "_model_name": "LayoutModel",
            "_view_count": null,
            "_view_module": "@jupyter-widgets/base",
            "_view_module_version": "1.2.0",
            "_view_name": "LayoutView",
            "align_content": null,
            "align_items": null,
            "align_self": null,
            "border": null,
            "bottom": null,
            "display": null,
            "flex": null,
            "flex_flow": null,
            "grid_area": null,
            "grid_auto_columns": null,
            "grid_auto_flow": null,
            "grid_auto_rows": null,
            "grid_column": null,
            "grid_gap": null,
            "grid_row": null,
            "grid_template_areas": null,
            "grid_template_columns": null,
            "grid_template_rows": null,
            "height": null,
            "justify_content": null,
            "justify_items": null,
            "left": null,
            "margin": null,
            "max_height": null,
            "max_width": null,
            "min_height": null,
            "min_width": null,
            "object_fit": null,
            "object_position": null,
            "order": null,
            "overflow": null,
            "overflow_x": null,
            "overflow_y": null,
            "padding": null,
            "right": null,
            "top": null,
            "visibility": null,
            "width": null
          }
        },
        "02e811b0b0d74e368dec990a48f1cf04": {
          "model_module": "@jupyter-widgets/controls",
          "model_name": "DescriptionStyleModel",
          "model_module_version": "1.5.0",
          "state": {
            "_model_module": "@jupyter-widgets/controls",
            "_model_module_version": "1.5.0",
            "_model_name": "DescriptionStyleModel",
            "_view_count": null,
            "_view_module": "@jupyter-widgets/base",
            "_view_module_version": "1.2.0",
            "_view_name": "StyleView",
            "description_width": ""
          }
        },
        "14d228df80d4416bbb9da728e1064f89": {
          "model_module": "@jupyter-widgets/controls",
          "model_name": "HBoxModel",
          "model_module_version": "1.5.0",
          "state": {
            "_dom_classes": [],
            "_model_module": "@jupyter-widgets/controls",
            "_model_module_version": "1.5.0",
            "_model_name": "HBoxModel",
            "_view_count": null,
            "_view_module": "@jupyter-widgets/controls",
            "_view_module_version": "1.5.0",
            "_view_name": "HBoxView",
            "box_style": "",
            "children": [
              "IPY_MODEL_e4859a9337be4a19bbf3aa549273a2c8",
              "IPY_MODEL_97116e4050704e958b24def3deb11ca5",
              "IPY_MODEL_66d4c6d5c07a4d3caf3eda89cfe1c522"
            ],
            "layout": "IPY_MODEL_fc8f04affe8e4087a35cd3bf967567e6"
          }
        },
        "e4859a9337be4a19bbf3aa549273a2c8": {
          "model_module": "@jupyter-widgets/controls",
          "model_name": "HTMLModel",
          "model_module_version": "1.5.0",
          "state": {
            "_dom_classes": [],
            "_model_module": "@jupyter-widgets/controls",
            "_model_module_version": "1.5.0",
            "_model_name": "HTMLModel",
            "_view_count": null,
            "_view_module": "@jupyter-widgets/controls",
            "_view_module_version": "1.5.0",
            "_view_name": "HTMLView",
            "description": "",
            "description_tooltip": null,
            "layout": "IPY_MODEL_c04baa4711c94430a4dc405fa3ecb764",
            "placeholder": "​",
            "style": "IPY_MODEL_602786f84dbb4a1980896632992603cc",
            "value": "100%"
          }
        },
        "97116e4050704e958b24def3deb11ca5": {
          "model_module": "@jupyter-widgets/controls",
          "model_name": "FloatProgressModel",
          "model_module_version": "1.5.0",
          "state": {
            "_dom_classes": [],
            "_model_module": "@jupyter-widgets/controls",
            "_model_module_version": "1.5.0",
            "_model_name": "FloatProgressModel",
            "_view_count": null,
            "_view_module": "@jupyter-widgets/controls",
            "_view_module_version": "1.5.0",
            "_view_name": "ProgressView",
            "bar_style": "success",
            "description": "",
            "description_tooltip": null,
            "layout": "IPY_MODEL_cc3ea4bc14b64f04833962fd5449888e",
            "max": 20240,
            "min": 0,
            "orientation": "horizontal",
            "style": "IPY_MODEL_52e7493453a94ecf9ab4d59c9ce16f32",
            "value": 20240
          }
        },
        "66d4c6d5c07a4d3caf3eda89cfe1c522": {
          "model_module": "@jupyter-widgets/controls",
          "model_name": "HTMLModel",
          "model_module_version": "1.5.0",
          "state": {
            "_dom_classes": [],
            "_model_module": "@jupyter-widgets/controls",
            "_model_module_version": "1.5.0",
            "_model_name": "HTMLModel",
            "_view_count": null,
            "_view_module": "@jupyter-widgets/controls",
            "_view_module_version": "1.5.0",
            "_view_name": "HTMLView",
            "description": "",
            "description_tooltip": null,
            "layout": "IPY_MODEL_ce8d2ec3e66e44e6bdd89a415d96933e",
            "placeholder": "​",
            "style": "IPY_MODEL_9072a35a5471413296fa39b1c96de324",
            "value": " 20240/20240 [36:19&lt;00:00, 10.89it/s]"
          }
        },
        "fc8f04affe8e4087a35cd3bf967567e6": {
          "model_module": "@jupyter-widgets/base",
          "model_name": "LayoutModel",
          "model_module_version": "1.2.0",
          "state": {
            "_model_module": "@jupyter-widgets/base",
            "_model_module_version": "1.2.0",
            "_model_name": "LayoutModel",
            "_view_count": null,
            "_view_module": "@jupyter-widgets/base",
            "_view_module_version": "1.2.0",
            "_view_name": "LayoutView",
            "align_content": null,
            "align_items": null,
            "align_self": null,
            "border": null,
            "bottom": null,
            "display": null,
            "flex": null,
            "flex_flow": null,
            "grid_area": null,
            "grid_auto_columns": null,
            "grid_auto_flow": null,
            "grid_auto_rows": null,
            "grid_column": null,
            "grid_gap": null,
            "grid_row": null,
            "grid_template_areas": null,
            "grid_template_columns": null,
            "grid_template_rows": null,
            "height": null,
            "justify_content": null,
            "justify_items": null,
            "left": null,
            "margin": null,
            "max_height": null,
            "max_width": null,
            "min_height": null,
            "min_width": null,
            "object_fit": null,
            "object_position": null,
            "order": null,
            "overflow": null,
            "overflow_x": null,
            "overflow_y": null,
            "padding": null,
            "right": null,
            "top": null,
            "visibility": null,
            "width": null
          }
        },
        "c04baa4711c94430a4dc405fa3ecb764": {
          "model_module": "@jupyter-widgets/base",
          "model_name": "LayoutModel",
          "model_module_version": "1.2.0",
          "state": {
            "_model_module": "@jupyter-widgets/base",
            "_model_module_version": "1.2.0",
            "_model_name": "LayoutModel",
            "_view_count": null,
            "_view_module": "@jupyter-widgets/base",
            "_view_module_version": "1.2.0",
            "_view_name": "LayoutView",
            "align_content": null,
            "align_items": null,
            "align_self": null,
            "border": null,
            "bottom": null,
            "display": null,
            "flex": null,
            "flex_flow": null,
            "grid_area": null,
            "grid_auto_columns": null,
            "grid_auto_flow": null,
            "grid_auto_rows": null,
            "grid_column": null,
            "grid_gap": null,
            "grid_row": null,
            "grid_template_areas": null,
            "grid_template_columns": null,
            "grid_template_rows": null,
            "height": null,
            "justify_content": null,
            "justify_items": null,
            "left": null,
            "margin": null,
            "max_height": null,
            "max_width": null,
            "min_height": null,
            "min_width": null,
            "object_fit": null,
            "object_position": null,
            "order": null,
            "overflow": null,
            "overflow_x": null,
            "overflow_y": null,
            "padding": null,
            "right": null,
            "top": null,
            "visibility": null,
            "width": null
          }
        },
        "602786f84dbb4a1980896632992603cc": {
          "model_module": "@jupyter-widgets/controls",
          "model_name": "DescriptionStyleModel",
          "model_module_version": "1.5.0",
          "state": {
            "_model_module": "@jupyter-widgets/controls",
            "_model_module_version": "1.5.0",
            "_model_name": "DescriptionStyleModel",
            "_view_count": null,
            "_view_module": "@jupyter-widgets/base",
            "_view_module_version": "1.2.0",
            "_view_name": "StyleView",
            "description_width": ""
          }
        },
        "cc3ea4bc14b64f04833962fd5449888e": {
          "model_module": "@jupyter-widgets/base",
          "model_name": "LayoutModel",
          "model_module_version": "1.2.0",
          "state": {
            "_model_module": "@jupyter-widgets/base",
            "_model_module_version": "1.2.0",
            "_model_name": "LayoutModel",
            "_view_count": null,
            "_view_module": "@jupyter-widgets/base",
            "_view_module_version": "1.2.0",
            "_view_name": "LayoutView",
            "align_content": null,
            "align_items": null,
            "align_self": null,
            "border": null,
            "bottom": null,
            "display": null,
            "flex": null,
            "flex_flow": null,
            "grid_area": null,
            "grid_auto_columns": null,
            "grid_auto_flow": null,
            "grid_auto_rows": null,
            "grid_column": null,
            "grid_gap": null,
            "grid_row": null,
            "grid_template_areas": null,
            "grid_template_columns": null,
            "grid_template_rows": null,
            "height": null,
            "justify_content": null,
            "justify_items": null,
            "left": null,
            "margin": null,
            "max_height": null,
            "max_width": null,
            "min_height": null,
            "min_width": null,
            "object_fit": null,
            "object_position": null,
            "order": null,
            "overflow": null,
            "overflow_x": null,
            "overflow_y": null,
            "padding": null,
            "right": null,
            "top": null,
            "visibility": null,
            "width": null
          }
        },
        "52e7493453a94ecf9ab4d59c9ce16f32": {
          "model_module": "@jupyter-widgets/controls",
          "model_name": "ProgressStyleModel",
          "model_module_version": "1.5.0",
          "state": {
            "_model_module": "@jupyter-widgets/controls",
            "_model_module_version": "1.5.0",
            "_model_name": "ProgressStyleModel",
            "_view_count": null,
            "_view_module": "@jupyter-widgets/base",
            "_view_module_version": "1.2.0",
            "_view_name": "StyleView",
            "bar_color": null,
            "description_width": ""
          }
        },
        "ce8d2ec3e66e44e6bdd89a415d96933e": {
          "model_module": "@jupyter-widgets/base",
          "model_name": "LayoutModel",
          "model_module_version": "1.2.0",
          "state": {
            "_model_module": "@jupyter-widgets/base",
            "_model_module_version": "1.2.0",
            "_model_name": "LayoutModel",
            "_view_count": null,
            "_view_module": "@jupyter-widgets/base",
            "_view_module_version": "1.2.0",
            "_view_name": "LayoutView",
            "align_content": null,
            "align_items": null,
            "align_self": null,
            "border": null,
            "bottom": null,
            "display": null,
            "flex": null,
            "flex_flow": null,
            "grid_area": null,
            "grid_auto_columns": null,
            "grid_auto_flow": null,
            "grid_auto_rows": null,
            "grid_column": null,
            "grid_gap": null,
            "grid_row": null,
            "grid_template_areas": null,
            "grid_template_columns": null,
            "grid_template_rows": null,
            "height": null,
            "justify_content": null,
            "justify_items": null,
            "left": null,
            "margin": null,
            "max_height": null,
            "max_width": null,
            "min_height": null,
            "min_width": null,
            "object_fit": null,
            "object_position": null,
            "order": null,
            "overflow": null,
            "overflow_x": null,
            "overflow_y": null,
            "padding": null,
            "right": null,
            "top": null,
            "visibility": null,
            "width": null
          }
        },
        "9072a35a5471413296fa39b1c96de324": {
          "model_module": "@jupyter-widgets/controls",
          "model_name": "DescriptionStyleModel",
          "model_module_version": "1.5.0",
          "state": {
            "_model_module": "@jupyter-widgets/controls",
            "_model_module_version": "1.5.0",
            "_model_name": "DescriptionStyleModel",
            "_view_count": null,
            "_view_module": "@jupyter-widgets/base",
            "_view_module_version": "1.2.0",
            "_view_name": "StyleView",
            "description_width": ""
          }
        },
        "c53a85c9fea24ece94828989e7cfcbd3": {
          "model_module": "@jupyter-widgets/controls",
          "model_name": "HBoxModel",
          "model_module_version": "1.5.0",
          "state": {
            "_dom_classes": [],
            "_model_module": "@jupyter-widgets/controls",
            "_model_module_version": "1.5.0",
            "_model_name": "HBoxModel",
            "_view_count": null,
            "_view_module": "@jupyter-widgets/controls",
            "_view_module_version": "1.5.0",
            "_view_name": "HBoxView",
            "box_style": "",
            "children": [
              "IPY_MODEL_074eb23d7f654721963b3d1ccf23870e",
              "IPY_MODEL_46d7ca8431424444a7d8f75537dbf914",
              "IPY_MODEL_19f5703d2a964a7fa3280ea3ad98d193"
            ],
            "layout": "IPY_MODEL_b9ea9b149e154ea69c3dd5b03d74847f"
          }
        },
        "074eb23d7f654721963b3d1ccf23870e": {
          "model_module": "@jupyter-widgets/controls",
          "model_name": "HTMLModel",
          "model_module_version": "1.5.0",
          "state": {
            "_dom_classes": [],
            "_model_module": "@jupyter-widgets/controls",
            "_model_module_version": "1.5.0",
            "_model_name": "HTMLModel",
            "_view_count": null,
            "_view_module": "@jupyter-widgets/controls",
            "_view_module_version": "1.5.0",
            "_view_name": "HTMLView",
            "description": "",
            "description_tooltip": null,
            "layout": "IPY_MODEL_039aea7079214b33839f3916f65fe207",
            "placeholder": "​",
            "style": "IPY_MODEL_843c915e575242e0902d6653a9db75e5",
            "value": "100%"
          }
        },
        "46d7ca8431424444a7d8f75537dbf914": {
          "model_module": "@jupyter-widgets/controls",
          "model_name": "FloatProgressModel",
          "model_module_version": "1.5.0",
          "state": {
            "_dom_classes": [],
            "_model_module": "@jupyter-widgets/controls",
            "_model_module_version": "1.5.0",
            "_model_name": "FloatProgressModel",
            "_view_count": null,
            "_view_module": "@jupyter-widgets/controls",
            "_view_module_version": "1.5.0",
            "_view_name": "ProgressView",
            "bar_style": "success",
            "description": "",
            "description_tooltip": null,
            "layout": "IPY_MODEL_6a76f347dc334db9bc09da1aadb63c65",
            "max": 20240,
            "min": 0,
            "orientation": "horizontal",
            "style": "IPY_MODEL_72758c07ca924da7901e400aef23342f",
            "value": 20240
          }
        },
        "19f5703d2a964a7fa3280ea3ad98d193": {
          "model_module": "@jupyter-widgets/controls",
          "model_name": "HTMLModel",
          "model_module_version": "1.5.0",
          "state": {
            "_dom_classes": [],
            "_model_module": "@jupyter-widgets/controls",
            "_model_module_version": "1.5.0",
            "_model_name": "HTMLModel",
            "_view_count": null,
            "_view_module": "@jupyter-widgets/controls",
            "_view_module_version": "1.5.0",
            "_view_name": "HTMLView",
            "description": "",
            "description_tooltip": null,
            "layout": "IPY_MODEL_5d5b866157ca482a85405295af6f10c4",
            "placeholder": "​",
            "style": "IPY_MODEL_93434e0842b0445097fbb98be76db1d2",
            "value": " 20240/20240 [1:07:33&lt;00:00,  6.47it/s]"
          }
        },
        "b9ea9b149e154ea69c3dd5b03d74847f": {
          "model_module": "@jupyter-widgets/base",
          "model_name": "LayoutModel",
          "model_module_version": "1.2.0",
          "state": {
            "_model_module": "@jupyter-widgets/base",
            "_model_module_version": "1.2.0",
            "_model_name": "LayoutModel",
            "_view_count": null,
            "_view_module": "@jupyter-widgets/base",
            "_view_module_version": "1.2.0",
            "_view_name": "LayoutView",
            "align_content": null,
            "align_items": null,
            "align_self": null,
            "border": null,
            "bottom": null,
            "display": null,
            "flex": null,
            "flex_flow": null,
            "grid_area": null,
            "grid_auto_columns": null,
            "grid_auto_flow": null,
            "grid_auto_rows": null,
            "grid_column": null,
            "grid_gap": null,
            "grid_row": null,
            "grid_template_areas": null,
            "grid_template_columns": null,
            "grid_template_rows": null,
            "height": null,
            "justify_content": null,
            "justify_items": null,
            "left": null,
            "margin": null,
            "max_height": null,
            "max_width": null,
            "min_height": null,
            "min_width": null,
            "object_fit": null,
            "object_position": null,
            "order": null,
            "overflow": null,
            "overflow_x": null,
            "overflow_y": null,
            "padding": null,
            "right": null,
            "top": null,
            "visibility": null,
            "width": null
          }
        },
        "039aea7079214b33839f3916f65fe207": {
          "model_module": "@jupyter-widgets/base",
          "model_name": "LayoutModel",
          "model_module_version": "1.2.0",
          "state": {
            "_model_module": "@jupyter-widgets/base",
            "_model_module_version": "1.2.0",
            "_model_name": "LayoutModel",
            "_view_count": null,
            "_view_module": "@jupyter-widgets/base",
            "_view_module_version": "1.2.0",
            "_view_name": "LayoutView",
            "align_content": null,
            "align_items": null,
            "align_self": null,
            "border": null,
            "bottom": null,
            "display": null,
            "flex": null,
            "flex_flow": null,
            "grid_area": null,
            "grid_auto_columns": null,
            "grid_auto_flow": null,
            "grid_auto_rows": null,
            "grid_column": null,
            "grid_gap": null,
            "grid_row": null,
            "grid_template_areas": null,
            "grid_template_columns": null,
            "grid_template_rows": null,
            "height": null,
            "justify_content": null,
            "justify_items": null,
            "left": null,
            "margin": null,
            "max_height": null,
            "max_width": null,
            "min_height": null,
            "min_width": null,
            "object_fit": null,
            "object_position": null,
            "order": null,
            "overflow": null,
            "overflow_x": null,
            "overflow_y": null,
            "padding": null,
            "right": null,
            "top": null,
            "visibility": null,
            "width": null
          }
        },
        "843c915e575242e0902d6653a9db75e5": {
          "model_module": "@jupyter-widgets/controls",
          "model_name": "DescriptionStyleModel",
          "model_module_version": "1.5.0",
          "state": {
            "_model_module": "@jupyter-widgets/controls",
            "_model_module_version": "1.5.0",
            "_model_name": "DescriptionStyleModel",
            "_view_count": null,
            "_view_module": "@jupyter-widgets/base",
            "_view_module_version": "1.2.0",
            "_view_name": "StyleView",
            "description_width": ""
          }
        },
        "6a76f347dc334db9bc09da1aadb63c65": {
          "model_module": "@jupyter-widgets/base",
          "model_name": "LayoutModel",
          "model_module_version": "1.2.0",
          "state": {
            "_model_module": "@jupyter-widgets/base",
            "_model_module_version": "1.2.0",
            "_model_name": "LayoutModel",
            "_view_count": null,
            "_view_module": "@jupyter-widgets/base",
            "_view_module_version": "1.2.0",
            "_view_name": "LayoutView",
            "align_content": null,
            "align_items": null,
            "align_self": null,
            "border": null,
            "bottom": null,
            "display": null,
            "flex": null,
            "flex_flow": null,
            "grid_area": null,
            "grid_auto_columns": null,
            "grid_auto_flow": null,
            "grid_auto_rows": null,
            "grid_column": null,
            "grid_gap": null,
            "grid_row": null,
            "grid_template_areas": null,
            "grid_template_columns": null,
            "grid_template_rows": null,
            "height": null,
            "justify_content": null,
            "justify_items": null,
            "left": null,
            "margin": null,
            "max_height": null,
            "max_width": null,
            "min_height": null,
            "min_width": null,
            "object_fit": null,
            "object_position": null,
            "order": null,
            "overflow": null,
            "overflow_x": null,
            "overflow_y": null,
            "padding": null,
            "right": null,
            "top": null,
            "visibility": null,
            "width": null
          }
        },
        "72758c07ca924da7901e400aef23342f": {
          "model_module": "@jupyter-widgets/controls",
          "model_name": "ProgressStyleModel",
          "model_module_version": "1.5.0",
          "state": {
            "_model_module": "@jupyter-widgets/controls",
            "_model_module_version": "1.5.0",
            "_model_name": "ProgressStyleModel",
            "_view_count": null,
            "_view_module": "@jupyter-widgets/base",
            "_view_module_version": "1.2.0",
            "_view_name": "StyleView",
            "bar_color": null,
            "description_width": ""
          }
        },
        "5d5b866157ca482a85405295af6f10c4": {
          "model_module": "@jupyter-widgets/base",
          "model_name": "LayoutModel",
          "model_module_version": "1.2.0",
          "state": {
            "_model_module": "@jupyter-widgets/base",
            "_model_module_version": "1.2.0",
            "_model_name": "LayoutModel",
            "_view_count": null,
            "_view_module": "@jupyter-widgets/base",
            "_view_module_version": "1.2.0",
            "_view_name": "LayoutView",
            "align_content": null,
            "align_items": null,
            "align_self": null,
            "border": null,
            "bottom": null,
            "display": null,
            "flex": null,
            "flex_flow": null,
            "grid_area": null,
            "grid_auto_columns": null,
            "grid_auto_flow": null,
            "grid_auto_rows": null,
            "grid_column": null,
            "grid_gap": null,
            "grid_row": null,
            "grid_template_areas": null,
            "grid_template_columns": null,
            "grid_template_rows": null,
            "height": null,
            "justify_content": null,
            "justify_items": null,
            "left": null,
            "margin": null,
            "max_height": null,
            "max_width": null,
            "min_height": null,
            "min_width": null,
            "object_fit": null,
            "object_position": null,
            "order": null,
            "overflow": null,
            "overflow_x": null,
            "overflow_y": null,
            "padding": null,
            "right": null,
            "top": null,
            "visibility": null,
            "width": null
          }
        },
        "93434e0842b0445097fbb98be76db1d2": {
          "model_module": "@jupyter-widgets/controls",
          "model_name": "DescriptionStyleModel",
          "model_module_version": "1.5.0",
          "state": {
            "_model_module": "@jupyter-widgets/controls",
            "_model_module_version": "1.5.0",
            "_model_name": "DescriptionStyleModel",
            "_view_count": null,
            "_view_module": "@jupyter-widgets/base",
            "_view_module_version": "1.2.0",
            "_view_name": "StyleView",
            "description_width": ""
          }
        },
        "9418c1b98f1b4dff9cf88f8e07686977": {
          "model_module": "@jupyter-widgets/controls",
          "model_name": "HBoxModel",
          "model_module_version": "1.5.0",
          "state": {
            "_dom_classes": [],
            "_model_module": "@jupyter-widgets/controls",
            "_model_module_version": "1.5.0",
            "_model_name": "HBoxModel",
            "_view_count": null,
            "_view_module": "@jupyter-widgets/controls",
            "_view_module_version": "1.5.0",
            "_view_name": "HBoxView",
            "box_style": "",
            "children": [
              "IPY_MODEL_403f13bbc1c74580934bfe6716d0240c",
              "IPY_MODEL_506279c9b5ca49938a2b469ec18c5c21",
              "IPY_MODEL_2297bb951e7d490d851a1abe5f2a58be"
            ],
            "layout": "IPY_MODEL_b5f4520ac6784b3e84e76c92329a569f"
          }
        },
        "403f13bbc1c74580934bfe6716d0240c": {
          "model_module": "@jupyter-widgets/controls",
          "model_name": "HTMLModel",
          "model_module_version": "1.5.0",
          "state": {
            "_dom_classes": [],
            "_model_module": "@jupyter-widgets/controls",
            "_model_module_version": "1.5.0",
            "_model_name": "HTMLModel",
            "_view_count": null,
            "_view_module": "@jupyter-widgets/controls",
            "_view_module_version": "1.5.0",
            "_view_name": "HTMLView",
            "description": "",
            "description_tooltip": null,
            "layout": "IPY_MODEL_8d7a8bf219964f4687a988eb2fa022be",
            "placeholder": "​",
            "style": "IPY_MODEL_5f27671424b4409ca9377ab36695c0f6",
            "value": "tokenizer_config.json: 100%"
          }
        },
        "506279c9b5ca49938a2b469ec18c5c21": {
          "model_module": "@jupyter-widgets/controls",
          "model_name": "FloatProgressModel",
          "model_module_version": "1.5.0",
          "state": {
            "_dom_classes": [],
            "_model_module": "@jupyter-widgets/controls",
            "_model_module_version": "1.5.0",
            "_model_name": "FloatProgressModel",
            "_view_count": null,
            "_view_module": "@jupyter-widgets/controls",
            "_view_module_version": "1.5.0",
            "_view_name": "ProgressView",
            "bar_style": "success",
            "description": "",
            "description_tooltip": null,
            "layout": "IPY_MODEL_cc46e1ee9c16463882b5ce25ee6641f9",
            "max": 28,
            "min": 0,
            "orientation": "horizontal",
            "style": "IPY_MODEL_f57d26a2e9be400c8863d37cfcc11ec6",
            "value": 28
          }
        },
        "2297bb951e7d490d851a1abe5f2a58be": {
          "model_module": "@jupyter-widgets/controls",
          "model_name": "HTMLModel",
          "model_module_version": "1.5.0",
          "state": {
            "_dom_classes": [],
            "_model_module": "@jupyter-widgets/controls",
            "_model_module_version": "1.5.0",
            "_model_name": "HTMLModel",
            "_view_count": null,
            "_view_module": "@jupyter-widgets/controls",
            "_view_module_version": "1.5.0",
            "_view_name": "HTMLView",
            "description": "",
            "description_tooltip": null,
            "layout": "IPY_MODEL_73f64587ca3c4b1fb68ee65b53f69d60",
            "placeholder": "​",
            "style": "IPY_MODEL_cd1efa2d48b84723a59760855ddd8817",
            "value": " 28.0/28.0 [00:00&lt;00:00, 772B/s]"
          }
        },
        "b5f4520ac6784b3e84e76c92329a569f": {
          "model_module": "@jupyter-widgets/base",
          "model_name": "LayoutModel",
          "model_module_version": "1.2.0",
          "state": {
            "_model_module": "@jupyter-widgets/base",
            "_model_module_version": "1.2.0",
            "_model_name": "LayoutModel",
            "_view_count": null,
            "_view_module": "@jupyter-widgets/base",
            "_view_module_version": "1.2.0",
            "_view_name": "LayoutView",
            "align_content": null,
            "align_items": null,
            "align_self": null,
            "border": null,
            "bottom": null,
            "display": null,
            "flex": null,
            "flex_flow": null,
            "grid_area": null,
            "grid_auto_columns": null,
            "grid_auto_flow": null,
            "grid_auto_rows": null,
            "grid_column": null,
            "grid_gap": null,
            "grid_row": null,
            "grid_template_areas": null,
            "grid_template_columns": null,
            "grid_template_rows": null,
            "height": null,
            "justify_content": null,
            "justify_items": null,
            "left": null,
            "margin": null,
            "max_height": null,
            "max_width": null,
            "min_height": null,
            "min_width": null,
            "object_fit": null,
            "object_position": null,
            "order": null,
            "overflow": null,
            "overflow_x": null,
            "overflow_y": null,
            "padding": null,
            "right": null,
            "top": null,
            "visibility": null,
            "width": null
          }
        },
        "8d7a8bf219964f4687a988eb2fa022be": {
          "model_module": "@jupyter-widgets/base",
          "model_name": "LayoutModel",
          "model_module_version": "1.2.0",
          "state": {
            "_model_module": "@jupyter-widgets/base",
            "_model_module_version": "1.2.0",
            "_model_name": "LayoutModel",
            "_view_count": null,
            "_view_module": "@jupyter-widgets/base",
            "_view_module_version": "1.2.0",
            "_view_name": "LayoutView",
            "align_content": null,
            "align_items": null,
            "align_self": null,
            "border": null,
            "bottom": null,
            "display": null,
            "flex": null,
            "flex_flow": null,
            "grid_area": null,
            "grid_auto_columns": null,
            "grid_auto_flow": null,
            "grid_auto_rows": null,
            "grid_column": null,
            "grid_gap": null,
            "grid_row": null,
            "grid_template_areas": null,
            "grid_template_columns": null,
            "grid_template_rows": null,
            "height": null,
            "justify_content": null,
            "justify_items": null,
            "left": null,
            "margin": null,
            "max_height": null,
            "max_width": null,
            "min_height": null,
            "min_width": null,
            "object_fit": null,
            "object_position": null,
            "order": null,
            "overflow": null,
            "overflow_x": null,
            "overflow_y": null,
            "padding": null,
            "right": null,
            "top": null,
            "visibility": null,
            "width": null
          }
        },
        "5f27671424b4409ca9377ab36695c0f6": {
          "model_module": "@jupyter-widgets/controls",
          "model_name": "DescriptionStyleModel",
          "model_module_version": "1.5.0",
          "state": {
            "_model_module": "@jupyter-widgets/controls",
            "_model_module_version": "1.5.0",
            "_model_name": "DescriptionStyleModel",
            "_view_count": null,
            "_view_module": "@jupyter-widgets/base",
            "_view_module_version": "1.2.0",
            "_view_name": "StyleView",
            "description_width": ""
          }
        },
        "cc46e1ee9c16463882b5ce25ee6641f9": {
          "model_module": "@jupyter-widgets/base",
          "model_name": "LayoutModel",
          "model_module_version": "1.2.0",
          "state": {
            "_model_module": "@jupyter-widgets/base",
            "_model_module_version": "1.2.0",
            "_model_name": "LayoutModel",
            "_view_count": null,
            "_view_module": "@jupyter-widgets/base",
            "_view_module_version": "1.2.0",
            "_view_name": "LayoutView",
            "align_content": null,
            "align_items": null,
            "align_self": null,
            "border": null,
            "bottom": null,
            "display": null,
            "flex": null,
            "flex_flow": null,
            "grid_area": null,
            "grid_auto_columns": null,
            "grid_auto_flow": null,
            "grid_auto_rows": null,
            "grid_column": null,
            "grid_gap": null,
            "grid_row": null,
            "grid_template_areas": null,
            "grid_template_columns": null,
            "grid_template_rows": null,
            "height": null,
            "justify_content": null,
            "justify_items": null,
            "left": null,
            "margin": null,
            "max_height": null,
            "max_width": null,
            "min_height": null,
            "min_width": null,
            "object_fit": null,
            "object_position": null,
            "order": null,
            "overflow": null,
            "overflow_x": null,
            "overflow_y": null,
            "padding": null,
            "right": null,
            "top": null,
            "visibility": null,
            "width": null
          }
        },
        "f57d26a2e9be400c8863d37cfcc11ec6": {
          "model_module": "@jupyter-widgets/controls",
          "model_name": "ProgressStyleModel",
          "model_module_version": "1.5.0",
          "state": {
            "_model_module": "@jupyter-widgets/controls",
            "_model_module_version": "1.5.0",
            "_model_name": "ProgressStyleModel",
            "_view_count": null,
            "_view_module": "@jupyter-widgets/base",
            "_view_module_version": "1.2.0",
            "_view_name": "StyleView",
            "bar_color": null,
            "description_width": ""
          }
        },
        "73f64587ca3c4b1fb68ee65b53f69d60": {
          "model_module": "@jupyter-widgets/base",
          "model_name": "LayoutModel",
          "model_module_version": "1.2.0",
          "state": {
            "_model_module": "@jupyter-widgets/base",
            "_model_module_version": "1.2.0",
            "_model_name": "LayoutModel",
            "_view_count": null,
            "_view_module": "@jupyter-widgets/base",
            "_view_module_version": "1.2.0",
            "_view_name": "LayoutView",
            "align_content": null,
            "align_items": null,
            "align_self": null,
            "border": null,
            "bottom": null,
            "display": null,
            "flex": null,
            "flex_flow": null,
            "grid_area": null,
            "grid_auto_columns": null,
            "grid_auto_flow": null,
            "grid_auto_rows": null,
            "grid_column": null,
            "grid_gap": null,
            "grid_row": null,
            "grid_template_areas": null,
            "grid_template_columns": null,
            "grid_template_rows": null,
            "height": null,
            "justify_content": null,
            "justify_items": null,
            "left": null,
            "margin": null,
            "max_height": null,
            "max_width": null,
            "min_height": null,
            "min_width": null,
            "object_fit": null,
            "object_position": null,
            "order": null,
            "overflow": null,
            "overflow_x": null,
            "overflow_y": null,
            "padding": null,
            "right": null,
            "top": null,
            "visibility": null,
            "width": null
          }
        },
        "cd1efa2d48b84723a59760855ddd8817": {
          "model_module": "@jupyter-widgets/controls",
          "model_name": "DescriptionStyleModel",
          "model_module_version": "1.5.0",
          "state": {
            "_model_module": "@jupyter-widgets/controls",
            "_model_module_version": "1.5.0",
            "_model_name": "DescriptionStyleModel",
            "_view_count": null,
            "_view_module": "@jupyter-widgets/base",
            "_view_module_version": "1.2.0",
            "_view_name": "StyleView",
            "description_width": ""
          }
        },
        "a2d34df7d8c4402cb0d0a33b980222b9": {
          "model_module": "@jupyter-widgets/controls",
          "model_name": "HBoxModel",
          "model_module_version": "1.5.0",
          "state": {
            "_dom_classes": [],
            "_model_module": "@jupyter-widgets/controls",
            "_model_module_version": "1.5.0",
            "_model_name": "HBoxModel",
            "_view_count": null,
            "_view_module": "@jupyter-widgets/controls",
            "_view_module_version": "1.5.0",
            "_view_name": "HBoxView",
            "box_style": "",
            "children": [
              "IPY_MODEL_5420f9bc4dfb437b957c32c06c65e1c7",
              "IPY_MODEL_844d2bfa4021459399764c12a01cd323",
              "IPY_MODEL_039dd07c4dff4b959f0bd2a3a99a9b6e"
            ],
            "layout": "IPY_MODEL_7cb10521c9724ad190b3f7f5d8c26f89"
          }
        },
        "5420f9bc4dfb437b957c32c06c65e1c7": {
          "model_module": "@jupyter-widgets/controls",
          "model_name": "HTMLModel",
          "model_module_version": "1.5.0",
          "state": {
            "_dom_classes": [],
            "_model_module": "@jupyter-widgets/controls",
            "_model_module_version": "1.5.0",
            "_model_name": "HTMLModel",
            "_view_count": null,
            "_view_module": "@jupyter-widgets/controls",
            "_view_module_version": "1.5.0",
            "_view_name": "HTMLView",
            "description": "",
            "description_tooltip": null,
            "layout": "IPY_MODEL_7bf67973e24d4b9a9566f560d98e1d26",
            "placeholder": "​",
            "style": "IPY_MODEL_5dbf6cbff20748578d4bee386adf4455",
            "value": "config.json: 100%"
          }
        },
        "844d2bfa4021459399764c12a01cd323": {
          "model_module": "@jupyter-widgets/controls",
          "model_name": "FloatProgressModel",
          "model_module_version": "1.5.0",
          "state": {
            "_dom_classes": [],
            "_model_module": "@jupyter-widgets/controls",
            "_model_module_version": "1.5.0",
            "_model_name": "FloatProgressModel",
            "_view_count": null,
            "_view_module": "@jupyter-widgets/controls",
            "_view_module_version": "1.5.0",
            "_view_name": "ProgressView",
            "bar_style": "success",
            "description": "",
            "description_tooltip": null,
            "layout": "IPY_MODEL_ce31393b91cb47c2ba723f287d7a782a",
            "max": 570,
            "min": 0,
            "orientation": "horizontal",
            "style": "IPY_MODEL_006ab6d95f43491288d2d87f9e62a05a",
            "value": 570
          }
        },
        "039dd07c4dff4b959f0bd2a3a99a9b6e": {
          "model_module": "@jupyter-widgets/controls",
          "model_name": "HTMLModel",
          "model_module_version": "1.5.0",
          "state": {
            "_dom_classes": [],
            "_model_module": "@jupyter-widgets/controls",
            "_model_module_version": "1.5.0",
            "_model_name": "HTMLModel",
            "_view_count": null,
            "_view_module": "@jupyter-widgets/controls",
            "_view_module_version": "1.5.0",
            "_view_name": "HTMLView",
            "description": "",
            "description_tooltip": null,
            "layout": "IPY_MODEL_41001ebe12544b86b7d5bbc513e97cc7",
            "placeholder": "​",
            "style": "IPY_MODEL_f09ecc3bce874453af9793644a7dca17",
            "value": " 570/570 [00:00&lt;00:00, 11.1kB/s]"
          }
        },
        "7cb10521c9724ad190b3f7f5d8c26f89": {
          "model_module": "@jupyter-widgets/base",
          "model_name": "LayoutModel",
          "model_module_version": "1.2.0",
          "state": {
            "_model_module": "@jupyter-widgets/base",
            "_model_module_version": "1.2.0",
            "_model_name": "LayoutModel",
            "_view_count": null,
            "_view_module": "@jupyter-widgets/base",
            "_view_module_version": "1.2.0",
            "_view_name": "LayoutView",
            "align_content": null,
            "align_items": null,
            "align_self": null,
            "border": null,
            "bottom": null,
            "display": null,
            "flex": null,
            "flex_flow": null,
            "grid_area": null,
            "grid_auto_columns": null,
            "grid_auto_flow": null,
            "grid_auto_rows": null,
            "grid_column": null,
            "grid_gap": null,
            "grid_row": null,
            "grid_template_areas": null,
            "grid_template_columns": null,
            "grid_template_rows": null,
            "height": null,
            "justify_content": null,
            "justify_items": null,
            "left": null,
            "margin": null,
            "max_height": null,
            "max_width": null,
            "min_height": null,
            "min_width": null,
            "object_fit": null,
            "object_position": null,
            "order": null,
            "overflow": null,
            "overflow_x": null,
            "overflow_y": null,
            "padding": null,
            "right": null,
            "top": null,
            "visibility": null,
            "width": null
          }
        },
        "7bf67973e24d4b9a9566f560d98e1d26": {
          "model_module": "@jupyter-widgets/base",
          "model_name": "LayoutModel",
          "model_module_version": "1.2.0",
          "state": {
            "_model_module": "@jupyter-widgets/base",
            "_model_module_version": "1.2.0",
            "_model_name": "LayoutModel",
            "_view_count": null,
            "_view_module": "@jupyter-widgets/base",
            "_view_module_version": "1.2.0",
            "_view_name": "LayoutView",
            "align_content": null,
            "align_items": null,
            "align_self": null,
            "border": null,
            "bottom": null,
            "display": null,
            "flex": null,
            "flex_flow": null,
            "grid_area": null,
            "grid_auto_columns": null,
            "grid_auto_flow": null,
            "grid_auto_rows": null,
            "grid_column": null,
            "grid_gap": null,
            "grid_row": null,
            "grid_template_areas": null,
            "grid_template_columns": null,
            "grid_template_rows": null,
            "height": null,
            "justify_content": null,
            "justify_items": null,
            "left": null,
            "margin": null,
            "max_height": null,
            "max_width": null,
            "min_height": null,
            "min_width": null,
            "object_fit": null,
            "object_position": null,
            "order": null,
            "overflow": null,
            "overflow_x": null,
            "overflow_y": null,
            "padding": null,
            "right": null,
            "top": null,
            "visibility": null,
            "width": null
          }
        },
        "5dbf6cbff20748578d4bee386adf4455": {
          "model_module": "@jupyter-widgets/controls",
          "model_name": "DescriptionStyleModel",
          "model_module_version": "1.5.0",
          "state": {
            "_model_module": "@jupyter-widgets/controls",
            "_model_module_version": "1.5.0",
            "_model_name": "DescriptionStyleModel",
            "_view_count": null,
            "_view_module": "@jupyter-widgets/base",
            "_view_module_version": "1.2.0",
            "_view_name": "StyleView",
            "description_width": ""
          }
        },
        "ce31393b91cb47c2ba723f287d7a782a": {
          "model_module": "@jupyter-widgets/base",
          "model_name": "LayoutModel",
          "model_module_version": "1.2.0",
          "state": {
            "_model_module": "@jupyter-widgets/base",
            "_model_module_version": "1.2.0",
            "_model_name": "LayoutModel",
            "_view_count": null,
            "_view_module": "@jupyter-widgets/base",
            "_view_module_version": "1.2.0",
            "_view_name": "LayoutView",
            "align_content": null,
            "align_items": null,
            "align_self": null,
            "border": null,
            "bottom": null,
            "display": null,
            "flex": null,
            "flex_flow": null,
            "grid_area": null,
            "grid_auto_columns": null,
            "grid_auto_flow": null,
            "grid_auto_rows": null,
            "grid_column": null,
            "grid_gap": null,
            "grid_row": null,
            "grid_template_areas": null,
            "grid_template_columns": null,
            "grid_template_rows": null,
            "height": null,
            "justify_content": null,
            "justify_items": null,
            "left": null,
            "margin": null,
            "max_height": null,
            "max_width": null,
            "min_height": null,
            "min_width": null,
            "object_fit": null,
            "object_position": null,
            "order": null,
            "overflow": null,
            "overflow_x": null,
            "overflow_y": null,
            "padding": null,
            "right": null,
            "top": null,
            "visibility": null,
            "width": null
          }
        },
        "006ab6d95f43491288d2d87f9e62a05a": {
          "model_module": "@jupyter-widgets/controls",
          "model_name": "ProgressStyleModel",
          "model_module_version": "1.5.0",
          "state": {
            "_model_module": "@jupyter-widgets/controls",
            "_model_module_version": "1.5.0",
            "_model_name": "ProgressStyleModel",
            "_view_count": null,
            "_view_module": "@jupyter-widgets/base",
            "_view_module_version": "1.2.0",
            "_view_name": "StyleView",
            "bar_color": null,
            "description_width": ""
          }
        },
        "41001ebe12544b86b7d5bbc513e97cc7": {
          "model_module": "@jupyter-widgets/base",
          "model_name": "LayoutModel",
          "model_module_version": "1.2.0",
          "state": {
            "_model_module": "@jupyter-widgets/base",
            "_model_module_version": "1.2.0",
            "_model_name": "LayoutModel",
            "_view_count": null,
            "_view_module": "@jupyter-widgets/base",
            "_view_module_version": "1.2.0",
            "_view_name": "LayoutView",
            "align_content": null,
            "align_items": null,
            "align_self": null,
            "border": null,
            "bottom": null,
            "display": null,
            "flex": null,
            "flex_flow": null,
            "grid_area": null,
            "grid_auto_columns": null,
            "grid_auto_flow": null,
            "grid_auto_rows": null,
            "grid_column": null,
            "grid_gap": null,
            "grid_row": null,
            "grid_template_areas": null,
            "grid_template_columns": null,
            "grid_template_rows": null,
            "height": null,
            "justify_content": null,
            "justify_items": null,
            "left": null,
            "margin": null,
            "max_height": null,
            "max_width": null,
            "min_height": null,
            "min_width": null,
            "object_fit": null,
            "object_position": null,
            "order": null,
            "overflow": null,
            "overflow_x": null,
            "overflow_y": null,
            "padding": null,
            "right": null,
            "top": null,
            "visibility": null,
            "width": null
          }
        },
        "f09ecc3bce874453af9793644a7dca17": {
          "model_module": "@jupyter-widgets/controls",
          "model_name": "DescriptionStyleModel",
          "model_module_version": "1.5.0",
          "state": {
            "_model_module": "@jupyter-widgets/controls",
            "_model_module_version": "1.5.0",
            "_model_name": "DescriptionStyleModel",
            "_view_count": null,
            "_view_module": "@jupyter-widgets/base",
            "_view_module_version": "1.2.0",
            "_view_name": "StyleView",
            "description_width": ""
          }
        },
        "35288ec3648c4d01b9cca4efb25252d4": {
          "model_module": "@jupyter-widgets/controls",
          "model_name": "HBoxModel",
          "model_module_version": "1.5.0",
          "state": {
            "_dom_classes": [],
            "_model_module": "@jupyter-widgets/controls",
            "_model_module_version": "1.5.0",
            "_model_name": "HBoxModel",
            "_view_count": null,
            "_view_module": "@jupyter-widgets/controls",
            "_view_module_version": "1.5.0",
            "_view_name": "HBoxView",
            "box_style": "",
            "children": [
              "IPY_MODEL_36e1facfcea54ad1831b8ccd7ae84dde",
              "IPY_MODEL_325ca24e210f46fb94d1adb25a98553a",
              "IPY_MODEL_bcb741b4855047cca7878cf573a622f1"
            ],
            "layout": "IPY_MODEL_a7f7af5df9344f91af660b841e246a4e"
          }
        },
        "36e1facfcea54ad1831b8ccd7ae84dde": {
          "model_module": "@jupyter-widgets/controls",
          "model_name": "HTMLModel",
          "model_module_version": "1.5.0",
          "state": {
            "_dom_classes": [],
            "_model_module": "@jupyter-widgets/controls",
            "_model_module_version": "1.5.0",
            "_model_name": "HTMLModel",
            "_view_count": null,
            "_view_module": "@jupyter-widgets/controls",
            "_view_module_version": "1.5.0",
            "_view_name": "HTMLView",
            "description": "",
            "description_tooltip": null,
            "layout": "IPY_MODEL_25cf2e7d17f14dfdb73573d9778afc86",
            "placeholder": "​",
            "style": "IPY_MODEL_52be78be708a49ffa44189d8c77613e8",
            "value": "vocab.txt: 100%"
          }
        },
        "325ca24e210f46fb94d1adb25a98553a": {
          "model_module": "@jupyter-widgets/controls",
          "model_name": "FloatProgressModel",
          "model_module_version": "1.5.0",
          "state": {
            "_dom_classes": [],
            "_model_module": "@jupyter-widgets/controls",
            "_model_module_version": "1.5.0",
            "_model_name": "FloatProgressModel",
            "_view_count": null,
            "_view_module": "@jupyter-widgets/controls",
            "_view_module_version": "1.5.0",
            "_view_name": "ProgressView",
            "bar_style": "success",
            "description": "",
            "description_tooltip": null,
            "layout": "IPY_MODEL_d9bcb68942684856b9e956b193f5d504",
            "max": 231508,
            "min": 0,
            "orientation": "horizontal",
            "style": "IPY_MODEL_571d5611be134ad8a9057bfaa1336ce6",
            "value": 231508
          }
        },
        "bcb741b4855047cca7878cf573a622f1": {
          "model_module": "@jupyter-widgets/controls",
          "model_name": "HTMLModel",
          "model_module_version": "1.5.0",
          "state": {
            "_dom_classes": [],
            "_model_module": "@jupyter-widgets/controls",
            "_model_module_version": "1.5.0",
            "_model_name": "HTMLModel",
            "_view_count": null,
            "_view_module": "@jupyter-widgets/controls",
            "_view_module_version": "1.5.0",
            "_view_name": "HTMLView",
            "description": "",
            "description_tooltip": null,
            "layout": "IPY_MODEL_1be9b5ac69114ecaaec3c69b8bc9cb4a",
            "placeholder": "​",
            "style": "IPY_MODEL_fe7887f9ef49458f83501459b1cb0066",
            "value": " 232k/232k [00:00&lt;00:00, 5.82MB/s]"
          }
        },
        "a7f7af5df9344f91af660b841e246a4e": {
          "model_module": "@jupyter-widgets/base",
          "model_name": "LayoutModel",
          "model_module_version": "1.2.0",
          "state": {
            "_model_module": "@jupyter-widgets/base",
            "_model_module_version": "1.2.0",
            "_model_name": "LayoutModel",
            "_view_count": null,
            "_view_module": "@jupyter-widgets/base",
            "_view_module_version": "1.2.0",
            "_view_name": "LayoutView",
            "align_content": null,
            "align_items": null,
            "align_self": null,
            "border": null,
            "bottom": null,
            "display": null,
            "flex": null,
            "flex_flow": null,
            "grid_area": null,
            "grid_auto_columns": null,
            "grid_auto_flow": null,
            "grid_auto_rows": null,
            "grid_column": null,
            "grid_gap": null,
            "grid_row": null,
            "grid_template_areas": null,
            "grid_template_columns": null,
            "grid_template_rows": null,
            "height": null,
            "justify_content": null,
            "justify_items": null,
            "left": null,
            "margin": null,
            "max_height": null,
            "max_width": null,
            "min_height": null,
            "min_width": null,
            "object_fit": null,
            "object_position": null,
            "order": null,
            "overflow": null,
            "overflow_x": null,
            "overflow_y": null,
            "padding": null,
            "right": null,
            "top": null,
            "visibility": null,
            "width": null
          }
        },
        "25cf2e7d17f14dfdb73573d9778afc86": {
          "model_module": "@jupyter-widgets/base",
          "model_name": "LayoutModel",
          "model_module_version": "1.2.0",
          "state": {
            "_model_module": "@jupyter-widgets/base",
            "_model_module_version": "1.2.0",
            "_model_name": "LayoutModel",
            "_view_count": null,
            "_view_module": "@jupyter-widgets/base",
            "_view_module_version": "1.2.0",
            "_view_name": "LayoutView",
            "align_content": null,
            "align_items": null,
            "align_self": null,
            "border": null,
            "bottom": null,
            "display": null,
            "flex": null,
            "flex_flow": null,
            "grid_area": null,
            "grid_auto_columns": null,
            "grid_auto_flow": null,
            "grid_auto_rows": null,
            "grid_column": null,
            "grid_gap": null,
            "grid_row": null,
            "grid_template_areas": null,
            "grid_template_columns": null,
            "grid_template_rows": null,
            "height": null,
            "justify_content": null,
            "justify_items": null,
            "left": null,
            "margin": null,
            "max_height": null,
            "max_width": null,
            "min_height": null,
            "min_width": null,
            "object_fit": null,
            "object_position": null,
            "order": null,
            "overflow": null,
            "overflow_x": null,
            "overflow_y": null,
            "padding": null,
            "right": null,
            "top": null,
            "visibility": null,
            "width": null
          }
        },
        "52be78be708a49ffa44189d8c77613e8": {
          "model_module": "@jupyter-widgets/controls",
          "model_name": "DescriptionStyleModel",
          "model_module_version": "1.5.0",
          "state": {
            "_model_module": "@jupyter-widgets/controls",
            "_model_module_version": "1.5.0",
            "_model_name": "DescriptionStyleModel",
            "_view_count": null,
            "_view_module": "@jupyter-widgets/base",
            "_view_module_version": "1.2.0",
            "_view_name": "StyleView",
            "description_width": ""
          }
        },
        "d9bcb68942684856b9e956b193f5d504": {
          "model_module": "@jupyter-widgets/base",
          "model_name": "LayoutModel",
          "model_module_version": "1.2.0",
          "state": {
            "_model_module": "@jupyter-widgets/base",
            "_model_module_version": "1.2.0",
            "_model_name": "LayoutModel",
            "_view_count": null,
            "_view_module": "@jupyter-widgets/base",
            "_view_module_version": "1.2.0",
            "_view_name": "LayoutView",
            "align_content": null,
            "align_items": null,
            "align_self": null,
            "border": null,
            "bottom": null,
            "display": null,
            "flex": null,
            "flex_flow": null,
            "grid_area": null,
            "grid_auto_columns": null,
            "grid_auto_flow": null,
            "grid_auto_rows": null,
            "grid_column": null,
            "grid_gap": null,
            "grid_row": null,
            "grid_template_areas": null,
            "grid_template_columns": null,
            "grid_template_rows": null,
            "height": null,
            "justify_content": null,
            "justify_items": null,
            "left": null,
            "margin": null,
            "max_height": null,
            "max_width": null,
            "min_height": null,
            "min_width": null,
            "object_fit": null,
            "object_position": null,
            "order": null,
            "overflow": null,
            "overflow_x": null,
            "overflow_y": null,
            "padding": null,
            "right": null,
            "top": null,
            "visibility": null,
            "width": null
          }
        },
        "571d5611be134ad8a9057bfaa1336ce6": {
          "model_module": "@jupyter-widgets/controls",
          "model_name": "ProgressStyleModel",
          "model_module_version": "1.5.0",
          "state": {
            "_model_module": "@jupyter-widgets/controls",
            "_model_module_version": "1.5.0",
            "_model_name": "ProgressStyleModel",
            "_view_count": null,
            "_view_module": "@jupyter-widgets/base",
            "_view_module_version": "1.2.0",
            "_view_name": "StyleView",
            "bar_color": null,
            "description_width": ""
          }
        },
        "1be9b5ac69114ecaaec3c69b8bc9cb4a": {
          "model_module": "@jupyter-widgets/base",
          "model_name": "LayoutModel",
          "model_module_version": "1.2.0",
          "state": {
            "_model_module": "@jupyter-widgets/base",
            "_model_module_version": "1.2.0",
            "_model_name": "LayoutModel",
            "_view_count": null,
            "_view_module": "@jupyter-widgets/base",
            "_view_module_version": "1.2.0",
            "_view_name": "LayoutView",
            "align_content": null,
            "align_items": null,
            "align_self": null,
            "border": null,
            "bottom": null,
            "display": null,
            "flex": null,
            "flex_flow": null,
            "grid_area": null,
            "grid_auto_columns": null,
            "grid_auto_flow": null,
            "grid_auto_rows": null,
            "grid_column": null,
            "grid_gap": null,
            "grid_row": null,
            "grid_template_areas": null,
            "grid_template_columns": null,
            "grid_template_rows": null,
            "height": null,
            "justify_content": null,
            "justify_items": null,
            "left": null,
            "margin": null,
            "max_height": null,
            "max_width": null,
            "min_height": null,
            "min_width": null,
            "object_fit": null,
            "object_position": null,
            "order": null,
            "overflow": null,
            "overflow_x": null,
            "overflow_y": null,
            "padding": null,
            "right": null,
            "top": null,
            "visibility": null,
            "width": null
          }
        },
        "fe7887f9ef49458f83501459b1cb0066": {
          "model_module": "@jupyter-widgets/controls",
          "model_name": "DescriptionStyleModel",
          "model_module_version": "1.5.0",
          "state": {
            "_model_module": "@jupyter-widgets/controls",
            "_model_module_version": "1.5.0",
            "_model_name": "DescriptionStyleModel",
            "_view_count": null,
            "_view_module": "@jupyter-widgets/base",
            "_view_module_version": "1.2.0",
            "_view_name": "StyleView",
            "description_width": ""
          }
        },
        "7b6afcdbd00246b7ba6745a0b0b0c2fe": {
          "model_module": "@jupyter-widgets/controls",
          "model_name": "HBoxModel",
          "model_module_version": "1.5.0",
          "state": {
            "_dom_classes": [],
            "_model_module": "@jupyter-widgets/controls",
            "_model_module_version": "1.5.0",
            "_model_name": "HBoxModel",
            "_view_count": null,
            "_view_module": "@jupyter-widgets/controls",
            "_view_module_version": "1.5.0",
            "_view_name": "HBoxView",
            "box_style": "",
            "children": [
              "IPY_MODEL_e4c8464f49194950a37af1aae1637bb0",
              "IPY_MODEL_ddbd34b6b4b24afb9f6da63ed9419107",
              "IPY_MODEL_5d597659b2f74b569995d425ba1beea2"
            ],
            "layout": "IPY_MODEL_bd529b293401452db8ec6882ae8833da"
          }
        },
        "e4c8464f49194950a37af1aae1637bb0": {
          "model_module": "@jupyter-widgets/controls",
          "model_name": "HTMLModel",
          "model_module_version": "1.5.0",
          "state": {
            "_dom_classes": [],
            "_model_module": "@jupyter-widgets/controls",
            "_model_module_version": "1.5.0",
            "_model_name": "HTMLModel",
            "_view_count": null,
            "_view_module": "@jupyter-widgets/controls",
            "_view_module_version": "1.5.0",
            "_view_name": "HTMLView",
            "description": "",
            "description_tooltip": null,
            "layout": "IPY_MODEL_4b044ecf7c9344729ad6b461b7c13b4f",
            "placeholder": "​",
            "style": "IPY_MODEL_287b571a1996463585338a6aa3dff515",
            "value": "tokenizer.json: 100%"
          }
        },
        "ddbd34b6b4b24afb9f6da63ed9419107": {
          "model_module": "@jupyter-widgets/controls",
          "model_name": "FloatProgressModel",
          "model_module_version": "1.5.0",
          "state": {
            "_dom_classes": [],
            "_model_module": "@jupyter-widgets/controls",
            "_model_module_version": "1.5.0",
            "_model_name": "FloatProgressModel",
            "_view_count": null,
            "_view_module": "@jupyter-widgets/controls",
            "_view_module_version": "1.5.0",
            "_view_name": "ProgressView",
            "bar_style": "success",
            "description": "",
            "description_tooltip": null,
            "layout": "IPY_MODEL_23037dc34b9b4d4dacb1fd18ab0f1828",
            "max": 466062,
            "min": 0,
            "orientation": "horizontal",
            "style": "IPY_MODEL_0cbfa40b90db4690bb1a9b5b62062629",
            "value": 466062
          }
        },
        "5d597659b2f74b569995d425ba1beea2": {
          "model_module": "@jupyter-widgets/controls",
          "model_name": "HTMLModel",
          "model_module_version": "1.5.0",
          "state": {
            "_dom_classes": [],
            "_model_module": "@jupyter-widgets/controls",
            "_model_module_version": "1.5.0",
            "_model_name": "HTMLModel",
            "_view_count": null,
            "_view_module": "@jupyter-widgets/controls",
            "_view_module_version": "1.5.0",
            "_view_name": "HTMLView",
            "description": "",
            "description_tooltip": null,
            "layout": "IPY_MODEL_bdffc4150337460aaebacd3be1d47ecc",
            "placeholder": "​",
            "style": "IPY_MODEL_52f8dbf37fbe48018599250f25d16513",
            "value": " 466k/466k [00:00&lt;00:00, 16.5MB/s]"
          }
        },
        "bd529b293401452db8ec6882ae8833da": {
          "model_module": "@jupyter-widgets/base",
          "model_name": "LayoutModel",
          "model_module_version": "1.2.0",
          "state": {
            "_model_module": "@jupyter-widgets/base",
            "_model_module_version": "1.2.0",
            "_model_name": "LayoutModel",
            "_view_count": null,
            "_view_module": "@jupyter-widgets/base",
            "_view_module_version": "1.2.0",
            "_view_name": "LayoutView",
            "align_content": null,
            "align_items": null,
            "align_self": null,
            "border": null,
            "bottom": null,
            "display": null,
            "flex": null,
            "flex_flow": null,
            "grid_area": null,
            "grid_auto_columns": null,
            "grid_auto_flow": null,
            "grid_auto_rows": null,
            "grid_column": null,
            "grid_gap": null,
            "grid_row": null,
            "grid_template_areas": null,
            "grid_template_columns": null,
            "grid_template_rows": null,
            "height": null,
            "justify_content": null,
            "justify_items": null,
            "left": null,
            "margin": null,
            "max_height": null,
            "max_width": null,
            "min_height": null,
            "min_width": null,
            "object_fit": null,
            "object_position": null,
            "order": null,
            "overflow": null,
            "overflow_x": null,
            "overflow_y": null,
            "padding": null,
            "right": null,
            "top": null,
            "visibility": null,
            "width": null
          }
        },
        "4b044ecf7c9344729ad6b461b7c13b4f": {
          "model_module": "@jupyter-widgets/base",
          "model_name": "LayoutModel",
          "model_module_version": "1.2.0",
          "state": {
            "_model_module": "@jupyter-widgets/base",
            "_model_module_version": "1.2.0",
            "_model_name": "LayoutModel",
            "_view_count": null,
            "_view_module": "@jupyter-widgets/base",
            "_view_module_version": "1.2.0",
            "_view_name": "LayoutView",
            "align_content": null,
            "align_items": null,
            "align_self": null,
            "border": null,
            "bottom": null,
            "display": null,
            "flex": null,
            "flex_flow": null,
            "grid_area": null,
            "grid_auto_columns": null,
            "grid_auto_flow": null,
            "grid_auto_rows": null,
            "grid_column": null,
            "grid_gap": null,
            "grid_row": null,
            "grid_template_areas": null,
            "grid_template_columns": null,
            "grid_template_rows": null,
            "height": null,
            "justify_content": null,
            "justify_items": null,
            "left": null,
            "margin": null,
            "max_height": null,
            "max_width": null,
            "min_height": null,
            "min_width": null,
            "object_fit": null,
            "object_position": null,
            "order": null,
            "overflow": null,
            "overflow_x": null,
            "overflow_y": null,
            "padding": null,
            "right": null,
            "top": null,
            "visibility": null,
            "width": null
          }
        },
        "287b571a1996463585338a6aa3dff515": {
          "model_module": "@jupyter-widgets/controls",
          "model_name": "DescriptionStyleModel",
          "model_module_version": "1.5.0",
          "state": {
            "_model_module": "@jupyter-widgets/controls",
            "_model_module_version": "1.5.0",
            "_model_name": "DescriptionStyleModel",
            "_view_count": null,
            "_view_module": "@jupyter-widgets/base",
            "_view_module_version": "1.2.0",
            "_view_name": "StyleView",
            "description_width": ""
          }
        },
        "23037dc34b9b4d4dacb1fd18ab0f1828": {
          "model_module": "@jupyter-widgets/base",
          "model_name": "LayoutModel",
          "model_module_version": "1.2.0",
          "state": {
            "_model_module": "@jupyter-widgets/base",
            "_model_module_version": "1.2.0",
            "_model_name": "LayoutModel",
            "_view_count": null,
            "_view_module": "@jupyter-widgets/base",
            "_view_module_version": "1.2.0",
            "_view_name": "LayoutView",
            "align_content": null,
            "align_items": null,
            "align_self": null,
            "border": null,
            "bottom": null,
            "display": null,
            "flex": null,
            "flex_flow": null,
            "grid_area": null,
            "grid_auto_columns": null,
            "grid_auto_flow": null,
            "grid_auto_rows": null,
            "grid_column": null,
            "grid_gap": null,
            "grid_row": null,
            "grid_template_areas": null,
            "grid_template_columns": null,
            "grid_template_rows": null,
            "height": null,
            "justify_content": null,
            "justify_items": null,
            "left": null,
            "margin": null,
            "max_height": null,
            "max_width": null,
            "min_height": null,
            "min_width": null,
            "object_fit": null,
            "object_position": null,
            "order": null,
            "overflow": null,
            "overflow_x": null,
            "overflow_y": null,
            "padding": null,
            "right": null,
            "top": null,
            "visibility": null,
            "width": null
          }
        },
        "0cbfa40b90db4690bb1a9b5b62062629": {
          "model_module": "@jupyter-widgets/controls",
          "model_name": "ProgressStyleModel",
          "model_module_version": "1.5.0",
          "state": {
            "_model_module": "@jupyter-widgets/controls",
            "_model_module_version": "1.5.0",
            "_model_name": "ProgressStyleModel",
            "_view_count": null,
            "_view_module": "@jupyter-widgets/base",
            "_view_module_version": "1.2.0",
            "_view_name": "StyleView",
            "bar_color": null,
            "description_width": ""
          }
        },
        "bdffc4150337460aaebacd3be1d47ecc": {
          "model_module": "@jupyter-widgets/base",
          "model_name": "LayoutModel",
          "model_module_version": "1.2.0",
          "state": {
            "_model_module": "@jupyter-widgets/base",
            "_model_module_version": "1.2.0",
            "_model_name": "LayoutModel",
            "_view_count": null,
            "_view_module": "@jupyter-widgets/base",
            "_view_module_version": "1.2.0",
            "_view_name": "LayoutView",
            "align_content": null,
            "align_items": null,
            "align_self": null,
            "border": null,
            "bottom": null,
            "display": null,
            "flex": null,
            "flex_flow": null,
            "grid_area": null,
            "grid_auto_columns": null,
            "grid_auto_flow": null,
            "grid_auto_rows": null,
            "grid_column": null,
            "grid_gap": null,
            "grid_row": null,
            "grid_template_areas": null,
            "grid_template_columns": null,
            "grid_template_rows": null,
            "height": null,
            "justify_content": null,
            "justify_items": null,
            "left": null,
            "margin": null,
            "max_height": null,
            "max_width": null,
            "min_height": null,
            "min_width": null,
            "object_fit": null,
            "object_position": null,
            "order": null,
            "overflow": null,
            "overflow_x": null,
            "overflow_y": null,
            "padding": null,
            "right": null,
            "top": null,
            "visibility": null,
            "width": null
          }
        },
        "52f8dbf37fbe48018599250f25d16513": {
          "model_module": "@jupyter-widgets/controls",
          "model_name": "DescriptionStyleModel",
          "model_module_version": "1.5.0",
          "state": {
            "_model_module": "@jupyter-widgets/controls",
            "_model_module_version": "1.5.0",
            "_model_name": "DescriptionStyleModel",
            "_view_count": null,
            "_view_module": "@jupyter-widgets/base",
            "_view_module_version": "1.2.0",
            "_view_name": "StyleView",
            "description_width": ""
          }
        },
        "f33a843bfb4544cd86f498e79bfc3662": {
          "model_module": "@jupyter-widgets/controls",
          "model_name": "HBoxModel",
          "model_module_version": "1.5.0",
          "state": {
            "_dom_classes": [],
            "_model_module": "@jupyter-widgets/controls",
            "_model_module_version": "1.5.0",
            "_model_name": "HBoxModel",
            "_view_count": null,
            "_view_module": "@jupyter-widgets/controls",
            "_view_module_version": "1.5.0",
            "_view_name": "HBoxView",
            "box_style": "",
            "children": [
              "IPY_MODEL_eb81daab71f443b89718e3e628eb9464",
              "IPY_MODEL_bf496d707c7e4a9cbea963d3628e8615",
              "IPY_MODEL_f9d47988dee24154b70a0f58654b33d5"
            ],
            "layout": "IPY_MODEL_6c61654bd6a64b0bb6f13ca56d012d98"
          }
        },
        "eb81daab71f443b89718e3e628eb9464": {
          "model_module": "@jupyter-widgets/controls",
          "model_name": "HTMLModel",
          "model_module_version": "1.5.0",
          "state": {
            "_dom_classes": [],
            "_model_module": "@jupyter-widgets/controls",
            "_model_module_version": "1.5.0",
            "_model_name": "HTMLModel",
            "_view_count": null,
            "_view_module": "@jupyter-widgets/controls",
            "_view_module_version": "1.5.0",
            "_view_name": "HTMLView",
            "description": "",
            "description_tooltip": null,
            "layout": "IPY_MODEL_41a512bfbf134a20908b2b19f12fc539",
            "placeholder": "​",
            "style": "IPY_MODEL_3abac31fc1c147a4831925325fd65c42",
            "value": "100%"
          }
        },
        "bf496d707c7e4a9cbea963d3628e8615": {
          "model_module": "@jupyter-widgets/controls",
          "model_name": "FloatProgressModel",
          "model_module_version": "1.5.0",
          "state": {
            "_dom_classes": [],
            "_model_module": "@jupyter-widgets/controls",
            "_model_module_version": "1.5.0",
            "_model_name": "FloatProgressModel",
            "_view_count": null,
            "_view_module": "@jupyter-widgets/controls",
            "_view_module_version": "1.5.0",
            "_view_name": "ProgressView",
            "bar_style": "success",
            "description": "",
            "description_tooltip": null,
            "layout": "IPY_MODEL_938b5175a49c4127918c8f3bf896867e",
            "max": 20240,
            "min": 0,
            "orientation": "horizontal",
            "style": "IPY_MODEL_469cecce1a2e49e3b88bf8cbdadc7a6e",
            "value": 20240
          }
        },
        "f9d47988dee24154b70a0f58654b33d5": {
          "model_module": "@jupyter-widgets/controls",
          "model_name": "HTMLModel",
          "model_module_version": "1.5.0",
          "state": {
            "_dom_classes": [],
            "_model_module": "@jupyter-widgets/controls",
            "_model_module_version": "1.5.0",
            "_model_name": "HTMLModel",
            "_view_count": null,
            "_view_module": "@jupyter-widgets/controls",
            "_view_module_version": "1.5.0",
            "_view_name": "HTMLView",
            "description": "",
            "description_tooltip": null,
            "layout": "IPY_MODEL_0897639b5a6f4ef382d8235255619c9e",
            "placeholder": "​",
            "style": "IPY_MODEL_17adc6ebba1a49aeaf78eb177719cc47",
            "value": " 20240/20240 [31:42&lt;00:00,  6.67it/s]"
          }
        },
        "6c61654bd6a64b0bb6f13ca56d012d98": {
          "model_module": "@jupyter-widgets/base",
          "model_name": "LayoutModel",
          "model_module_version": "1.2.0",
          "state": {
            "_model_module": "@jupyter-widgets/base",
            "_model_module_version": "1.2.0",
            "_model_name": "LayoutModel",
            "_view_count": null,
            "_view_module": "@jupyter-widgets/base",
            "_view_module_version": "1.2.0",
            "_view_name": "LayoutView",
            "align_content": null,
            "align_items": null,
            "align_self": null,
            "border": null,
            "bottom": null,
            "display": null,
            "flex": null,
            "flex_flow": null,
            "grid_area": null,
            "grid_auto_columns": null,
            "grid_auto_flow": null,
            "grid_auto_rows": null,
            "grid_column": null,
            "grid_gap": null,
            "grid_row": null,
            "grid_template_areas": null,
            "grid_template_columns": null,
            "grid_template_rows": null,
            "height": null,
            "justify_content": null,
            "justify_items": null,
            "left": null,
            "margin": null,
            "max_height": null,
            "max_width": null,
            "min_height": null,
            "min_width": null,
            "object_fit": null,
            "object_position": null,
            "order": null,
            "overflow": null,
            "overflow_x": null,
            "overflow_y": null,
            "padding": null,
            "right": null,
            "top": null,
            "visibility": null,
            "width": null
          }
        },
        "41a512bfbf134a20908b2b19f12fc539": {
          "model_module": "@jupyter-widgets/base",
          "model_name": "LayoutModel",
          "model_module_version": "1.2.0",
          "state": {
            "_model_module": "@jupyter-widgets/base",
            "_model_module_version": "1.2.0",
            "_model_name": "LayoutModel",
            "_view_count": null,
            "_view_module": "@jupyter-widgets/base",
            "_view_module_version": "1.2.0",
            "_view_name": "LayoutView",
            "align_content": null,
            "align_items": null,
            "align_self": null,
            "border": null,
            "bottom": null,
            "display": null,
            "flex": null,
            "flex_flow": null,
            "grid_area": null,
            "grid_auto_columns": null,
            "grid_auto_flow": null,
            "grid_auto_rows": null,
            "grid_column": null,
            "grid_gap": null,
            "grid_row": null,
            "grid_template_areas": null,
            "grid_template_columns": null,
            "grid_template_rows": null,
            "height": null,
            "justify_content": null,
            "justify_items": null,
            "left": null,
            "margin": null,
            "max_height": null,
            "max_width": null,
            "min_height": null,
            "min_width": null,
            "object_fit": null,
            "object_position": null,
            "order": null,
            "overflow": null,
            "overflow_x": null,
            "overflow_y": null,
            "padding": null,
            "right": null,
            "top": null,
            "visibility": null,
            "width": null
          }
        },
        "3abac31fc1c147a4831925325fd65c42": {
          "model_module": "@jupyter-widgets/controls",
          "model_name": "DescriptionStyleModel",
          "model_module_version": "1.5.0",
          "state": {
            "_model_module": "@jupyter-widgets/controls",
            "_model_module_version": "1.5.0",
            "_model_name": "DescriptionStyleModel",
            "_view_count": null,
            "_view_module": "@jupyter-widgets/base",
            "_view_module_version": "1.2.0",
            "_view_name": "StyleView",
            "description_width": ""
          }
        },
        "938b5175a49c4127918c8f3bf896867e": {
          "model_module": "@jupyter-widgets/base",
          "model_name": "LayoutModel",
          "model_module_version": "1.2.0",
          "state": {
            "_model_module": "@jupyter-widgets/base",
            "_model_module_version": "1.2.0",
            "_model_name": "LayoutModel",
            "_view_count": null,
            "_view_module": "@jupyter-widgets/base",
            "_view_module_version": "1.2.0",
            "_view_name": "LayoutView",
            "align_content": null,
            "align_items": null,
            "align_self": null,
            "border": null,
            "bottom": null,
            "display": null,
            "flex": null,
            "flex_flow": null,
            "grid_area": null,
            "grid_auto_columns": null,
            "grid_auto_flow": null,
            "grid_auto_rows": null,
            "grid_column": null,
            "grid_gap": null,
            "grid_row": null,
            "grid_template_areas": null,
            "grid_template_columns": null,
            "grid_template_rows": null,
            "height": null,
            "justify_content": null,
            "justify_items": null,
            "left": null,
            "margin": null,
            "max_height": null,
            "max_width": null,
            "min_height": null,
            "min_width": null,
            "object_fit": null,
            "object_position": null,
            "order": null,
            "overflow": null,
            "overflow_x": null,
            "overflow_y": null,
            "padding": null,
            "right": null,
            "top": null,
            "visibility": null,
            "width": null
          }
        },
        "469cecce1a2e49e3b88bf8cbdadc7a6e": {
          "model_module": "@jupyter-widgets/controls",
          "model_name": "ProgressStyleModel",
          "model_module_version": "1.5.0",
          "state": {
            "_model_module": "@jupyter-widgets/controls",
            "_model_module_version": "1.5.0",
            "_model_name": "ProgressStyleModel",
            "_view_count": null,
            "_view_module": "@jupyter-widgets/base",
            "_view_module_version": "1.2.0",
            "_view_name": "StyleView",
            "bar_color": null,
            "description_width": ""
          }
        },
        "0897639b5a6f4ef382d8235255619c9e": {
          "model_module": "@jupyter-widgets/base",
          "model_name": "LayoutModel",
          "model_module_version": "1.2.0",
          "state": {
            "_model_module": "@jupyter-widgets/base",
            "_model_module_version": "1.2.0",
            "_model_name": "LayoutModel",
            "_view_count": null,
            "_view_module": "@jupyter-widgets/base",
            "_view_module_version": "1.2.0",
            "_view_name": "LayoutView",
            "align_content": null,
            "align_items": null,
            "align_self": null,
            "border": null,
            "bottom": null,
            "display": null,
            "flex": null,
            "flex_flow": null,
            "grid_area": null,
            "grid_auto_columns": null,
            "grid_auto_flow": null,
            "grid_auto_rows": null,
            "grid_column": null,
            "grid_gap": null,
            "grid_row": null,
            "grid_template_areas": null,
            "grid_template_columns": null,
            "grid_template_rows": null,
            "height": null,
            "justify_content": null,
            "justify_items": null,
            "left": null,
            "margin": null,
            "max_height": null,
            "max_width": null,
            "min_height": null,
            "min_width": null,
            "object_fit": null,
            "object_position": null,
            "order": null,
            "overflow": null,
            "overflow_x": null,
            "overflow_y": null,
            "padding": null,
            "right": null,
            "top": null,
            "visibility": null,
            "width": null
          }
        },
        "17adc6ebba1a49aeaf78eb177719cc47": {
          "model_module": "@jupyter-widgets/controls",
          "model_name": "DescriptionStyleModel",
          "model_module_version": "1.5.0",
          "state": {
            "_model_module": "@jupyter-widgets/controls",
            "_model_module_version": "1.5.0",
            "_model_name": "DescriptionStyleModel",
            "_view_count": null,
            "_view_module": "@jupyter-widgets/base",
            "_view_module_version": "1.2.0",
            "_view_name": "StyleView",
            "description_width": ""
          }
        }
      }
    }
  },
  "cells": [
    {
      "cell_type": "code",
      "execution_count": null,
      "metadata": {
        "id": "wFywv3lI4NRx"
      },
      "outputs": [],
      "source": [
        "%reload_ext autoreload\n",
        "%autoreload 2\n",
        "%matplotlib inline"
      ]
    },
    {
      "cell_type": "code",
      "source": [
        "!pip install -q transformers[sentencepiece] fastbook fastai ohmeow-blurr nbdev"
      ],
      "metadata": {
        "colab": {
          "base_uri": "https://localhost:8080/"
        },
        "id": "brtDG7aJ4pS8",
        "outputId": "b11e3ee5-bf65-4c7e-c52b-5001907a430b"
      },
      "execution_count": null,
      "outputs": [
        {
          "output_type": "stream",
          "name": "stdout",
          "text": [
            "\u001b[2K     \u001b[90m━━━━━━━━━━━━━━━━━━━━━━━━━━━━━━━━━━━━━━━━\u001b[0m \u001b[32m719.8/719.8 kB\u001b[0m \u001b[31m6.9 MB/s\u001b[0m eta \u001b[36m0:00:00\u001b[0m\n",
            "\u001b[2K     \u001b[90m━━━━━━━━━━━━━━━━━━━━━━━━━━━━━━━━━━━━━━━━\u001b[0m \u001b[32m81.1/81.1 kB\u001b[0m \u001b[31m5.7 MB/s\u001b[0m eta \u001b[36m0:00:00\u001b[0m\n",
            "\u001b[2K     \u001b[90m━━━━━━━━━━━━━━━━━━━━━━━━━━━━━━━━━━━━━━━━\u001b[0m \u001b[32m66.1/66.1 kB\u001b[0m \u001b[31m7.0 MB/s\u001b[0m eta \u001b[36m0:00:00\u001b[0m\n",
            "\u001b[2K     \u001b[90m━━━━━━━━━━━━━━━━━━━━━━━━━━━━━━━━━━━━━━━━\u001b[0m \u001b[32m1.3/1.3 MB\u001b[0m \u001b[31m14.0 MB/s\u001b[0m eta \u001b[36m0:00:00\u001b[0m\n",
            "\u001b[2K     \u001b[90m━━━━━━━━━━━━━━━━━━━━━━━━━━━━━━━━━━━━━━━━\u001b[0m \u001b[32m507.1/507.1 kB\u001b[0m \u001b[31m12.3 MB/s\u001b[0m eta \u001b[36m0:00:00\u001b[0m\n",
            "\u001b[2K     \u001b[90m━━━━━━━━━━━━━━━━━━━━━━━━━━━━━━━━━━━━━━━━\u001b[0m \u001b[32m887.5/887.5 MB\u001b[0m \u001b[31m1.4 MB/s\u001b[0m eta \u001b[36m0:00:00\u001b[0m\n",
            "\u001b[2K     \u001b[90m━━━━━━━━━━━━━━━━━━━━━━━━━━━━━━━━━━━━━━━━\u001b[0m \u001b[32m43.6/43.6 kB\u001b[0m \u001b[31m5.2 MB/s\u001b[0m eta \u001b[36m0:00:00\u001b[0m\n",
            "\u001b[?25h  Preparing metadata (setup.py) ... \u001b[?25l\u001b[?25hdone\n",
            "  Preparing metadata (setup.py) ... \u001b[?25l\u001b[?25hdone\n",
            "\u001b[2K     \u001b[90m━━━━━━━━━━━━━━━━━━━━━━━━━━━━━━━━━━━━━━━━\u001b[0m \u001b[32m58.7/58.7 kB\u001b[0m \u001b[31m8.3 MB/s\u001b[0m eta \u001b[36m0:00:00\u001b[0m\n",
            "\u001b[2K     \u001b[90m━━━━━━━━━━━━━━━━━━━━━━━━━━━━━━━━━━━━━━━━\u001b[0m \u001b[32m82.1/82.1 kB\u001b[0m \u001b[31m11.0 MB/s\u001b[0m eta \u001b[36m0:00:00\u001b[0m\n",
            "\u001b[2K     \u001b[90m━━━━━━━━━━━━━━━━━━━━━━━━━━━━━━━━━━━━━━━━\u001b[0m \u001b[32m849.3/849.3 kB\u001b[0m \u001b[31m65.6 MB/s\u001b[0m eta \u001b[36m0:00:00\u001b[0m\n",
            "\u001b[2K     \u001b[90m━━━━━━━━━━━━━━━━━━━━━━━━━━━━━━━━━━━━━━━━\u001b[0m \u001b[32m557.1/557.1 MB\u001b[0m \u001b[31m2.8 MB/s\u001b[0m eta \u001b[36m0:00:00\u001b[0m\n",
            "\u001b[2K     \u001b[90m━━━━━━━━━━━━━━━━━━━━━━━━━━━━━━━━━━━━━━━━\u001b[0m \u001b[32m317.1/317.1 MB\u001b[0m \u001b[31m3.4 MB/s\u001b[0m eta \u001b[36m0:00:00\u001b[0m\n",
            "\u001b[2K     \u001b[90m━━━━━━━━━━━━━━━━━━━━━━━━━━━━━━━━━━━━━━━━\u001b[0m \u001b[32m21.0/21.0 MB\u001b[0m \u001b[31m46.7 MB/s\u001b[0m eta \u001b[36m0:00:00\u001b[0m\n",
            "\u001b[2K     \u001b[90m━━━━━━━━━━━━━━━━━━━━━━━━━━━━━━━━━━━━━━━━\u001b[0m \u001b[32m6.8/6.8 MB\u001b[0m \u001b[31m70.3 MB/s\u001b[0m eta \u001b[36m0:00:00\u001b[0m\n",
            "\u001b[2K     \u001b[90m━━━━━━━━━━━━━━━━━━━━━━━━━━━━━━━━━━━━━━━━\u001b[0m \u001b[32m6.8/6.8 MB\u001b[0m \u001b[31m65.6 MB/s\u001b[0m eta \u001b[36m0:00:00\u001b[0m\n",
            "\u001b[2K     \u001b[90m━━━━━━━━━━━━━━━━━━━━━━━━━━━━━━━━━━━━━━━━\u001b[0m \u001b[32m6.9/6.9 MB\u001b[0m \u001b[31m78.4 MB/s\u001b[0m eta \u001b[36m0:00:00\u001b[0m\n",
            "\u001b[2K     \u001b[90m━━━━━━━━━━━━━━━━━━━━━━━━━━━━━━━━━━━━━━━━\u001b[0m \u001b[32m6.0/6.0 MB\u001b[0m \u001b[31m73.5 MB/s\u001b[0m eta \u001b[36m0:00:00\u001b[0m\n",
            "\u001b[2K     \u001b[90m━━━━━━━━━━━━━━━━━━━━━━━━━━━━━━━━━━━━━━━━\u001b[0m \u001b[32m6.0/6.0 MB\u001b[0m \u001b[31m32.7 MB/s\u001b[0m eta \u001b[36m0:00:00\u001b[0m\n",
            "\u001b[2K     \u001b[90m━━━━━━━━━━━━━━━━━━━━━━━━━━━━━━━━━━━━━━━━\u001b[0m \u001b[32m24.2/24.2 MB\u001b[0m \u001b[31m13.2 MB/s\u001b[0m eta \u001b[36m0:00:00\u001b[0m\n",
            "\u001b[2K     \u001b[90m━━━━━━━━━━━━━━━━━━━━━━━━━━━━━━━━━━━━━━━━\u001b[0m \u001b[32m115.3/115.3 kB\u001b[0m \u001b[31m15.6 MB/s\u001b[0m eta \u001b[36m0:00:00\u001b[0m\n",
            "\u001b[2K     \u001b[90m━━━━━━━━━━━━━━━━━━━━━━━━━━━━━━━━━━━━━━━━\u001b[0m \u001b[32m134.8/134.8 kB\u001b[0m \u001b[31m18.5 MB/s\u001b[0m eta \u001b[36m0:00:00\u001b[0m\n",
            "\u001b[2K     \u001b[90m━━━━━━━━━━━━━━━━━━━━━━━━━━━━━━━━━━━━━━━━\u001b[0m \u001b[32m1.6/1.6 MB\u001b[0m \u001b[31m81.9 MB/s\u001b[0m eta \u001b[36m0:00:00\u001b[0m\n",
            "\u001b[?25h  Building wheel for rouge-score (setup.py) ... \u001b[?25l\u001b[?25hdone\n",
            "  Building wheel for seqeval (setup.py) ... \u001b[?25l\u001b[?25hdone\n",
            "\u001b[31mERROR: pip's dependency resolver does not currently take into account all the packages that are installed. This behaviour is the source of the following dependency conflicts.\n",
            "torchaudio 2.1.0+cu121 requires torch==2.1.0, but you have torch 1.13.1 which is incompatible.\n",
            "torchdata 0.7.0 requires torch==2.1.0, but you have torch 1.13.1 which is incompatible.\n",
            "torchtext 0.16.0 requires torch==2.1.0, but you have torch 1.13.1 which is incompatible.\u001b[0m\u001b[31m\n",
            "\u001b[0m"
          ]
        }
      ]
    },
    {
      "cell_type": "code",
      "source": [
        "import torch\n",
        "from transformers import AutoModelForSequenceClassification, AutoConfig\n",
        "from fastai.text.all import *\n",
        "from blurr.text.data.all import *\n",
        "from blurr.text.modeling.all import *\n",
        "import os\n",
        "import pandas as pd"
      ],
      "metadata": {
        "id": "FvZtlFdp5m_V",
        "colab": {
          "base_uri": "https://localhost:8080/",
          "height": 205,
          "referenced_widgets": [
            "bd90bd9f0da14e9fa215d657aa83923e",
            "50c5436410b6477ea18bddca74133549",
            "ee92a0b2f2414f38a59a00cf429cf490",
            "a6e0bc93e0f048a08152114307bd34c0",
            "5a1c3ae863a1454ebb79d1f5172f7442",
            "077189d8ac8c4f8f83aff1d4b6aaa488",
            "7a6ab45a914a4285a55473c8eae2d9a9",
            "cca0cb7104ab4ab59ba358d7cb41e016",
            "1fbcbddf05d940149137f10e5499f4ec",
            "8a483a5fee1c4cf48a98548828a720d4",
            "3035865137bc45f98db7721e17377e14",
            "6f9ebbf86285449586b58841e4cdf08a",
            "dec5dd50fed34d939b34377d912fff64",
            "4f8a957c87f54c6fa010d36b1df6eafc",
            "fa242aa8d38d4fd983a4706cda7652e3",
            "7f02c224d5b24fc9a27b587c93d00470",
            "1ae678f2a03b4b95aa85256c61d45726",
            "0450a12c68b34259bf40120e3d912d6d",
            "c1d06e4010494cbb81a61c6687b326df",
            "4710fb45895c4a6aaf426d2a62501346",
            "c8ccf657ce7343878ad32a5e8e9da0d5",
            "02e811b0b0d74e368dec990a48f1cf04"
          ]
        },
        "outputId": "71ffad06-168c-4034-c1e7-dabcbd50f700"
      },
      "execution_count": null,
      "outputs": [
        {
          "output_type": "stream",
          "name": "stderr",
          "text": [
            "/usr/local/lib/python3.10/dist-packages/blurr/text/modeling/question_answering.py:31: FutureWarning: load_metric is deprecated and will be removed in the next major version of datasets. Use 'evaluate.load' instead, from the new library 🤗 Evaluate: https://huggingface.co/docs/evaluate\n",
            "  squad_metric = load_metric(\"squad\")\n",
            "/usr/local/lib/python3.10/dist-packages/datasets/load.py:752: FutureWarning: The repository for squad contains custom code which must be executed to correctly load the metric. You can inspect the repository content at https://raw.githubusercontent.com/huggingface/datasets/2.16.1/metrics/squad/squad.py\n",
            "You can avoid this message in future by passing the argument `trust_remote_code=True`.\n",
            "Passing `trust_remote_code=True` will be mandatory to load this metric from the next major release of `datasets`.\n",
            "  warnings.warn(\n"
          ]
        },
        {
          "output_type": "display_data",
          "data": {
            "text/plain": [
              "Downloading builder script:   0%|          | 0.00/1.72k [00:00<?, ?B/s]"
            ],
            "application/vnd.jupyter.widget-view+json": {
              "version_major": 2,
              "version_minor": 0,
              "model_id": "bd90bd9f0da14e9fa215d657aa83923e"
            }
          },
          "metadata": {}
        },
        {
          "output_type": "display_data",
          "data": {
            "text/plain": [
              "Downloading extra modules:   0%|          | 0.00/1.11k [00:00<?, ?B/s]"
            ],
            "application/vnd.jupyter.widget-view+json": {
              "version_major": 2,
              "version_minor": 0,
              "model_id": "6f9ebbf86285449586b58841e4cdf08a"
            }
          },
          "metadata": {}
        }
      ]
    },
    {
      "cell_type": "code",
      "source": [
        "import json\n",
        "import numpy as np\n",
        "from tqdm.notebook import tqdm"
      ],
      "metadata": {
        "id": "26jqNTuVxSSm"
      },
      "execution_count": null,
      "outputs": []
    },
    {
      "cell_type": "code",
      "source": [
        "from google.colab import drive\n",
        "drive.mount('/content/drive')"
      ],
      "metadata": {
        "colab": {
          "base_uri": "https://localhost:8080/"
        },
        "id": "LZEEuOmZ6Ryc",
        "outputId": "2d5891f7-7d92-465b-8e63-3c2fc0d6d6a9"
      },
      "execution_count": null,
      "outputs": [
        {
          "output_type": "stream",
          "name": "stdout",
          "text": [
            "Mounted at /content/drive\n"
          ]
        }
      ]
    },
    {
      "cell_type": "code",
      "source": [
        "# os.listdir('drive/MyDrive/Quotes')"
      ],
      "metadata": {
        "id": "_Ipf0i6N6cgs"
      },
      "execution_count": null,
      "outputs": []
    },
    {
      "cell_type": "code",
      "source": [
        "%cd /content/drive/MyDrive/Quotes"
      ],
      "metadata": {
        "colab": {
          "base_uri": "https://localhost:8080/"
        },
        "id": "qJzZYnRm6eFZ",
        "outputId": "b5eecb73-12e5-4edf-e3fa-636f951758c1"
      },
      "execution_count": null,
      "outputs": [
        {
          "output_type": "stream",
          "name": "stdout",
          "text": [
            "/content/drive/MyDrive/Quotes\n"
          ]
        }
      ]
    },
    {
      "cell_type": "code",
      "source": [
        "os.listdir()"
      ],
      "metadata": {
        "colab": {
          "base_uri": "https://localhost:8080/"
        },
        "id": "P7bl6I32FlW6",
        "outputId": "29cfc158-4016-4811-df99-de62972e02ef"
      },
      "execution_count": null,
      "outputs": [
        {
          "output_type": "execute_result",
          "data": {
            "text/plain": [
              "['quotes_data.csv',\n",
              " 'quotes.ipynb',\n",
              " 'models',\n",
              " 'dataloaders',\n",
              " 'tag_types_encoded.json',\n",
              " 'prep_quotes.csv']"
            ]
          },
          "metadata": {},
          "execution_count": 7
        }
      ]
    },
    {
      "cell_type": "markdown",
      "source": [
        "# Data Preprocessing"
      ],
      "metadata": {
        "id": "cTprC6RheDhm"
      }
    },
    {
      "cell_type": "code",
      "source": [
        "df = pd.read_csv('quotes_data.csv')"
      ],
      "metadata": {
        "id": "WF4SXK406rwE"
      },
      "execution_count": null,
      "outputs": []
    },
    {
      "cell_type": "code",
      "source": [
        "df.shape"
      ],
      "metadata": {
        "colab": {
          "base_uri": "https://localhost:8080/"
        },
        "id": "hh7Hwi9x6teV",
        "outputId": "49c0ca5e-1b7c-4e8f-dfc0-d50ac047a7dc"
      },
      "execution_count": null,
      "outputs": [
        {
          "output_type": "execute_result",
          "data": {
            "text/plain": [
              "(101243, 5)"
            ]
          },
          "metadata": {},
          "execution_count": 9
        }
      ]
    },
    {
      "cell_type": "code",
      "source": [
        "df.isna().sum()"
      ],
      "metadata": {
        "colab": {
          "base_uri": "https://localhost:8080/"
        },
        "id": "wUws-lHTCbWj",
        "outputId": "b8813552-419a-4977-a44b-1a8f31cd6204"
      },
      "execution_count": null,
      "outputs": [
        {
          "output_type": "execute_result",
          "data": {
            "text/plain": [
              "Quote       0\n",
              "Author      0\n",
              "Category    0\n",
              "Url         0\n",
              "Tags        0\n",
              "dtype: int64"
            ]
          },
          "metadata": {},
          "execution_count": 10
        }
      ]
    },
    {
      "cell_type": "code",
      "source": [
        "df.duplicated().sum()"
      ],
      "metadata": {
        "colab": {
          "base_uri": "https://localhost:8080/"
        },
        "id": "8Z7ZGzJrCgNx",
        "outputId": "b5622271-c672-4cc9-84b6-75fb555054d4"
      },
      "execution_count": null,
      "outputs": [
        {
          "output_type": "execute_result",
          "data": {
            "text/plain": [
              "32"
            ]
          },
          "metadata": {},
          "execution_count": 11
        }
      ]
    },
    {
      "cell_type": "code",
      "source": [
        "df.drop_duplicates(inplace = True)"
      ],
      "metadata": {
        "id": "HyJUGXq_CkRh"
      },
      "execution_count": null,
      "outputs": []
    },
    {
      "cell_type": "code",
      "source": [
        "df.reset_index(drop = True, inplace = True)"
      ],
      "metadata": {
        "id": "62Mo7ampENpW"
      },
      "execution_count": null,
      "outputs": []
    },
    {
      "cell_type": "code",
      "source": [
        "df.shape"
      ],
      "metadata": {
        "colab": {
          "base_uri": "https://localhost:8080/"
        },
        "id": "930LQz8QCqFv",
        "outputId": "b2b2e8ac-c0af-4fc1-aab9-ea31873cb332"
      },
      "execution_count": null,
      "outputs": [
        {
          "output_type": "execute_result",
          "data": {
            "text/plain": [
              "(101211, 5)"
            ]
          },
          "metadata": {},
          "execution_count": 14
        }
      ]
    },
    {
      "cell_type": "code",
      "source": [
        "df.columns"
      ],
      "metadata": {
        "colab": {
          "base_uri": "https://localhost:8080/"
        },
        "id": "bCiHhkW-FKSp",
        "outputId": "5ed398d3-b899-4c30-ca58-da7c4a6431b6"
      },
      "execution_count": null,
      "outputs": [
        {
          "output_type": "execute_result",
          "data": {
            "text/plain": [
              "Index(['Quote', 'Author', 'Category', 'Url', 'Tags'], dtype='object')"
            ]
          },
          "metadata": {},
          "execution_count": 15
        }
      ]
    },
    {
      "cell_type": "code",
      "source": [
        "tags_list = df.Tags.to_list()\n",
        "tag_count = {}\n",
        "for tags in tags_list:\n",
        "  tag_list = eval(tags)\n",
        "  for tag in tag_list:\n",
        "    if tag in tag_count.keys():\n",
        "      tag_count[tag] += 1\n",
        "    else:\n",
        "      tag_count[tag] = 1\n",
        "print(len(tag_count))"
      ],
      "metadata": {
        "colab": {
          "base_uri": "https://localhost:8080/"
        },
        "id": "_9qx7pNiDb2Z",
        "outputId": "3d68d043-b8f9-4402-cf1d-380b4685c595"
      },
      "execution_count": null,
      "outputs": [
        {
          "output_type": "stream",
          "name": "stdout",
          "text": [
            "9129\n"
          ]
        }
      ]
    },
    {
      "cell_type": "code",
      "source": [
        "print(tag_count.values())"
      ],
      "metadata": {
        "colab": {
          "base_uri": "https://localhost:8080/"
        },
        "id": "s6EiwMxBK5sc",
        "outputId": "c066f8b3-dc8a-40dc-a52b-ff9dd90c29e0"
      },
      "execution_count": null,
      "outputs": [
        {
          "output_type": "stream",
          "name": "stdout",
          "text": [
            "dict_values([1871, 1295, 201, 366, 9, 840, 3249, 2443, 383, 284, 813, 12, 17, 529, 643, 394, 3091, 449, 170, 127, 1544, 33, 478, 678, 49, 83, 1379, 159, 909, 701, 5, 384, 2, 165, 248, 1512, 26, 156, 804, 2, 47, 1473, 41, 65, 122, 27, 58, 4, 35, 4, 1, 3257, 213, 62, 638, 53, 27, 2364, 4304, 16, 7553, 2112, 134, 62, 5508, 1268, 115, 283, 5, 844, 8270, 527, 3, 2, 75, 404, 120, 121, 3, 1, 1, 60, 1, 179, 6159, 109, 123, 1185, 2761, 1671, 866, 65, 311, 1556, 24, 2324, 4505, 2032, 390, 5807, 2118, 825, 498, 46, 375, 6176, 63, 166, 91, 605, 419, 695, 2089, 487, 967, 5, 1669, 106, 636, 19, 12, 1610, 12, 3, 46, 664, 21, 221, 668, 3, 1163, 6, 1996, 97, 144, 2, 759, 1810, 20, 48, 12, 9, 1, 19, 160, 39, 166, 14, 255, 111, 485, 7, 202, 220, 66, 43, 14, 94, 964, 1265, 154, 1608, 681, 5, 134, 420, 87, 55, 7, 2, 1502, 32, 28, 54, 92, 808, 727, 27, 4, 17, 8, 162, 37, 2292, 1813, 612, 760, 29, 490, 251, 929, 7, 559, 13, 133, 2577, 11, 3, 430, 76, 92, 101, 440, 1, 2026, 12, 48, 374, 20, 7, 648, 489, 191, 614, 1333, 325, 36, 1730, 2, 20, 988, 87, 693, 4, 316, 440, 1, 245, 2, 1109, 84, 340, 23, 87, 29, 38, 314, 275, 221, 616, 16, 10, 111, 129, 108, 986, 2083, 30, 4011, 503, 671, 67, 77, 156, 225, 276, 165, 17, 62, 444, 169, 217, 44, 1624, 236, 367, 2720, 24, 1263, 113, 2, 1277, 54, 16, 21, 611, 13, 3, 1084, 71, 75, 169, 147, 286, 58, 1476, 5, 296, 258, 250, 185, 131, 214, 2, 13, 273, 1691, 280, 108, 39, 315, 1025, 5, 270, 31, 24, 3, 18, 160, 106, 1, 13, 118, 57, 27, 2119, 44, 208, 185, 3, 1436, 55, 96, 44, 461, 169, 2733, 24, 1711, 8, 30, 59, 24, 1344, 157, 146, 232, 112, 624, 106, 1770, 1560, 270, 42, 13, 1647, 1492, 308, 86, 386, 2, 2, 85, 74, 623, 428, 168, 149, 604, 2, 27, 58, 32, 211, 136, 283, 25, 26, 11, 1548, 101, 63, 11, 280, 1076, 139, 1953, 185, 33, 32, 1290, 181, 423, 53, 19, 99, 4, 57, 9, 28, 10, 48, 5, 323, 242, 2090, 16, 279, 20, 1806, 26, 66, 213, 214, 601, 901, 193, 267, 48, 264, 638, 5, 15, 1524, 23, 1502, 23, 196, 13, 33, 126, 147, 484, 211, 226, 144, 8, 64, 1, 77, 81, 433, 79, 129, 79, 1125, 5, 10, 2, 309, 82, 142, 26, 3, 1, 15, 82, 900, 27, 275, 895, 33, 206, 278, 297, 302, 99, 140, 1647, 1989, 50, 134, 1, 1764, 1071, 171, 1350, 34, 434, 62, 1, 2, 269, 8, 1699, 163, 144, 128, 62, 30, 16, 12, 35, 101, 56, 4, 312, 18, 15, 333, 25, 3305, 5, 6, 2, 83, 4, 26, 295, 1135, 118, 77, 1566, 99, 283, 29, 88, 23, 98, 17, 190, 75, 623, 9, 396, 628, 42, 73, 141, 452, 42, 97, 4, 15, 41, 204, 40, 30, 112, 15, 14, 110, 290, 288, 37, 15, 4, 13, 109, 24, 420, 1597, 2060, 49, 1563, 2581, 8, 133, 940, 11, 9, 1012, 58, 15, 222, 11, 6, 77, 81, 74, 43, 392, 33, 155, 4, 432, 5, 26, 328, 3, 16, 11, 1923, 241, 40, 10, 8, 327, 114, 45, 238, 96, 410, 1987, 1219, 49, 235, 528, 102, 20, 30, 366, 2, 148, 452, 268, 63, 40, 14, 1867, 23, 61, 1911, 15, 450, 402, 3, 51, 42, 4, 26, 82, 20, 31, 29, 174, 84, 280, 572, 12, 154, 113, 911, 211, 2438, 1286, 85, 9, 73, 112, 128, 2, 18, 167, 162, 57, 118, 1630, 178, 156, 363, 1604, 1180, 68, 624, 1176, 26, 51, 9, 172, 10, 162, 343, 115, 824, 15, 4, 49, 4, 107, 257, 1271, 127, 91, 25, 109, 61, 93, 91, 24, 10, 3, 96, 6, 3, 21, 58, 33, 238, 20, 488, 117, 249, 2, 73, 129, 1249, 35, 14, 8, 9, 254, 27, 121, 23, 114, 245, 306, 303, 725, 64, 4, 371, 23, 17, 1, 27, 44, 15, 2, 574, 29, 35, 41, 1804, 80, 8, 69, 7, 971, 35, 640, 243, 216, 16, 179, 5, 117, 85, 32, 93, 1, 3, 3, 19, 68, 213, 74, 788, 1, 1128, 27, 299, 174, 175, 77, 253, 129, 54, 63, 209, 123, 15, 8, 1, 266, 170, 1484, 6, 31, 175, 71, 208, 11, 453, 40, 38, 1197, 24, 1, 8, 21, 27, 15, 53, 128, 1425, 151, 90, 112, 23, 356, 39, 72, 24, 71, 1160, 65, 39, 34, 49, 304, 9, 337, 86, 1580, 73, 4, 5, 86, 95, 816, 41, 49, 2, 1792, 62, 10, 45, 301, 131, 58, 147, 22, 21, 3, 115, 165, 1292, 8, 283, 81, 99, 146, 43, 2, 10, 184, 110, 98, 180, 26, 42, 24, 42, 169, 595, 8, 58, 115, 63, 4, 7, 49, 39, 24, 51, 1290, 40, 5, 135, 41, 113, 63, 3, 22, 58, 76, 200, 34, 232, 195, 54, 15, 29, 70, 67, 163, 233, 18, 14, 82, 169, 1, 660, 76, 104, 27, 115, 14, 93, 374, 314, 219, 144, 10, 87, 309, 58, 86, 259, 12, 1, 3, 58, 10, 22, 164, 53, 24, 105, 133, 77, 16, 11, 2, 406, 65, 3, 34, 247, 168, 81, 13, 148, 1432, 58, 223, 39, 120, 7, 43, 110, 167, 85, 81, 43, 237, 121, 37, 64, 66, 5, 1, 155, 3, 21, 16, 1, 41, 3, 1475, 323, 213, 6, 8, 13, 45, 138, 46, 108, 52, 18, 211, 4, 4, 4, 70, 5, 246, 14, 57, 1, 9, 19, 136, 79, 20, 9, 5, 202, 44, 206, 349, 16, 71, 137, 267, 394, 568, 3, 95, 82, 77, 204, 126, 504, 33, 61, 138, 65, 64, 55, 8, 1, 227, 79, 6, 8, 266, 270, 1287, 13, 20, 1, 77, 122, 657, 83, 51, 189, 23, 50, 1, 3, 35, 5, 4, 33, 65, 35, 24, 52, 238, 58, 43, 128, 1881, 144, 40, 5, 85, 22, 333, 46, 2, 1, 239, 1, 3, 211, 49, 70, 106, 19, 68, 6, 163, 1, 80, 903, 63, 23, 1, 37, 49, 2, 61, 2, 217, 4, 446, 81, 19, 75, 165, 1623, 162, 8, 1252, 7, 180, 4, 16, 2, 17, 17, 7, 53, 50, 9, 149, 13, 74, 276, 77, 112, 3, 22, 35, 57, 37, 306, 45, 2, 28, 30, 8, 12, 46, 97, 2, 345, 9, 37, 38, 3, 55, 49, 60, 1, 252, 268, 114, 878, 94, 449, 21, 94, 3, 7, 30, 1, 54, 3, 1, 122, 29, 48, 74, 119, 22, 81, 2, 5, 43, 2, 131, 1, 27, 1, 5, 2, 1, 34, 146, 50, 134, 208, 121, 361, 69, 30, 56, 42, 57, 132, 17, 134, 6, 1, 127, 39, 1, 9, 193, 11, 342, 10, 2, 5, 97, 13, 19, 6, 48, 137, 67, 276, 169, 79, 59, 1, 51, 87, 26, 19, 506, 10, 13, 7, 3, 124, 140, 61, 55, 75, 6, 4, 83, 132, 8, 165, 12, 18, 1, 2, 123, 368, 230, 15, 6, 96, 143, 70, 33, 74, 5, 75, 3, 363, 84, 30, 179, 19, 46, 28, 60, 157, 61, 7, 86, 15, 18, 3, 205, 75, 18, 16, 36, 91, 74, 18, 2, 947, 68, 83, 73, 2, 11, 100, 1, 83, 8, 21, 234, 28, 9, 157, 30, 110, 75, 14, 78, 3, 210, 34, 36, 44, 3, 8, 65, 79, 225, 30, 1, 115, 215, 150, 159, 36, 19, 295, 17, 235, 49, 52, 4, 26, 171, 67, 374, 100, 181, 295, 2, 1196, 35, 54, 57, 16, 48, 7, 62, 29, 28, 6, 4, 8, 7, 70, 27, 33, 30, 12, 17, 84, 98, 7, 12, 69, 163, 11, 146, 55, 34, 80, 375, 15, 3, 101, 51, 26, 83, 81, 7, 23, 10, 1, 961, 3, 1168, 192, 56, 6, 69, 41, 5, 169, 5, 20, 54, 13, 2, 17, 150, 1, 2, 199, 174, 35, 15, 69, 76, 3, 49, 2, 2, 101, 17, 24, 101, 39, 39, 33, 126, 13, 4, 44, 3, 114, 1206, 37, 138, 96, 18, 6, 43, 28, 56, 53, 143, 277, 135, 89, 11, 89, 281, 11, 281, 46, 91, 115, 29, 19, 96, 79, 38, 41, 113, 7, 77, 104, 173, 49, 35, 2, 17, 8, 4, 8, 138, 24, 102, 5, 13, 3, 4, 57, 50, 7, 2, 7, 22, 43, 77, 68, 1, 16, 15, 135, 179, 37, 1196, 33, 5, 2, 2, 8, 127, 4, 110, 39, 1, 4, 58, 74, 29, 16, 6, 17, 13, 24, 17, 136, 98, 60, 38, 19, 57, 16, 12, 2, 3, 543, 26, 135, 9, 6, 6, 4, 4, 81, 278, 35, 1, 1, 5, 21, 139, 75, 12, 53, 456, 3, 1, 4, 57, 21, 2, 14, 32, 142, 479, 65, 33, 7, 23, 11, 4, 6, 68, 107, 43, 5, 29, 9, 53, 43, 30, 160, 91, 71, 52, 37, 12, 1136, 52, 48, 14, 42, 4, 189, 3, 16, 37, 1, 102, 53, 71, 44, 6, 1, 97, 6, 114, 19, 28, 9, 203, 28, 108, 12, 54, 29, 13, 49, 58, 32, 15, 2, 30, 15, 9, 31, 9, 1, 7, 3, 1, 48, 15, 1, 38, 118, 81, 17, 50, 26, 55, 23, 18, 1, 163, 3, 117, 3, 18, 9, 12, 122, 6, 35, 218, 2, 2, 12, 27, 24, 103, 31, 31, 9, 143, 27, 52, 20, 37, 28, 34, 4, 77, 11, 67, 42, 164, 8, 64, 9, 1, 4, 3, 59, 4, 34, 3, 121, 101, 27, 15, 3, 50, 41, 129, 14, 11, 120, 44, 56, 10, 6, 1, 17, 16, 34, 4, 6, 8, 1, 3, 31, 82, 21, 33, 19, 12, 24, 3, 21, 88, 2, 3, 8, 73, 3, 36, 1, 35, 18, 11, 11, 41, 49, 4, 10, 37, 53, 1, 6, 4, 93, 141, 9, 10, 11, 472, 1, 7, 4, 17, 2, 49, 112, 25, 149, 46, 10, 23, 33, 1, 19, 1, 206, 15, 18, 6, 6, 3, 1, 5, 40, 1, 24, 45, 7, 3, 67, 54, 35, 30, 46, 36, 12, 28, 39, 16, 7, 127, 85, 231, 14, 3, 44, 17, 5, 6, 7, 224, 122, 72, 3, 25, 121, 584, 101, 48, 26, 23, 24, 5, 64, 27, 91, 24, 1, 4, 77, 101, 161, 25, 16, 73, 97, 23, 1, 1, 17, 16, 169, 5, 28, 4, 120, 1, 75, 11, 24, 12, 1, 57, 16, 13, 44, 3, 2, 67, 11, 161, 45, 1, 29, 17, 60, 5, 4, 15, 710, 2, 13, 4, 26, 21, 12, 15, 41, 20, 62, 46, 2, 10, 6, 20, 2, 19, 22, 50, 1, 1, 1216, 469, 20, 13, 96, 9, 2, 56, 2, 3, 122, 1, 1, 8, 127, 3, 2, 113, 1, 36, 10, 6, 124, 25, 54, 79, 3, 10, 39, 19, 1, 13, 23, 2, 216, 88, 11, 14, 33, 7, 15, 47, 56, 28, 23, 59, 96, 17, 59, 9, 4, 32, 93, 8, 1, 23, 30, 1, 11, 64, 11, 8, 6, 49, 8, 17, 24, 18, 16, 6, 2, 2, 1, 14, 1, 60, 12, 37, 1, 10, 53, 35, 57, 27, 74, 17, 78, 2, 11, 298, 27, 101, 65, 4, 10, 4, 17, 41, 122, 211, 7, 83, 48, 177, 26, 23, 85, 10, 1, 59, 19, 33, 11, 1, 30, 1, 1, 17, 1, 35, 41, 30, 89, 65, 73, 28, 7, 6, 16, 1, 27, 12, 9, 14, 36, 24, 18, 91, 94, 12, 73, 14, 193, 4, 17, 39, 82, 14, 4, 116, 1, 8, 56, 73, 61, 63, 7, 10, 1, 1, 8, 11, 44, 36, 15, 53, 6, 120, 30, 11, 5, 6, 48, 27, 38, 45, 331, 5, 78, 11, 26, 16, 7, 22, 49, 8, 6, 39, 81, 80, 8, 9, 20, 12, 114, 6, 6, 26, 2, 3, 2, 2, 47, 5, 152, 2, 51, 33, 13, 3, 9, 17, 69, 72, 152, 502, 13, 55, 29, 16, 2, 67, 104, 69, 49, 7, 5, 4, 28, 15, 2, 20, 38, 15, 3, 21, 22, 2, 45, 10, 77, 69, 2, 31, 4, 157, 37, 17, 10, 20, 30, 10, 9, 29, 20, 12, 10, 44, 13, 9, 2, 1, 12, 8, 32, 30, 12, 19, 30, 16, 17, 2, 2, 3, 4, 1209, 1, 1, 3, 26, 19, 20, 95, 21, 1, 107, 8, 2, 12, 6, 26, 69, 114, 17, 15, 56, 19, 29, 10, 15, 41, 26, 24, 188, 37, 45, 26, 6, 21, 2, 9, 19, 24, 19, 11, 9, 5, 84, 21, 77, 34, 9, 9, 7, 5, 1, 96, 19, 2, 19, 16, 19, 52, 20, 14, 31, 6, 7, 44, 5, 51, 12, 11, 3, 3, 92, 91, 40, 93, 36, 101, 23, 2, 47, 48, 8, 119, 4, 6, 2, 12, 72, 6, 18, 16, 18, 7, 5, 24, 4, 26, 17, 3, 1, 47, 11, 38, 5, 4, 51, 2, 2, 3, 27, 23, 37, 2, 13, 3, 2, 22, 5, 1, 20, 1, 7, 34, 6, 5, 4, 14, 9, 1, 1, 11, 21, 21, 17, 54, 14, 14, 100, 5, 2, 22, 14, 5, 4, 61, 7, 4, 6, 20, 95, 8, 4, 2, 49, 11, 5, 17, 3, 18, 20, 47, 23, 22, 8, 1, 1, 3, 45, 7, 47, 30, 1, 1, 25, 44, 9, 36, 38, 4, 11, 52, 8, 6, 1, 9, 1, 41, 2, 7, 97, 4, 38, 9, 20, 40, 11, 3, 2, 9, 23, 5, 18, 3, 20, 34, 1, 28, 63, 12, 14, 3, 9, 13, 20, 57, 3, 42, 41, 76, 2, 13, 2, 18, 5, 27, 8, 25, 7, 25, 8, 1, 92, 5, 1, 22, 13, 15, 3, 50, 2, 17, 15, 50, 14, 1, 35, 18, 64, 12, 11, 16, 24, 284, 37, 6, 1, 19, 17, 46, 22, 7, 9, 722, 5, 2, 6, 17, 8, 12, 2, 9, 8, 11, 7, 24, 26, 11, 17, 56, 19, 1, 3, 7, 3, 4, 2, 95, 6, 5, 12, 6, 1, 17, 6, 9, 15, 105, 15, 2, 7, 38, 45, 20, 9, 11, 1, 11, 3, 7, 34, 56, 1, 34, 10, 2, 3, 14, 1, 3, 30, 60, 9, 3, 18, 2, 1, 1, 2, 23, 66, 5, 4, 19, 19, 2, 16, 17, 4, 37, 14, 9, 11, 22, 26, 9, 51, 15, 23, 1, 21, 4, 8, 16, 14, 4, 1, 205, 23, 19, 24, 13, 102, 7, 6, 18, 1, 6, 55, 5, 8, 15, 2, 23, 3, 8, 2, 1, 4, 25, 28, 64, 35, 6, 26, 27, 15, 1, 2, 59, 1, 13, 11, 11, 12, 13, 85, 31, 11, 16, 14, 10, 14, 22, 39, 1, 28, 37, 6, 8, 20, 5, 227, 64, 31, 22, 89, 1, 6, 95, 91, 2, 16, 2, 11, 9, 10, 2, 43, 1, 2, 131, 12, 4, 31, 13, 78, 1, 10, 17, 9, 1, 1, 15, 8, 6, 31, 1, 5, 35, 4, 5, 1, 52, 1, 16, 1, 1, 3, 9, 31, 12, 79, 24, 46, 125, 6, 7, 12, 1, 6, 3, 2, 4, 18, 5, 4, 77, 11, 3, 6, 6, 47, 7, 3, 1, 35, 1, 87, 9, 2, 1, 27, 11, 70, 12, 20, 15, 3, 20, 14, 8, 21, 151, 3, 25, 15, 3, 3, 29, 1, 11, 39, 4, 23, 2, 5, 64, 2, 7, 9, 50, 7, 65, 2, 6, 7, 5, 7, 25, 8, 10, 1, 60, 43, 27, 12, 39, 3, 38, 5, 45, 4, 6, 52, 8, 1, 18, 1, 6, 1, 4, 31, 45, 29, 34, 13, 43, 72, 38, 32, 2, 29, 3, 6, 44, 21, 7, 5, 51, 1, 12, 26, 1, 8, 103, 9, 33, 2, 20, 28, 20, 8, 12, 1, 1, 23, 116, 9, 70, 5, 19, 4, 2, 1, 12, 6, 20, 31, 19, 45, 14, 6, 22, 7, 8, 24, 19, 8, 2, 50, 3, 4, 7, 4, 13, 9, 7, 20, 7, 26, 50, 9, 50, 20, 4, 1, 1, 11, 1, 56, 1, 19, 18, 2, 43, 42, 3, 7, 30, 9, 16, 24, 17, 5, 1, 1, 17, 7, 1, 31, 9, 4, 19, 62, 43, 80, 1, 31, 19, 5, 48, 1, 28, 4, 2, 9, 48, 37, 15, 5, 4, 11, 3, 6, 3, 2, 56, 46, 7, 2, 2, 1, 15, 2, 135, 7, 5, 2, 1, 2, 17, 4, 17, 2, 10, 3, 22, 1, 46, 6, 19, 12, 1, 15, 12, 3, 3, 3, 3, 1, 21, 4, 2, 2, 22, 18, 43, 11, 5, 7, 6, 1, 44, 6, 31, 2, 1, 50, 5, 76, 2, 1, 10, 1, 2, 2, 8, 1, 5, 1, 6, 3, 10, 37, 22, 4, 5, 27, 4, 5, 2, 3, 2, 8, 1, 1, 3, 2, 50, 3, 11, 1, 5, 25, 6, 3, 14, 6, 1, 19, 1, 5, 30, 68, 6, 16, 2, 4, 6, 1, 5, 1, 1, 1, 14, 2, 6, 42, 18, 1, 11, 8, 3, 7, 1, 3, 2, 5, 6, 5, 1, 4, 16, 5, 19, 43, 1, 21, 23, 8, 1, 8, 8, 4, 6, 1, 5, 2, 2, 7, 7, 16, 6, 2, 1, 12, 1, 50, 4, 14, 23, 2, 29, 24, 2, 3, 9, 8, 7, 3, 1, 4, 5, 2, 2, 2, 1, 1, 25, 3, 83, 6, 60, 4, 3, 2, 36, 19, 3, 5, 4, 4, 4, 9, 53, 19, 10, 36, 4, 6, 9, 5, 4, 3, 4, 35, 18, 168, 13, 4, 11, 9, 8, 8, 4, 54, 20, 4, 17, 1, 9, 4, 6, 8, 4, 2, 1, 3, 12, 12, 12, 43, 3, 6, 17, 2, 10, 6, 5, 3, 1, 10, 2, 15, 29, 86, 20, 14, 58, 10, 5, 18, 14, 3, 3, 1, 51, 19, 12, 2, 2, 2, 14, 84, 14, 5, 27, 5, 51, 21, 39, 6, 22, 7, 13, 24, 12, 4, 8, 11, 26, 3, 1, 28, 2, 4, 14, 3, 20, 64, 2, 29, 2, 3, 12, 1, 7, 8, 12, 5, 12, 4, 1, 4, 9, 3, 1, 3, 13, 3, 17, 18, 2, 1, 4, 36, 2, 1, 41, 16, 33, 5, 17, 3, 12, 55, 13, 2, 1, 9, 4, 8, 5, 5, 2, 2, 36, 8, 7, 9, 5, 8, 21, 18, 4, 3, 12, 9, 4, 1, 2, 15, 18, 1, 9, 3, 8, 10, 11, 4, 19, 1, 2, 13, 8, 1, 1, 4, 1, 6, 1, 2, 2, 3, 4, 2, 14, 3, 3, 5, 1, 2, 12, 4, 3, 38, 4, 6, 5, 4, 8, 12, 5, 36, 2, 2, 3, 7, 6, 6, 12, 7, 3, 9, 5, 3, 49, 3, 7, 6, 85, 1, 68, 22, 9, 29, 13, 6, 4, 17, 10, 7, 6, 45, 8, 10, 13, 3, 14, 28, 13, 40, 2, 24, 7, 5, 50, 6, 27, 1, 4, 2, 1, 6, 11, 35, 13, 23, 9, 16, 9, 17, 3, 19, 2, 7, 43, 9, 515, 10, 6, 6, 19, 32, 15, 53, 4, 2, 8, 1, 29, 6, 4, 46, 43, 19, 57, 12, 3, 11, 14, 2, 1, 3, 4, 21, 2, 16, 11, 6, 4, 9, 15, 2, 23, 26, 6, 7, 3, 14, 14, 9, 7, 26, 30, 7, 7, 11, 24, 3, 12, 13, 1, 16, 3, 5, 7, 2, 5, 4, 55, 11, 18, 1, 2, 14, 15, 4, 1, 2, 7, 4, 40, 49, 13, 28, 2, 7, 11, 4, 16, 22, 1, 1, 6, 4, 6, 3, 7, 1, 27, 2, 25, 1, 2, 16, 30, 10, 1, 4, 9, 31, 26, 35, 1, 55, 11, 3, 26, 1, 2, 18, 2, 8, 6, 30, 45, 13, 24, 1, 22, 6, 1, 16, 59, 1, 2, 2, 16, 2, 2, 4, 11, 2, 16, 28, 4, 8, 20, 4, 33, 12, 2, 2, 28, 15, 4, 7, 2, 5, 2, 1, 1, 5, 26, 1, 12, 4, 1, 5, 2, 38, 1, 6, 10, 30, 24, 13, 36, 18, 1, 6, 3, 1, 8, 33, 4, 18, 10, 2, 9, 26, 16, 25, 2, 10, 7, 18, 10, 38, 9, 30, 3, 8, 2, 5, 13, 2, 17, 17, 1, 1, 38, 15, 20, 12, 5, 2, 3, 4, 1, 7, 7, 16, 2, 1, 26, 2, 12, 1, 2, 4, 12, 37, 1, 5, 3, 11, 6, 1, 2, 2, 27, 1, 12, 1, 3, 6, 1, 1, 12, 1, 13, 2, 5, 5, 62, 18, 1, 1, 21, 2, 14, 1, 1, 24, 16, 5, 35, 1, 4, 8, 1, 25, 2, 3, 6, 3, 20, 6, 2, 18, 1, 31, 15, 1, 1, 4, 9, 8, 23, 2, 24, 14, 17, 89, 11, 5, 2, 8, 13, 4, 19, 14, 16, 1, 2, 8, 9, 34, 6, 8, 35, 10, 6, 4, 5, 3, 10, 2, 4, 9, 1, 7, 9, 5, 10, 2, 1, 4, 2, 8, 12, 9, 2, 1, 4, 2, 3, 29, 10, 5, 17, 35, 7, 2, 2, 1, 1, 93, 1, 2, 4, 11, 65, 8, 18, 2, 14, 16, 11, 14, 13, 23, 4, 15, 8, 18, 2, 28, 3, 65, 48, 10, 34, 9, 5, 22, 1, 11, 10, 19, 29, 33, 6, 7, 23, 37, 10, 115, 4, 6, 6, 19, 48, 12, 25, 8, 16, 40, 24, 19, 13, 2, 11, 1, 3, 2, 13, 6, 1, 10, 2, 6, 8, 7, 1, 33, 2, 9, 4, 2, 1, 3, 8, 2, 5, 25, 7, 1, 1, 7, 5, 12, 25, 4, 5, 8, 35, 5, 3, 28, 10, 37, 26, 4, 10, 2, 10, 11, 8, 7, 4, 5, 15, 19, 28, 4, 22, 42, 12, 9, 9, 3, 19, 3, 16, 2, 5, 2, 26, 16, 19, 20, 33, 7, 1, 7, 9, 3, 1, 8, 2, 4, 8, 10, 14, 85, 7, 26, 10, 3, 15, 4, 8, 1, 8, 9, 25, 3, 1, 3, 4, 12, 5, 12, 7, 19, 43, 2, 14, 20, 15, 2, 1, 8, 1, 5, 52, 13, 8, 5, 2, 8, 9, 7, 14, 27, 4, 29, 7, 7, 10, 8, 8, 30, 1, 25, 4, 25, 2, 1, 11, 3, 15, 3, 2, 37, 30, 11, 16, 8, 2, 2, 5, 4, 10, 2, 6, 2, 8, 6, 4, 33, 7, 16, 6, 15, 2, 3, 1, 8, 2, 2, 9, 3, 18, 5, 3, 63, 39, 3, 89, 3, 10, 27, 28, 8, 3, 18, 22, 6, 4, 4, 12, 15, 20, 6, 2, 5, 1, 7, 1, 7, 17, 12, 1, 9, 2, 9, 3, 1, 6, 14, 6, 1, 1, 2, 2, 2, 5, 5, 2, 13, 2, 11, 1, 5, 32, 2, 40, 16, 15, 11, 4, 5, 9, 3, 1, 19, 4, 1, 1, 2, 5, 7, 8, 8, 2, 3, 2, 4, 9, 2, 8, 1, 11, 2, 15, 14, 1, 9, 11, 14, 4, 1, 3, 1, 1, 1, 1, 11, 5, 27, 8, 2, 5, 9, 13, 10, 4, 1, 1, 5, 1, 2, 6, 1, 5, 10, 1, 5, 4, 2, 10, 17, 10, 12, 25, 1, 3, 2, 2, 3, 1, 17, 1, 25, 1, 2, 9, 7, 12, 4, 15, 3, 8, 1, 11, 5, 4, 9, 4, 2, 21, 3, 12, 5, 1, 1, 36, 5, 6, 3, 36, 6, 1, 2, 1, 41, 5, 6, 5, 4, 3, 2, 15, 4, 11, 20, 11, 5, 1, 4, 9, 28, 11, 16, 2, 30, 12, 5, 8, 4, 13, 4, 9, 8, 3, 9, 5, 1, 2, 2, 12, 5, 2, 18, 2, 3, 22, 7, 6, 7, 1, 1, 8, 6, 8, 35, 1, 4, 5, 4, 1, 1, 6, 4, 12, 20, 27, 3, 4, 6, 8, 14, 2, 16, 31, 4, 7, 2, 1, 4, 7, 11, 24, 2, 16, 2, 1, 2, 12, 3, 11, 6, 2, 4, 3, 9, 27, 10, 5, 4, 23, 23, 2, 6, 19, 7, 20, 1, 16, 12, 5, 22, 6, 9, 1, 9, 11, 3, 4, 1, 15, 4, 7, 25, 7, 7, 3, 12, 23, 2, 10, 6, 77, 3, 2, 2, 14, 2, 8, 3, 3, 3, 3, 2, 7, 1, 4, 2, 4, 2, 15, 1, 4, 2, 1, 14, 8, 7, 8, 8, 28, 22, 13, 9, 3, 4, 11, 2, 1, 4, 11, 4, 5, 2, 4, 1, 7, 2, 64, 1, 2, 1, 5, 2, 2, 8, 9, 17, 11, 2, 1, 5, 2, 4, 2, 5, 2, 1, 8, 21, 4, 3, 2, 2, 15, 28, 1, 1, 3, 1, 4, 3, 4, 12, 3, 1, 4, 5, 32, 37, 6, 1, 27, 2, 11, 1, 11, 1, 19, 7, 5, 6, 2, 6, 7, 14, 9, 17, 6, 5, 18, 1, 33, 3, 11, 2, 5, 2, 4, 1, 1, 2, 3, 1, 11, 4, 23, 49, 3, 8, 19, 7, 6, 4, 1, 17, 1, 1, 2, 5, 12, 7, 1, 1, 2, 11, 6, 6, 1, 1, 3, 3, 14, 2, 11, 7, 22, 1, 4, 2, 4, 3, 8, 1, 1, 29, 1, 1, 6, 14, 3, 50, 2, 8, 7, 14, 1, 7, 4, 5, 4, 2, 1, 1, 25, 11, 16, 13, 15, 1, 2, 1, 1, 3, 2, 18, 10, 1, 2, 6, 2, 17, 9, 2, 3, 1, 3, 1, 3, 1, 2, 28, 3, 3, 2, 1, 4, 2, 7, 9, 3, 7, 5, 15, 1, 7, 1, 5, 1, 1, 5, 7, 4, 1, 4, 1, 12, 7, 2, 1, 12, 9, 13, 1, 6, 3, 1, 5, 7, 17, 1, 10, 9, 9, 2, 8, 3, 1, 1, 2, 3, 3, 23, 4, 18, 1, 24, 12, 2, 2, 15, 7, 5, 13, 7, 5, 41, 2, 2, 11, 1, 5, 5, 5, 6, 5, 10, 1, 1, 8, 11, 2, 8, 3, 3, 3, 2, 19, 3, 21, 1, 1, 2, 14, 6, 15, 3, 2, 12, 13, 3, 15, 24, 10, 6, 5, 21, 1, 3, 43, 3, 3, 3, 3, 1, 9, 4, 15, 4, 7, 2, 2, 38, 20, 3, 6, 4, 2, 13, 1, 11, 5, 3, 1, 6, 3, 1, 1, 1, 1, 34, 8, 33, 1, 9, 6, 13, 3, 3, 7, 1, 12, 6, 7, 1, 7, 1, 2, 2, 4, 18, 3, 6, 6, 9, 5, 13, 9, 5, 4, 17, 2, 11, 1, 1, 5, 4, 12, 4, 4, 2, 3, 3, 4, 1, 3, 13, 4, 6, 7, 1, 7, 1, 7, 7, 2, 1, 6, 4, 5, 2, 8, 4, 4, 7, 3, 1, 3, 1, 7, 15, 18, 1, 8, 3, 5, 2, 1, 11, 1, 30, 15, 3, 23, 2, 5, 9, 1, 5, 5, 2, 1, 11, 5, 3, 14, 2, 10, 12, 4, 5, 8, 4, 16, 4, 9, 2, 1, 6, 11, 1, 1, 2, 8, 1, 17, 2, 10, 4, 6, 1, 1, 5, 17, 10, 1, 2, 18, 13, 4, 3, 7, 1, 3, 2, 3, 4, 12, 4, 4, 8, 8, 2, 1, 24, 3, 13, 3, 2, 7, 1, 8, 9, 16, 33, 3, 6, 6, 11, 2, 3, 2, 1, 10, 2, 1, 5, 3, 8, 4, 2, 4, 2, 14, 11, 4, 3, 1, 4, 15, 18, 1, 1, 6, 6, 2, 8, 4, 21, 1, 1, 12, 3, 4, 2, 3, 9, 3, 4, 2, 6, 4, 2, 1, 6, 1, 4, 2, 9, 12, 2, 9, 7, 4, 12, 1, 2, 1, 4, 3, 15, 17, 2, 1, 27, 6, 9, 4, 13, 7, 9, 1, 4, 1, 1, 12, 1, 1, 3, 3, 6, 5, 4, 1, 2, 10, 3, 8, 1, 1, 3, 2, 3, 2, 4, 6, 2, 13, 3, 3, 4, 6, 2, 1, 18, 1, 1, 7, 1, 3, 8, 8, 5, 2, 3, 3, 2, 2, 1, 2, 28, 18, 2, 11, 4, 1, 2, 9, 3, 10, 29, 1, 1, 21, 6, 21, 19, 3, 10, 6, 2, 3, 2, 7, 8, 1, 1, 6, 12, 4, 4, 12, 21, 1, 2, 10, 6, 13, 1, 9, 3, 1, 2, 12, 2, 3, 4, 18, 1, 1, 1, 4, 1, 3, 21, 2, 4, 5, 2, 12, 3, 1, 1, 13, 6, 10, 3, 1, 2, 1, 1, 1, 11, 9, 1, 9, 6, 5, 2, 2, 6, 4, 3, 11, 1, 4, 12, 1, 1, 1, 4, 1, 1, 5, 1, 6, 1, 4, 4, 1, 28, 2, 3, 12, 4, 3, 1, 3, 4, 2, 4, 4, 9, 1, 2, 1, 4, 1, 4, 10, 10, 7, 2, 3, 1, 1, 1, 3, 1, 2, 3, 1, 18, 3, 5, 2, 17, 1, 1, 10, 22, 62, 6, 3, 17, 2, 6, 9, 6, 1, 2, 3, 2, 4, 8, 1, 6, 2, 2, 5, 5, 1, 2, 7, 2, 1, 1, 3, 1, 22, 1, 1, 4, 3, 1, 1, 4, 1, 14, 5, 1, 5, 2, 21, 16, 1, 3, 1, 7, 1, 1, 2, 1, 1, 1, 3, 1, 10, 2, 1, 1, 2, 7, 1, 2, 1, 1, 6, 2, 6, 1, 3, 5, 3, 4, 3, 1, 1, 1, 2, 3, 1, 1, 7, 5, 1, 3, 2, 1, 1, 1, 1, 6, 3, 3, 1, 1, 2, 1, 4, 3, 12, 3, 9, 12, 9, 15, 9, 13, 16, 1, 5, 6, 1, 3, 6, 1, 1, 3, 16, 12, 4, 21, 4, 6, 10, 7, 5, 3, 3, 3, 8, 12, 2, 1, 8, 3, 5, 3, 1, 2, 13, 6, 8, 1, 4, 6, 5, 6, 2, 4, 6, 1, 12, 3, 7, 12, 19, 2, 2, 3, 7, 3, 3, 5, 1, 3, 4, 1, 1, 1, 6, 10, 2, 10, 9, 11, 3, 1, 10, 37, 2, 11, 4, 6, 5, 5, 1, 2, 3, 8, 4, 1, 1, 3, 4, 1, 3, 14, 4, 5, 2, 5, 1, 16, 4, 2, 1, 1, 1, 4, 5, 1, 4, 3, 12, 2, 4, 1, 2, 4, 1, 7, 3, 1, 3, 5, 8, 2, 7, 3, 4, 9, 4, 9, 1, 41, 1, 3, 2, 9, 3, 5, 1, 1, 1, 4, 1, 1, 2, 2, 2, 1, 12, 1, 11, 4, 2, 2, 4, 1, 7, 2, 2, 2, 12, 1, 2, 2, 7, 4, 5, 11, 13, 2, 2, 1, 5, 1, 1, 1, 1, 1, 5, 1, 1, 14, 18, 2, 3, 2, 1, 10, 3, 2, 4, 1, 1, 3, 8, 14, 2, 8, 2, 2, 5, 15, 1, 12, 1, 2, 1, 2, 3, 10, 6, 2, 1, 1, 1, 2, 23, 4, 9, 2, 5, 1, 7, 5, 8, 1, 1, 15, 9, 2, 4, 2, 5, 3, 2, 3, 4, 1, 1, 5, 2, 5, 9, 5, 54, 1, 5, 4, 1, 2, 1, 1, 4, 2, 1, 5, 3, 3, 1, 8, 4, 10, 2, 1, 6, 1, 8, 11, 2, 10, 2, 3, 3, 3, 6, 16, 5, 3, 1, 13, 4, 25, 2, 3, 9, 6, 6, 1, 1, 3, 5, 5, 15, 2, 8, 1, 7, 2, 1, 1, 22, 1, 17, 8, 9, 3, 4, 4, 1, 20, 2, 14, 3, 1, 5, 6, 4, 2, 3, 1, 11, 19, 1, 1, 1, 1, 4, 1, 1, 1, 2, 2, 1, 6, 2, 2, 1, 2, 5, 3, 1, 8, 7, 5, 3, 2, 1, 1, 12, 5, 2, 1, 1, 1, 15, 4, 1, 2, 3, 1, 3, 4, 2, 1, 1, 1, 2, 2, 3, 11, 1, 1, 3, 1, 12, 2, 1, 1, 1, 2, 3, 4, 1, 4, 4, 2, 2, 2, 12, 1, 1, 1, 1, 3, 4, 1, 10, 1, 3, 1, 3, 2, 2, 16, 4, 2, 5, 2, 11, 10, 2, 1, 7, 7, 2, 1, 1, 1, 1, 1, 1, 9, 5, 5, 2, 1, 3, 2, 5, 4, 5, 10, 3, 1, 2, 2, 1, 6, 1, 6, 6, 1, 4, 6, 11, 3, 1, 5, 1, 7, 5, 1, 2, 2, 1, 2, 6, 2, 6, 2, 4, 3, 1, 3, 2, 2, 1, 3, 1, 5, 6, 1, 3, 4, 1, 17, 1, 2, 1, 6, 2, 9, 1, 14, 3, 3, 4, 1, 1, 6, 3, 2, 4, 6, 14, 1, 1, 2, 1, 1, 5, 7, 3, 1, 9, 5, 1, 15, 5, 1, 1, 1, 7, 1, 2, 2, 3, 1, 1, 2, 1, 2, 1, 1, 9, 23, 5, 4, 1, 1, 2, 2, 1, 17, 4, 1, 2, 1, 2, 1, 2, 2, 4, 1, 1, 1, 1, 1, 2, 4, 5, 3, 2, 2, 4, 1, 8, 3, 7, 2, 2, 1, 3, 1, 1, 1, 1, 4, 1, 1, 8, 2, 9, 3, 1, 1, 5, 1, 1, 3, 2, 32, 3, 2, 4, 3, 1, 2, 1, 3, 1, 1, 3, 2, 5, 4, 4, 13, 2, 2, 11, 18, 7, 3, 1, 5, 1, 1, 1, 5, 2, 3, 4, 10, 2, 8, 1, 6, 1, 1, 11, 2, 4, 6, 1, 1, 1, 3, 3, 4, 9, 1, 1, 2, 8, 9, 1, 6, 1, 1, 6, 7, 8, 3, 1, 3, 2, 2, 1, 3, 1, 3, 3, 6, 4, 1, 3, 4, 3, 1, 1, 6, 6, 22, 3, 3, 9, 2, 2, 2, 2, 1, 8, 2, 10, 5, 3, 4, 2, 3, 1, 1, 6, 1, 3, 2, 1, 28, 8, 7, 2, 1, 2, 16, 1, 1, 3, 1, 3, 5, 4, 1, 2, 2, 2, 1, 4, 6, 3, 2, 4, 4, 2, 6, 2, 1, 1, 1, 8, 1, 5, 2, 3, 4, 3, 2, 8, 4, 5, 4, 9, 1, 1, 10, 1, 9, 13, 2, 3, 2, 1, 1, 4, 3, 7, 3, 3, 12, 6, 1, 1, 9, 3, 3, 7, 6, 4, 6, 2, 4, 2, 2, 2, 1, 1, 2, 6, 2, 13, 18, 10, 3, 5, 6, 2, 5, 1, 1, 4, 1, 1, 2, 1, 1, 7, 2, 5, 1, 1, 4, 10, 3, 2, 6, 13, 2, 14, 13, 7, 3, 2, 3, 6, 2, 3, 2, 1, 1, 1, 6, 4, 2, 3, 10, 2, 4, 1, 9, 1, 1, 1, 3, 2, 3, 3, 1, 3, 2, 1, 1, 1, 1, 7, 1, 2, 3, 4, 2, 1, 3, 2, 4, 5, 5, 4, 9, 1, 1, 8, 1, 2, 3, 1, 8, 10, 1, 1, 12, 26, 1, 2, 2, 1, 1, 2, 5, 1, 4, 2, 2, 1, 6, 7, 2, 4, 1, 2, 1, 1, 4, 3, 3, 1, 5, 5, 3, 2, 3, 9, 17, 5, 2, 3, 1, 5, 3, 3, 2, 1, 2, 2, 6, 2, 4, 12, 5, 1, 2, 7, 1, 2, 11, 10, 3, 3, 5, 3, 4, 2, 3, 16, 2, 2, 5, 1, 1, 1, 2, 2, 3, 3, 4, 5, 1, 1, 1, 1, 1, 1, 1, 4, 2, 1, 1, 3, 2, 2, 4, 4, 3, 6, 1, 6, 2, 2, 1, 5, 5, 3, 3, 1, 1, 8, 2, 2, 2, 5, 2, 1, 1, 2, 4, 11, 9, 1, 6, 3, 5, 1, 1, 2, 2, 2, 10, 4, 1, 6, 1, 11, 5, 2, 1, 1, 2, 1, 2, 3, 1, 2, 4, 1, 1, 2, 1, 2, 10, 10, 1, 1, 3, 10, 4, 1, 1, 1, 1, 1, 3, 3, 2, 5, 2, 2, 5, 1, 3, 4, 2, 3, 10, 2, 3, 1, 1, 1, 7, 1, 3, 8, 1, 1, 4, 1, 1, 3, 1, 1, 4, 1, 3, 1, 2, 1, 4, 1, 10, 1, 2, 6, 1, 1, 3, 1, 5, 2, 1, 2, 1, 7, 1, 6, 1, 1, 5, 4, 1, 1, 3, 7, 2, 2, 3, 1, 2, 2, 1, 1, 2, 7, 1, 1, 1, 8, 3, 2, 1, 5, 2, 6, 4, 5, 5, 2, 1, 1, 2, 2, 6, 42, 1, 2, 1, 5, 3, 1, 7, 10, 1, 1, 1, 2, 1, 6, 2, 2, 1, 1, 1, 1, 1, 3, 14, 1, 2, 1, 1, 1, 1, 1, 2, 1, 1, 1, 2, 2, 1, 3, 2, 1, 4, 3, 2, 2, 3, 4, 5, 2, 5, 1, 2, 14, 1, 1, 3, 2, 1, 4, 1, 2, 1, 1, 9, 1, 2, 1, 1, 1, 1, 1, 1, 1, 11, 6, 1, 11, 5, 2, 3, 2, 1, 1, 10, 1, 6, 1, 1, 1, 15, 1, 1, 3, 8, 4, 9, 1, 1, 2, 1, 2, 3, 4, 19, 1, 4, 3, 1, 2, 13, 2, 2, 12, 7, 1, 4, 11, 1, 3, 3, 1, 11, 1, 4, 1, 2, 2, 9, 2, 2, 2, 1, 1, 1, 14, 1, 7, 1, 1, 4, 1, 1, 1, 2, 1, 2, 5, 1, 1, 3, 1, 1, 1, 2, 2, 2, 1, 5, 1, 4, 5, 6, 5, 2, 6, 4, 2, 2, 5, 2, 1, 2, 3, 2, 11, 4, 2, 6, 4, 1, 5, 1, 1, 2, 1, 2, 1, 1, 2, 1, 2, 2, 1, 2, 2, 2, 1, 1, 1, 1, 18, 1, 3, 2, 1, 1, 1, 3, 4, 1, 1, 1, 1, 1, 4, 6, 1, 4, 2, 3, 3, 2, 4, 2, 2, 2, 1, 1, 1, 1, 1, 1, 1, 2, 4, 1, 1, 2, 1, 2, 1, 2, 1, 1, 6, 2, 5, 2, 1, 2, 5, 1, 5, 3, 1, 1, 1, 1, 2, 2, 1, 2, 1, 1, 4, 2, 9, 3, 5, 1, 2, 3, 2, 3, 3, 2, 8, 2, 3, 6, 2, 1, 4, 1, 2, 5, 2, 2, 3, 1, 1, 3, 6, 4, 2, 2, 1, 2, 1, 2, 3, 1, 1, 1, 1, 1, 14, 7, 2, 2, 2, 1, 3, 4, 1, 1, 4, 4, 5, 1, 1, 7, 3, 2, 3, 19, 1, 1, 2, 1, 1, 2, 1, 1, 1, 3, 12, 2, 1, 3, 1, 2, 1, 9, 2, 1, 1, 5, 2, 1, 1, 5, 2, 1, 7, 2, 5, 1, 1, 6, 7, 3, 1, 1, 1, 2, 2, 3, 7, 5, 3, 1, 1, 3, 2, 5, 1, 1, 1, 1, 1, 1, 1, 1, 3, 5, 2, 1, 4, 2, 8, 1, 16, 1, 2, 1, 5, 10, 4, 4, 2, 1, 1, 5, 1, 2, 1, 3, 1, 3, 1, 1, 6, 2, 2, 1, 2, 2, 1, 2, 2, 2, 1, 6, 1, 7, 1, 1, 4, 1, 3, 2, 4, 1, 1, 3, 3, 7, 1, 2, 4, 1, 3, 1, 2, 1, 3, 5, 2, 1, 1, 1, 1, 12, 1, 1, 2, 6, 2, 1, 2, 1, 1, 1, 1, 1, 2, 1, 4, 2, 1, 3, 3, 6, 7, 2, 1, 1, 1, 1, 1, 2, 1, 3, 1, 1, 1, 1, 2, 2, 1, 1, 1, 8, 5, 1, 1, 2, 1, 4, 1, 1, 1, 1, 4, 1, 2, 1, 2, 2, 1, 1, 2, 3, 1, 1, 5, 3, 4, 2, 2, 2, 1, 2, 8, 3, 8, 1, 1, 5, 1, 1, 2, 6, 1, 1, 1, 1, 2, 1, 1, 1, 1, 4, 1, 1, 4, 1, 1, 2, 1, 7, 1, 1, 1, 2, 1, 3, 1, 2, 2, 1, 1, 1, 2, 3, 1, 3, 1, 1, 1, 8, 4, 2, 1, 1, 1, 5, 1, 1, 2, 5, 4, 4, 2, 5, 2, 3, 3, 1, 2, 1, 1, 5, 1, 2, 1, 4, 4, 7, 6, 4, 1, 1, 1, 2, 1, 2, 1, 3, 6, 2, 2, 1, 3, 1, 1, 4, 2, 4, 3, 1, 3, 3, 1, 2, 1, 1, 2, 3, 5, 1, 1, 1, 1, 2, 1, 2, 2, 4, 1, 1, 1, 1, 1, 1, 2, 2, 1, 1, 2, 1, 2, 2, 1, 21, 1, 1, 2, 1, 1, 1, 2, 5, 4, 1, 2, 2, 4, 1, 1, 5, 7, 1, 5, 2, 1, 6, 1, 1, 2, 2, 3, 3, 4, 1, 1, 6, 7, 6, 2, 1, 5, 2, 1, 1, 1, 1, 2, 2, 14, 2, 3, 9, 1, 1, 2, 4, 2, 4, 1, 2, 6, 4, 1, 2, 1, 1, 3, 3, 1, 4, 4, 6, 1, 2, 3, 2, 4, 2, 5, 1, 11, 1, 3, 2, 2, 1, 2, 1, 2, 1, 1, 1, 1, 4, 2, 3, 1, 2, 1, 5, 3, 1, 4, 1, 3, 3, 2, 1, 7, 6, 2, 2, 1, 1, 1, 4, 1, 2, 1, 2, 1, 5, 5, 1, 3, 2, 2, 3, 2, 1, 2, 6, 4, 2, 3, 5, 2, 1, 10, 1, 2, 3, 1, 3, 2, 1, 1, 4, 2, 2, 4, 2, 7, 1, 1, 5, 1, 2, 4, 1, 2, 1, 1, 3, 1, 1, 3, 1, 2, 1, 1, 2, 31, 2, 5, 1, 5, 4, 2, 3, 2, 2, 1, 2, 3, 1, 1, 2, 1, 1, 1, 1, 5, 3, 4, 1, 3, 5, 4, 4, 2, 2, 1, 1, 10, 1, 7, 2, 1, 1, 4, 2, 1, 1, 1, 2, 1, 5, 1, 1, 4, 1, 12, 2, 4, 4, 5, 2, 1, 1, 1, 1, 2, 1, 4, 2, 5, 1, 2, 1, 1, 1, 1, 3, 3, 2, 1, 3, 1, 2, 2, 4, 1, 3, 2, 1, 2, 1, 1, 3, 4, 2, 2, 1, 1, 1, 8, 1, 1, 2, 1, 2, 4, 4, 2, 1, 2, 1, 2, 3, 2, 1, 2, 1, 3, 4, 1, 1, 2, 1, 1, 18, 1, 2, 4, 2, 1, 1, 4, 3, 6, 2, 1, 2, 4, 6, 1, 1, 1, 2, 1, 3, 1, 2, 2, 1, 1, 2, 1, 3, 5, 1, 3, 1, 1, 1, 1, 2, 1, 3, 5, 1, 2, 2, 1, 1, 2, 1, 1, 3, 12, 1, 1, 3, 1, 5, 5, 3, 1, 5, 1, 1, 2, 1, 1, 1, 1, 16, 2, 1, 1, 2, 1, 1, 1, 1, 1, 3, 10, 1, 1, 2, 1, 5, 1, 3, 1, 1, 3, 1, 48, 3, 1, 1, 3, 1, 1, 3, 1, 1, 2, 2, 2, 1, 1, 2, 8, 1, 1, 1, 2, 2, 1, 5, 6, 2, 3, 4, 1, 1, 2, 4, 1, 1, 2, 1, 1, 4, 1, 1, 1, 1, 3, 1, 4, 1, 4, 1, 1, 1, 5, 1, 1, 2, 1, 3, 1, 2, 5, 1, 21, 2, 1, 1, 1, 4, 1, 2, 2, 1, 1, 4, 1, 3, 1, 1, 1, 1, 1, 1, 2, 3, 1, 1, 1, 1, 2, 3, 3, 2, 3, 2, 1, 3, 3, 3, 1, 1, 4, 2, 1, 1, 2, 1, 1, 1, 4, 1, 1, 2, 1, 1, 2, 2, 1, 1, 1, 5, 1, 1, 1, 1, 1, 2, 1, 1, 1, 4, 1, 2, 5, 3, 4, 1, 1, 4, 1, 4, 1, 2, 1, 2, 4, 1, 2, 2, 1, 1, 1, 1, 2, 5, 5, 1, 2, 2, 1, 4, 1, 1, 1, 4, 1, 2, 2, 2, 1, 1, 1, 2, 2, 1, 1, 1, 1, 2, 1, 4, 1, 2, 3, 4, 1, 1, 1, 1, 1, 2, 1, 1, 8, 3, 1, 1, 2, 2, 1, 3, 1, 1, 1, 1, 4, 1, 1, 1, 2, 2, 1, 3, 2, 3, 5, 1, 3, 2, 5, 2, 1, 1, 4, 1, 1, 1, 1, 1, 2, 1, 1, 2, 1, 3, 2, 1, 2, 2, 1, 1, 7, 2, 5, 1, 1, 2, 1, 1, 2, 1, 1, 1, 1, 2, 2, 3, 1, 3, 2, 2, 1, 1, 1, 3, 1, 1, 1, 5, 1, 1, 2, 1, 3, 3, 1, 2, 3, 1, 4, 1, 3, 1, 5, 8, 1, 1, 3, 1, 1, 1, 2, 1, 1, 1, 3, 7, 3, 1, 2, 4, 5, 1, 2, 2, 1, 1, 1, 3, 2, 2, 2, 6, 2, 2, 3, 1, 1, 1, 1, 1, 1, 1, 1, 2, 3, 2, 4, 2, 2, 2, 1, 2, 4, 4, 1, 1, 2, 4, 3, 4, 1, 1, 1, 1, 2, 2, 2, 2, 3, 2, 1, 1, 1, 2, 2, 1, 3, 1, 1, 2, 2, 2, 1, 6, 1, 1, 1, 2, 1, 3, 1, 1, 1, 2, 5, 2, 1, 1, 1, 1, 4, 1, 1, 2, 2, 5, 1, 1, 1, 1, 3, 2, 1, 1, 1, 2, 2, 1, 2, 1, 3, 1, 4, 1, 3, 3, 2, 1, 2, 1, 2, 1, 1, 1, 1, 1, 2, 1, 3, 2, 1, 2, 1, 1, 1, 3, 1, 2, 1, 1, 1, 2, 4, 5, 6, 2, 1, 1, 2, 3, 2, 3, 2, 1, 1, 1, 1, 1, 1, 3, 1, 1, 1, 1, 1, 1, 2, 1, 1, 2, 1, 1, 1, 2, 2, 1, 1, 3, 1, 1, 1, 3, 2, 2, 1, 1, 3, 2, 1, 1, 1, 1, 1, 3, 2, 10, 1, 1, 2, 3, 2, 3, 2, 1, 1, 1, 1, 1, 1, 1, 3, 1, 2, 2, 1, 1, 1, 1, 1, 1, 2, 3, 1, 10, 1, 2, 1, 1, 2, 1, 1, 2, 1, 1, 1, 1, 1, 1, 1, 1, 2, 2, 1, 1, 2, 2, 5, 1, 1, 3, 1, 1, 2, 1, 1, 1, 4, 2, 2, 2, 1, 2, 2, 2, 1, 3, 1, 1, 3, 2, 2, 1, 1, 4, 1, 2, 1, 2, 1, 1, 3, 2, 1, 2, 2, 1, 1, 1, 1, 1, 3, 1, 1, 4, 2, 1, 1, 1, 1, 1, 1, 1, 1, 1, 5, 1, 1, 1, 4, 1, 3, 1, 1, 4, 1, 3, 1, 1, 2, 2, 1, 1, 1, 1, 3, 1, 1, 2, 1, 1, 1, 1, 1, 1, 2, 1, 2, 2, 1, 1, 1, 1, 1, 2, 9, 2, 4, 2, 2, 2, 4, 1, 5, 1, 1, 2, 1, 1, 1, 1, 1, 1, 1, 1, 2, 1, 2, 1, 3, 1, 1, 1, 1, 1, 2, 1, 1, 1, 1, 1, 1, 1, 1, 2, 3, 2, 1, 1, 1, 2, 4, 1, 3, 3, 1, 2, 2, 1, 1, 1, 1, 1, 2, 1, 1, 1, 1, 1, 1, 1, 1, 1, 1, 1, 1, 1, 1, 2, 1, 1, 2, 4, 1, 3, 2, 1, 1, 1, 2, 1, 1, 6, 1, 3, 2, 1, 7, 1, 1, 3, 5, 15, 3, 1, 1, 1, 1, 2, 1, 1, 2, 2, 2, 2, 1, 1, 1, 2, 3, 1, 1, 2, 1, 1, 1, 1, 2, 2, 1, 2, 1, 4, 1, 2, 1, 1, 1, 2, 2, 1, 1, 1, 2, 2, 1, 3, 1, 3, 2, 2, 1, 1, 4, 1, 1, 1, 2, 4, 1, 1, 6, 2, 2, 5, 1, 2, 1, 3, 1, 2, 1, 1, 1, 1, 1, 1, 1, 2, 1, 1, 1, 1, 1, 2, 1, 1, 6, 1, 1, 4, 1, 2, 2, 1, 1, 1, 1, 1, 2, 1, 1, 5, 1, 2, 2, 1, 1, 1, 1, 1, 2, 1, 1, 1, 3, 1, 1, 2, 2, 3, 1, 1, 1, 1, 1, 4, 1, 2, 1, 1, 1, 1, 1, 2, 1, 1, 1, 1, 1, 1, 1, 2, 1, 1, 1, 7, 2, 2, 2, 1, 1, 1, 1, 1, 1, 1, 1, 2, 2, 2, 3, 1, 3, 2, 1, 4, 1, 1, 2, 1, 1, 1, 1, 3, 4, 1, 3, 3, 1, 1, 1, 1, 1, 1, 1, 2, 1, 2, 1, 1, 1, 1, 1, 4, 2, 4, 1, 1, 1, 1, 2, 1, 1, 2, 3, 2, 1, 1, 2, 1, 3, 1, 2, 1, 1, 1, 1, 2, 1, 1, 4, 1, 1, 1, 1, 1, 3, 4, 1, 1, 2, 1, 3, 1, 1, 2, 2, 2, 1, 2, 2, 1, 1, 2, 1, 1, 1, 1, 1, 1, 1, 2, 2, 2, 2, 1, 1, 1, 1, 1, 1, 1, 1, 1, 1, 1, 1, 1, 2, 1, 1, 1, 1, 1, 3, 2, 2, 2, 1, 2, 1, 1, 1, 2, 1, 1, 1, 1, 1, 1, 2, 1, 1, 1, 1, 1, 1, 1, 2, 1, 3, 3, 1, 1, 2, 1, 1, 2, 2, 1, 1, 1, 2, 1, 1, 1, 1, 1, 1, 1, 4, 1, 1, 1, 1, 1, 2, 3, 1, 1, 1, 3, 1, 3, 2, 1, 3, 1, 3, 4, 1, 1, 3, 1, 1, 1, 1, 3, 1, 1, 1, 1, 1, 1, 3, 1, 1, 2, 2, 1, 1, 1, 1, 1, 1, 1, 1, 1, 1, 1, 1, 3, 1, 1, 1, 1, 1, 1, 1, 1, 1, 3, 1, 1, 1, 4, 2, 1, 2, 1, 1, 1, 1, 1, 2, 1, 1, 1, 1, 2, 1, 1, 1, 1, 1, 1, 1, 1, 2, 2, 1, 1, 1, 4, 1, 4, 1, 1, 2, 2, 1, 1, 1, 1, 2, 3, 1, 1, 1, 1, 1, 1, 2, 1, 1, 1, 1, 1, 1, 1, 1, 2, 3, 1, 1, 1, 1, 1, 3, 1, 2, 1, 2, 1, 1, 3, 1, 2, 1, 1, 1, 1, 1, 1, 1, 1, 2, 1, 1, 1, 1, 2, 1, 1, 2, 2, 1, 1, 1, 1, 1, 1, 1, 1, 1, 1, 1, 3, 2, 1, 1, 3, 1, 1, 1, 1, 1, 1, 1, 1, 3, 1, 1, 3, 1, 1, 1, 2, 1, 1, 1, 3, 2, 1, 2, 1, 2, 1, 1, 1, 1, 1, 1, 1, 1, 1, 1, 2, 1, 1, 1, 1, 1, 1, 1, 1, 3, 2, 1, 1, 1, 1, 2, 2, 1, 1, 2, 1, 1, 1, 1, 2, 1, 1, 1, 1, 1, 1, 1, 2, 1, 2, 1, 2, 2, 1, 1, 1, 1, 1, 1, 1, 3, 2, 1, 1, 1, 4, 1, 4, 1, 1, 2, 1, 1, 1, 2, 1, 2, 1, 1, 1, 2, 2, 1, 1, 1, 1, 1, 1, 1, 2, 1, 1, 1, 1, 1, 1, 9, 1, 1, 3, 1, 2, 2, 2, 1, 2, 1, 1, 2, 1, 1, 2, 1, 1, 1, 1, 1, 1, 2, 1, 2, 1, 1, 3, 1, 1, 1, 2, 1, 2, 1, 5, 1, 1, 1, 1, 1, 1, 1, 1, 1, 1, 1, 2, 1, 1, 2, 1, 1, 2, 1, 1, 1, 1, 1, 1, 1, 1, 1, 1, 1, 1, 1, 1, 2, 1, 1, 1, 1, 1, 1, 1, 1, 3, 2, 2, 1, 1, 2, 2, 1, 1, 2, 1, 3, 1, 1, 1, 1, 1, 1, 2, 1, 2, 2, 3, 3, 1, 1, 1, 1, 1, 1, 1, 2, 1, 1, 2, 1, 1, 1, 1, 1, 1, 1, 1, 1, 2, 2, 1, 1, 1, 1, 1, 2, 2, 2, 2, 1, 1, 1, 2, 1, 1, 1, 1, 1, 3, 1, 1, 1, 1, 1, 1, 1, 2, 2, 2, 1, 1, 1, 1, 2, 1, 1, 1, 1, 1, 1, 1, 1, 1, 2, 1, 1, 1, 1, 1, 3, 1, 2, 1, 1, 1, 1, 1, 1, 1, 1, 2, 1, 1, 1, 1, 1, 6, 2, 1, 1, 1, 2, 1, 1, 1, 1, 1, 1, 1, 1, 1, 1, 1, 1, 1, 1, 1, 1, 1, 1, 1, 1, 1, 1, 1, 2, 1, 1, 1, 1, 6, 2, 1, 9, 1, 1, 1, 1, 2, 3, 1, 1, 3, 1, 1, 1, 1, 2, 1, 1, 1, 1, 1, 2, 1, 1, 1, 1, 1, 1, 1, 1, 2, 1, 1, 1, 2, 1, 1, 1, 1, 1, 1, 1, 1, 2, 3, 1, 1, 1, 1, 1, 1, 1, 1, 1, 1, 1, 1, 1, 1, 1, 1, 1, 1, 1, 1, 2, 1, 1, 1, 1, 1, 1, 2, 1, 2, 1, 1, 1, 1, 1, 1, 1, 2, 2, 1, 1, 1, 1, 1, 1, 1, 1, 1, 1, 1, 1, 1, 1, 1, 1, 1, 1, 1, 1, 1, 1, 1, 2, 1, 1, 3, 1, 1, 1, 1, 1, 1, 1, 2, 1, 1, 1, 1, 1, 1, 1, 1, 1, 1, 1, 1, 2, 1, 1, 1, 1, 1, 1, 1, 1, 2, 1, 1, 2, 1, 1, 1, 1, 1, 1, 1, 1, 1, 1, 1, 1, 1, 1, 1, 1, 1, 1, 1, 1, 1, 1, 1, 1, 1, 1, 1, 1, 1, 1, 1, 2, 2, 1, 1, 1, 1, 1, 1, 2, 1, 2, 1, 1, 1, 1, 1, 1, 1, 1, 1, 1, 1, 1, 2, 3, 1, 1, 1, 1, 2, 1, 2, 1, 1, 1, 1, 1, 1, 1, 1, 1, 1, 1, 1, 1, 1, 1, 1, 1, 1, 1, 2, 1, 1, 1, 3, 1, 3, 1, 1, 1, 1, 1, 1, 1, 1, 1, 1, 1, 1, 1, 3, 1, 1, 2, 1, 1, 1, 1, 1, 1, 1, 1, 1, 1, 1, 1, 1, 1, 1, 1, 1, 3, 1, 2, 2, 1, 1, 1, 1, 1, 1, 1, 1, 1, 1, 1, 1, 1, 1, 1, 1, 1, 1, 1, 1, 1, 1, 2, 1, 1, 1, 1, 1, 1, 1, 1, 1, 1, 1, 1, 1, 1, 1, 1, 2, 1, 1, 1, 1, 1, 1, 1, 1, 1, 1, 1, 1, 1, 1, 1, 1, 1, 1, 1, 1, 1, 1, 1, 1, 1, 1, 1, 1, 1, 1, 1, 1, 1, 2, 1, 1, 1, 1, 1, 1, 1, 1, 1, 2, 1, 1, 1, 1, 1, 1, 1, 1, 1, 3, 1, 1, 1, 1, 1, 1, 1, 1, 1, 1, 1, 1, 1, 1, 1, 1, 1, 2, 1, 1, 1, 1, 1, 1, 1, 1, 1, 1, 1, 1, 1, 1, 1, 1, 1, 1, 1, 1, 1, 1, 1, 1, 1, 1, 1, 1, 1, 1, 1, 1, 1, 1, 1, 2, 1, 1, 1, 1, 1, 1, 1, 1, 1, 1, 1, 1, 1, 1, 1, 1, 1, 1, 1, 1, 1, 1, 1, 1, 1, 1, 1, 1, 1, 1, 1, 1, 1, 1, 1, 1, 1, 1, 1, 1, 1, 1, 1, 1, 1, 1, 1, 2, 1, 1, 1, 1, 1, 1, 1, 1, 1, 1])\n"
          ]
        }
      ]
    },
    {
      "cell_type": "code",
      "source": [
        "th = int(len(df)*0.001)\n",
        "print(th)"
      ],
      "metadata": {
        "colab": {
          "base_uri": "https://localhost:8080/"
        },
        "id": "nMg6Zim-J-H8",
        "outputId": "74b42e6d-1c69-4152-d386-f8801b2736cb"
      },
      "execution_count": null,
      "outputs": [
        {
          "output_type": "stream",
          "name": "stdout",
          "text": [
            "101\n"
          ]
        }
      ]
    },
    {
      "cell_type": "code",
      "source": [
        "rare_tags = [tags for tags, value in tag_count.items() if value < th]"
      ],
      "metadata": {
        "id": "lTmxt4qFKW7g"
      },
      "execution_count": null,
      "outputs": []
    },
    {
      "cell_type": "code",
      "source": [
        "len(rare_tags)"
      ],
      "metadata": {
        "colab": {
          "base_uri": "https://localhost:8080/"
        },
        "id": "nRjoxMBeLA9S",
        "outputId": "52b98cf1-4331-4f82-9084-e699610e0b65"
      },
      "execution_count": null,
      "outputs": [
        {
          "output_type": "execute_result",
          "data": {
            "text/plain": [
              "8454"
            ]
          },
          "metadata": {},
          "execution_count": 20
        }
      ]
    },
    {
      "cell_type": "code",
      "source": [
        "total_tags = list(tag_count.keys())"
      ],
      "metadata": {
        "id": "Bi8ev6sb_TC3"
      },
      "execution_count": null,
      "outputs": []
    },
    {
      "cell_type": "code",
      "source": [
        "print(type(total_tags), type(rare_tags))"
      ],
      "metadata": {
        "colab": {
          "base_uri": "https://localhost:8080/"
        },
        "id": "GDx9AKnOANGo",
        "outputId": "ade5a095-ec43-4514-c90b-203609f819a0"
      },
      "execution_count": null,
      "outputs": [
        {
          "output_type": "stream",
          "name": "stdout",
          "text": [
            "<class 'list'> <class 'list'>\n"
          ]
        }
      ]
    },
    {
      "cell_type": "code",
      "source": [
        "actual_tags = list(set(total_tags) - set(rare_tags))"
      ],
      "metadata": {
        "id": "dQcejOim_xaU"
      },
      "execution_count": null,
      "outputs": []
    },
    {
      "cell_type": "code",
      "source": [
        "len(actual_tags)"
      ],
      "metadata": {
        "colab": {
          "base_uri": "https://localhost:8080/"
        },
        "id": "dh9mOKl7AvvZ",
        "outputId": "c2d7d51f-f490-421c-f1f1-23d6c46fccf4"
      },
      "execution_count": null,
      "outputs": [
        {
          "output_type": "execute_result",
          "data": {
            "text/plain": [
              "675"
            ]
          },
          "metadata": {},
          "execution_count": 24
        }
      ]
    },
    {
      "cell_type": "code",
      "source": [
        "print(sorted(actual_tags))"
      ],
      "metadata": {
        "colab": {
          "base_uri": "https://localhost:8080/"
        },
        "id": "7-4oaBG8BYA3",
        "outputId": "45025bb5-66c4-4a34-b5bd-b7ebe568d37a"
      },
      "execution_count": null,
      "outputs": [
        {
          "output_type": "stream",
          "name": "stdout",
          "text": [
            "['Ability', 'About', 'Accept', 'Achieve', 'Achievement', 'Act', 'Acting', 'Action', 'Advice', 'Afraid', 'Again', 'Age', 'Ahead', 'Aim', 'Alive', 'Alone', 'Always', 'Am', 'Amazing', 'Ambition', 'America', 'American', 'Anger', 'Angry', 'Anniversary', 'Any', 'Anything', 'Architecture', 'Army', 'Art', 'Artist', 'Attention', 'Attitude', 'Away', 'Back', 'Bad', 'Balance', 'Battle', 'Beautiful', 'Beauty', 'Because', 'Become', 'Been', 'Before', 'Beginning', 'Behavior', 'Being', 'Belief', 'Believe', 'Best', 'Better', 'Beyond', 'Bible', 'Big', 'Birth', 'Birthday', 'Black', 'Blessed', 'Blood', 'Body', 'Book', 'Born', 'Brain', 'Brainy', 'Brave', 'Bring', 'Brother', 'Build', 'Building', 'Business', 'Busy', 'Cannot', 'Car', 'Care', 'Career', 'Celebrate', 'Challenges', 'Chance', 'Change', 'Character', 'Child', 'Childhood', 'Children', 'Choice', 'Choices', 'Christmas', 'Church', 'Cinema', 'City', 'Cold', 'College', 'Come', 'Comedy', 'Commitment', 'Communication', 'Community', 'Company', 'Competition', 'Computers', 'Confidence', 'Conflict', 'Constitution', 'Control', 'Cooking', 'Cool', 'Country', 'Courage', 'Crazy', 'Create', 'Credit', 'Culture', 'Dad', 'Daily', 'Dance', 'Dangerous', 'Data', 'Dating', 'Day', 'Days', 'Dead', 'Death', 'Decision', 'Deep', 'Democracy', 'Design', 'Desire', 'Destiny', 'Development', 'Die', 'Diet', 'Difficult', 'Direction', 'Discipline', 'Doctor', 'Does', 'Dog', 'Doing', 'Done', 'Door', 'Doubt', 'Down', 'Drama', 'Dream', 'Dreams', 'Dress', 'Drive', 'Duty', 'Early', 'Earth', 'Easter', 'Easy', 'Eating', 'Economic', 'Education', 'Effort', 'Emotions', 'End', 'Enemies', 'Enemy', 'Energy', 'Enjoy', 'Enough', 'Environment', 'Environmental', 'Equality', 'Escape', 'Even', 'Events', 'Every', 'Every Day', 'Everyone', 'Everything', 'Evil', 'Exist', 'Experience', 'Eyes', 'Face', 'Facts', 'Failure', 'Faith', 'Fall', 'Fame', 'Family', 'Famous', 'Fans', 'Far', 'Fashion', 'Fast', 'Father', 'Fear', 'Feel', 'Feelings', 'Feet', 'Fiction', 'Fight', 'Fighting', 'Film', 'Finance', 'Find', 'Fire', 'First', 'Fish', 'Fitness', 'Fly', 'Focus', 'Follow', 'Food', 'Fool', 'Football', 'Force', 'Forever', 'Forget', 'Forgiveness', 'Foundation', 'Free', 'Freedom', 'Friend', 'Friends', 'Friendship', 'Fruit', 'Fun', 'Funny', 'Future', 'Game', 'Gardening', 'Gay', 'Gender', 'General', 'Generation', 'Genius', 'Get', 'Gift', 'Giving', 'Go', 'Goals', 'God', 'Going', 'Good', 'Government', 'Grace', 'Graduation', 'Gratitude', 'Great', 'Greatness', 'Green', 'Grow', 'Growing Up', 'Growth', 'Guitar', 'Habit', 'Had', 'Half', 'Hands', 'Happens', 'Happiness', 'Happy', 'Hard', 'Hard Work', 'Hate', 'He', 'Head', 'Health', 'Heart', 'Heaven', 'Hell', 'Help', 'Hero', 'High', 'History', 'Holiday', 'Home', 'Honesty', 'Honor', 'Hope', 'How', 'Human', 'Humanity', 'Humble', 'Humility', 'Humor', 'Hurt', 'I Am', 'I Can', 'I Think', 'Ideas', 'Ignorance', 'Imagination', 'Impact', 'Important', 'Impossible', 'Improve', 'Independence', 'Influence', 'Information', 'Inspirational', 'Integrity', 'Intellectual', 'Intelligence', 'Interest', 'Interesting', 'Internet', 'Israel', 'Jealousy', 'Job', 'Journey', 'Joy', 'Just', 'Justice', 'Keep', 'Key', 'Kind', 'Kindness', 'King', 'Know', 'Knowing', 'Knowledge', 'Language', 'Last', 'Late', 'Laugh', 'Laughter', 'Law', 'Lawyer', 'Leadership', 'Learn', 'Learning', 'Legal', 'Liberty', 'Lie', 'Life', 'Lifestyle', 'Light', 'Like', 'Limits', 'Line', 'Listening', 'Literature', 'Little', 'Live', 'Living', 'Long', 'Look', 'Looking', 'Lose', 'Losing', 'Lost', 'Lot', 'Love', 'Love Is', 'Loved', 'Loyalty', 'Luck', 'Made', 'Magic', 'Make', 'Man', 'Many', 'Marriage', 'Matter', 'May', 'Me', 'Mean', 'Meaning', 'Media', 'Medical', 'Meet', 'Memories', 'Memory', 'Men', 'Mind', 'Minds', 'Mirror', 'Mistakes', 'Mom', 'Moment', 'Moments', 'Money', 'Moon', 'More', 'Morning', 'Most', 'Mother', 'Motivational', 'Movies', 'Moving', 'Moving On', 'Much', 'Music', 'Must', 'My Life', 'Myself', 'Name', 'Nation', 'Nature', 'Need', 'Needs', 'Negative', 'Never', 'New', 'News', 'Next', 'Nice', 'Night', 'Nobody', 'Nothing', 'Now', 'Often', 'Old', 'Old Age', 'Only', 'Opinion', 'Opportunity', 'Order', 'Other', 'Others', 'Our', 'Out', 'Over', 'Own', 'Pain', 'Painting', 'Parenting', 'Parents', 'Passion', 'Past', 'Path', 'Patience', 'Patriotism', 'Pay', 'Peace', 'People', 'Person', 'Personality', 'Perspective', 'Pet', 'Picture', 'Place', 'Play', 'Poet', 'Poetry', 'Point', 'Political', 'Politics', 'Poor', 'Positive', 'Possible', 'Potential', 'Poverty', 'Power', 'Powerful', 'Practice', 'Prayer', 'Present', 'Pressure', 'Pretty', 'Pride', 'Problems', 'Process', 'Progress', 'Purpose', 'Quality', 'Question', 'Questions', 'Quiet', 'Quite', 'Race', 'Rather', 'Ready', 'Real', 'Reality', 'Realize', 'Really', 'Reason', 'Regret', 'Relationship', 'Religion', 'Remember', 'Research', 'Respect', 'Responsibility', 'Rest', 'Result', 'Revolution', 'Rich', 'Right', 'Rights', 'Rise', 'Risks', 'Road', 'Romantic', 'Room', 'Rules', 'Sacrifice', 'Sad', 'Safe', 'Same', 'Say', 'School', 'Science', 'Search', 'Security', 'See', 'Seeing', 'Sense', 'Sense Of Humor', 'Serious', 'Service', 'Sex', 'Shadow', 'She', 'Should', 'Silence', 'Simple', 'Simply', 'Sin', 'Singing', 'Situation', 'Skill', 'Sky', 'Sleep', 'Smart', 'Smile', 'Social', 'Social Media', 'Society', 'Someone', 'Something', 'Sometimes', 'Son', 'Song', 'Soul', 'Sound', 'Space', 'Speak', 'Special', 'Spirit', 'Spiritual', 'Sports', 'Stage', 'Stand', 'Stars', 'Start', 'Stay', 'Step', 'Still', 'Stop', 'Story', 'Strange', 'Street', 'Strength', 'Strong', 'Struggle', 'Stupid', 'Style', 'Success', 'Success Is', 'Suffering', 'Sun', 'Support', 'Survive', 'Sweet', 'Sympathy', 'System', 'Table', 'Talent', 'Talk', 'Talking', 'Teacher', 'Team', 'Tears', 'Technology', 'Teen', 'Television', 'Than', 'Thank God', 'Thankful', 'Thanksgiving', 'Them', 'Thing', 'Things', 'Think', 'Thinking', 'Those', 'Thoughts', 'Three', 'Through', 'Time', 'Tired', 'Today', 'Together', 'Tomorrow', 'Too', 'Too Much', 'Top', 'Tough', 'Tradition', 'Train', 'Training', 'Travel', 'Tree', 'True', 'Trust', 'Truth', 'Truth Is', 'Try', 'Trying', 'Two', 'Understand', 'Understanding', 'Unique', 'Universe', 'Up', 'Us', 'Use', 'Used', \"Valentine's Day\", 'Value', 'Values', 'Very', 'Victory', 'View', 'Violence', 'Vision', 'Voice', 'Waiting', 'Wake Up', 'Walk', 'Want', 'Wants', 'War', 'Waste', 'Water', 'Way', 'Weakness', 'Wealth', 'Wedding', 'Weird', 'Well', 'Whatever', 'Where', 'Which', 'White', 'Who', 'Why', 'Wife', 'Will', 'Wind', 'Winning', 'Wisdom', 'Wise', 'Wish', 'Within', 'Without', 'Woman', 'Women', 'Wonder', 'Wonderful', 'Words', 'Work', 'World', 'Worry', 'Worst', 'Would', 'Writing', 'Wrong', 'Year', 'Years', 'Yes', 'You', 'Young', 'Your', 'Your Dreams', 'Yourself', 'Youth', \"don't Care\"]\n"
          ]
        }
      ]
    },
    {
      "cell_type": "code",
      "source": [
        "tags_list = df.Tags.to_list()\n",
        "revised_tag_list = []\n",
        "indices_to_drop = []\n",
        "\n",
        "for idx, tags in enumerate(tags_list):\n",
        "  tag_list = eval(tags)\n",
        "  revised_tags = []\n",
        "\n",
        "  for tag in tag_list:\n",
        "    if tag in actual_tags:\n",
        "      revised_tags.append(tag)\n",
        "\n",
        "  if len(revised_tags) == 0:\n",
        "    indices_to_drop.append(idx)\n",
        "  else:\n",
        "    revised_tag_list.append(revised_tags)\n",
        "\n",
        "df = df.drop(indices_to_drop).reset_index(drop=True)\n",
        "df['revised_tags'] = revised_tag_list\n",
        "df.shape"
      ],
      "metadata": {
        "colab": {
          "base_uri": "https://localhost:8080/"
        },
        "id": "8mL8DIdkLDm2",
        "outputId": "0af5f198-8b6c-4e4b-cb07-4fb49728f324"
      },
      "execution_count": null,
      "outputs": [
        {
          "output_type": "execute_result",
          "data": {
            "text/plain": [
              "(101201, 6)"
            ]
          },
          "metadata": {},
          "execution_count": 26
        }
      ]
    },
    {
      "cell_type": "code",
      "source": [
        "df.tail()"
      ],
      "metadata": {
        "id": "Kz5Tky7xNC8b",
        "colab": {
          "base_uri": "https://localhost:8080/",
          "height": 379
        },
        "outputId": "386eb61f-6464-4fff-96e9-5686d926f435"
      },
      "execution_count": null,
      "outputs": [
        {
          "output_type": "execute_result",
          "data": {
            "text/plain": [
              "                                                                                                                                           Quote  \\\n",
              "101196  A manager is not a person who can do the work better than his men; he is a person who can get his men to do the work better than he can.   \n",
              "101197                                    The sweat of hard work is not to be displayed. It is much more graceful to appear favored by the gods.   \n",
              "101198         Identify your niche and dominate it. And when I say dominate, I just mean work harder than anyone else could possibly work at it.   \n",
              "101199                      Loyal and efficient work in a great cause, even though it may not be immediately recognized, ultimately bears fruit.   \n",
              "101200                                          Fabrics such as raw silk, velvet, shimmer, satin and georgette work well for the wedding season.   \n",
              "\n",
              "                      Author Category  \\\n",
              "101196    Frederick W. Smith     Work   \n",
              "101197  Maxine Hong Kingston     Work   \n",
              "101198           Nate Parker     Work   \n",
              "101199      Jawaharlal Nehru     Work   \n",
              "101200          Masaba Gupta     Work   \n",
              "\n",
              "                                                                              Url  \\\n",
              "101196     https://www.brainyquote.com/quotes/frederick_w_smith_201583?src=t_work   \n",
              "101197  https://www.brainyquote.com/quotes/maxine_hong_kingston_204858?src=t_work   \n",
              "101198           https://www.brainyquote.com/quotes/nate_parker_538454?src=t_work   \n",
              "101199      https://www.brainyquote.com/quotes/jawaharlal_nehru_390491?src=t_work   \n",
              "101200         https://www.brainyquote.com/quotes/masaba_gupta_1125086?src=t_work   \n",
              "\n",
              "                                                    Tags  \\\n",
              "101196        ['Work', 'Men', 'Better', 'Person', 'Who']   \n",
              "101197    ['Work', 'Hard Work', 'Hard', 'Sweat', 'More']   \n",
              "101198     ['Work', 'Dominate', 'Niche', 'Mean', 'Just']   \n",
              "101199       ['Work', 'Great', 'Fruit', 'Even', 'Cause']   \n",
              "101200  ['Work', 'Wedding', 'Fabrics', 'Velvet', 'Well']   \n",
              "\n",
              "                            revised_tags  \n",
              "101196  [Work, Men, Better, Person, Who]  \n",
              "101197     [Work, Hard Work, Hard, More]  \n",
              "101198                [Work, Mean, Just]  \n",
              "101199        [Work, Great, Fruit, Even]  \n",
              "101200             [Work, Wedding, Well]  "
            ],
            "text/html": [
              "\n",
              "  <div id=\"df-b72472c7-dc66-4985-9de3-3f64588115fe\" class=\"colab-df-container\">\n",
              "    <div>\n",
              "<style scoped>\n",
              "    .dataframe tbody tr th:only-of-type {\n",
              "        vertical-align: middle;\n",
              "    }\n",
              "\n",
              "    .dataframe tbody tr th {\n",
              "        vertical-align: top;\n",
              "    }\n",
              "\n",
              "    .dataframe thead th {\n",
              "        text-align: right;\n",
              "    }\n",
              "</style>\n",
              "<table border=\"1\" class=\"dataframe\">\n",
              "  <thead>\n",
              "    <tr style=\"text-align: right;\">\n",
              "      <th></th>\n",
              "      <th>Quote</th>\n",
              "      <th>Author</th>\n",
              "      <th>Category</th>\n",
              "      <th>Url</th>\n",
              "      <th>Tags</th>\n",
              "      <th>revised_tags</th>\n",
              "    </tr>\n",
              "  </thead>\n",
              "  <tbody>\n",
              "    <tr>\n",
              "      <th>101196</th>\n",
              "      <td>A manager is not a person who can do the work better than his men; he is a person who can get his men to do the work better than he can.</td>\n",
              "      <td>Frederick W. Smith</td>\n",
              "      <td>Work</td>\n",
              "      <td>https://www.brainyquote.com/quotes/frederick_w_smith_201583?src=t_work</td>\n",
              "      <td>['Work', 'Men', 'Better', 'Person', 'Who']</td>\n",
              "      <td>[Work, Men, Better, Person, Who]</td>\n",
              "    </tr>\n",
              "    <tr>\n",
              "      <th>101197</th>\n",
              "      <td>The sweat of hard work is not to be displayed. It is much more graceful to appear favored by the gods.</td>\n",
              "      <td>Maxine Hong Kingston</td>\n",
              "      <td>Work</td>\n",
              "      <td>https://www.brainyquote.com/quotes/maxine_hong_kingston_204858?src=t_work</td>\n",
              "      <td>['Work', 'Hard Work', 'Hard', 'Sweat', 'More']</td>\n",
              "      <td>[Work, Hard Work, Hard, More]</td>\n",
              "    </tr>\n",
              "    <tr>\n",
              "      <th>101198</th>\n",
              "      <td>Identify your niche and dominate it. And when I say dominate, I just mean work harder than anyone else could possibly work at it.</td>\n",
              "      <td>Nate Parker</td>\n",
              "      <td>Work</td>\n",
              "      <td>https://www.brainyquote.com/quotes/nate_parker_538454?src=t_work</td>\n",
              "      <td>['Work', 'Dominate', 'Niche', 'Mean', 'Just']</td>\n",
              "      <td>[Work, Mean, Just]</td>\n",
              "    </tr>\n",
              "    <tr>\n",
              "      <th>101199</th>\n",
              "      <td>Loyal and efficient work in a great cause, even though it may not be immediately recognized, ultimately bears fruit.</td>\n",
              "      <td>Jawaharlal Nehru</td>\n",
              "      <td>Work</td>\n",
              "      <td>https://www.brainyquote.com/quotes/jawaharlal_nehru_390491?src=t_work</td>\n",
              "      <td>['Work', 'Great', 'Fruit', 'Even', 'Cause']</td>\n",
              "      <td>[Work, Great, Fruit, Even]</td>\n",
              "    </tr>\n",
              "    <tr>\n",
              "      <th>101200</th>\n",
              "      <td>Fabrics such as raw silk, velvet, shimmer, satin and georgette work well for the wedding season.</td>\n",
              "      <td>Masaba Gupta</td>\n",
              "      <td>Work</td>\n",
              "      <td>https://www.brainyquote.com/quotes/masaba_gupta_1125086?src=t_work</td>\n",
              "      <td>['Work', 'Wedding', 'Fabrics', 'Velvet', 'Well']</td>\n",
              "      <td>[Work, Wedding, Well]</td>\n",
              "    </tr>\n",
              "  </tbody>\n",
              "</table>\n",
              "</div>\n",
              "    <div class=\"colab-df-buttons\">\n",
              "\n",
              "  <div class=\"colab-df-container\">\n",
              "    <button class=\"colab-df-convert\" onclick=\"convertToInteractive('df-b72472c7-dc66-4985-9de3-3f64588115fe')\"\n",
              "            title=\"Convert this dataframe to an interactive table.\"\n",
              "            style=\"display:none;\">\n",
              "\n",
              "  <svg xmlns=\"http://www.w3.org/2000/svg\" height=\"24px\" viewBox=\"0 -960 960 960\">\n",
              "    <path d=\"M120-120v-720h720v720H120Zm60-500h600v-160H180v160Zm220 220h160v-160H400v160Zm0 220h160v-160H400v160ZM180-400h160v-160H180v160Zm440 0h160v-160H620v160ZM180-180h160v-160H180v160Zm440 0h160v-160H620v160Z\"/>\n",
              "  </svg>\n",
              "    </button>\n",
              "\n",
              "  <style>\n",
              "    .colab-df-container {\n",
              "      display:flex;\n",
              "      gap: 12px;\n",
              "    }\n",
              "\n",
              "    .colab-df-convert {\n",
              "      background-color: #E8F0FE;\n",
              "      border: none;\n",
              "      border-radius: 50%;\n",
              "      cursor: pointer;\n",
              "      display: none;\n",
              "      fill: #1967D2;\n",
              "      height: 32px;\n",
              "      padding: 0 0 0 0;\n",
              "      width: 32px;\n",
              "    }\n",
              "\n",
              "    .colab-df-convert:hover {\n",
              "      background-color: #E2EBFA;\n",
              "      box-shadow: 0px 1px 2px rgba(60, 64, 67, 0.3), 0px 1px 3px 1px rgba(60, 64, 67, 0.15);\n",
              "      fill: #174EA6;\n",
              "    }\n",
              "\n",
              "    .colab-df-buttons div {\n",
              "      margin-bottom: 4px;\n",
              "    }\n",
              "\n",
              "    [theme=dark] .colab-df-convert {\n",
              "      background-color: #3B4455;\n",
              "      fill: #D2E3FC;\n",
              "    }\n",
              "\n",
              "    [theme=dark] .colab-df-convert:hover {\n",
              "      background-color: #434B5C;\n",
              "      box-shadow: 0px 1px 3px 1px rgba(0, 0, 0, 0.15);\n",
              "      filter: drop-shadow(0px 1px 2px rgba(0, 0, 0, 0.3));\n",
              "      fill: #FFFFFF;\n",
              "    }\n",
              "  </style>\n",
              "\n",
              "    <script>\n",
              "      const buttonEl =\n",
              "        document.querySelector('#df-b72472c7-dc66-4985-9de3-3f64588115fe button.colab-df-convert');\n",
              "      buttonEl.style.display =\n",
              "        google.colab.kernel.accessAllowed ? 'block' : 'none';\n",
              "\n",
              "      async function convertToInteractive(key) {\n",
              "        const element = document.querySelector('#df-b72472c7-dc66-4985-9de3-3f64588115fe');\n",
              "        const dataTable =\n",
              "          await google.colab.kernel.invokeFunction('convertToInteractive',\n",
              "                                                    [key], {});\n",
              "        if (!dataTable) return;\n",
              "\n",
              "        const docLinkHtml = 'Like what you see? Visit the ' +\n",
              "          '<a target=\"_blank\" href=https://colab.research.google.com/notebooks/data_table.ipynb>data table notebook</a>'\n",
              "          + ' to learn more about interactive tables.';\n",
              "        element.innerHTML = '';\n",
              "        dataTable['output_type'] = 'display_data';\n",
              "        await google.colab.output.renderOutput(dataTable, element);\n",
              "        const docLink = document.createElement('div');\n",
              "        docLink.innerHTML = docLinkHtml;\n",
              "        element.appendChild(docLink);\n",
              "      }\n",
              "    </script>\n",
              "  </div>\n",
              "\n",
              "\n",
              "<div id=\"df-59ed1791-025e-4597-8a7a-93d552b84966\">\n",
              "  <button class=\"colab-df-quickchart\" onclick=\"quickchart('df-59ed1791-025e-4597-8a7a-93d552b84966')\"\n",
              "            title=\"Suggest charts\"\n",
              "            style=\"display:none;\">\n",
              "\n",
              "<svg xmlns=\"http://www.w3.org/2000/svg\" height=\"24px\"viewBox=\"0 0 24 24\"\n",
              "     width=\"24px\">\n",
              "    <g>\n",
              "        <path d=\"M19 3H5c-1.1 0-2 .9-2 2v14c0 1.1.9 2 2 2h14c1.1 0 2-.9 2-2V5c0-1.1-.9-2-2-2zM9 17H7v-7h2v7zm4 0h-2V7h2v10zm4 0h-2v-4h2v4z\"/>\n",
              "    </g>\n",
              "</svg>\n",
              "  </button>\n",
              "\n",
              "<style>\n",
              "  .colab-df-quickchart {\n",
              "      --bg-color: #E8F0FE;\n",
              "      --fill-color: #1967D2;\n",
              "      --hover-bg-color: #E2EBFA;\n",
              "      --hover-fill-color: #174EA6;\n",
              "      --disabled-fill-color: #AAA;\n",
              "      --disabled-bg-color: #DDD;\n",
              "  }\n",
              "\n",
              "  [theme=dark] .colab-df-quickchart {\n",
              "      --bg-color: #3B4455;\n",
              "      --fill-color: #D2E3FC;\n",
              "      --hover-bg-color: #434B5C;\n",
              "      --hover-fill-color: #FFFFFF;\n",
              "      --disabled-bg-color: #3B4455;\n",
              "      --disabled-fill-color: #666;\n",
              "  }\n",
              "\n",
              "  .colab-df-quickchart {\n",
              "    background-color: var(--bg-color);\n",
              "    border: none;\n",
              "    border-radius: 50%;\n",
              "    cursor: pointer;\n",
              "    display: none;\n",
              "    fill: var(--fill-color);\n",
              "    height: 32px;\n",
              "    padding: 0;\n",
              "    width: 32px;\n",
              "  }\n",
              "\n",
              "  .colab-df-quickchart:hover {\n",
              "    background-color: var(--hover-bg-color);\n",
              "    box-shadow: 0 1px 2px rgba(60, 64, 67, 0.3), 0 1px 3px 1px rgba(60, 64, 67, 0.15);\n",
              "    fill: var(--button-hover-fill-color);\n",
              "  }\n",
              "\n",
              "  .colab-df-quickchart-complete:disabled,\n",
              "  .colab-df-quickchart-complete:disabled:hover {\n",
              "    background-color: var(--disabled-bg-color);\n",
              "    fill: var(--disabled-fill-color);\n",
              "    box-shadow: none;\n",
              "  }\n",
              "\n",
              "  .colab-df-spinner {\n",
              "    border: 2px solid var(--fill-color);\n",
              "    border-color: transparent;\n",
              "    border-bottom-color: var(--fill-color);\n",
              "    animation:\n",
              "      spin 1s steps(1) infinite;\n",
              "  }\n",
              "\n",
              "  @keyframes spin {\n",
              "    0% {\n",
              "      border-color: transparent;\n",
              "      border-bottom-color: var(--fill-color);\n",
              "      border-left-color: var(--fill-color);\n",
              "    }\n",
              "    20% {\n",
              "      border-color: transparent;\n",
              "      border-left-color: var(--fill-color);\n",
              "      border-top-color: var(--fill-color);\n",
              "    }\n",
              "    30% {\n",
              "      border-color: transparent;\n",
              "      border-left-color: var(--fill-color);\n",
              "      border-top-color: var(--fill-color);\n",
              "      border-right-color: var(--fill-color);\n",
              "    }\n",
              "    40% {\n",
              "      border-color: transparent;\n",
              "      border-right-color: var(--fill-color);\n",
              "      border-top-color: var(--fill-color);\n",
              "    }\n",
              "    60% {\n",
              "      border-color: transparent;\n",
              "      border-right-color: var(--fill-color);\n",
              "    }\n",
              "    80% {\n",
              "      border-color: transparent;\n",
              "      border-right-color: var(--fill-color);\n",
              "      border-bottom-color: var(--fill-color);\n",
              "    }\n",
              "    90% {\n",
              "      border-color: transparent;\n",
              "      border-bottom-color: var(--fill-color);\n",
              "    }\n",
              "  }\n",
              "</style>\n",
              "\n",
              "  <script>\n",
              "    async function quickchart(key) {\n",
              "      const quickchartButtonEl =\n",
              "        document.querySelector('#' + key + ' button');\n",
              "      quickchartButtonEl.disabled = true;  // To prevent multiple clicks.\n",
              "      quickchartButtonEl.classList.add('colab-df-spinner');\n",
              "      try {\n",
              "        const charts = await google.colab.kernel.invokeFunction(\n",
              "            'suggestCharts', [key], {});\n",
              "      } catch (error) {\n",
              "        console.error('Error during call to suggestCharts:', error);\n",
              "      }\n",
              "      quickchartButtonEl.classList.remove('colab-df-spinner');\n",
              "      quickchartButtonEl.classList.add('colab-df-quickchart-complete');\n",
              "    }\n",
              "    (() => {\n",
              "      let quickchartButtonEl =\n",
              "        document.querySelector('#df-59ed1791-025e-4597-8a7a-93d552b84966 button');\n",
              "      quickchartButtonEl.style.display =\n",
              "        google.colab.kernel.accessAllowed ? 'block' : 'none';\n",
              "    })();\n",
              "  </script>\n",
              "</div>\n",
              "\n",
              "    </div>\n",
              "  </div>\n"
            ]
          },
          "metadata": {},
          "execution_count": 27
        }
      ]
    },
    {
      "cell_type": "code",
      "source": [
        "revised_tags_list = df.revised_tags.to_list()\n",
        "revised_tag_count = {}\n",
        "for tags in revised_tags_list:\n",
        "  tag_list = tags\n",
        "  for tag in tag_list:\n",
        "    if tag in revised_tag_count.keys():\n",
        "      revised_tag_count[tag] += 1\n",
        "    else:\n",
        "      revised_tag_count[tag] = 1\n",
        "print(f\"Number of Genres: {len(revised_tag_count)}\")\n",
        "print(revised_tag_count)"
      ],
      "metadata": {
        "colab": {
          "base_uri": "https://localhost:8080/"
        },
        "id": "MX9dQDJsFx3-",
        "outputId": "6cb7fa0a-908b-4741-d61b-fdd40cd419c3"
      },
      "execution_count": null,
      "outputs": [
        {
          "output_type": "stream",
          "name": "stdout",
          "text": [
            "Number of Genres: 675\n",
            "{'Age': 1871, 'Mind': 1295, 'Matter': 201, 'Over': 366, 'Birthday': 840, 'Man': 3249, 'Never': 2443, 'Woman': 383, 'Youth': 284, 'Young': 813, 'Help': 529, 'Old': 643, 'Get': 394, 'Men': 3091, 'Grow': 449, 'Attention': 170, 'Pay': 127, 'Strength': 1544, 'Opportunity': 478, 'Remember': 678, 'Morning': 1379, 'Wake Up': 159, 'School': 909, 'Country': 701, 'Happy': 384, 'Child': 165, 'Lie': 248, 'Live': 1512, 'Old Age': 156, 'Place': 804, 'Nothing': 1473, 'High': 122, 'Best': 3257, 'Improve': 213, 'Soul': 638, 'Change': 2364, 'Great': 4304, 'People': 7553, 'I Am': 2112, 'Strange': 134, 'Me': 5508, 'Try': 1268, 'Environment': 115, 'Growing Up': 283, 'Up': 844, 'Life': 8270, 'End': 527, 'Wish': 404, 'Minds': 120, 'Order': 121, 'Very': 179, 'Time': 6159, 'Habit': 109, 'Busy': 123, 'Person': 1185, 'Women': 2761, 'Myself': 1671, 'Beautiful': 866, 'Purpose': 311, 'Learning': 1556, 'Art': 2324, 'Work': 4505, 'Nature': 2032, 'Gift': 390, 'Good': 5807, 'Believe': 2118, 'True': 825, 'Light': 498, 'Night': 375, 'Love': 6176, 'Does': 166, 'Everything': 605, 'How': 419, 'You': 695, 'Success': 2089, 'Start': 487, 'Children': 967, 'Who': 1669, 'Those': 106, 'Face': 636, 'Long': 1610, 'Important': 664, 'Stop': 221, 'Because': 668, 'Heart': 1163, 'Always': 1996, 'Same': 144, 'She': 759, 'More': 1810, 'Something': 160, 'Whatever': 166, 'Early': 255, 'Happens': 111, 'Lose': 485, 'Friend': 202, 'Enemy': 220, 'Only': 964, 'Sad': 1265, 'Nice': 154, 'Look': 1608, 'Father': 681, 'Blood': 134, 'Wife': 420, 'Trust': 1502, 'Your': 808, 'Our': 727, 'Grace': 162, 'Money': 2292, 'Health': 1813, 'Others': 612, 'Past': 760, 'Black': 490, 'Book': 251, 'Know': 929, 'Body': 559, 'Mirror': 133, 'Day': 2577, 'Energy': 430, 'Simply': 101, 'Enough': 440, 'Hope': 2026, 'Without': 374, 'Moment': 648, 'Back': 489, 'Late': 191, 'Year': 614, 'New': 1333, 'Giving': 325, 'Knowledge': 1730, 'Own': 988, 'Feel': 693, 'Effort': 316, 'Process': 440, 'Company': 245, 'Real': 1109, 'Rich': 340, 'Where': 314, 'Should': 275, 'Been': 221, 'Thinking': 616, 'Still': 111, 'Had': 129, 'Sin': 108, 'Being': 986, 'Home': 2083, 'World': 4011, 'Lost': 503, 'Parents': 671, 'Interesting': 156, 'Journey': 225, 'Road': 276, 'Advice': 165, 'Living': 444, 'Needs': 169, 'Nobody': 217, 'Respect': 1624, 'Tomorrow': 236, 'Possible': 367, 'Family': 2720, 'Like': 1263, 'Cannot': 113, 'Better': 1277, 'America': 611, 'Just': 1084, 'Green': 169, 'Pride': 147, 'Belief': 286, 'Funny': 1476, 'Wrong': 296, 'Play': 258, 'Stars': 250, 'Dress': 185, 'Sky': 131, 'Born': 214, 'Talent': 273, 'Will': 1691, 'Struggle': 280, 'Regret': 108, 'Confidence': 315, 'Now': 1025, 'Hands': 270, 'Moon': 160, 'Poet': 106, 'Head': 118, 'Business': 2119, 'Within': 208, 'Come': 185, 'Dreams': 1436, 'Fight': 461, 'Afraid': 169, 'Way': 2733, 'Death': 1711, 'Attitude': 1344, 'Losing': 157, 'Genius': 146, 'Understand': 232, 'Learn': 112, 'Culture': 624, 'Cinema': 106, 'Faith': 1770, 'Religion': 1560, 'Brainy': 270, 'Happiness': 1647, 'Failure': 1492, 'Passion': 308, 'First': 386, 'Fun': 623, 'Ideas': 428, 'Sex': 168, 'News': 149, 'Bad': 604, 'Mean': 211, 'Destiny': 136, 'Information': 283, 'Wisdom': 1548, 'Fool': 101, 'Spirit': 280, 'Find': 1076, 'Next': 139, 'War': 1953, 'Violence': 185, 'Imagination': 1290, 'Picture': 181, 'Motivational': 423, 'Universe': 323, 'Church': 242, 'Experience': 2090, 'Far': 279, 'Education': 1806, 'Forget': 213, 'Dead': 214, 'Two': 601, 'He': 901, 'Years': 193, 'Act': 267, 'About': 264, 'Need': 638, 'Us': 1524, 'Marriage': 1502, 'Which': 196, 'Moments': 126, 'Search': 147, 'Think': 484, 'Unique': 211, 'Special': 226, 'Meaning': 144, 'Right': 433, 'Skill': 129, 'Go': 1125, 'Die': 309, 'Someone': 142, 'Today': 900, 'Media': 275, 'Human': 895, 'Poor': 206, 'Progress': 278, 'Vision': 297, 'Wise': 302, 'Away': 140, 'Alone': 1647, 'Truth': 1989, 'Battle': 134, 'Food': 1764, 'Architecture': 1071, 'Memories': 171, 'Hard': 1350, 'Anything': 434, 'I Think': 269, 'Dad': 1699, 'Kindness': 163, 'Emotions': 144, 'Pressure': 128, 'Poverty': 101, 'Evil': 312, 'Well': 333, 'God': 3305, 'Three': 295, 'Legal': 1135, 'Lawyer': 118, 'Politics': 1566, 'Political': 283, 'Feelings': 190, 'Game': 623, 'Walk': 396, 'Character': 628, 'Before': 141, 'Justice': 452, 'Personality': 204, 'Greatness': 112, \"don't Care\": 110, 'Care': 290, 'Much': 288, 'Any': 109, 'Friends': 420, 'Beauty': 1597, 'Future': 2060, 'Positive': 1563, 'Power': 2581, 'Door': 133, 'Sometimes': 940, 'Car': 1012, 'Going': 222, 'Control': 392, 'Waiting': 155, 'Community': 432, 'Trying': 328, 'Fear': 1923, 'Practice': 241, 'Eyes': 327, 'Wonder': 114, 'Talk': 238, 'Value': 410, 'History': 1987, 'Poetry': 1219, 'Daily': 235, 'Forgiveness': 528, 'Ambition': 102, 'Powerful': 366, 'Little': 148, 'Sympathy': 452, 'Tough': 268, 'Government': 1867, 'Society': 1911, 'Support': 450, 'Job': 402, 'Weird': 174, 'Artist': 280, 'Mother': 572, 'Behavior': 154, 'Speak': 113, 'Thankful': 911, 'Acting': 211, 'Music': 2438, 'Cool': 1286, 'Tired': 112, 'Keep': 128, 'Magic': 167, 'Hell': 162, 'Singing': 118, 'Mom': 1630, 'Dance': 178, 'Laugh': 156, 'Every Day': 363, 'Technology': 1604, 'Romantic': 1180, 'Free': 624, 'Medical': 1176, 'Situation': 172, 'Fame': 162, 'Language': 343, 'Question': 115, 'Want': 824, 'Meet': 107, 'Rest': 257, 'Travel': 1271, 'Fish': 127, 'Values': 109, 'Humanity': 238, 'Problems': 488, 'Achievement': 117, 'Story': 249, 'Feet': 129, 'Leadership': 1249, 'Out': 254, 'Social Media': 121, 'Gender': 114, 'Style': 245, 'Key': 306, 'Beginning': 303, 'Doing': 725, 'Even': 371, 'Done': 574, 'Freedom': 1804, 'Together': 971, 'Why': 640, 'Childhood': 243, 'Generation': 216, 'Race': 179, 'Direction': 117, 'Discipline': 213, 'Dating': 788, 'Diet': 1128, 'Internet': 299, 'Opinion': 174, 'Doctor': 175, 'Days': 253, 'Too': 129, 'Ignorance': 209, 'Winning': 123, 'Memory': 266, 'Sense': 170, 'Courage': 1484, 'Impact': 175, 'Wealth': 208, 'Loved': 453, 'See': 1197, 'Become': 128, 'Movies': 1425, 'Television': 151, 'Gratitude': 112, 'Simple': 356, 'Friendship': 1160, 'View': 304, 'Football': 337, 'Space': 1580, 'Fitness': 816, 'Peace': 1792, 'Present': 301, 'Ahead': 131, 'Blessed': 147, 'Potential': 115, 'Dream': 165, 'Teacher': 1292, 'Brain': 283, 'Say': 146, 'Alive': 184, 'Tree': 110, 'Worst': 180, 'Lot': 169, 'Law': 595, 'Bring': 115, 'Intelligence': 1290, 'Fighting': 135, 'General': 113, 'Challenges': 200, 'Difficult': 232, 'Hard Work': 195, 'Beyond': 163, 'Result': 233, 'Understanding': 169, 'Things': 660, 'Rather': 104, 'Limits': 115, 'Pain': 374, 'Fans': 314, 'Really': 219, 'Influence': 144, 'Focus': 309, 'Achieve': 259, 'Decision': 164, 'Army': 105, 'Son': 133, 'Hate': 406, 'Ability': 247, 'Cold': 168, 'Tradition': 148, 'Amazing': 1432, 'Research': 223, 'Top': 120, 'Loyalty': 110, 'Forever': 167, 'Your Dreams': 237, 'Guitar': 121, 'Every': 155, 'Chance': 1475, 'My Life': 323, 'Am': 213, 'Survive': 138, 'Hero': 108, 'Goals': 211, 'Crazy': 246, 'Quite': 136, 'Smart': 202, 'Building': 206, 'City': 349, 'Yes': 137, 'I Can': 267, 'Deep': 394, 'Reality': 568, 'Moving': 204, 'Rights': 126, 'Make': 504, 'Stay': 138, 'Rules': 227, 'Name': 266, 'Impossible': 270, 'Design': 1287, 'Build': 122, 'Finance': 657, 'Would': 189, 'Suffering': 238, 'May': 128, 'Science': 1881, 'Last': 144, 'Responsibility': 333, 'Than': 239, 'Through': 211, 'Shadow': 106, 'Luck': 163, 'Computers': 903, 'Liberty': 217, 'Love Is': 446, 'Talking': 165, 'Relationship': 1623, 'King': 162, 'Sports': 1252, 'Literature': 180, 'Many': 149, 'Choice': 276, 'Quiet': 112, 'Democracy': 306, 'Water': 345, 'Path': 252, 'Spiritual': 268, 'Escape': 114, 'Patience': 878, 'American': 449, 'Weakness': 122, 'Bible': 119, 'Often': 131, 'Integrity': 146, 'Conflict': 134, 'Fashion': 208, 'Train': 121, 'Action': 361, 'Duty': 132, 'Doubt': 134, 'Laughter': 127, 'Too Much': 193, 'White': 342, 'Competition': 137, 'Moving On': 276, 'Perspective': 169, 'Reason': 506, 'Fiction': 124, 'Career': 140, 'Enjoy': 132, 'Dangerous': 165, 'Listening': 123, 'Looking': 368, 'Street': 230, 'Brother': 143, 'Yourself': 363, 'Room': 179, 'Wonderful': 157, 'Sun': 205, 'Independence': 947, 'Easy': 234, 'Heaven': 157, 'Use': 110, 'Thoughts': 210, 'Everyone': 225, 'Choices': 115, 'Voice': 215, 'Song': 150, 'Earth': 159, 'Desire': 295, 'Sleep': 235, 'Stand': 171, 'Quality': 374, \"Valentine's Day\": 181, 'Graduation': 295, 'Christmas': 1196, 'Accept': 163, 'Strong': 146, 'Them': 375, 'Revolution': 101, 'Environmental': 961, 'Anger': 1168, 'Hurt': 192, 'Other': 169, 'Israel': 150, 'Service': 199, 'Force': 174, 'Table': 101, 'Credit': 101, 'Brave': 126, 'Half': 114, 'Equality': 1206, 'Questions': 138, 'Rise': 143, 'Jealousy': 277, 'Enemies': 135, 'Step': 281, 'Growth': 281, 'Cooking': 115, 'Humility': 113, 'Stage': 104, 'Sacrifice': 173, 'Sound': 138, 'Follow': 102, 'Silence': 135, 'Prayer': 179, 'Communication': 1196, 'Fly': 127, 'Fall': 110, 'Ready': 136, 'Teen': 543, 'Risks': 135, 'Gardening': 278, 'Worry': 139, 'Patriotism': 456, 'Point': 142, 'Words': 479, 'Team': 107, 'Honor': 160, 'Famous': 1136, 'Must': 189, 'Tears': 102, 'Honesty': 114, 'Exist': 203, 'Birth': 108, 'Truth Is': 118, 'Dog': 163, 'Victory': 117, 'Wants': 122, 'Create': 218, 'Realize': 103, 'Commitment': 143, 'Interest': 164, 'Safe': 121, 'Kind': 101, 'Aim': 129, 'Social': 120, 'Eating': 141, 'Film': 472, 'Data': 112, 'Writing': 149, 'Balance': 206, 'Nation': 127, 'Fire': 231, 'System': 224, 'Stupid': 122, 'Wind': 121, 'Big': 584, 'Gay': 101, 'Constitution': 101, 'Economic': 161, 'Thing': 169, 'Negative': 120, 'Used': 161, 'Inspirational': 710, 'Smile': 1216, 'Joy': 469, 'Fast': 122, 'Pretty': 127, 'Most': 113, 'Humble': 124, 'Drive': 216, 'Security': 298, 'Again': 101, 'Sweet': 122, 'Comedy': 211, 'Easter': 177, 'Made': 193, 'Events': 116, 'Angry': 120, 'Thanksgiving': 331, 'Fruit': 114, 'Drama': 152, 'Development': 152, 'Pet': 502, 'Line': 104, 'Celebrate': 157, 'Humor': 1209, 'Down': 107, 'Waste': 114, 'Serious': 188, 'Seeing': 101, 'Lifestyle': 119, 'Sense Of Humor': 284, 'Wedding': 722, 'Facts': 105, 'Anniversary': 205, 'Thank God': 102, 'Mistakes': 227, 'Holiday': 131, 'Foundation': 125, 'Painting': 151, 'Intellectual': 103, 'College': 116, 'Knowing': 135, 'Training': 168, 'Parenting': 515, 'Success Is': 115}\n"
          ]
        }
      ]
    },
    {
      "cell_type": "code",
      "source": [
        "encode_tag_types = {key: idx for idx, (key, value) in enumerate(revised_tag_count.items())}\n",
        "with open(\"tag_types_encoded.json\", \"w\") as fp:\n",
        "  json.dump(encode_tag_types, fp)"
      ],
      "metadata": {
        "id": "--_QThllaiwu"
      },
      "execution_count": null,
      "outputs": []
    },
    {
      "cell_type": "code",
      "source": [
        "print(encode_tag_types)"
      ],
      "metadata": {
        "colab": {
          "base_uri": "https://localhost:8080/"
        },
        "id": "vAcDXOgma8SS",
        "outputId": "b2032f94-e994-4eda-9093-c9f30b53051f"
      },
      "execution_count": null,
      "outputs": [
        {
          "output_type": "stream",
          "name": "stdout",
          "text": [
            "{'Age': 0, 'Mind': 1, 'Matter': 2, 'Over': 3, 'Birthday': 4, 'Man': 5, 'Never': 6, 'Woman': 7, 'Youth': 8, 'Young': 9, 'Help': 10, 'Old': 11, 'Get': 12, 'Men': 13, 'Grow': 14, 'Attention': 15, 'Pay': 16, 'Strength': 17, 'Opportunity': 18, 'Remember': 19, 'Morning': 20, 'Wake Up': 21, 'School': 22, 'Country': 23, 'Happy': 24, 'Child': 25, 'Lie': 26, 'Live': 27, 'Old Age': 28, 'Place': 29, 'Nothing': 30, 'High': 31, 'Best': 32, 'Improve': 33, 'Soul': 34, 'Change': 35, 'Great': 36, 'People': 37, 'I Am': 38, 'Strange': 39, 'Me': 40, 'Try': 41, 'Environment': 42, 'Growing Up': 43, 'Up': 44, 'Life': 45, 'End': 46, 'Wish': 47, 'Minds': 48, 'Order': 49, 'Very': 50, 'Time': 51, 'Habit': 52, 'Busy': 53, 'Person': 54, 'Women': 55, 'Myself': 56, 'Beautiful': 57, 'Purpose': 58, 'Learning': 59, 'Art': 60, 'Work': 61, 'Nature': 62, 'Gift': 63, 'Good': 64, 'Believe': 65, 'True': 66, 'Light': 67, 'Night': 68, 'Love': 69, 'Does': 70, 'Everything': 71, 'How': 72, 'You': 73, 'Success': 74, 'Start': 75, 'Children': 76, 'Who': 77, 'Those': 78, 'Face': 79, 'Long': 80, 'Important': 81, 'Stop': 82, 'Because': 83, 'Heart': 84, 'Always': 85, 'Same': 86, 'She': 87, 'More': 88, 'Something': 89, 'Whatever': 90, 'Early': 91, 'Happens': 92, 'Lose': 93, 'Friend': 94, 'Enemy': 95, 'Only': 96, 'Sad': 97, 'Nice': 98, 'Look': 99, 'Father': 100, 'Blood': 101, 'Wife': 102, 'Trust': 103, 'Your': 104, 'Our': 105, 'Grace': 106, 'Money': 107, 'Health': 108, 'Others': 109, 'Past': 110, 'Black': 111, 'Book': 112, 'Know': 113, 'Body': 114, 'Mirror': 115, 'Day': 116, 'Energy': 117, 'Simply': 118, 'Enough': 119, 'Hope': 120, 'Without': 121, 'Moment': 122, 'Back': 123, 'Late': 124, 'Year': 125, 'New': 126, 'Giving': 127, 'Knowledge': 128, 'Own': 129, 'Feel': 130, 'Effort': 131, 'Process': 132, 'Company': 133, 'Real': 134, 'Rich': 135, 'Where': 136, 'Should': 137, 'Been': 138, 'Thinking': 139, 'Still': 140, 'Had': 141, 'Sin': 142, 'Being': 143, 'Home': 144, 'World': 145, 'Lost': 146, 'Parents': 147, 'Interesting': 148, 'Journey': 149, 'Road': 150, 'Advice': 151, 'Living': 152, 'Needs': 153, 'Nobody': 154, 'Respect': 155, 'Tomorrow': 156, 'Possible': 157, 'Family': 158, 'Like': 159, 'Cannot': 160, 'Better': 161, 'America': 162, 'Just': 163, 'Green': 164, 'Pride': 165, 'Belief': 166, 'Funny': 167, 'Wrong': 168, 'Play': 169, 'Stars': 170, 'Dress': 171, 'Sky': 172, 'Born': 173, 'Talent': 174, 'Will': 175, 'Struggle': 176, 'Regret': 177, 'Confidence': 178, 'Now': 179, 'Hands': 180, 'Moon': 181, 'Poet': 182, 'Head': 183, 'Business': 184, 'Within': 185, 'Come': 186, 'Dreams': 187, 'Fight': 188, 'Afraid': 189, 'Way': 190, 'Death': 191, 'Attitude': 192, 'Losing': 193, 'Genius': 194, 'Understand': 195, 'Learn': 196, 'Culture': 197, 'Cinema': 198, 'Faith': 199, 'Religion': 200, 'Brainy': 201, 'Happiness': 202, 'Failure': 203, 'Passion': 204, 'First': 205, 'Fun': 206, 'Ideas': 207, 'Sex': 208, 'News': 209, 'Bad': 210, 'Mean': 211, 'Destiny': 212, 'Information': 213, 'Wisdom': 214, 'Fool': 215, 'Spirit': 216, 'Find': 217, 'Next': 218, 'War': 219, 'Violence': 220, 'Imagination': 221, 'Picture': 222, 'Motivational': 223, 'Universe': 224, 'Church': 225, 'Experience': 226, 'Far': 227, 'Education': 228, 'Forget': 229, 'Dead': 230, 'Two': 231, 'He': 232, 'Years': 233, 'Act': 234, 'About': 235, 'Need': 236, 'Us': 237, 'Marriage': 238, 'Which': 239, 'Moments': 240, 'Search': 241, 'Think': 242, 'Unique': 243, 'Special': 244, 'Meaning': 245, 'Right': 246, 'Skill': 247, 'Go': 248, 'Die': 249, 'Someone': 250, 'Today': 251, 'Media': 252, 'Human': 253, 'Poor': 254, 'Progress': 255, 'Vision': 256, 'Wise': 257, 'Away': 258, 'Alone': 259, 'Truth': 260, 'Battle': 261, 'Food': 262, 'Architecture': 263, 'Memories': 264, 'Hard': 265, 'Anything': 266, 'I Think': 267, 'Dad': 268, 'Kindness': 269, 'Emotions': 270, 'Pressure': 271, 'Poverty': 272, 'Evil': 273, 'Well': 274, 'God': 275, 'Three': 276, 'Legal': 277, 'Lawyer': 278, 'Politics': 279, 'Political': 280, 'Feelings': 281, 'Game': 282, 'Walk': 283, 'Character': 284, 'Before': 285, 'Justice': 286, 'Personality': 287, 'Greatness': 288, \"don't Care\": 289, 'Care': 290, 'Much': 291, 'Any': 292, 'Friends': 293, 'Beauty': 294, 'Future': 295, 'Positive': 296, 'Power': 297, 'Door': 298, 'Sometimes': 299, 'Car': 300, 'Going': 301, 'Control': 302, 'Waiting': 303, 'Community': 304, 'Trying': 305, 'Fear': 306, 'Practice': 307, 'Eyes': 308, 'Wonder': 309, 'Talk': 310, 'Value': 311, 'History': 312, 'Poetry': 313, 'Daily': 314, 'Forgiveness': 315, 'Ambition': 316, 'Powerful': 317, 'Little': 318, 'Sympathy': 319, 'Tough': 320, 'Government': 321, 'Society': 322, 'Support': 323, 'Job': 324, 'Weird': 325, 'Artist': 326, 'Mother': 327, 'Behavior': 328, 'Speak': 329, 'Thankful': 330, 'Acting': 331, 'Music': 332, 'Cool': 333, 'Tired': 334, 'Keep': 335, 'Magic': 336, 'Hell': 337, 'Singing': 338, 'Mom': 339, 'Dance': 340, 'Laugh': 341, 'Every Day': 342, 'Technology': 343, 'Romantic': 344, 'Free': 345, 'Medical': 346, 'Situation': 347, 'Fame': 348, 'Language': 349, 'Question': 350, 'Want': 351, 'Meet': 352, 'Rest': 353, 'Travel': 354, 'Fish': 355, 'Values': 356, 'Humanity': 357, 'Problems': 358, 'Achievement': 359, 'Story': 360, 'Feet': 361, 'Leadership': 362, 'Out': 363, 'Social Media': 364, 'Gender': 365, 'Style': 366, 'Key': 367, 'Beginning': 368, 'Doing': 369, 'Even': 370, 'Done': 371, 'Freedom': 372, 'Together': 373, 'Why': 374, 'Childhood': 375, 'Generation': 376, 'Race': 377, 'Direction': 378, 'Discipline': 379, 'Dating': 380, 'Diet': 381, 'Internet': 382, 'Opinion': 383, 'Doctor': 384, 'Days': 385, 'Too': 386, 'Ignorance': 387, 'Winning': 388, 'Memory': 389, 'Sense': 390, 'Courage': 391, 'Impact': 392, 'Wealth': 393, 'Loved': 394, 'See': 395, 'Become': 396, 'Movies': 397, 'Television': 398, 'Gratitude': 399, 'Simple': 400, 'Friendship': 401, 'View': 402, 'Football': 403, 'Space': 404, 'Fitness': 405, 'Peace': 406, 'Present': 407, 'Ahead': 408, 'Blessed': 409, 'Potential': 410, 'Dream': 411, 'Teacher': 412, 'Brain': 413, 'Say': 414, 'Alive': 415, 'Tree': 416, 'Worst': 417, 'Lot': 418, 'Law': 419, 'Bring': 420, 'Intelligence': 421, 'Fighting': 422, 'General': 423, 'Challenges': 424, 'Difficult': 425, 'Hard Work': 426, 'Beyond': 427, 'Result': 428, 'Understanding': 429, 'Things': 430, 'Rather': 431, 'Limits': 432, 'Pain': 433, 'Fans': 434, 'Really': 435, 'Influence': 436, 'Focus': 437, 'Achieve': 438, 'Decision': 439, 'Army': 440, 'Son': 441, 'Hate': 442, 'Ability': 443, 'Cold': 444, 'Tradition': 445, 'Amazing': 446, 'Research': 447, 'Top': 448, 'Loyalty': 449, 'Forever': 450, 'Your Dreams': 451, 'Guitar': 452, 'Every': 453, 'Chance': 454, 'My Life': 455, 'Am': 456, 'Survive': 457, 'Hero': 458, 'Goals': 459, 'Crazy': 460, 'Quite': 461, 'Smart': 462, 'Building': 463, 'City': 464, 'Yes': 465, 'I Can': 466, 'Deep': 467, 'Reality': 468, 'Moving': 469, 'Rights': 470, 'Make': 471, 'Stay': 472, 'Rules': 473, 'Name': 474, 'Impossible': 475, 'Design': 476, 'Build': 477, 'Finance': 478, 'Would': 479, 'Suffering': 480, 'May': 481, 'Science': 482, 'Last': 483, 'Responsibility': 484, 'Than': 485, 'Through': 486, 'Shadow': 487, 'Luck': 488, 'Computers': 489, 'Liberty': 490, 'Love Is': 491, 'Talking': 492, 'Relationship': 493, 'King': 494, 'Sports': 495, 'Literature': 496, 'Many': 497, 'Choice': 498, 'Quiet': 499, 'Democracy': 500, 'Water': 501, 'Path': 502, 'Spiritual': 503, 'Escape': 504, 'Patience': 505, 'American': 506, 'Weakness': 507, 'Bible': 508, 'Often': 509, 'Integrity': 510, 'Conflict': 511, 'Fashion': 512, 'Train': 513, 'Action': 514, 'Duty': 515, 'Doubt': 516, 'Laughter': 517, 'Too Much': 518, 'White': 519, 'Competition': 520, 'Moving On': 521, 'Perspective': 522, 'Reason': 523, 'Fiction': 524, 'Career': 525, 'Enjoy': 526, 'Dangerous': 527, 'Listening': 528, 'Looking': 529, 'Street': 530, 'Brother': 531, 'Yourself': 532, 'Room': 533, 'Wonderful': 534, 'Sun': 535, 'Independence': 536, 'Easy': 537, 'Heaven': 538, 'Use': 539, 'Thoughts': 540, 'Everyone': 541, 'Choices': 542, 'Voice': 543, 'Song': 544, 'Earth': 545, 'Desire': 546, 'Sleep': 547, 'Stand': 548, 'Quality': 549, \"Valentine's Day\": 550, 'Graduation': 551, 'Christmas': 552, 'Accept': 553, 'Strong': 554, 'Them': 555, 'Revolution': 556, 'Environmental': 557, 'Anger': 558, 'Hurt': 559, 'Other': 560, 'Israel': 561, 'Service': 562, 'Force': 563, 'Table': 564, 'Credit': 565, 'Brave': 566, 'Half': 567, 'Equality': 568, 'Questions': 569, 'Rise': 570, 'Jealousy': 571, 'Enemies': 572, 'Step': 573, 'Growth': 574, 'Cooking': 575, 'Humility': 576, 'Stage': 577, 'Sacrifice': 578, 'Sound': 579, 'Follow': 580, 'Silence': 581, 'Prayer': 582, 'Communication': 583, 'Fly': 584, 'Fall': 585, 'Ready': 586, 'Teen': 587, 'Risks': 588, 'Gardening': 589, 'Worry': 590, 'Patriotism': 591, 'Point': 592, 'Words': 593, 'Team': 594, 'Honor': 595, 'Famous': 596, 'Must': 597, 'Tears': 598, 'Honesty': 599, 'Exist': 600, 'Birth': 601, 'Truth Is': 602, 'Dog': 603, 'Victory': 604, 'Wants': 605, 'Create': 606, 'Realize': 607, 'Commitment': 608, 'Interest': 609, 'Safe': 610, 'Kind': 611, 'Aim': 612, 'Social': 613, 'Eating': 614, 'Film': 615, 'Data': 616, 'Writing': 617, 'Balance': 618, 'Nation': 619, 'Fire': 620, 'System': 621, 'Stupid': 622, 'Wind': 623, 'Big': 624, 'Gay': 625, 'Constitution': 626, 'Economic': 627, 'Thing': 628, 'Negative': 629, 'Used': 630, 'Inspirational': 631, 'Smile': 632, 'Joy': 633, 'Fast': 634, 'Pretty': 635, 'Most': 636, 'Humble': 637, 'Drive': 638, 'Security': 639, 'Again': 640, 'Sweet': 641, 'Comedy': 642, 'Easter': 643, 'Made': 644, 'Events': 645, 'Angry': 646, 'Thanksgiving': 647, 'Fruit': 648, 'Drama': 649, 'Development': 650, 'Pet': 651, 'Line': 652, 'Celebrate': 653, 'Humor': 654, 'Down': 655, 'Waste': 656, 'Serious': 657, 'Seeing': 658, 'Lifestyle': 659, 'Sense Of Humor': 660, 'Wedding': 661, 'Facts': 662, 'Anniversary': 663, 'Thank God': 664, 'Mistakes': 665, 'Holiday': 666, 'Foundation': 667, 'Painting': 668, 'Intellectual': 669, 'College': 670, 'Knowing': 671, 'Training': 672, 'Parenting': 673, 'Success Is': 674}\n"
          ]
        }
      ]
    },
    {
      "cell_type": "code",
      "source": [
        "cat_tag_list = []\n",
        "rev_tags_list = df.revised_tags.to_list()\n",
        "\n",
        "for tags in rev_tags_list:\n",
        "  cat_tags_list = [0]* len(encode_tag_types)\n",
        "  for tag in tags:\n",
        "    tag_type_idx = encode_tag_types[tag]\n",
        "    cat_tags_list[tag_type_idx] = 1\n",
        "  cat_tag_list.append(cat_tags_list)"
      ],
      "metadata": {
        "id": "X6GdsMYVX3e3"
      },
      "execution_count": null,
      "outputs": []
    },
    {
      "cell_type": "code",
      "source": [
        "print(cat_tag_list[:5])"
      ],
      "metadata": {
        "colab": {
          "base_uri": "https://localhost:8080/"
        },
        "id": "Lp-vsPMybJfN",
        "outputId": "508e9219-f6ad-486c-8b7b-9ef1aa6cec33"
      },
      "execution_count": null,
      "outputs": [
        {
          "output_type": "stream",
          "name": "stdout",
          "text": [
            "[[1, 1, 1, 1, 0, 0, 0, 0, 0, 0, 0, 0, 0, 0, 0, 0, 0, 0, 0, 0, 0, 0, 0, 0, 0, 0, 0, 0, 0, 0, 0, 0, 0, 0, 0, 0, 0, 0, 0, 0, 0, 0, 0, 0, 0, 0, 0, 0, 0, 0, 0, 0, 0, 0, 0, 0, 0, 0, 0, 0, 0, 0, 0, 0, 0, 0, 0, 0, 0, 0, 0, 0, 0, 0, 0, 0, 0, 0, 0, 0, 0, 0, 0, 0, 0, 0, 0, 0, 0, 0, 0, 0, 0, 0, 0, 0, 0, 0, 0, 0, 0, 0, 0, 0, 0, 0, 0, 0, 0, 0, 0, 0, 0, 0, 0, 0, 0, 0, 0, 0, 0, 0, 0, 0, 0, 0, 0, 0, 0, 0, 0, 0, 0, 0, 0, 0, 0, 0, 0, 0, 0, 0, 0, 0, 0, 0, 0, 0, 0, 0, 0, 0, 0, 0, 0, 0, 0, 0, 0, 0, 0, 0, 0, 0, 0, 0, 0, 0, 0, 0, 0, 0, 0, 0, 0, 0, 0, 0, 0, 0, 0, 0, 0, 0, 0, 0, 0, 0, 0, 0, 0, 0, 0, 0, 0, 0, 0, 0, 0, 0, 0, 0, 0, 0, 0, 0, 0, 0, 0, 0, 0, 0, 0, 0, 0, 0, 0, 0, 0, 0, 0, 0, 0, 0, 0, 0, 0, 0, 0, 0, 0, 0, 0, 0, 0, 0, 0, 0, 0, 0, 0, 0, 0, 0, 0, 0, 0, 0, 0, 0, 0, 0, 0, 0, 0, 0, 0, 0, 0, 0, 0, 0, 0, 0, 0, 0, 0, 0, 0, 0, 0, 0, 0, 0, 0, 0, 0, 0, 0, 0, 0, 0, 0, 0, 0, 0, 0, 0, 0, 0, 0, 0, 0, 0, 0, 0, 0, 0, 0, 0, 0, 0, 0, 0, 0, 0, 0, 0, 0, 0, 0, 0, 0, 0, 0, 0, 0, 0, 0, 0, 0, 0, 0, 0, 0, 0, 0, 0, 0, 0, 0, 0, 0, 0, 0, 0, 0, 0, 0, 0, 0, 0, 0, 0, 0, 0, 0, 0, 0, 0, 0, 0, 0, 0, 0, 0, 0, 0, 0, 0, 0, 0, 0, 0, 0, 0, 0, 0, 0, 0, 0, 0, 0, 0, 0, 0, 0, 0, 0, 0, 0, 0, 0, 0, 0, 0, 0, 0, 0, 0, 0, 0, 0, 0, 0, 0, 0, 0, 0, 0, 0, 0, 0, 0, 0, 0, 0, 0, 0, 0, 0, 0, 0, 0, 0, 0, 0, 0, 0, 0, 0, 0, 0, 0, 0, 0, 0, 0, 0, 0, 0, 0, 0, 0, 0, 0, 0, 0, 0, 0, 0, 0, 0, 0, 0, 0, 0, 0, 0, 0, 0, 0, 0, 0, 0, 0, 0, 0, 0, 0, 0, 0, 0, 0, 0, 0, 0, 0, 0, 0, 0, 0, 0, 0, 0, 0, 0, 0, 0, 0, 0, 0, 0, 0, 0, 0, 0, 0, 0, 0, 0, 0, 0, 0, 0, 0, 0, 0, 0, 0, 0, 0, 0, 0, 0, 0, 0, 0, 0, 0, 0, 0, 0, 0, 0, 0, 0, 0, 0, 0, 0, 0, 0, 0, 0, 0, 0, 0, 0, 0, 0, 0, 0, 0, 0, 0, 0, 0, 0, 0, 0, 0, 0, 0, 0, 0, 0, 0, 0, 0, 0, 0, 0, 0, 0, 0, 0, 0, 0, 0, 0, 0, 0, 0, 0, 0, 0, 0, 0, 0, 0, 0, 0, 0, 0, 0, 0, 0, 0, 0, 0, 0, 0, 0, 0, 0, 0, 0, 0, 0, 0, 0, 0, 0, 0, 0, 0, 0, 0, 0, 0, 0, 0, 0, 0, 0, 0, 0, 0, 0, 0, 0, 0, 0, 0, 0, 0, 0, 0, 0, 0, 0, 0, 0, 0, 0, 0, 0, 0, 0, 0, 0, 0, 0, 0, 0, 0, 0, 0, 0, 0, 0, 0, 0, 0, 0, 0, 0, 0, 0, 0, 0, 0, 0, 0, 0, 0, 0, 0, 0, 0, 0, 0, 0, 0, 0, 0, 0, 0, 0, 0, 0, 0, 0, 0], [1, 0, 0, 0, 1, 1, 1, 1, 0, 0, 0, 0, 0, 0, 0, 0, 0, 0, 0, 0, 0, 0, 0, 0, 0, 0, 0, 0, 0, 0, 0, 0, 0, 0, 0, 0, 0, 0, 0, 0, 0, 0, 0, 0, 0, 0, 0, 0, 0, 0, 0, 0, 0, 0, 0, 0, 0, 0, 0, 0, 0, 0, 0, 0, 0, 0, 0, 0, 0, 0, 0, 0, 0, 0, 0, 0, 0, 0, 0, 0, 0, 0, 0, 0, 0, 0, 0, 0, 0, 0, 0, 0, 0, 0, 0, 0, 0, 0, 0, 0, 0, 0, 0, 0, 0, 0, 0, 0, 0, 0, 0, 0, 0, 0, 0, 0, 0, 0, 0, 0, 0, 0, 0, 0, 0, 0, 0, 0, 0, 0, 0, 0, 0, 0, 0, 0, 0, 0, 0, 0, 0, 0, 0, 0, 0, 0, 0, 0, 0, 0, 0, 0, 0, 0, 0, 0, 0, 0, 0, 0, 0, 0, 0, 0, 0, 0, 0, 0, 0, 0, 0, 0, 0, 0, 0, 0, 0, 0, 0, 0, 0, 0, 0, 0, 0, 0, 0, 0, 0, 0, 0, 0, 0, 0, 0, 0, 0, 0, 0, 0, 0, 0, 0, 0, 0, 0, 0, 0, 0, 0, 0, 0, 0, 0, 0, 0, 0, 0, 0, 0, 0, 0, 0, 0, 0, 0, 0, 0, 0, 0, 0, 0, 0, 0, 0, 0, 0, 0, 0, 0, 0, 0, 0, 0, 0, 0, 0, 0, 0, 0, 0, 0, 0, 0, 0, 0, 0, 0, 0, 0, 0, 0, 0, 0, 0, 0, 0, 0, 0, 0, 0, 0, 0, 0, 0, 0, 0, 0, 0, 0, 0, 0, 0, 0, 0, 0, 0, 0, 0, 0, 0, 0, 0, 0, 0, 0, 0, 0, 0, 0, 0, 0, 0, 0, 0, 0, 0, 0, 0, 0, 0, 0, 0, 0, 0, 0, 0, 0, 0, 0, 0, 0, 0, 0, 0, 0, 0, 0, 0, 0, 0, 0, 0, 0, 0, 0, 0, 0, 0, 0, 0, 0, 0, 0, 0, 0, 0, 0, 0, 0, 0, 0, 0, 0, 0, 0, 0, 0, 0, 0, 0, 0, 0, 0, 0, 0, 0, 0, 0, 0, 0, 0, 0, 0, 0, 0, 0, 0, 0, 0, 0, 0, 0, 0, 0, 0, 0, 0, 0, 0, 0, 0, 0, 0, 0, 0, 0, 0, 0, 0, 0, 0, 0, 0, 0, 0, 0, 0, 0, 0, 0, 0, 0, 0, 0, 0, 0, 0, 0, 0, 0, 0, 0, 0, 0, 0, 0, 0, 0, 0, 0, 0, 0, 0, 0, 0, 0, 0, 0, 0, 0, 0, 0, 0, 0, 0, 0, 0, 0, 0, 0, 0, 0, 0, 0, 0, 0, 0, 0, 0, 0, 0, 0, 0, 0, 0, 0, 0, 0, 0, 0, 0, 0, 0, 0, 0, 0, 0, 0, 0, 0, 0, 0, 0, 0, 0, 0, 0, 0, 0, 0, 0, 0, 0, 0, 0, 0, 0, 0, 0, 0, 0, 0, 0, 0, 0, 0, 0, 0, 0, 0, 0, 0, 0, 0, 0, 0, 0, 0, 0, 0, 0, 0, 0, 0, 0, 0, 0, 0, 0, 0, 0, 0, 0, 0, 0, 0, 0, 0, 0, 0, 0, 0, 0, 0, 0, 0, 0, 0, 0, 0, 0, 0, 0, 0, 0, 0, 0, 0, 0, 0, 0, 0, 0, 0, 0, 0, 0, 0, 0, 0, 0, 0, 0, 0, 0, 0, 0, 0, 0, 0, 0, 0, 0, 0, 0, 0, 0, 0, 0, 0, 0, 0, 0, 0, 0, 0, 0, 0, 0, 0, 0, 0, 0, 0, 0, 0, 0, 0, 0, 0, 0, 0, 0, 0, 0, 0, 0, 0, 0, 0, 0, 0, 0, 0, 0, 0, 0, 0, 0, 0, 0, 0, 0, 0, 0, 0, 0, 0, 0, 0, 0, 0, 0, 0, 0, 0, 0, 0, 0, 0, 0, 0, 0, 0, 0, 0, 0, 0, 0, 0, 0, 0, 0, 0, 0, 0, 0, 0, 0, 0, 0, 0, 0, 0], [1, 0, 0, 0, 0, 0, 0, 0, 1, 1, 0, 0, 0, 0, 0, 0, 0, 0, 0, 0, 0, 0, 0, 0, 0, 0, 0, 0, 0, 0, 0, 0, 0, 0, 0, 0, 0, 0, 0, 0, 0, 0, 0, 0, 0, 0, 0, 0, 0, 0, 0, 0, 0, 0, 0, 0, 0, 0, 0, 0, 0, 0, 0, 0, 0, 0, 0, 0, 0, 0, 0, 0, 0, 0, 0, 0, 0, 0, 0, 0, 0, 0, 0, 0, 0, 0, 0, 0, 0, 0, 0, 0, 0, 0, 0, 0, 0, 0, 0, 0, 0, 0, 0, 0, 0, 0, 0, 0, 0, 0, 0, 0, 0, 0, 0, 0, 0, 0, 0, 0, 0, 0, 0, 0, 0, 0, 0, 0, 0, 0, 0, 0, 0, 0, 0, 0, 0, 0, 0, 0, 0, 0, 0, 0, 0, 0, 0, 0, 0, 0, 0, 0, 0, 0, 0, 0, 0, 0, 0, 0, 0, 0, 0, 0, 0, 0, 0, 0, 0, 0, 0, 0, 0, 0, 0, 0, 0, 0, 0, 0, 0, 0, 0, 0, 0, 0, 0, 0, 0, 0, 0, 0, 0, 0, 0, 0, 0, 0, 0, 0, 0, 0, 0, 0, 0, 0, 0, 0, 0, 0, 0, 0, 0, 0, 0, 0, 0, 0, 0, 0, 0, 0, 0, 0, 0, 0, 0, 0, 0, 0, 0, 0, 0, 0, 0, 0, 0, 0, 0, 0, 0, 0, 0, 0, 0, 0, 0, 0, 0, 0, 0, 0, 0, 0, 0, 0, 0, 0, 0, 0, 0, 0, 0, 0, 0, 0, 0, 0, 0, 0, 0, 0, 0, 0, 0, 0, 0, 0, 0, 0, 0, 0, 0, 0, 0, 0, 0, 0, 0, 0, 0, 0, 0, 0, 0, 0, 0, 0, 0, 0, 0, 0, 0, 0, 0, 0, 0, 0, 0, 0, 0, 0, 0, 0, 0, 0, 0, 0, 0, 0, 0, 0, 0, 0, 0, 0, 0, 0, 0, 0, 0, 0, 0, 0, 0, 0, 0, 0, 0, 0, 0, 0, 0, 0, 0, 0, 0, 0, 0, 0, 0, 0, 0, 0, 0, 0, 0, 0, 0, 0, 0, 0, 0, 0, 0, 0, 0, 0, 0, 0, 0, 0, 0, 0, 0, 0, 0, 0, 0, 0, 0, 0, 0, 0, 0, 0, 0, 0, 0, 0, 0, 0, 0, 0, 0, 0, 0, 0, 0, 0, 0, 0, 0, 0, 0, 0, 0, 0, 0, 0, 0, 0, 0, 0, 0, 0, 0, 0, 0, 0, 0, 0, 0, 0, 0, 0, 0, 0, 0, 0, 0, 0, 0, 0, 0, 0, 0, 0, 0, 0, 0, 0, 0, 0, 0, 0, 0, 0, 0, 0, 0, 0, 0, 0, 0, 0, 0, 0, 0, 0, 0, 0, 0, 0, 0, 0, 0, 0, 0, 0, 0, 0, 0, 0, 0, 0, 0, 0, 0, 0, 0, 0, 0, 0, 0, 0, 0, 0, 0, 0, 0, 0, 0, 0, 0, 0, 0, 0, 0, 0, 0, 0, 0, 0, 0, 0, 0, 0, 0, 0, 0, 0, 0, 0, 0, 0, 0, 0, 0, 0, 0, 0, 0, 0, 0, 0, 0, 0, 0, 0, 0, 0, 0, 0, 0, 0, 0, 0, 0, 0, 0, 0, 0, 0, 0, 0, 0, 0, 0, 0, 0, 0, 0, 0, 0, 0, 0, 0, 0, 0, 0, 0, 0, 0, 0, 0, 0, 0, 0, 0, 0, 0, 0, 0, 0, 0, 0, 0, 0, 0, 0, 0, 0, 0, 0, 0, 0, 0, 0, 0, 0, 0, 0, 0, 0, 0, 0, 0, 0, 0, 0, 0, 0, 0, 0, 0, 0, 0, 0, 0, 0, 0, 0, 0, 0, 0, 0, 0, 0, 0, 0, 0, 0, 0, 0, 0, 0, 0, 0, 0, 0, 0, 0, 0, 0, 0, 0, 0, 0, 0, 0, 0, 0, 0, 0, 0, 0, 0, 0, 0, 0, 0, 0, 0, 0, 0, 0, 0, 0, 0, 0, 0, 0, 0, 0, 0, 0, 0, 0, 0, 0, 0, 0, 0, 0], [1, 0, 0, 0, 0, 0, 0, 0, 0, 0, 1, 1, 1, 0, 0, 0, 0, 0, 0, 0, 0, 0, 0, 0, 0, 0, 0, 0, 0, 0, 0, 0, 0, 0, 0, 0, 0, 0, 0, 0, 0, 0, 0, 0, 0, 0, 0, 0, 0, 0, 0, 0, 0, 0, 0, 0, 0, 0, 0, 0, 0, 0, 0, 0, 0, 0, 0, 0, 0, 0, 0, 0, 0, 0, 0, 0, 0, 0, 0, 0, 0, 0, 0, 0, 0, 0, 0, 0, 0, 0, 0, 0, 0, 0, 0, 0, 0, 0, 0, 0, 0, 0, 0, 0, 0, 0, 0, 0, 0, 0, 0, 0, 0, 0, 0, 0, 0, 0, 0, 0, 0, 0, 0, 0, 0, 0, 0, 0, 0, 0, 0, 0, 0, 0, 0, 0, 0, 0, 0, 0, 0, 0, 0, 0, 0, 0, 0, 0, 0, 0, 0, 0, 0, 0, 0, 0, 0, 0, 0, 0, 0, 0, 0, 0, 0, 0, 0, 0, 0, 0, 0, 0, 0, 0, 0, 0, 0, 0, 0, 0, 0, 0, 0, 0, 0, 0, 0, 0, 0, 0, 0, 0, 0, 0, 0, 0, 0, 0, 0, 0, 0, 0, 0, 0, 0, 0, 0, 0, 0, 0, 0, 0, 0, 0, 0, 0, 0, 0, 0, 0, 0, 0, 0, 0, 0, 0, 0, 0, 0, 0, 0, 0, 0, 0, 0, 0, 0, 0, 0, 0, 0, 0, 0, 0, 0, 0, 0, 0, 0, 0, 0, 0, 0, 0, 0, 0, 0, 0, 0, 0, 0, 0, 0, 0, 0, 0, 0, 0, 0, 0, 0, 0, 0, 0, 0, 0, 0, 0, 0, 0, 0, 0, 0, 0, 0, 0, 0, 0, 0, 0, 0, 0, 0, 0, 0, 0, 0, 0, 0, 0, 0, 0, 0, 0, 0, 0, 0, 0, 0, 0, 0, 0, 0, 0, 0, 0, 0, 0, 0, 0, 0, 0, 0, 0, 0, 0, 0, 0, 0, 0, 0, 0, 0, 0, 0, 0, 0, 0, 0, 0, 0, 0, 0, 0, 0, 0, 0, 0, 0, 0, 0, 0, 0, 0, 0, 0, 0, 0, 0, 0, 0, 0, 0, 0, 0, 0, 0, 0, 0, 0, 0, 0, 0, 0, 0, 0, 0, 0, 0, 0, 0, 0, 0, 0, 0, 0, 0, 0, 0, 0, 0, 0, 0, 0, 0, 0, 0, 0, 0, 0, 0, 0, 0, 0, 0, 0, 0, 0, 0, 0, 0, 0, 0, 0, 0, 0, 0, 0, 0, 0, 0, 0, 0, 0, 0, 0, 0, 0, 0, 0, 0, 0, 0, 0, 0, 0, 0, 0, 0, 0, 0, 0, 0, 0, 0, 0, 0, 0, 0, 0, 0, 0, 0, 0, 0, 0, 0, 0, 0, 0, 0, 0, 0, 0, 0, 0, 0, 0, 0, 0, 0, 0, 0, 0, 0, 0, 0, 0, 0, 0, 0, 0, 0, 0, 0, 0, 0, 0, 0, 0, 0, 0, 0, 0, 0, 0, 0, 0, 0, 0, 0, 0, 0, 0, 0, 0, 0, 0, 0, 0, 0, 0, 0, 0, 0, 0, 0, 0, 0, 0, 0, 0, 0, 0, 0, 0, 0, 0, 0, 0, 0, 0, 0, 0, 0, 0, 0, 0, 0, 0, 0, 0, 0, 0, 0, 0, 0, 0, 0, 0, 0, 0, 0, 0, 0, 0, 0, 0, 0, 0, 0, 0, 0, 0, 0, 0, 0, 0, 0, 0, 0, 0, 0, 0, 0, 0, 0, 0, 0, 0, 0, 0, 0, 0, 0, 0, 0, 0, 0, 0, 0, 0, 0, 0, 0, 0, 0, 0, 0, 0, 0, 0, 0, 0, 0, 0, 0, 0, 0, 0, 0, 0, 0, 0, 0, 0, 0, 0, 0, 0, 0, 0, 0, 0, 0, 0, 0, 0, 0, 0, 0, 0, 0, 0, 0, 0, 0, 0, 0, 0, 0, 0, 0, 0, 0, 0, 0, 0, 0, 0, 0, 0, 0, 0, 0, 0, 0, 0, 0, 0, 0, 0, 0, 0, 0, 0, 0, 0, 0, 0, 0, 0, 0, 0, 0], [1, 0, 0, 0, 0, 0, 0, 0, 0, 0, 0, 0, 0, 1, 1, 1, 1, 0, 0, 0, 0, 0, 0, 0, 0, 0, 0, 0, 0, 0, 0, 0, 0, 0, 0, 0, 0, 0, 0, 0, 0, 0, 0, 0, 0, 0, 0, 0, 0, 0, 0, 0, 0, 0, 0, 0, 0, 0, 0, 0, 0, 0, 0, 0, 0, 0, 0, 0, 0, 0, 0, 0, 0, 0, 0, 0, 0, 0, 0, 0, 0, 0, 0, 0, 0, 0, 0, 0, 0, 0, 0, 0, 0, 0, 0, 0, 0, 0, 0, 0, 0, 0, 0, 0, 0, 0, 0, 0, 0, 0, 0, 0, 0, 0, 0, 0, 0, 0, 0, 0, 0, 0, 0, 0, 0, 0, 0, 0, 0, 0, 0, 0, 0, 0, 0, 0, 0, 0, 0, 0, 0, 0, 0, 0, 0, 0, 0, 0, 0, 0, 0, 0, 0, 0, 0, 0, 0, 0, 0, 0, 0, 0, 0, 0, 0, 0, 0, 0, 0, 0, 0, 0, 0, 0, 0, 0, 0, 0, 0, 0, 0, 0, 0, 0, 0, 0, 0, 0, 0, 0, 0, 0, 0, 0, 0, 0, 0, 0, 0, 0, 0, 0, 0, 0, 0, 0, 0, 0, 0, 0, 0, 0, 0, 0, 0, 0, 0, 0, 0, 0, 0, 0, 0, 0, 0, 0, 0, 0, 0, 0, 0, 0, 0, 0, 0, 0, 0, 0, 0, 0, 0, 0, 0, 0, 0, 0, 0, 0, 0, 0, 0, 0, 0, 0, 0, 0, 0, 0, 0, 0, 0, 0, 0, 0, 0, 0, 0, 0, 0, 0, 0, 0, 0, 0, 0, 0, 0, 0, 0, 0, 0, 0, 0, 0, 0, 0, 0, 0, 0, 0, 0, 0, 0, 0, 0, 0, 0, 0, 0, 0, 0, 0, 0, 0, 0, 0, 0, 0, 0, 0, 0, 0, 0, 0, 0, 0, 0, 0, 0, 0, 0, 0, 0, 0, 0, 0, 0, 0, 0, 0, 0, 0, 0, 0, 0, 0, 0, 0, 0, 0, 0, 0, 0, 0, 0, 0, 0, 0, 0, 0, 0, 0, 0, 0, 0, 0, 0, 0, 0, 0, 0, 0, 0, 0, 0, 0, 0, 0, 0, 0, 0, 0, 0, 0, 0, 0, 0, 0, 0, 0, 0, 0, 0, 0, 0, 0, 0, 0, 0, 0, 0, 0, 0, 0, 0, 0, 0, 0, 0, 0, 0, 0, 0, 0, 0, 0, 0, 0, 0, 0, 0, 0, 0, 0, 0, 0, 0, 0, 0, 0, 0, 0, 0, 0, 0, 0, 0, 0, 0, 0, 0, 0, 0, 0, 0, 0, 0, 0, 0, 0, 0, 0, 0, 0, 0, 0, 0, 0, 0, 0, 0, 0, 0, 0, 0, 0, 0, 0, 0, 0, 0, 0, 0, 0, 0, 0, 0, 0, 0, 0, 0, 0, 0, 0, 0, 0, 0, 0, 0, 0, 0, 0, 0, 0, 0, 0, 0, 0, 0, 0, 0, 0, 0, 0, 0, 0, 0, 0, 0, 0, 0, 0, 0, 0, 0, 0, 0, 0, 0, 0, 0, 0, 0, 0, 0, 0, 0, 0, 0, 0, 0, 0, 0, 0, 0, 0, 0, 0, 0, 0, 0, 0, 0, 0, 0, 0, 0, 0, 0, 0, 0, 0, 0, 0, 0, 0, 0, 0, 0, 0, 0, 0, 0, 0, 0, 0, 0, 0, 0, 0, 0, 0, 0, 0, 0, 0, 0, 0, 0, 0, 0, 0, 0, 0, 0, 0, 0, 0, 0, 0, 0, 0, 0, 0, 0, 0, 0, 0, 0, 0, 0, 0, 0, 0, 0, 0, 0, 0, 0, 0, 0, 0, 0, 0, 0, 0, 0, 0, 0, 0, 0, 0, 0, 0, 0, 0, 0, 0, 0, 0, 0, 0, 0, 0, 0, 0, 0, 0, 0, 0, 0, 0, 0, 0, 0, 0, 0, 0, 0, 0, 0, 0, 0, 0, 0, 0, 0, 0, 0, 0, 0, 0, 0, 0, 0, 0, 0, 0, 0, 0, 0, 0, 0, 0, 0, 0, 0, 0, 0, 0, 0, 0, 0, 0, 0]]\n"
          ]
        }
      ]
    },
    {
      "cell_type": "code",
      "source": [
        "df['labels'] = cat_tag_list"
      ],
      "metadata": {
        "id": "-9GJl7m_dTOk"
      },
      "execution_count": null,
      "outputs": []
    },
    {
      "cell_type": "code",
      "source": [
        "df.head()"
      ],
      "metadata": {
        "colab": {
          "base_uri": "https://localhost:8080/",
          "height": 640
        },
        "id": "GXNcmPf-dl6T",
        "outputId": "2b268593-7b6f-4dbd-ae1f-74521e2c53ea"
      },
      "execution_count": null,
      "outputs": [
        {
          "output_type": "execute_result",
          "data": {
            "text/plain": [
              "                                                                                      Quote  \\\n",
              "0                Age is an issue of mind over matter. If you don't mind, it doesn't matter.   \n",
              "1  A diplomat is a man who always remembers a woman's birthday but never remembers her age.   \n",
              "2                                                             Youth is wasted on the young.   \n",
              "3                              You can't help getting older, but you don't have to get old.   \n",
              "4         As I grow older, I pay less attention to what men say. I just watch what they do.   \n",
              "\n",
              "                Author Category  \\\n",
              "0           Mark Twain      Age   \n",
              "1         Robert Frost      Age   \n",
              "2  George Bernard Shaw      Age   \n",
              "3         George Burns      Age   \n",
              "4      Andrew Carnegie      Age   \n",
              "\n",
              "                                                                       Url  \\\n",
              "0           https://www.brainyquote.com/quotes/mark_twain_103892?src=t_age   \n",
              "1         https://www.brainyquote.com/quotes/robert_frost_107290?src=t_age   \n",
              "2  https://www.brainyquote.com/quotes/george_bernard_shaw_131494?src=t_age   \n",
              "3         https://www.brainyquote.com/quotes/george_burns_103932?src=t_age   \n",
              "4      https://www.brainyquote.com/quotes/andrew_carnegie_106123?src=t_age   \n",
              "\n",
              "                                             Tags  \\\n",
              "0      ['Age', 'Mind', 'Matter', 'Over', 'Issue']   \n",
              "1    ['Birthday', 'Age', 'Man', 'Never', 'Woman']   \n",
              "2             ['Age', 'Youth', 'Young', 'Wasted']   \n",
              "3  ['Age', 'Getting Older', 'Help', 'Old', 'Get']   \n",
              "4      ['Age', 'Men', 'Grow', 'Attention', 'Pay']   \n",
              "\n",
              "                         revised_tags  \\\n",
              "0           [Age, Mind, Matter, Over]   \n",
              "1  [Birthday, Age, Man, Never, Woman]   \n",
              "2                 [Age, Youth, Young]   \n",
              "3               [Age, Help, Old, Get]   \n",
              "4    [Age, Men, Grow, Attention, Pay]   \n",
              "\n",
              "                                                                                                                                                                                                                                                                                                              labels  \n",
              "0  [1, 1, 1, 1, 0, 0, 0, 0, 0, 0, 0, 0, 0, 0, 0, 0, 0, 0, 0, 0, 0, 0, 0, 0, 0, 0, 0, 0, 0, 0, 0, 0, 0, 0, 0, 0, 0, 0, 0, 0, 0, 0, 0, 0, 0, 0, 0, 0, 0, 0, 0, 0, 0, 0, 0, 0, 0, 0, 0, 0, 0, 0, 0, 0, 0, 0, 0, 0, 0, 0, 0, 0, 0, 0, 0, 0, 0, 0, 0, 0, 0, 0, 0, 0, 0, 0, 0, 0, 0, 0, 0, 0, 0, 0, 0, 0, 0, 0, 0, 0, ...]  \n",
              "1  [1, 0, 0, 0, 1, 1, 1, 1, 0, 0, 0, 0, 0, 0, 0, 0, 0, 0, 0, 0, 0, 0, 0, 0, 0, 0, 0, 0, 0, 0, 0, 0, 0, 0, 0, 0, 0, 0, 0, 0, 0, 0, 0, 0, 0, 0, 0, 0, 0, 0, 0, 0, 0, 0, 0, 0, 0, 0, 0, 0, 0, 0, 0, 0, 0, 0, 0, 0, 0, 0, 0, 0, 0, 0, 0, 0, 0, 0, 0, 0, 0, 0, 0, 0, 0, 0, 0, 0, 0, 0, 0, 0, 0, 0, 0, 0, 0, 0, 0, 0, ...]  \n",
              "2  [1, 0, 0, 0, 0, 0, 0, 0, 1, 1, 0, 0, 0, 0, 0, 0, 0, 0, 0, 0, 0, 0, 0, 0, 0, 0, 0, 0, 0, 0, 0, 0, 0, 0, 0, 0, 0, 0, 0, 0, 0, 0, 0, 0, 0, 0, 0, 0, 0, 0, 0, 0, 0, 0, 0, 0, 0, 0, 0, 0, 0, 0, 0, 0, 0, 0, 0, 0, 0, 0, 0, 0, 0, 0, 0, 0, 0, 0, 0, 0, 0, 0, 0, 0, 0, 0, 0, 0, 0, 0, 0, 0, 0, 0, 0, 0, 0, 0, 0, 0, ...]  \n",
              "3  [1, 0, 0, 0, 0, 0, 0, 0, 0, 0, 1, 1, 1, 0, 0, 0, 0, 0, 0, 0, 0, 0, 0, 0, 0, 0, 0, 0, 0, 0, 0, 0, 0, 0, 0, 0, 0, 0, 0, 0, 0, 0, 0, 0, 0, 0, 0, 0, 0, 0, 0, 0, 0, 0, 0, 0, 0, 0, 0, 0, 0, 0, 0, 0, 0, 0, 0, 0, 0, 0, 0, 0, 0, 0, 0, 0, 0, 0, 0, 0, 0, 0, 0, 0, 0, 0, 0, 0, 0, 0, 0, 0, 0, 0, 0, 0, 0, 0, 0, 0, ...]  \n",
              "4  [1, 0, 0, 0, 0, 0, 0, 0, 0, 0, 0, 0, 0, 1, 1, 1, 1, 0, 0, 0, 0, 0, 0, 0, 0, 0, 0, 0, 0, 0, 0, 0, 0, 0, 0, 0, 0, 0, 0, 0, 0, 0, 0, 0, 0, 0, 0, 0, 0, 0, 0, 0, 0, 0, 0, 0, 0, 0, 0, 0, 0, 0, 0, 0, 0, 0, 0, 0, 0, 0, 0, 0, 0, 0, 0, 0, 0, 0, 0, 0, 0, 0, 0, 0, 0, 0, 0, 0, 0, 0, 0, 0, 0, 0, 0, 0, 0, 0, 0, 0, ...]  "
            ],
            "text/html": [
              "\n",
              "  <div id=\"df-63cccf8d-1003-4a7d-99b4-7730a79383b9\" class=\"colab-df-container\">\n",
              "    <div>\n",
              "<style scoped>\n",
              "    .dataframe tbody tr th:only-of-type {\n",
              "        vertical-align: middle;\n",
              "    }\n",
              "\n",
              "    .dataframe tbody tr th {\n",
              "        vertical-align: top;\n",
              "    }\n",
              "\n",
              "    .dataframe thead th {\n",
              "        text-align: right;\n",
              "    }\n",
              "</style>\n",
              "<table border=\"1\" class=\"dataframe\">\n",
              "  <thead>\n",
              "    <tr style=\"text-align: right;\">\n",
              "      <th></th>\n",
              "      <th>Quote</th>\n",
              "      <th>Author</th>\n",
              "      <th>Category</th>\n",
              "      <th>Url</th>\n",
              "      <th>Tags</th>\n",
              "      <th>revised_tags</th>\n",
              "      <th>labels</th>\n",
              "    </tr>\n",
              "  </thead>\n",
              "  <tbody>\n",
              "    <tr>\n",
              "      <th>0</th>\n",
              "      <td>Age is an issue of mind over matter. If you don't mind, it doesn't matter.</td>\n",
              "      <td>Mark Twain</td>\n",
              "      <td>Age</td>\n",
              "      <td>https://www.brainyquote.com/quotes/mark_twain_103892?src=t_age</td>\n",
              "      <td>['Age', 'Mind', 'Matter', 'Over', 'Issue']</td>\n",
              "      <td>[Age, Mind, Matter, Over]</td>\n",
              "      <td>[1, 1, 1, 1, 0, 0, 0, 0, 0, 0, 0, 0, 0, 0, 0, 0, 0, 0, 0, 0, 0, 0, 0, 0, 0, 0, 0, 0, 0, 0, 0, 0, 0, 0, 0, 0, 0, 0, 0, 0, 0, 0, 0, 0, 0, 0, 0, 0, 0, 0, 0, 0, 0, 0, 0, 0, 0, 0, 0, 0, 0, 0, 0, 0, 0, 0, 0, 0, 0, 0, 0, 0, 0, 0, 0, 0, 0, 0, 0, 0, 0, 0, 0, 0, 0, 0, 0, 0, 0, 0, 0, 0, 0, 0, 0, 0, 0, 0, 0, 0, ...]</td>\n",
              "    </tr>\n",
              "    <tr>\n",
              "      <th>1</th>\n",
              "      <td>A diplomat is a man who always remembers a woman's birthday but never remembers her age.</td>\n",
              "      <td>Robert Frost</td>\n",
              "      <td>Age</td>\n",
              "      <td>https://www.brainyquote.com/quotes/robert_frost_107290?src=t_age</td>\n",
              "      <td>['Birthday', 'Age', 'Man', 'Never', 'Woman']</td>\n",
              "      <td>[Birthday, Age, Man, Never, Woman]</td>\n",
              "      <td>[1, 0, 0, 0, 1, 1, 1, 1, 0, 0, 0, 0, 0, 0, 0, 0, 0, 0, 0, 0, 0, 0, 0, 0, 0, 0, 0, 0, 0, 0, 0, 0, 0, 0, 0, 0, 0, 0, 0, 0, 0, 0, 0, 0, 0, 0, 0, 0, 0, 0, 0, 0, 0, 0, 0, 0, 0, 0, 0, 0, 0, 0, 0, 0, 0, 0, 0, 0, 0, 0, 0, 0, 0, 0, 0, 0, 0, 0, 0, 0, 0, 0, 0, 0, 0, 0, 0, 0, 0, 0, 0, 0, 0, 0, 0, 0, 0, 0, 0, 0, ...]</td>\n",
              "    </tr>\n",
              "    <tr>\n",
              "      <th>2</th>\n",
              "      <td>Youth is wasted on the young.</td>\n",
              "      <td>George Bernard Shaw</td>\n",
              "      <td>Age</td>\n",
              "      <td>https://www.brainyquote.com/quotes/george_bernard_shaw_131494?src=t_age</td>\n",
              "      <td>['Age', 'Youth', 'Young', 'Wasted']</td>\n",
              "      <td>[Age, Youth, Young]</td>\n",
              "      <td>[1, 0, 0, 0, 0, 0, 0, 0, 1, 1, 0, 0, 0, 0, 0, 0, 0, 0, 0, 0, 0, 0, 0, 0, 0, 0, 0, 0, 0, 0, 0, 0, 0, 0, 0, 0, 0, 0, 0, 0, 0, 0, 0, 0, 0, 0, 0, 0, 0, 0, 0, 0, 0, 0, 0, 0, 0, 0, 0, 0, 0, 0, 0, 0, 0, 0, 0, 0, 0, 0, 0, 0, 0, 0, 0, 0, 0, 0, 0, 0, 0, 0, 0, 0, 0, 0, 0, 0, 0, 0, 0, 0, 0, 0, 0, 0, 0, 0, 0, 0, ...]</td>\n",
              "    </tr>\n",
              "    <tr>\n",
              "      <th>3</th>\n",
              "      <td>You can't help getting older, but you don't have to get old.</td>\n",
              "      <td>George Burns</td>\n",
              "      <td>Age</td>\n",
              "      <td>https://www.brainyquote.com/quotes/george_burns_103932?src=t_age</td>\n",
              "      <td>['Age', 'Getting Older', 'Help', 'Old', 'Get']</td>\n",
              "      <td>[Age, Help, Old, Get]</td>\n",
              "      <td>[1, 0, 0, 0, 0, 0, 0, 0, 0, 0, 1, 1, 1, 0, 0, 0, 0, 0, 0, 0, 0, 0, 0, 0, 0, 0, 0, 0, 0, 0, 0, 0, 0, 0, 0, 0, 0, 0, 0, 0, 0, 0, 0, 0, 0, 0, 0, 0, 0, 0, 0, 0, 0, 0, 0, 0, 0, 0, 0, 0, 0, 0, 0, 0, 0, 0, 0, 0, 0, 0, 0, 0, 0, 0, 0, 0, 0, 0, 0, 0, 0, 0, 0, 0, 0, 0, 0, 0, 0, 0, 0, 0, 0, 0, 0, 0, 0, 0, 0, 0, ...]</td>\n",
              "    </tr>\n",
              "    <tr>\n",
              "      <th>4</th>\n",
              "      <td>As I grow older, I pay less attention to what men say. I just watch what they do.</td>\n",
              "      <td>Andrew Carnegie</td>\n",
              "      <td>Age</td>\n",
              "      <td>https://www.brainyquote.com/quotes/andrew_carnegie_106123?src=t_age</td>\n",
              "      <td>['Age', 'Men', 'Grow', 'Attention', 'Pay']</td>\n",
              "      <td>[Age, Men, Grow, Attention, Pay]</td>\n",
              "      <td>[1, 0, 0, 0, 0, 0, 0, 0, 0, 0, 0, 0, 0, 1, 1, 1, 1, 0, 0, 0, 0, 0, 0, 0, 0, 0, 0, 0, 0, 0, 0, 0, 0, 0, 0, 0, 0, 0, 0, 0, 0, 0, 0, 0, 0, 0, 0, 0, 0, 0, 0, 0, 0, 0, 0, 0, 0, 0, 0, 0, 0, 0, 0, 0, 0, 0, 0, 0, 0, 0, 0, 0, 0, 0, 0, 0, 0, 0, 0, 0, 0, 0, 0, 0, 0, 0, 0, 0, 0, 0, 0, 0, 0, 0, 0, 0, 0, 0, 0, 0, ...]</td>\n",
              "    </tr>\n",
              "  </tbody>\n",
              "</table>\n",
              "</div>\n",
              "    <div class=\"colab-df-buttons\">\n",
              "\n",
              "  <div class=\"colab-df-container\">\n",
              "    <button class=\"colab-df-convert\" onclick=\"convertToInteractive('df-63cccf8d-1003-4a7d-99b4-7730a79383b9')\"\n",
              "            title=\"Convert this dataframe to an interactive table.\"\n",
              "            style=\"display:none;\">\n",
              "\n",
              "  <svg xmlns=\"http://www.w3.org/2000/svg\" height=\"24px\" viewBox=\"0 -960 960 960\">\n",
              "    <path d=\"M120-120v-720h720v720H120Zm60-500h600v-160H180v160Zm220 220h160v-160H400v160Zm0 220h160v-160H400v160ZM180-400h160v-160H180v160Zm440 0h160v-160H620v160ZM180-180h160v-160H180v160Zm440 0h160v-160H620v160Z\"/>\n",
              "  </svg>\n",
              "    </button>\n",
              "\n",
              "  <style>\n",
              "    .colab-df-container {\n",
              "      display:flex;\n",
              "      gap: 12px;\n",
              "    }\n",
              "\n",
              "    .colab-df-convert {\n",
              "      background-color: #E8F0FE;\n",
              "      border: none;\n",
              "      border-radius: 50%;\n",
              "      cursor: pointer;\n",
              "      display: none;\n",
              "      fill: #1967D2;\n",
              "      height: 32px;\n",
              "      padding: 0 0 0 0;\n",
              "      width: 32px;\n",
              "    }\n",
              "\n",
              "    .colab-df-convert:hover {\n",
              "      background-color: #E2EBFA;\n",
              "      box-shadow: 0px 1px 2px rgba(60, 64, 67, 0.3), 0px 1px 3px 1px rgba(60, 64, 67, 0.15);\n",
              "      fill: #174EA6;\n",
              "    }\n",
              "\n",
              "    .colab-df-buttons div {\n",
              "      margin-bottom: 4px;\n",
              "    }\n",
              "\n",
              "    [theme=dark] .colab-df-convert {\n",
              "      background-color: #3B4455;\n",
              "      fill: #D2E3FC;\n",
              "    }\n",
              "\n",
              "    [theme=dark] .colab-df-convert:hover {\n",
              "      background-color: #434B5C;\n",
              "      box-shadow: 0px 1px 3px 1px rgba(0, 0, 0, 0.15);\n",
              "      filter: drop-shadow(0px 1px 2px rgba(0, 0, 0, 0.3));\n",
              "      fill: #FFFFFF;\n",
              "    }\n",
              "  </style>\n",
              "\n",
              "    <script>\n",
              "      const buttonEl =\n",
              "        document.querySelector('#df-63cccf8d-1003-4a7d-99b4-7730a79383b9 button.colab-df-convert');\n",
              "      buttonEl.style.display =\n",
              "        google.colab.kernel.accessAllowed ? 'block' : 'none';\n",
              "\n",
              "      async function convertToInteractive(key) {\n",
              "        const element = document.querySelector('#df-63cccf8d-1003-4a7d-99b4-7730a79383b9');\n",
              "        const dataTable =\n",
              "          await google.colab.kernel.invokeFunction('convertToInteractive',\n",
              "                                                    [key], {});\n",
              "        if (!dataTable) return;\n",
              "\n",
              "        const docLinkHtml = 'Like what you see? Visit the ' +\n",
              "          '<a target=\"_blank\" href=https://colab.research.google.com/notebooks/data_table.ipynb>data table notebook</a>'\n",
              "          + ' to learn more about interactive tables.';\n",
              "        element.innerHTML = '';\n",
              "        dataTable['output_type'] = 'display_data';\n",
              "        await google.colab.output.renderOutput(dataTable, element);\n",
              "        const docLink = document.createElement('div');\n",
              "        docLink.innerHTML = docLinkHtml;\n",
              "        element.appendChild(docLink);\n",
              "      }\n",
              "    </script>\n",
              "  </div>\n",
              "\n",
              "\n",
              "<div id=\"df-5523f206-8c6a-483d-868c-78afab9d7268\">\n",
              "  <button class=\"colab-df-quickchart\" onclick=\"quickchart('df-5523f206-8c6a-483d-868c-78afab9d7268')\"\n",
              "            title=\"Suggest charts\"\n",
              "            style=\"display:none;\">\n",
              "\n",
              "<svg xmlns=\"http://www.w3.org/2000/svg\" height=\"24px\"viewBox=\"0 0 24 24\"\n",
              "     width=\"24px\">\n",
              "    <g>\n",
              "        <path d=\"M19 3H5c-1.1 0-2 .9-2 2v14c0 1.1.9 2 2 2h14c1.1 0 2-.9 2-2V5c0-1.1-.9-2-2-2zM9 17H7v-7h2v7zm4 0h-2V7h2v10zm4 0h-2v-4h2v4z\"/>\n",
              "    </g>\n",
              "</svg>\n",
              "  </button>\n",
              "\n",
              "<style>\n",
              "  .colab-df-quickchart {\n",
              "      --bg-color: #E8F0FE;\n",
              "      --fill-color: #1967D2;\n",
              "      --hover-bg-color: #E2EBFA;\n",
              "      --hover-fill-color: #174EA6;\n",
              "      --disabled-fill-color: #AAA;\n",
              "      --disabled-bg-color: #DDD;\n",
              "  }\n",
              "\n",
              "  [theme=dark] .colab-df-quickchart {\n",
              "      --bg-color: #3B4455;\n",
              "      --fill-color: #D2E3FC;\n",
              "      --hover-bg-color: #434B5C;\n",
              "      --hover-fill-color: #FFFFFF;\n",
              "      --disabled-bg-color: #3B4455;\n",
              "      --disabled-fill-color: #666;\n",
              "  }\n",
              "\n",
              "  .colab-df-quickchart {\n",
              "    background-color: var(--bg-color);\n",
              "    border: none;\n",
              "    border-radius: 50%;\n",
              "    cursor: pointer;\n",
              "    display: none;\n",
              "    fill: var(--fill-color);\n",
              "    height: 32px;\n",
              "    padding: 0;\n",
              "    width: 32px;\n",
              "  }\n",
              "\n",
              "  .colab-df-quickchart:hover {\n",
              "    background-color: var(--hover-bg-color);\n",
              "    box-shadow: 0 1px 2px rgba(60, 64, 67, 0.3), 0 1px 3px 1px rgba(60, 64, 67, 0.15);\n",
              "    fill: var(--button-hover-fill-color);\n",
              "  }\n",
              "\n",
              "  .colab-df-quickchart-complete:disabled,\n",
              "  .colab-df-quickchart-complete:disabled:hover {\n",
              "    background-color: var(--disabled-bg-color);\n",
              "    fill: var(--disabled-fill-color);\n",
              "    box-shadow: none;\n",
              "  }\n",
              "\n",
              "  .colab-df-spinner {\n",
              "    border: 2px solid var(--fill-color);\n",
              "    border-color: transparent;\n",
              "    border-bottom-color: var(--fill-color);\n",
              "    animation:\n",
              "      spin 1s steps(1) infinite;\n",
              "  }\n",
              "\n",
              "  @keyframes spin {\n",
              "    0% {\n",
              "      border-color: transparent;\n",
              "      border-bottom-color: var(--fill-color);\n",
              "      border-left-color: var(--fill-color);\n",
              "    }\n",
              "    20% {\n",
              "      border-color: transparent;\n",
              "      border-left-color: var(--fill-color);\n",
              "      border-top-color: var(--fill-color);\n",
              "    }\n",
              "    30% {\n",
              "      border-color: transparent;\n",
              "      border-left-color: var(--fill-color);\n",
              "      border-top-color: var(--fill-color);\n",
              "      border-right-color: var(--fill-color);\n",
              "    }\n",
              "    40% {\n",
              "      border-color: transparent;\n",
              "      border-right-color: var(--fill-color);\n",
              "      border-top-color: var(--fill-color);\n",
              "    }\n",
              "    60% {\n",
              "      border-color: transparent;\n",
              "      border-right-color: var(--fill-color);\n",
              "    }\n",
              "    80% {\n",
              "      border-color: transparent;\n",
              "      border-right-color: var(--fill-color);\n",
              "      border-bottom-color: var(--fill-color);\n",
              "    }\n",
              "    90% {\n",
              "      border-color: transparent;\n",
              "      border-bottom-color: var(--fill-color);\n",
              "    }\n",
              "  }\n",
              "</style>\n",
              "\n",
              "  <script>\n",
              "    async function quickchart(key) {\n",
              "      const quickchartButtonEl =\n",
              "        document.querySelector('#' + key + ' button');\n",
              "      quickchartButtonEl.disabled = true;  // To prevent multiple clicks.\n",
              "      quickchartButtonEl.classList.add('colab-df-spinner');\n",
              "      try {\n",
              "        const charts = await google.colab.kernel.invokeFunction(\n",
              "            'suggestCharts', [key], {});\n",
              "      } catch (error) {\n",
              "        console.error('Error during call to suggestCharts:', error);\n",
              "      }\n",
              "      quickchartButtonEl.classList.remove('colab-df-spinner');\n",
              "      quickchartButtonEl.classList.add('colab-df-quickchart-complete');\n",
              "    }\n",
              "    (() => {\n",
              "      let quickchartButtonEl =\n",
              "        document.querySelector('#df-5523f206-8c6a-483d-868c-78afab9d7268 button');\n",
              "      quickchartButtonEl.style.display =\n",
              "        google.colab.kernel.accessAllowed ? 'block' : 'none';\n",
              "    })();\n",
              "  </script>\n",
              "</div>\n",
              "\n",
              "    </div>\n",
              "  </div>\n"
            ]
          },
          "metadata": {},
          "execution_count": 34
        }
      ]
    },
    {
      "cell_type": "code",
      "source": [
        "df.to_csv(\"prep_quotes.csv\", index = False)"
      ],
      "metadata": {
        "id": "h3wcEGQedtT6"
      },
      "execution_count": null,
      "outputs": []
    },
    {
      "cell_type": "markdown",
      "source": [
        "# Dataloader"
      ],
      "metadata": {
        "id": "Zonn7cbmeQxF"
      }
    },
    {
      "cell_type": "code",
      "source": [
        "os.listdir()"
      ],
      "metadata": {
        "colab": {
          "base_uri": "https://localhost:8080/"
        },
        "id": "ieU7aZhReaPl",
        "outputId": "ee0b6f02-6b69-4cf5-e01f-c3fea1318385"
      },
      "execution_count": null,
      "outputs": [
        {
          "output_type": "execute_result",
          "data": {
            "text/plain": [
              "['quotes_data.csv',\n",
              " 'quotes.ipynb',\n",
              " 'models',\n",
              " 'dataloaders',\n",
              " 'prep_quotes.csv',\n",
              " 'tag_types_encoded.json']"
            ]
          },
          "metadata": {},
          "execution_count": 36
        }
      ]
    },
    {
      "cell_type": "code",
      "source": [
        "df = pd.read_csv('prep_quotes.csv')"
      ],
      "metadata": {
        "id": "D5EFQi1Od71U"
      },
      "execution_count": null,
      "outputs": []
    },
    {
      "cell_type": "code",
      "source": [
        "df.head()"
      ],
      "metadata": {
        "id": "PqdenH0KeiGV",
        "colab": {
          "base_uri": "https://localhost:8080/",
          "height": 900
        },
        "outputId": "ddf76bd4-b88c-4216-dd90-b28dee7d4cdf"
      },
      "execution_count": null,
      "outputs": [
        {
          "output_type": "execute_result",
          "data": {
            "text/plain": [
              "                                                                                      Quote  \\\n",
              "0                Age is an issue of mind over matter. If you don't mind, it doesn't matter.   \n",
              "1  A diplomat is a man who always remembers a woman's birthday but never remembers her age.   \n",
              "2                                                             Youth is wasted on the young.   \n",
              "3                              You can't help getting older, but you don't have to get old.   \n",
              "4         As I grow older, I pay less attention to what men say. I just watch what they do.   \n",
              "\n",
              "                Author Category  \\\n",
              "0           Mark Twain      Age   \n",
              "1         Robert Frost      Age   \n",
              "2  George Bernard Shaw      Age   \n",
              "3         George Burns      Age   \n",
              "4      Andrew Carnegie      Age   \n",
              "\n",
              "                                                                       Url  \\\n",
              "0           https://www.brainyquote.com/quotes/mark_twain_103892?src=t_age   \n",
              "1         https://www.brainyquote.com/quotes/robert_frost_107290?src=t_age   \n",
              "2  https://www.brainyquote.com/quotes/george_bernard_shaw_131494?src=t_age   \n",
              "3         https://www.brainyquote.com/quotes/george_burns_103932?src=t_age   \n",
              "4      https://www.brainyquote.com/quotes/andrew_carnegie_106123?src=t_age   \n",
              "\n",
              "                                             Tags  \\\n",
              "0      ['Age', 'Mind', 'Matter', 'Over', 'Issue']   \n",
              "1    ['Birthday', 'Age', 'Man', 'Never', 'Woman']   \n",
              "2             ['Age', 'Youth', 'Young', 'Wasted']   \n",
              "3  ['Age', 'Getting Older', 'Help', 'Old', 'Get']   \n",
              "4      ['Age', 'Men', 'Grow', 'Attention', 'Pay']   \n",
              "\n",
              "                                   revised_tags  \\\n",
              "0             ['Age', 'Mind', 'Matter', 'Over']   \n",
              "1  ['Birthday', 'Age', 'Man', 'Never', 'Woman']   \n",
              "2                     ['Age', 'Youth', 'Young']   \n",
              "3                 ['Age', 'Help', 'Old', 'Get']   \n",
              "4    ['Age', 'Men', 'Grow', 'Attention', 'Pay']   \n",
              "\n",
              "                                                                                                                                                                                                                                                                                                                                                                                                                                                                                                                                                                                                                    labels  \n",
              "0  [1, 1, 1, 1, 0, 0, 0, 0, 0, 0, 0, 0, 0, 0, 0, 0, 0, 0, 0, 0, 0, 0, 0, 0, 0, 0, 0, 0, 0, 0, 0, 0, 0, 0, 0, 0, 0, 0, 0, 0, 0, 0, 0, 0, 0, 0, 0, 0, 0, 0, 0, 0, 0, 0, 0, 0, 0, 0, 0, 0, 0, 0, 0, 0, 0, 0, 0, 0, 0, 0, 0, 0, 0, 0, 0, 0, 0, 0, 0, 0, 0, 0, 0, 0, 0, 0, 0, 0, 0, 0, 0, 0, 0, 0, 0, 0, 0, 0, 0, 0, 0, 0, 0, 0, 0, 0, 0, 0, 0, 0, 0, 0, 0, 0, 0, 0, 0, 0, 0, 0, 0, 0, 0, 0, 0, 0, 0, 0, 0, 0, 0, 0, 0, 0, 0, 0, 0, 0, 0, 0, 0, 0, 0, 0, 0, 0, 0, 0, 0, 0, 0, 0, 0, 0, 0, 0, 0, 0, 0, 0, 0, 0, 0, 0, 0, 0, 0, 0, 0, 0, 0, 0, 0, 0, 0, 0, 0, 0, 0, 0, 0, 0, 0, 0, 0, 0, 0, 0, 0, 0, 0, 0, 0, 0, 0, 0, 0, 0, 0...  \n",
              "1  [1, 0, 0, 0, 1, 1, 1, 1, 0, 0, 0, 0, 0, 0, 0, 0, 0, 0, 0, 0, 0, 0, 0, 0, 0, 0, 0, 0, 0, 0, 0, 0, 0, 0, 0, 0, 0, 0, 0, 0, 0, 0, 0, 0, 0, 0, 0, 0, 0, 0, 0, 0, 0, 0, 0, 0, 0, 0, 0, 0, 0, 0, 0, 0, 0, 0, 0, 0, 0, 0, 0, 0, 0, 0, 0, 0, 0, 0, 0, 0, 0, 0, 0, 0, 0, 0, 0, 0, 0, 0, 0, 0, 0, 0, 0, 0, 0, 0, 0, 0, 0, 0, 0, 0, 0, 0, 0, 0, 0, 0, 0, 0, 0, 0, 0, 0, 0, 0, 0, 0, 0, 0, 0, 0, 0, 0, 0, 0, 0, 0, 0, 0, 0, 0, 0, 0, 0, 0, 0, 0, 0, 0, 0, 0, 0, 0, 0, 0, 0, 0, 0, 0, 0, 0, 0, 0, 0, 0, 0, 0, 0, 0, 0, 0, 0, 0, 0, 0, 0, 0, 0, 0, 0, 0, 0, 0, 0, 0, 0, 0, 0, 0, 0, 0, 0, 0, 0, 0, 0, 0, 0, 0, 0, 0, 0, 0, 0, 0, 0...  \n",
              "2  [1, 0, 0, 0, 0, 0, 0, 0, 1, 1, 0, 0, 0, 0, 0, 0, 0, 0, 0, 0, 0, 0, 0, 0, 0, 0, 0, 0, 0, 0, 0, 0, 0, 0, 0, 0, 0, 0, 0, 0, 0, 0, 0, 0, 0, 0, 0, 0, 0, 0, 0, 0, 0, 0, 0, 0, 0, 0, 0, 0, 0, 0, 0, 0, 0, 0, 0, 0, 0, 0, 0, 0, 0, 0, 0, 0, 0, 0, 0, 0, 0, 0, 0, 0, 0, 0, 0, 0, 0, 0, 0, 0, 0, 0, 0, 0, 0, 0, 0, 0, 0, 0, 0, 0, 0, 0, 0, 0, 0, 0, 0, 0, 0, 0, 0, 0, 0, 0, 0, 0, 0, 0, 0, 0, 0, 0, 0, 0, 0, 0, 0, 0, 0, 0, 0, 0, 0, 0, 0, 0, 0, 0, 0, 0, 0, 0, 0, 0, 0, 0, 0, 0, 0, 0, 0, 0, 0, 0, 0, 0, 0, 0, 0, 0, 0, 0, 0, 0, 0, 0, 0, 0, 0, 0, 0, 0, 0, 0, 0, 0, 0, 0, 0, 0, 0, 0, 0, 0, 0, 0, 0, 0, 0, 0, 0, 0, 0, 0, 0...  \n",
              "3  [1, 0, 0, 0, 0, 0, 0, 0, 0, 0, 1, 1, 1, 0, 0, 0, 0, 0, 0, 0, 0, 0, 0, 0, 0, 0, 0, 0, 0, 0, 0, 0, 0, 0, 0, 0, 0, 0, 0, 0, 0, 0, 0, 0, 0, 0, 0, 0, 0, 0, 0, 0, 0, 0, 0, 0, 0, 0, 0, 0, 0, 0, 0, 0, 0, 0, 0, 0, 0, 0, 0, 0, 0, 0, 0, 0, 0, 0, 0, 0, 0, 0, 0, 0, 0, 0, 0, 0, 0, 0, 0, 0, 0, 0, 0, 0, 0, 0, 0, 0, 0, 0, 0, 0, 0, 0, 0, 0, 0, 0, 0, 0, 0, 0, 0, 0, 0, 0, 0, 0, 0, 0, 0, 0, 0, 0, 0, 0, 0, 0, 0, 0, 0, 0, 0, 0, 0, 0, 0, 0, 0, 0, 0, 0, 0, 0, 0, 0, 0, 0, 0, 0, 0, 0, 0, 0, 0, 0, 0, 0, 0, 0, 0, 0, 0, 0, 0, 0, 0, 0, 0, 0, 0, 0, 0, 0, 0, 0, 0, 0, 0, 0, 0, 0, 0, 0, 0, 0, 0, 0, 0, 0, 0, 0, 0, 0, 0, 0, 0...  \n",
              "4  [1, 0, 0, 0, 0, 0, 0, 0, 0, 0, 0, 0, 0, 1, 1, 1, 1, 0, 0, 0, 0, 0, 0, 0, 0, 0, 0, 0, 0, 0, 0, 0, 0, 0, 0, 0, 0, 0, 0, 0, 0, 0, 0, 0, 0, 0, 0, 0, 0, 0, 0, 0, 0, 0, 0, 0, 0, 0, 0, 0, 0, 0, 0, 0, 0, 0, 0, 0, 0, 0, 0, 0, 0, 0, 0, 0, 0, 0, 0, 0, 0, 0, 0, 0, 0, 0, 0, 0, 0, 0, 0, 0, 0, 0, 0, 0, 0, 0, 0, 0, 0, 0, 0, 0, 0, 0, 0, 0, 0, 0, 0, 0, 0, 0, 0, 0, 0, 0, 0, 0, 0, 0, 0, 0, 0, 0, 0, 0, 0, 0, 0, 0, 0, 0, 0, 0, 0, 0, 0, 0, 0, 0, 0, 0, 0, 0, 0, 0, 0, 0, 0, 0, 0, 0, 0, 0, 0, 0, 0, 0, 0, 0, 0, 0, 0, 0, 0, 0, 0, 0, 0, 0, 0, 0, 0, 0, 0, 0, 0, 0, 0, 0, 0, 0, 0, 0, 0, 0, 0, 0, 0, 0, 0, 0, 0, 0, 0, 0, 0...  "
            ],
            "text/html": [
              "\n",
              "  <div id=\"df-849fe888-7697-44ed-a872-d78610e5d2ca\" class=\"colab-df-container\">\n",
              "    <div>\n",
              "<style scoped>\n",
              "    .dataframe tbody tr th:only-of-type {\n",
              "        vertical-align: middle;\n",
              "    }\n",
              "\n",
              "    .dataframe tbody tr th {\n",
              "        vertical-align: top;\n",
              "    }\n",
              "\n",
              "    .dataframe thead th {\n",
              "        text-align: right;\n",
              "    }\n",
              "</style>\n",
              "<table border=\"1\" class=\"dataframe\">\n",
              "  <thead>\n",
              "    <tr style=\"text-align: right;\">\n",
              "      <th></th>\n",
              "      <th>Quote</th>\n",
              "      <th>Author</th>\n",
              "      <th>Category</th>\n",
              "      <th>Url</th>\n",
              "      <th>Tags</th>\n",
              "      <th>revised_tags</th>\n",
              "      <th>labels</th>\n",
              "    </tr>\n",
              "  </thead>\n",
              "  <tbody>\n",
              "    <tr>\n",
              "      <th>0</th>\n",
              "      <td>Age is an issue of mind over matter. If you don't mind, it doesn't matter.</td>\n",
              "      <td>Mark Twain</td>\n",
              "      <td>Age</td>\n",
              "      <td>https://www.brainyquote.com/quotes/mark_twain_103892?src=t_age</td>\n",
              "      <td>['Age', 'Mind', 'Matter', 'Over', 'Issue']</td>\n",
              "      <td>['Age', 'Mind', 'Matter', 'Over']</td>\n",
              "      <td>[1, 1, 1, 1, 0, 0, 0, 0, 0, 0, 0, 0, 0, 0, 0, 0, 0, 0, 0, 0, 0, 0, 0, 0, 0, 0, 0, 0, 0, 0, 0, 0, 0, 0, 0, 0, 0, 0, 0, 0, 0, 0, 0, 0, 0, 0, 0, 0, 0, 0, 0, 0, 0, 0, 0, 0, 0, 0, 0, 0, 0, 0, 0, 0, 0, 0, 0, 0, 0, 0, 0, 0, 0, 0, 0, 0, 0, 0, 0, 0, 0, 0, 0, 0, 0, 0, 0, 0, 0, 0, 0, 0, 0, 0, 0, 0, 0, 0, 0, 0, 0, 0, 0, 0, 0, 0, 0, 0, 0, 0, 0, 0, 0, 0, 0, 0, 0, 0, 0, 0, 0, 0, 0, 0, 0, 0, 0, 0, 0, 0, 0, 0, 0, 0, 0, 0, 0, 0, 0, 0, 0, 0, 0, 0, 0, 0, 0, 0, 0, 0, 0, 0, 0, 0, 0, 0, 0, 0, 0, 0, 0, 0, 0, 0, 0, 0, 0, 0, 0, 0, 0, 0, 0, 0, 0, 0, 0, 0, 0, 0, 0, 0, 0, 0, 0, 0, 0, 0, 0, 0, 0, 0, 0, 0, 0, 0, 0, 0, 0...</td>\n",
              "    </tr>\n",
              "    <tr>\n",
              "      <th>1</th>\n",
              "      <td>A diplomat is a man who always remembers a woman's birthday but never remembers her age.</td>\n",
              "      <td>Robert Frost</td>\n",
              "      <td>Age</td>\n",
              "      <td>https://www.brainyquote.com/quotes/robert_frost_107290?src=t_age</td>\n",
              "      <td>['Birthday', 'Age', 'Man', 'Never', 'Woman']</td>\n",
              "      <td>['Birthday', 'Age', 'Man', 'Never', 'Woman']</td>\n",
              "      <td>[1, 0, 0, 0, 1, 1, 1, 1, 0, 0, 0, 0, 0, 0, 0, 0, 0, 0, 0, 0, 0, 0, 0, 0, 0, 0, 0, 0, 0, 0, 0, 0, 0, 0, 0, 0, 0, 0, 0, 0, 0, 0, 0, 0, 0, 0, 0, 0, 0, 0, 0, 0, 0, 0, 0, 0, 0, 0, 0, 0, 0, 0, 0, 0, 0, 0, 0, 0, 0, 0, 0, 0, 0, 0, 0, 0, 0, 0, 0, 0, 0, 0, 0, 0, 0, 0, 0, 0, 0, 0, 0, 0, 0, 0, 0, 0, 0, 0, 0, 0, 0, 0, 0, 0, 0, 0, 0, 0, 0, 0, 0, 0, 0, 0, 0, 0, 0, 0, 0, 0, 0, 0, 0, 0, 0, 0, 0, 0, 0, 0, 0, 0, 0, 0, 0, 0, 0, 0, 0, 0, 0, 0, 0, 0, 0, 0, 0, 0, 0, 0, 0, 0, 0, 0, 0, 0, 0, 0, 0, 0, 0, 0, 0, 0, 0, 0, 0, 0, 0, 0, 0, 0, 0, 0, 0, 0, 0, 0, 0, 0, 0, 0, 0, 0, 0, 0, 0, 0, 0, 0, 0, 0, 0, 0, 0, 0, 0, 0, 0...</td>\n",
              "    </tr>\n",
              "    <tr>\n",
              "      <th>2</th>\n",
              "      <td>Youth is wasted on the young.</td>\n",
              "      <td>George Bernard Shaw</td>\n",
              "      <td>Age</td>\n",
              "      <td>https://www.brainyquote.com/quotes/george_bernard_shaw_131494?src=t_age</td>\n",
              "      <td>['Age', 'Youth', 'Young', 'Wasted']</td>\n",
              "      <td>['Age', 'Youth', 'Young']</td>\n",
              "      <td>[1, 0, 0, 0, 0, 0, 0, 0, 1, 1, 0, 0, 0, 0, 0, 0, 0, 0, 0, 0, 0, 0, 0, 0, 0, 0, 0, 0, 0, 0, 0, 0, 0, 0, 0, 0, 0, 0, 0, 0, 0, 0, 0, 0, 0, 0, 0, 0, 0, 0, 0, 0, 0, 0, 0, 0, 0, 0, 0, 0, 0, 0, 0, 0, 0, 0, 0, 0, 0, 0, 0, 0, 0, 0, 0, 0, 0, 0, 0, 0, 0, 0, 0, 0, 0, 0, 0, 0, 0, 0, 0, 0, 0, 0, 0, 0, 0, 0, 0, 0, 0, 0, 0, 0, 0, 0, 0, 0, 0, 0, 0, 0, 0, 0, 0, 0, 0, 0, 0, 0, 0, 0, 0, 0, 0, 0, 0, 0, 0, 0, 0, 0, 0, 0, 0, 0, 0, 0, 0, 0, 0, 0, 0, 0, 0, 0, 0, 0, 0, 0, 0, 0, 0, 0, 0, 0, 0, 0, 0, 0, 0, 0, 0, 0, 0, 0, 0, 0, 0, 0, 0, 0, 0, 0, 0, 0, 0, 0, 0, 0, 0, 0, 0, 0, 0, 0, 0, 0, 0, 0, 0, 0, 0, 0, 0, 0, 0, 0, 0...</td>\n",
              "    </tr>\n",
              "    <tr>\n",
              "      <th>3</th>\n",
              "      <td>You can't help getting older, but you don't have to get old.</td>\n",
              "      <td>George Burns</td>\n",
              "      <td>Age</td>\n",
              "      <td>https://www.brainyquote.com/quotes/george_burns_103932?src=t_age</td>\n",
              "      <td>['Age', 'Getting Older', 'Help', 'Old', 'Get']</td>\n",
              "      <td>['Age', 'Help', 'Old', 'Get']</td>\n",
              "      <td>[1, 0, 0, 0, 0, 0, 0, 0, 0, 0, 1, 1, 1, 0, 0, 0, 0, 0, 0, 0, 0, 0, 0, 0, 0, 0, 0, 0, 0, 0, 0, 0, 0, 0, 0, 0, 0, 0, 0, 0, 0, 0, 0, 0, 0, 0, 0, 0, 0, 0, 0, 0, 0, 0, 0, 0, 0, 0, 0, 0, 0, 0, 0, 0, 0, 0, 0, 0, 0, 0, 0, 0, 0, 0, 0, 0, 0, 0, 0, 0, 0, 0, 0, 0, 0, 0, 0, 0, 0, 0, 0, 0, 0, 0, 0, 0, 0, 0, 0, 0, 0, 0, 0, 0, 0, 0, 0, 0, 0, 0, 0, 0, 0, 0, 0, 0, 0, 0, 0, 0, 0, 0, 0, 0, 0, 0, 0, 0, 0, 0, 0, 0, 0, 0, 0, 0, 0, 0, 0, 0, 0, 0, 0, 0, 0, 0, 0, 0, 0, 0, 0, 0, 0, 0, 0, 0, 0, 0, 0, 0, 0, 0, 0, 0, 0, 0, 0, 0, 0, 0, 0, 0, 0, 0, 0, 0, 0, 0, 0, 0, 0, 0, 0, 0, 0, 0, 0, 0, 0, 0, 0, 0, 0, 0, 0, 0, 0, 0, 0...</td>\n",
              "    </tr>\n",
              "    <tr>\n",
              "      <th>4</th>\n",
              "      <td>As I grow older, I pay less attention to what men say. I just watch what they do.</td>\n",
              "      <td>Andrew Carnegie</td>\n",
              "      <td>Age</td>\n",
              "      <td>https://www.brainyquote.com/quotes/andrew_carnegie_106123?src=t_age</td>\n",
              "      <td>['Age', 'Men', 'Grow', 'Attention', 'Pay']</td>\n",
              "      <td>['Age', 'Men', 'Grow', 'Attention', 'Pay']</td>\n",
              "      <td>[1, 0, 0, 0, 0, 0, 0, 0, 0, 0, 0, 0, 0, 1, 1, 1, 1, 0, 0, 0, 0, 0, 0, 0, 0, 0, 0, 0, 0, 0, 0, 0, 0, 0, 0, 0, 0, 0, 0, 0, 0, 0, 0, 0, 0, 0, 0, 0, 0, 0, 0, 0, 0, 0, 0, 0, 0, 0, 0, 0, 0, 0, 0, 0, 0, 0, 0, 0, 0, 0, 0, 0, 0, 0, 0, 0, 0, 0, 0, 0, 0, 0, 0, 0, 0, 0, 0, 0, 0, 0, 0, 0, 0, 0, 0, 0, 0, 0, 0, 0, 0, 0, 0, 0, 0, 0, 0, 0, 0, 0, 0, 0, 0, 0, 0, 0, 0, 0, 0, 0, 0, 0, 0, 0, 0, 0, 0, 0, 0, 0, 0, 0, 0, 0, 0, 0, 0, 0, 0, 0, 0, 0, 0, 0, 0, 0, 0, 0, 0, 0, 0, 0, 0, 0, 0, 0, 0, 0, 0, 0, 0, 0, 0, 0, 0, 0, 0, 0, 0, 0, 0, 0, 0, 0, 0, 0, 0, 0, 0, 0, 0, 0, 0, 0, 0, 0, 0, 0, 0, 0, 0, 0, 0, 0, 0, 0, 0, 0, 0...</td>\n",
              "    </tr>\n",
              "  </tbody>\n",
              "</table>\n",
              "</div>\n",
              "    <div class=\"colab-df-buttons\">\n",
              "\n",
              "  <div class=\"colab-df-container\">\n",
              "    <button class=\"colab-df-convert\" onclick=\"convertToInteractive('df-849fe888-7697-44ed-a872-d78610e5d2ca')\"\n",
              "            title=\"Convert this dataframe to an interactive table.\"\n",
              "            style=\"display:none;\">\n",
              "\n",
              "  <svg xmlns=\"http://www.w3.org/2000/svg\" height=\"24px\" viewBox=\"0 -960 960 960\">\n",
              "    <path d=\"M120-120v-720h720v720H120Zm60-500h600v-160H180v160Zm220 220h160v-160H400v160Zm0 220h160v-160H400v160ZM180-400h160v-160H180v160Zm440 0h160v-160H620v160ZM180-180h160v-160H180v160Zm440 0h160v-160H620v160Z\"/>\n",
              "  </svg>\n",
              "    </button>\n",
              "\n",
              "  <style>\n",
              "    .colab-df-container {\n",
              "      display:flex;\n",
              "      gap: 12px;\n",
              "    }\n",
              "\n",
              "    .colab-df-convert {\n",
              "      background-color: #E8F0FE;\n",
              "      border: none;\n",
              "      border-radius: 50%;\n",
              "      cursor: pointer;\n",
              "      display: none;\n",
              "      fill: #1967D2;\n",
              "      height: 32px;\n",
              "      padding: 0 0 0 0;\n",
              "      width: 32px;\n",
              "    }\n",
              "\n",
              "    .colab-df-convert:hover {\n",
              "      background-color: #E2EBFA;\n",
              "      box-shadow: 0px 1px 2px rgba(60, 64, 67, 0.3), 0px 1px 3px 1px rgba(60, 64, 67, 0.15);\n",
              "      fill: #174EA6;\n",
              "    }\n",
              "\n",
              "    .colab-df-buttons div {\n",
              "      margin-bottom: 4px;\n",
              "    }\n",
              "\n",
              "    [theme=dark] .colab-df-convert {\n",
              "      background-color: #3B4455;\n",
              "      fill: #D2E3FC;\n",
              "    }\n",
              "\n",
              "    [theme=dark] .colab-df-convert:hover {\n",
              "      background-color: #434B5C;\n",
              "      box-shadow: 0px 1px 3px 1px rgba(0, 0, 0, 0.15);\n",
              "      filter: drop-shadow(0px 1px 2px rgba(0, 0, 0, 0.3));\n",
              "      fill: #FFFFFF;\n",
              "    }\n",
              "  </style>\n",
              "\n",
              "    <script>\n",
              "      const buttonEl =\n",
              "        document.querySelector('#df-849fe888-7697-44ed-a872-d78610e5d2ca button.colab-df-convert');\n",
              "      buttonEl.style.display =\n",
              "        google.colab.kernel.accessAllowed ? 'block' : 'none';\n",
              "\n",
              "      async function convertToInteractive(key) {\n",
              "        const element = document.querySelector('#df-849fe888-7697-44ed-a872-d78610e5d2ca');\n",
              "        const dataTable =\n",
              "          await google.colab.kernel.invokeFunction('convertToInteractive',\n",
              "                                                    [key], {});\n",
              "        if (!dataTable) return;\n",
              "\n",
              "        const docLinkHtml = 'Like what you see? Visit the ' +\n",
              "          '<a target=\"_blank\" href=https://colab.research.google.com/notebooks/data_table.ipynb>data table notebook</a>'\n",
              "          + ' to learn more about interactive tables.';\n",
              "        element.innerHTML = '';\n",
              "        dataTable['output_type'] = 'display_data';\n",
              "        await google.colab.output.renderOutput(dataTable, element);\n",
              "        const docLink = document.createElement('div');\n",
              "        docLink.innerHTML = docLinkHtml;\n",
              "        element.appendChild(docLink);\n",
              "      }\n",
              "    </script>\n",
              "  </div>\n",
              "\n",
              "\n",
              "<div id=\"df-55feb318-da26-4fea-9e44-fd1987a1b104\">\n",
              "  <button class=\"colab-df-quickchart\" onclick=\"quickchart('df-55feb318-da26-4fea-9e44-fd1987a1b104')\"\n",
              "            title=\"Suggest charts\"\n",
              "            style=\"display:none;\">\n",
              "\n",
              "<svg xmlns=\"http://www.w3.org/2000/svg\" height=\"24px\"viewBox=\"0 0 24 24\"\n",
              "     width=\"24px\">\n",
              "    <g>\n",
              "        <path d=\"M19 3H5c-1.1 0-2 .9-2 2v14c0 1.1.9 2 2 2h14c1.1 0 2-.9 2-2V5c0-1.1-.9-2-2-2zM9 17H7v-7h2v7zm4 0h-2V7h2v10zm4 0h-2v-4h2v4z\"/>\n",
              "    </g>\n",
              "</svg>\n",
              "  </button>\n",
              "\n",
              "<style>\n",
              "  .colab-df-quickchart {\n",
              "      --bg-color: #E8F0FE;\n",
              "      --fill-color: #1967D2;\n",
              "      --hover-bg-color: #E2EBFA;\n",
              "      --hover-fill-color: #174EA6;\n",
              "      --disabled-fill-color: #AAA;\n",
              "      --disabled-bg-color: #DDD;\n",
              "  }\n",
              "\n",
              "  [theme=dark] .colab-df-quickchart {\n",
              "      --bg-color: #3B4455;\n",
              "      --fill-color: #D2E3FC;\n",
              "      --hover-bg-color: #434B5C;\n",
              "      --hover-fill-color: #FFFFFF;\n",
              "      --disabled-bg-color: #3B4455;\n",
              "      --disabled-fill-color: #666;\n",
              "  }\n",
              "\n",
              "  .colab-df-quickchart {\n",
              "    background-color: var(--bg-color);\n",
              "    border: none;\n",
              "    border-radius: 50%;\n",
              "    cursor: pointer;\n",
              "    display: none;\n",
              "    fill: var(--fill-color);\n",
              "    height: 32px;\n",
              "    padding: 0;\n",
              "    width: 32px;\n",
              "  }\n",
              "\n",
              "  .colab-df-quickchart:hover {\n",
              "    background-color: var(--hover-bg-color);\n",
              "    box-shadow: 0 1px 2px rgba(60, 64, 67, 0.3), 0 1px 3px 1px rgba(60, 64, 67, 0.15);\n",
              "    fill: var(--button-hover-fill-color);\n",
              "  }\n",
              "\n",
              "  .colab-df-quickchart-complete:disabled,\n",
              "  .colab-df-quickchart-complete:disabled:hover {\n",
              "    background-color: var(--disabled-bg-color);\n",
              "    fill: var(--disabled-fill-color);\n",
              "    box-shadow: none;\n",
              "  }\n",
              "\n",
              "  .colab-df-spinner {\n",
              "    border: 2px solid var(--fill-color);\n",
              "    border-color: transparent;\n",
              "    border-bottom-color: var(--fill-color);\n",
              "    animation:\n",
              "      spin 1s steps(1) infinite;\n",
              "  }\n",
              "\n",
              "  @keyframes spin {\n",
              "    0% {\n",
              "      border-color: transparent;\n",
              "      border-bottom-color: var(--fill-color);\n",
              "      border-left-color: var(--fill-color);\n",
              "    }\n",
              "    20% {\n",
              "      border-color: transparent;\n",
              "      border-left-color: var(--fill-color);\n",
              "      border-top-color: var(--fill-color);\n",
              "    }\n",
              "    30% {\n",
              "      border-color: transparent;\n",
              "      border-left-color: var(--fill-color);\n",
              "      border-top-color: var(--fill-color);\n",
              "      border-right-color: var(--fill-color);\n",
              "    }\n",
              "    40% {\n",
              "      border-color: transparent;\n",
              "      border-right-color: var(--fill-color);\n",
              "      border-top-color: var(--fill-color);\n",
              "    }\n",
              "    60% {\n",
              "      border-color: transparent;\n",
              "      border-right-color: var(--fill-color);\n",
              "    }\n",
              "    80% {\n",
              "      border-color: transparent;\n",
              "      border-right-color: var(--fill-color);\n",
              "      border-bottom-color: var(--fill-color);\n",
              "    }\n",
              "    90% {\n",
              "      border-color: transparent;\n",
              "      border-bottom-color: var(--fill-color);\n",
              "    }\n",
              "  }\n",
              "</style>\n",
              "\n",
              "  <script>\n",
              "    async function quickchart(key) {\n",
              "      const quickchartButtonEl =\n",
              "        document.querySelector('#' + key + ' button');\n",
              "      quickchartButtonEl.disabled = true;  // To prevent multiple clicks.\n",
              "      quickchartButtonEl.classList.add('colab-df-spinner');\n",
              "      try {\n",
              "        const charts = await google.colab.kernel.invokeFunction(\n",
              "            'suggestCharts', [key], {});\n",
              "      } catch (error) {\n",
              "        console.error('Error during call to suggestCharts:', error);\n",
              "      }\n",
              "      quickchartButtonEl.classList.remove('colab-df-spinner');\n",
              "      quickchartButtonEl.classList.add('colab-df-quickchart-complete');\n",
              "    }\n",
              "    (() => {\n",
              "      let quickchartButtonEl =\n",
              "        document.querySelector('#df-55feb318-da26-4fea-9e44-fd1987a1b104 button');\n",
              "      quickchartButtonEl.style.display =\n",
              "        google.colab.kernel.accessAllowed ? 'block' : 'none';\n",
              "    })();\n",
              "  </script>\n",
              "</div>\n",
              "\n",
              "    </div>\n",
              "  </div>\n"
            ]
          },
          "metadata": {},
          "execution_count": 38
        }
      ]
    },
    {
      "cell_type": "code",
      "source": [
        "with open('tag_types_encoded.json', 'r') as file:\n",
        "  tag_encoder = json.load(file)"
      ],
      "metadata": {
        "id": "Lyg5XEzm1xkH"
      },
      "execution_count": null,
      "outputs": []
    },
    {
      "cell_type": "code",
      "source": [
        "print(tag_encoder)"
      ],
      "metadata": {
        "colab": {
          "base_uri": "https://localhost:8080/"
        },
        "id": "LY6Xozxh2LrL",
        "outputId": "f9726d08-b102-44ee-d8b2-58127b133d50"
      },
      "execution_count": null,
      "outputs": [
        {
          "output_type": "stream",
          "name": "stdout",
          "text": [
            "{'Age': 0, 'Mind': 1, 'Matter': 2, 'Over': 3, 'Birthday': 4, 'Man': 5, 'Never': 6, 'Woman': 7, 'Youth': 8, 'Young': 9, 'Help': 10, 'Old': 11, 'Get': 12, 'Men': 13, 'Grow': 14, 'Attention': 15, 'Pay': 16, 'Strength': 17, 'Opportunity': 18, 'Remember': 19, 'Morning': 20, 'Wake Up': 21, 'School': 22, 'Country': 23, 'Happy': 24, 'Child': 25, 'Lie': 26, 'Live': 27, 'Old Age': 28, 'Place': 29, 'Nothing': 30, 'High': 31, 'Best': 32, 'Improve': 33, 'Soul': 34, 'Change': 35, 'Great': 36, 'People': 37, 'I Am': 38, 'Strange': 39, 'Me': 40, 'Try': 41, 'Environment': 42, 'Growing Up': 43, 'Up': 44, 'Life': 45, 'End': 46, 'Wish': 47, 'Minds': 48, 'Order': 49, 'Very': 50, 'Time': 51, 'Habit': 52, 'Busy': 53, 'Person': 54, 'Women': 55, 'Myself': 56, 'Beautiful': 57, 'Purpose': 58, 'Learning': 59, 'Art': 60, 'Work': 61, 'Nature': 62, 'Gift': 63, 'Good': 64, 'Believe': 65, 'True': 66, 'Light': 67, 'Night': 68, 'Love': 69, 'Does': 70, 'Everything': 71, 'How': 72, 'You': 73, 'Success': 74, 'Start': 75, 'Children': 76, 'Who': 77, 'Those': 78, 'Face': 79, 'Long': 80, 'Important': 81, 'Stop': 82, 'Because': 83, 'Heart': 84, 'Always': 85, 'Same': 86, 'She': 87, 'More': 88, 'Something': 89, 'Whatever': 90, 'Early': 91, 'Happens': 92, 'Lose': 93, 'Friend': 94, 'Enemy': 95, 'Only': 96, 'Sad': 97, 'Nice': 98, 'Look': 99, 'Father': 100, 'Blood': 101, 'Wife': 102, 'Trust': 103, 'Your': 104, 'Our': 105, 'Grace': 106, 'Money': 107, 'Health': 108, 'Others': 109, 'Past': 110, 'Black': 111, 'Book': 112, 'Know': 113, 'Body': 114, 'Mirror': 115, 'Day': 116, 'Energy': 117, 'Simply': 118, 'Enough': 119, 'Hope': 120, 'Without': 121, 'Moment': 122, 'Back': 123, 'Late': 124, 'Year': 125, 'New': 126, 'Giving': 127, 'Knowledge': 128, 'Own': 129, 'Feel': 130, 'Effort': 131, 'Process': 132, 'Company': 133, 'Real': 134, 'Rich': 135, 'Where': 136, 'Should': 137, 'Been': 138, 'Thinking': 139, 'Still': 140, 'Had': 141, 'Sin': 142, 'Being': 143, 'Home': 144, 'World': 145, 'Lost': 146, 'Parents': 147, 'Interesting': 148, 'Journey': 149, 'Road': 150, 'Advice': 151, 'Living': 152, 'Needs': 153, 'Nobody': 154, 'Respect': 155, 'Tomorrow': 156, 'Possible': 157, 'Family': 158, 'Like': 159, 'Cannot': 160, 'Better': 161, 'America': 162, 'Just': 163, 'Green': 164, 'Pride': 165, 'Belief': 166, 'Funny': 167, 'Wrong': 168, 'Play': 169, 'Stars': 170, 'Dress': 171, 'Sky': 172, 'Born': 173, 'Talent': 174, 'Will': 175, 'Struggle': 176, 'Regret': 177, 'Confidence': 178, 'Now': 179, 'Hands': 180, 'Moon': 181, 'Poet': 182, 'Head': 183, 'Business': 184, 'Within': 185, 'Come': 186, 'Dreams': 187, 'Fight': 188, 'Afraid': 189, 'Way': 190, 'Death': 191, 'Attitude': 192, 'Losing': 193, 'Genius': 194, 'Understand': 195, 'Learn': 196, 'Culture': 197, 'Cinema': 198, 'Faith': 199, 'Religion': 200, 'Brainy': 201, 'Happiness': 202, 'Failure': 203, 'Passion': 204, 'First': 205, 'Fun': 206, 'Ideas': 207, 'Sex': 208, 'News': 209, 'Bad': 210, 'Mean': 211, 'Destiny': 212, 'Information': 213, 'Wisdom': 214, 'Fool': 215, 'Spirit': 216, 'Find': 217, 'Next': 218, 'War': 219, 'Violence': 220, 'Imagination': 221, 'Picture': 222, 'Motivational': 223, 'Universe': 224, 'Church': 225, 'Experience': 226, 'Far': 227, 'Education': 228, 'Forget': 229, 'Dead': 230, 'Two': 231, 'He': 232, 'Years': 233, 'Act': 234, 'About': 235, 'Need': 236, 'Us': 237, 'Marriage': 238, 'Which': 239, 'Moments': 240, 'Search': 241, 'Think': 242, 'Unique': 243, 'Special': 244, 'Meaning': 245, 'Right': 246, 'Skill': 247, 'Go': 248, 'Die': 249, 'Someone': 250, 'Today': 251, 'Media': 252, 'Human': 253, 'Poor': 254, 'Progress': 255, 'Vision': 256, 'Wise': 257, 'Away': 258, 'Alone': 259, 'Truth': 260, 'Battle': 261, 'Food': 262, 'Architecture': 263, 'Memories': 264, 'Hard': 265, 'Anything': 266, 'I Think': 267, 'Dad': 268, 'Kindness': 269, 'Emotions': 270, 'Pressure': 271, 'Poverty': 272, 'Evil': 273, 'Well': 274, 'God': 275, 'Three': 276, 'Legal': 277, 'Lawyer': 278, 'Politics': 279, 'Political': 280, 'Feelings': 281, 'Game': 282, 'Walk': 283, 'Character': 284, 'Before': 285, 'Justice': 286, 'Personality': 287, 'Greatness': 288, \"don't Care\": 289, 'Care': 290, 'Much': 291, 'Any': 292, 'Friends': 293, 'Beauty': 294, 'Future': 295, 'Positive': 296, 'Power': 297, 'Door': 298, 'Sometimes': 299, 'Car': 300, 'Going': 301, 'Control': 302, 'Waiting': 303, 'Community': 304, 'Trying': 305, 'Fear': 306, 'Practice': 307, 'Eyes': 308, 'Wonder': 309, 'Talk': 310, 'Value': 311, 'History': 312, 'Poetry': 313, 'Daily': 314, 'Forgiveness': 315, 'Ambition': 316, 'Powerful': 317, 'Little': 318, 'Sympathy': 319, 'Tough': 320, 'Government': 321, 'Society': 322, 'Support': 323, 'Job': 324, 'Weird': 325, 'Artist': 326, 'Mother': 327, 'Behavior': 328, 'Speak': 329, 'Thankful': 330, 'Acting': 331, 'Music': 332, 'Cool': 333, 'Tired': 334, 'Keep': 335, 'Magic': 336, 'Hell': 337, 'Singing': 338, 'Mom': 339, 'Dance': 340, 'Laugh': 341, 'Every Day': 342, 'Technology': 343, 'Romantic': 344, 'Free': 345, 'Medical': 346, 'Situation': 347, 'Fame': 348, 'Language': 349, 'Question': 350, 'Want': 351, 'Meet': 352, 'Rest': 353, 'Travel': 354, 'Fish': 355, 'Values': 356, 'Humanity': 357, 'Problems': 358, 'Achievement': 359, 'Story': 360, 'Feet': 361, 'Leadership': 362, 'Out': 363, 'Social Media': 364, 'Gender': 365, 'Style': 366, 'Key': 367, 'Beginning': 368, 'Doing': 369, 'Even': 370, 'Done': 371, 'Freedom': 372, 'Together': 373, 'Why': 374, 'Childhood': 375, 'Generation': 376, 'Race': 377, 'Direction': 378, 'Discipline': 379, 'Dating': 380, 'Diet': 381, 'Internet': 382, 'Opinion': 383, 'Doctor': 384, 'Days': 385, 'Too': 386, 'Ignorance': 387, 'Winning': 388, 'Memory': 389, 'Sense': 390, 'Courage': 391, 'Impact': 392, 'Wealth': 393, 'Loved': 394, 'See': 395, 'Become': 396, 'Movies': 397, 'Television': 398, 'Gratitude': 399, 'Simple': 400, 'Friendship': 401, 'View': 402, 'Football': 403, 'Space': 404, 'Fitness': 405, 'Peace': 406, 'Present': 407, 'Ahead': 408, 'Blessed': 409, 'Potential': 410, 'Dream': 411, 'Teacher': 412, 'Brain': 413, 'Say': 414, 'Alive': 415, 'Tree': 416, 'Worst': 417, 'Lot': 418, 'Law': 419, 'Bring': 420, 'Intelligence': 421, 'Fighting': 422, 'General': 423, 'Challenges': 424, 'Difficult': 425, 'Hard Work': 426, 'Beyond': 427, 'Result': 428, 'Understanding': 429, 'Things': 430, 'Rather': 431, 'Limits': 432, 'Pain': 433, 'Fans': 434, 'Really': 435, 'Influence': 436, 'Focus': 437, 'Achieve': 438, 'Decision': 439, 'Army': 440, 'Son': 441, 'Hate': 442, 'Ability': 443, 'Cold': 444, 'Tradition': 445, 'Amazing': 446, 'Research': 447, 'Top': 448, 'Loyalty': 449, 'Forever': 450, 'Your Dreams': 451, 'Guitar': 452, 'Every': 453, 'Chance': 454, 'My Life': 455, 'Am': 456, 'Survive': 457, 'Hero': 458, 'Goals': 459, 'Crazy': 460, 'Quite': 461, 'Smart': 462, 'Building': 463, 'City': 464, 'Yes': 465, 'I Can': 466, 'Deep': 467, 'Reality': 468, 'Moving': 469, 'Rights': 470, 'Make': 471, 'Stay': 472, 'Rules': 473, 'Name': 474, 'Impossible': 475, 'Design': 476, 'Build': 477, 'Finance': 478, 'Would': 479, 'Suffering': 480, 'May': 481, 'Science': 482, 'Last': 483, 'Responsibility': 484, 'Than': 485, 'Through': 486, 'Shadow': 487, 'Luck': 488, 'Computers': 489, 'Liberty': 490, 'Love Is': 491, 'Talking': 492, 'Relationship': 493, 'King': 494, 'Sports': 495, 'Literature': 496, 'Many': 497, 'Choice': 498, 'Quiet': 499, 'Democracy': 500, 'Water': 501, 'Path': 502, 'Spiritual': 503, 'Escape': 504, 'Patience': 505, 'American': 506, 'Weakness': 507, 'Bible': 508, 'Often': 509, 'Integrity': 510, 'Conflict': 511, 'Fashion': 512, 'Train': 513, 'Action': 514, 'Duty': 515, 'Doubt': 516, 'Laughter': 517, 'Too Much': 518, 'White': 519, 'Competition': 520, 'Moving On': 521, 'Perspective': 522, 'Reason': 523, 'Fiction': 524, 'Career': 525, 'Enjoy': 526, 'Dangerous': 527, 'Listening': 528, 'Looking': 529, 'Street': 530, 'Brother': 531, 'Yourself': 532, 'Room': 533, 'Wonderful': 534, 'Sun': 535, 'Independence': 536, 'Easy': 537, 'Heaven': 538, 'Use': 539, 'Thoughts': 540, 'Everyone': 541, 'Choices': 542, 'Voice': 543, 'Song': 544, 'Earth': 545, 'Desire': 546, 'Sleep': 547, 'Stand': 548, 'Quality': 549, \"Valentine's Day\": 550, 'Graduation': 551, 'Christmas': 552, 'Accept': 553, 'Strong': 554, 'Them': 555, 'Revolution': 556, 'Environmental': 557, 'Anger': 558, 'Hurt': 559, 'Other': 560, 'Israel': 561, 'Service': 562, 'Force': 563, 'Table': 564, 'Credit': 565, 'Brave': 566, 'Half': 567, 'Equality': 568, 'Questions': 569, 'Rise': 570, 'Jealousy': 571, 'Enemies': 572, 'Step': 573, 'Growth': 574, 'Cooking': 575, 'Humility': 576, 'Stage': 577, 'Sacrifice': 578, 'Sound': 579, 'Follow': 580, 'Silence': 581, 'Prayer': 582, 'Communication': 583, 'Fly': 584, 'Fall': 585, 'Ready': 586, 'Teen': 587, 'Risks': 588, 'Gardening': 589, 'Worry': 590, 'Patriotism': 591, 'Point': 592, 'Words': 593, 'Team': 594, 'Honor': 595, 'Famous': 596, 'Must': 597, 'Tears': 598, 'Honesty': 599, 'Exist': 600, 'Birth': 601, 'Truth Is': 602, 'Dog': 603, 'Victory': 604, 'Wants': 605, 'Create': 606, 'Realize': 607, 'Commitment': 608, 'Interest': 609, 'Safe': 610, 'Kind': 611, 'Aim': 612, 'Social': 613, 'Eating': 614, 'Film': 615, 'Data': 616, 'Writing': 617, 'Balance': 618, 'Nation': 619, 'Fire': 620, 'System': 621, 'Stupid': 622, 'Wind': 623, 'Big': 624, 'Gay': 625, 'Constitution': 626, 'Economic': 627, 'Thing': 628, 'Negative': 629, 'Used': 630, 'Inspirational': 631, 'Smile': 632, 'Joy': 633, 'Fast': 634, 'Pretty': 635, 'Most': 636, 'Humble': 637, 'Drive': 638, 'Security': 639, 'Again': 640, 'Sweet': 641, 'Comedy': 642, 'Easter': 643, 'Made': 644, 'Events': 645, 'Angry': 646, 'Thanksgiving': 647, 'Fruit': 648, 'Drama': 649, 'Development': 650, 'Pet': 651, 'Line': 652, 'Celebrate': 653, 'Humor': 654, 'Down': 655, 'Waste': 656, 'Serious': 657, 'Seeing': 658, 'Lifestyle': 659, 'Sense Of Humor': 660, 'Wedding': 661, 'Facts': 662, 'Anniversary': 663, 'Thank God': 664, 'Mistakes': 665, 'Holiday': 666, 'Foundation': 667, 'Painting': 668, 'Intellectual': 669, 'College': 670, 'Knowing': 671, 'Training': 672, 'Parenting': 673, 'Success Is': 674}\n"
          ]
        }
      ]
    },
    {
      "cell_type": "code",
      "source": [
        "labels = list(tag_encoder.keys())"
      ],
      "metadata": {
        "id": "HytFiF5Qeki-"
      },
      "execution_count": null,
      "outputs": []
    },
    {
      "cell_type": "code",
      "source": [
        "print(labels)"
      ],
      "metadata": {
        "colab": {
          "base_uri": "https://localhost:8080/"
        },
        "id": "HX16p9xe2T8u",
        "outputId": "4c37662c-0ca1-4c02-f68e-67368c3f6185"
      },
      "execution_count": null,
      "outputs": [
        {
          "output_type": "stream",
          "name": "stdout",
          "text": [
            "['Age', 'Mind', 'Matter', 'Over', 'Birthday', 'Man', 'Never', 'Woman', 'Youth', 'Young', 'Help', 'Old', 'Get', 'Men', 'Grow', 'Attention', 'Pay', 'Strength', 'Opportunity', 'Remember', 'Morning', 'Wake Up', 'School', 'Country', 'Happy', 'Child', 'Lie', 'Live', 'Old Age', 'Place', 'Nothing', 'High', 'Best', 'Improve', 'Soul', 'Change', 'Great', 'People', 'I Am', 'Strange', 'Me', 'Try', 'Environment', 'Growing Up', 'Up', 'Life', 'End', 'Wish', 'Minds', 'Order', 'Very', 'Time', 'Habit', 'Busy', 'Person', 'Women', 'Myself', 'Beautiful', 'Purpose', 'Learning', 'Art', 'Work', 'Nature', 'Gift', 'Good', 'Believe', 'True', 'Light', 'Night', 'Love', 'Does', 'Everything', 'How', 'You', 'Success', 'Start', 'Children', 'Who', 'Those', 'Face', 'Long', 'Important', 'Stop', 'Because', 'Heart', 'Always', 'Same', 'She', 'More', 'Something', 'Whatever', 'Early', 'Happens', 'Lose', 'Friend', 'Enemy', 'Only', 'Sad', 'Nice', 'Look', 'Father', 'Blood', 'Wife', 'Trust', 'Your', 'Our', 'Grace', 'Money', 'Health', 'Others', 'Past', 'Black', 'Book', 'Know', 'Body', 'Mirror', 'Day', 'Energy', 'Simply', 'Enough', 'Hope', 'Without', 'Moment', 'Back', 'Late', 'Year', 'New', 'Giving', 'Knowledge', 'Own', 'Feel', 'Effort', 'Process', 'Company', 'Real', 'Rich', 'Where', 'Should', 'Been', 'Thinking', 'Still', 'Had', 'Sin', 'Being', 'Home', 'World', 'Lost', 'Parents', 'Interesting', 'Journey', 'Road', 'Advice', 'Living', 'Needs', 'Nobody', 'Respect', 'Tomorrow', 'Possible', 'Family', 'Like', 'Cannot', 'Better', 'America', 'Just', 'Green', 'Pride', 'Belief', 'Funny', 'Wrong', 'Play', 'Stars', 'Dress', 'Sky', 'Born', 'Talent', 'Will', 'Struggle', 'Regret', 'Confidence', 'Now', 'Hands', 'Moon', 'Poet', 'Head', 'Business', 'Within', 'Come', 'Dreams', 'Fight', 'Afraid', 'Way', 'Death', 'Attitude', 'Losing', 'Genius', 'Understand', 'Learn', 'Culture', 'Cinema', 'Faith', 'Religion', 'Brainy', 'Happiness', 'Failure', 'Passion', 'First', 'Fun', 'Ideas', 'Sex', 'News', 'Bad', 'Mean', 'Destiny', 'Information', 'Wisdom', 'Fool', 'Spirit', 'Find', 'Next', 'War', 'Violence', 'Imagination', 'Picture', 'Motivational', 'Universe', 'Church', 'Experience', 'Far', 'Education', 'Forget', 'Dead', 'Two', 'He', 'Years', 'Act', 'About', 'Need', 'Us', 'Marriage', 'Which', 'Moments', 'Search', 'Think', 'Unique', 'Special', 'Meaning', 'Right', 'Skill', 'Go', 'Die', 'Someone', 'Today', 'Media', 'Human', 'Poor', 'Progress', 'Vision', 'Wise', 'Away', 'Alone', 'Truth', 'Battle', 'Food', 'Architecture', 'Memories', 'Hard', 'Anything', 'I Think', 'Dad', 'Kindness', 'Emotions', 'Pressure', 'Poverty', 'Evil', 'Well', 'God', 'Three', 'Legal', 'Lawyer', 'Politics', 'Political', 'Feelings', 'Game', 'Walk', 'Character', 'Before', 'Justice', 'Personality', 'Greatness', \"don't Care\", 'Care', 'Much', 'Any', 'Friends', 'Beauty', 'Future', 'Positive', 'Power', 'Door', 'Sometimes', 'Car', 'Going', 'Control', 'Waiting', 'Community', 'Trying', 'Fear', 'Practice', 'Eyes', 'Wonder', 'Talk', 'Value', 'History', 'Poetry', 'Daily', 'Forgiveness', 'Ambition', 'Powerful', 'Little', 'Sympathy', 'Tough', 'Government', 'Society', 'Support', 'Job', 'Weird', 'Artist', 'Mother', 'Behavior', 'Speak', 'Thankful', 'Acting', 'Music', 'Cool', 'Tired', 'Keep', 'Magic', 'Hell', 'Singing', 'Mom', 'Dance', 'Laugh', 'Every Day', 'Technology', 'Romantic', 'Free', 'Medical', 'Situation', 'Fame', 'Language', 'Question', 'Want', 'Meet', 'Rest', 'Travel', 'Fish', 'Values', 'Humanity', 'Problems', 'Achievement', 'Story', 'Feet', 'Leadership', 'Out', 'Social Media', 'Gender', 'Style', 'Key', 'Beginning', 'Doing', 'Even', 'Done', 'Freedom', 'Together', 'Why', 'Childhood', 'Generation', 'Race', 'Direction', 'Discipline', 'Dating', 'Diet', 'Internet', 'Opinion', 'Doctor', 'Days', 'Too', 'Ignorance', 'Winning', 'Memory', 'Sense', 'Courage', 'Impact', 'Wealth', 'Loved', 'See', 'Become', 'Movies', 'Television', 'Gratitude', 'Simple', 'Friendship', 'View', 'Football', 'Space', 'Fitness', 'Peace', 'Present', 'Ahead', 'Blessed', 'Potential', 'Dream', 'Teacher', 'Brain', 'Say', 'Alive', 'Tree', 'Worst', 'Lot', 'Law', 'Bring', 'Intelligence', 'Fighting', 'General', 'Challenges', 'Difficult', 'Hard Work', 'Beyond', 'Result', 'Understanding', 'Things', 'Rather', 'Limits', 'Pain', 'Fans', 'Really', 'Influence', 'Focus', 'Achieve', 'Decision', 'Army', 'Son', 'Hate', 'Ability', 'Cold', 'Tradition', 'Amazing', 'Research', 'Top', 'Loyalty', 'Forever', 'Your Dreams', 'Guitar', 'Every', 'Chance', 'My Life', 'Am', 'Survive', 'Hero', 'Goals', 'Crazy', 'Quite', 'Smart', 'Building', 'City', 'Yes', 'I Can', 'Deep', 'Reality', 'Moving', 'Rights', 'Make', 'Stay', 'Rules', 'Name', 'Impossible', 'Design', 'Build', 'Finance', 'Would', 'Suffering', 'May', 'Science', 'Last', 'Responsibility', 'Than', 'Through', 'Shadow', 'Luck', 'Computers', 'Liberty', 'Love Is', 'Talking', 'Relationship', 'King', 'Sports', 'Literature', 'Many', 'Choice', 'Quiet', 'Democracy', 'Water', 'Path', 'Spiritual', 'Escape', 'Patience', 'American', 'Weakness', 'Bible', 'Often', 'Integrity', 'Conflict', 'Fashion', 'Train', 'Action', 'Duty', 'Doubt', 'Laughter', 'Too Much', 'White', 'Competition', 'Moving On', 'Perspective', 'Reason', 'Fiction', 'Career', 'Enjoy', 'Dangerous', 'Listening', 'Looking', 'Street', 'Brother', 'Yourself', 'Room', 'Wonderful', 'Sun', 'Independence', 'Easy', 'Heaven', 'Use', 'Thoughts', 'Everyone', 'Choices', 'Voice', 'Song', 'Earth', 'Desire', 'Sleep', 'Stand', 'Quality', \"Valentine's Day\", 'Graduation', 'Christmas', 'Accept', 'Strong', 'Them', 'Revolution', 'Environmental', 'Anger', 'Hurt', 'Other', 'Israel', 'Service', 'Force', 'Table', 'Credit', 'Brave', 'Half', 'Equality', 'Questions', 'Rise', 'Jealousy', 'Enemies', 'Step', 'Growth', 'Cooking', 'Humility', 'Stage', 'Sacrifice', 'Sound', 'Follow', 'Silence', 'Prayer', 'Communication', 'Fly', 'Fall', 'Ready', 'Teen', 'Risks', 'Gardening', 'Worry', 'Patriotism', 'Point', 'Words', 'Team', 'Honor', 'Famous', 'Must', 'Tears', 'Honesty', 'Exist', 'Birth', 'Truth Is', 'Dog', 'Victory', 'Wants', 'Create', 'Realize', 'Commitment', 'Interest', 'Safe', 'Kind', 'Aim', 'Social', 'Eating', 'Film', 'Data', 'Writing', 'Balance', 'Nation', 'Fire', 'System', 'Stupid', 'Wind', 'Big', 'Gay', 'Constitution', 'Economic', 'Thing', 'Negative', 'Used', 'Inspirational', 'Smile', 'Joy', 'Fast', 'Pretty', 'Most', 'Humble', 'Drive', 'Security', 'Again', 'Sweet', 'Comedy', 'Easter', 'Made', 'Events', 'Angry', 'Thanksgiving', 'Fruit', 'Drama', 'Development', 'Pet', 'Line', 'Celebrate', 'Humor', 'Down', 'Waste', 'Serious', 'Seeing', 'Lifestyle', 'Sense Of Humor', 'Wedding', 'Facts', 'Anniversary', 'Thank God', 'Mistakes', 'Holiday', 'Foundation', 'Painting', 'Intellectual', 'College', 'Knowing', 'Training', 'Parenting', 'Success Is']\n"
          ]
        }
      ]
    },
    {
      "cell_type": "code",
      "source": [
        "def convert_to_int(arr):\n",
        "  arr = np.array(eval(arr))\n",
        "  return arr.astype(np.int64)"
      ],
      "metadata": {
        "id": "hs-EGXOnmO2l"
      },
      "execution_count": null,
      "outputs": []
    },
    {
      "cell_type": "code",
      "source": [
        "df['labels'] = df['labels'].apply(convert_to_int)"
      ],
      "metadata": {
        "id": "Od9BsM-_mPas"
      },
      "execution_count": null,
      "outputs": []
    },
    {
      "cell_type": "code",
      "source": [
        "df.head()"
      ],
      "metadata": {
        "colab": {
          "base_uri": "https://localhost:8080/",
          "height": 640
        },
        "id": "njaO-PT-mT9J",
        "outputId": "f9072b8e-4d72-4fd6-ef11-79658772e588"
      },
      "execution_count": null,
      "outputs": [
        {
          "output_type": "execute_result",
          "data": {
            "text/plain": [
              "                                                                                      Quote  \\\n",
              "0                Age is an issue of mind over matter. If you don't mind, it doesn't matter.   \n",
              "1  A diplomat is a man who always remembers a woman's birthday but never remembers her age.   \n",
              "2                                                             Youth is wasted on the young.   \n",
              "3                              You can't help getting older, but you don't have to get old.   \n",
              "4         As I grow older, I pay less attention to what men say. I just watch what they do.   \n",
              "\n",
              "                Author Category  \\\n",
              "0           Mark Twain      Age   \n",
              "1         Robert Frost      Age   \n",
              "2  George Bernard Shaw      Age   \n",
              "3         George Burns      Age   \n",
              "4      Andrew Carnegie      Age   \n",
              "\n",
              "                                                                       Url  \\\n",
              "0           https://www.brainyquote.com/quotes/mark_twain_103892?src=t_age   \n",
              "1         https://www.brainyquote.com/quotes/robert_frost_107290?src=t_age   \n",
              "2  https://www.brainyquote.com/quotes/george_bernard_shaw_131494?src=t_age   \n",
              "3         https://www.brainyquote.com/quotes/george_burns_103932?src=t_age   \n",
              "4      https://www.brainyquote.com/quotes/andrew_carnegie_106123?src=t_age   \n",
              "\n",
              "                                             Tags  \\\n",
              "0      ['Age', 'Mind', 'Matter', 'Over', 'Issue']   \n",
              "1    ['Birthday', 'Age', 'Man', 'Never', 'Woman']   \n",
              "2             ['Age', 'Youth', 'Young', 'Wasted']   \n",
              "3  ['Age', 'Getting Older', 'Help', 'Old', 'Get']   \n",
              "4      ['Age', 'Men', 'Grow', 'Attention', 'Pay']   \n",
              "\n",
              "                                   revised_tags  \\\n",
              "0             ['Age', 'Mind', 'Matter', 'Over']   \n",
              "1  ['Birthday', 'Age', 'Man', 'Never', 'Woman']   \n",
              "2                     ['Age', 'Youth', 'Young']   \n",
              "3                 ['Age', 'Help', 'Old', 'Get']   \n",
              "4    ['Age', 'Men', 'Grow', 'Attention', 'Pay']   \n",
              "\n",
              "                                                                                                                                                                                                                                                                                                              labels  \n",
              "0  [1, 1, 1, 1, 0, 0, 0, 0, 0, 0, 0, 0, 0, 0, 0, 0, 0, 0, 0, 0, 0, 0, 0, 0, 0, 0, 0, 0, 0, 0, 0, 0, 0, 0, 0, 0, 0, 0, 0, 0, 0, 0, 0, 0, 0, 0, 0, 0, 0, 0, 0, 0, 0, 0, 0, 0, 0, 0, 0, 0, 0, 0, 0, 0, 0, 0, 0, 0, 0, 0, 0, 0, 0, 0, 0, 0, 0, 0, 0, 0, 0, 0, 0, 0, 0, 0, 0, 0, 0, 0, 0, 0, 0, 0, 0, 0, 0, 0, 0, 0, ...]  \n",
              "1  [1, 0, 0, 0, 1, 1, 1, 1, 0, 0, 0, 0, 0, 0, 0, 0, 0, 0, 0, 0, 0, 0, 0, 0, 0, 0, 0, 0, 0, 0, 0, 0, 0, 0, 0, 0, 0, 0, 0, 0, 0, 0, 0, 0, 0, 0, 0, 0, 0, 0, 0, 0, 0, 0, 0, 0, 0, 0, 0, 0, 0, 0, 0, 0, 0, 0, 0, 0, 0, 0, 0, 0, 0, 0, 0, 0, 0, 0, 0, 0, 0, 0, 0, 0, 0, 0, 0, 0, 0, 0, 0, 0, 0, 0, 0, 0, 0, 0, 0, 0, ...]  \n",
              "2  [1, 0, 0, 0, 0, 0, 0, 0, 1, 1, 0, 0, 0, 0, 0, 0, 0, 0, 0, 0, 0, 0, 0, 0, 0, 0, 0, 0, 0, 0, 0, 0, 0, 0, 0, 0, 0, 0, 0, 0, 0, 0, 0, 0, 0, 0, 0, 0, 0, 0, 0, 0, 0, 0, 0, 0, 0, 0, 0, 0, 0, 0, 0, 0, 0, 0, 0, 0, 0, 0, 0, 0, 0, 0, 0, 0, 0, 0, 0, 0, 0, 0, 0, 0, 0, 0, 0, 0, 0, 0, 0, 0, 0, 0, 0, 0, 0, 0, 0, 0, ...]  \n",
              "3  [1, 0, 0, 0, 0, 0, 0, 0, 0, 0, 1, 1, 1, 0, 0, 0, 0, 0, 0, 0, 0, 0, 0, 0, 0, 0, 0, 0, 0, 0, 0, 0, 0, 0, 0, 0, 0, 0, 0, 0, 0, 0, 0, 0, 0, 0, 0, 0, 0, 0, 0, 0, 0, 0, 0, 0, 0, 0, 0, 0, 0, 0, 0, 0, 0, 0, 0, 0, 0, 0, 0, 0, 0, 0, 0, 0, 0, 0, 0, 0, 0, 0, 0, 0, 0, 0, 0, 0, 0, 0, 0, 0, 0, 0, 0, 0, 0, 0, 0, 0, ...]  \n",
              "4  [1, 0, 0, 0, 0, 0, 0, 0, 0, 0, 0, 0, 0, 1, 1, 1, 1, 0, 0, 0, 0, 0, 0, 0, 0, 0, 0, 0, 0, 0, 0, 0, 0, 0, 0, 0, 0, 0, 0, 0, 0, 0, 0, 0, 0, 0, 0, 0, 0, 0, 0, 0, 0, 0, 0, 0, 0, 0, 0, 0, 0, 0, 0, 0, 0, 0, 0, 0, 0, 0, 0, 0, 0, 0, 0, 0, 0, 0, 0, 0, 0, 0, 0, 0, 0, 0, 0, 0, 0, 0, 0, 0, 0, 0, 0, 0, 0, 0, 0, 0, ...]  "
            ],
            "text/html": [
              "\n",
              "  <div id=\"df-f8ad50b8-931e-49f1-8aa9-6cd59b42cc1e\" class=\"colab-df-container\">\n",
              "    <div>\n",
              "<style scoped>\n",
              "    .dataframe tbody tr th:only-of-type {\n",
              "        vertical-align: middle;\n",
              "    }\n",
              "\n",
              "    .dataframe tbody tr th {\n",
              "        vertical-align: top;\n",
              "    }\n",
              "\n",
              "    .dataframe thead th {\n",
              "        text-align: right;\n",
              "    }\n",
              "</style>\n",
              "<table border=\"1\" class=\"dataframe\">\n",
              "  <thead>\n",
              "    <tr style=\"text-align: right;\">\n",
              "      <th></th>\n",
              "      <th>Quote</th>\n",
              "      <th>Author</th>\n",
              "      <th>Category</th>\n",
              "      <th>Url</th>\n",
              "      <th>Tags</th>\n",
              "      <th>revised_tags</th>\n",
              "      <th>labels</th>\n",
              "    </tr>\n",
              "  </thead>\n",
              "  <tbody>\n",
              "    <tr>\n",
              "      <th>0</th>\n",
              "      <td>Age is an issue of mind over matter. If you don't mind, it doesn't matter.</td>\n",
              "      <td>Mark Twain</td>\n",
              "      <td>Age</td>\n",
              "      <td>https://www.brainyquote.com/quotes/mark_twain_103892?src=t_age</td>\n",
              "      <td>['Age', 'Mind', 'Matter', 'Over', 'Issue']</td>\n",
              "      <td>['Age', 'Mind', 'Matter', 'Over']</td>\n",
              "      <td>[1, 1, 1, 1, 0, 0, 0, 0, 0, 0, 0, 0, 0, 0, 0, 0, 0, 0, 0, 0, 0, 0, 0, 0, 0, 0, 0, 0, 0, 0, 0, 0, 0, 0, 0, 0, 0, 0, 0, 0, 0, 0, 0, 0, 0, 0, 0, 0, 0, 0, 0, 0, 0, 0, 0, 0, 0, 0, 0, 0, 0, 0, 0, 0, 0, 0, 0, 0, 0, 0, 0, 0, 0, 0, 0, 0, 0, 0, 0, 0, 0, 0, 0, 0, 0, 0, 0, 0, 0, 0, 0, 0, 0, 0, 0, 0, 0, 0, 0, 0, ...]</td>\n",
              "    </tr>\n",
              "    <tr>\n",
              "      <th>1</th>\n",
              "      <td>A diplomat is a man who always remembers a woman's birthday but never remembers her age.</td>\n",
              "      <td>Robert Frost</td>\n",
              "      <td>Age</td>\n",
              "      <td>https://www.brainyquote.com/quotes/robert_frost_107290?src=t_age</td>\n",
              "      <td>['Birthday', 'Age', 'Man', 'Never', 'Woman']</td>\n",
              "      <td>['Birthday', 'Age', 'Man', 'Never', 'Woman']</td>\n",
              "      <td>[1, 0, 0, 0, 1, 1, 1, 1, 0, 0, 0, 0, 0, 0, 0, 0, 0, 0, 0, 0, 0, 0, 0, 0, 0, 0, 0, 0, 0, 0, 0, 0, 0, 0, 0, 0, 0, 0, 0, 0, 0, 0, 0, 0, 0, 0, 0, 0, 0, 0, 0, 0, 0, 0, 0, 0, 0, 0, 0, 0, 0, 0, 0, 0, 0, 0, 0, 0, 0, 0, 0, 0, 0, 0, 0, 0, 0, 0, 0, 0, 0, 0, 0, 0, 0, 0, 0, 0, 0, 0, 0, 0, 0, 0, 0, 0, 0, 0, 0, 0, ...]</td>\n",
              "    </tr>\n",
              "    <tr>\n",
              "      <th>2</th>\n",
              "      <td>Youth is wasted on the young.</td>\n",
              "      <td>George Bernard Shaw</td>\n",
              "      <td>Age</td>\n",
              "      <td>https://www.brainyquote.com/quotes/george_bernard_shaw_131494?src=t_age</td>\n",
              "      <td>['Age', 'Youth', 'Young', 'Wasted']</td>\n",
              "      <td>['Age', 'Youth', 'Young']</td>\n",
              "      <td>[1, 0, 0, 0, 0, 0, 0, 0, 1, 1, 0, 0, 0, 0, 0, 0, 0, 0, 0, 0, 0, 0, 0, 0, 0, 0, 0, 0, 0, 0, 0, 0, 0, 0, 0, 0, 0, 0, 0, 0, 0, 0, 0, 0, 0, 0, 0, 0, 0, 0, 0, 0, 0, 0, 0, 0, 0, 0, 0, 0, 0, 0, 0, 0, 0, 0, 0, 0, 0, 0, 0, 0, 0, 0, 0, 0, 0, 0, 0, 0, 0, 0, 0, 0, 0, 0, 0, 0, 0, 0, 0, 0, 0, 0, 0, 0, 0, 0, 0, 0, ...]</td>\n",
              "    </tr>\n",
              "    <tr>\n",
              "      <th>3</th>\n",
              "      <td>You can't help getting older, but you don't have to get old.</td>\n",
              "      <td>George Burns</td>\n",
              "      <td>Age</td>\n",
              "      <td>https://www.brainyquote.com/quotes/george_burns_103932?src=t_age</td>\n",
              "      <td>['Age', 'Getting Older', 'Help', 'Old', 'Get']</td>\n",
              "      <td>['Age', 'Help', 'Old', 'Get']</td>\n",
              "      <td>[1, 0, 0, 0, 0, 0, 0, 0, 0, 0, 1, 1, 1, 0, 0, 0, 0, 0, 0, 0, 0, 0, 0, 0, 0, 0, 0, 0, 0, 0, 0, 0, 0, 0, 0, 0, 0, 0, 0, 0, 0, 0, 0, 0, 0, 0, 0, 0, 0, 0, 0, 0, 0, 0, 0, 0, 0, 0, 0, 0, 0, 0, 0, 0, 0, 0, 0, 0, 0, 0, 0, 0, 0, 0, 0, 0, 0, 0, 0, 0, 0, 0, 0, 0, 0, 0, 0, 0, 0, 0, 0, 0, 0, 0, 0, 0, 0, 0, 0, 0, ...]</td>\n",
              "    </tr>\n",
              "    <tr>\n",
              "      <th>4</th>\n",
              "      <td>As I grow older, I pay less attention to what men say. I just watch what they do.</td>\n",
              "      <td>Andrew Carnegie</td>\n",
              "      <td>Age</td>\n",
              "      <td>https://www.brainyquote.com/quotes/andrew_carnegie_106123?src=t_age</td>\n",
              "      <td>['Age', 'Men', 'Grow', 'Attention', 'Pay']</td>\n",
              "      <td>['Age', 'Men', 'Grow', 'Attention', 'Pay']</td>\n",
              "      <td>[1, 0, 0, 0, 0, 0, 0, 0, 0, 0, 0, 0, 0, 1, 1, 1, 1, 0, 0, 0, 0, 0, 0, 0, 0, 0, 0, 0, 0, 0, 0, 0, 0, 0, 0, 0, 0, 0, 0, 0, 0, 0, 0, 0, 0, 0, 0, 0, 0, 0, 0, 0, 0, 0, 0, 0, 0, 0, 0, 0, 0, 0, 0, 0, 0, 0, 0, 0, 0, 0, 0, 0, 0, 0, 0, 0, 0, 0, 0, 0, 0, 0, 0, 0, 0, 0, 0, 0, 0, 0, 0, 0, 0, 0, 0, 0, 0, 0, 0, 0, ...]</td>\n",
              "    </tr>\n",
              "  </tbody>\n",
              "</table>\n",
              "</div>\n",
              "    <div class=\"colab-df-buttons\">\n",
              "\n",
              "  <div class=\"colab-df-container\">\n",
              "    <button class=\"colab-df-convert\" onclick=\"convertToInteractive('df-f8ad50b8-931e-49f1-8aa9-6cd59b42cc1e')\"\n",
              "            title=\"Convert this dataframe to an interactive table.\"\n",
              "            style=\"display:none;\">\n",
              "\n",
              "  <svg xmlns=\"http://www.w3.org/2000/svg\" height=\"24px\" viewBox=\"0 -960 960 960\">\n",
              "    <path d=\"M120-120v-720h720v720H120Zm60-500h600v-160H180v160Zm220 220h160v-160H400v160Zm0 220h160v-160H400v160ZM180-400h160v-160H180v160Zm440 0h160v-160H620v160ZM180-180h160v-160H180v160Zm440 0h160v-160H620v160Z\"/>\n",
              "  </svg>\n",
              "    </button>\n",
              "\n",
              "  <style>\n",
              "    .colab-df-container {\n",
              "      display:flex;\n",
              "      gap: 12px;\n",
              "    }\n",
              "\n",
              "    .colab-df-convert {\n",
              "      background-color: #E8F0FE;\n",
              "      border: none;\n",
              "      border-radius: 50%;\n",
              "      cursor: pointer;\n",
              "      display: none;\n",
              "      fill: #1967D2;\n",
              "      height: 32px;\n",
              "      padding: 0 0 0 0;\n",
              "      width: 32px;\n",
              "    }\n",
              "\n",
              "    .colab-df-convert:hover {\n",
              "      background-color: #E2EBFA;\n",
              "      box-shadow: 0px 1px 2px rgba(60, 64, 67, 0.3), 0px 1px 3px 1px rgba(60, 64, 67, 0.15);\n",
              "      fill: #174EA6;\n",
              "    }\n",
              "\n",
              "    .colab-df-buttons div {\n",
              "      margin-bottom: 4px;\n",
              "    }\n",
              "\n",
              "    [theme=dark] .colab-df-convert {\n",
              "      background-color: #3B4455;\n",
              "      fill: #D2E3FC;\n",
              "    }\n",
              "\n",
              "    [theme=dark] .colab-df-convert:hover {\n",
              "      background-color: #434B5C;\n",
              "      box-shadow: 0px 1px 3px 1px rgba(0, 0, 0, 0.15);\n",
              "      filter: drop-shadow(0px 1px 2px rgba(0, 0, 0, 0.3));\n",
              "      fill: #FFFFFF;\n",
              "    }\n",
              "  </style>\n",
              "\n",
              "    <script>\n",
              "      const buttonEl =\n",
              "        document.querySelector('#df-f8ad50b8-931e-49f1-8aa9-6cd59b42cc1e button.colab-df-convert');\n",
              "      buttonEl.style.display =\n",
              "        google.colab.kernel.accessAllowed ? 'block' : 'none';\n",
              "\n",
              "      async function convertToInteractive(key) {\n",
              "        const element = document.querySelector('#df-f8ad50b8-931e-49f1-8aa9-6cd59b42cc1e');\n",
              "        const dataTable =\n",
              "          await google.colab.kernel.invokeFunction('convertToInteractive',\n",
              "                                                    [key], {});\n",
              "        if (!dataTable) return;\n",
              "\n",
              "        const docLinkHtml = 'Like what you see? Visit the ' +\n",
              "          '<a target=\"_blank\" href=https://colab.research.google.com/notebooks/data_table.ipynb>data table notebook</a>'\n",
              "          + ' to learn more about interactive tables.';\n",
              "        element.innerHTML = '';\n",
              "        dataTable['output_type'] = 'display_data';\n",
              "        await google.colab.output.renderOutput(dataTable, element);\n",
              "        const docLink = document.createElement('div');\n",
              "        docLink.innerHTML = docLinkHtml;\n",
              "        element.appendChild(docLink);\n",
              "      }\n",
              "    </script>\n",
              "  </div>\n",
              "\n",
              "\n",
              "<div id=\"df-59b364d2-f71a-4bbb-b614-17dec498d2c3\">\n",
              "  <button class=\"colab-df-quickchart\" onclick=\"quickchart('df-59b364d2-f71a-4bbb-b614-17dec498d2c3')\"\n",
              "            title=\"Suggest charts\"\n",
              "            style=\"display:none;\">\n",
              "\n",
              "<svg xmlns=\"http://www.w3.org/2000/svg\" height=\"24px\"viewBox=\"0 0 24 24\"\n",
              "     width=\"24px\">\n",
              "    <g>\n",
              "        <path d=\"M19 3H5c-1.1 0-2 .9-2 2v14c0 1.1.9 2 2 2h14c1.1 0 2-.9 2-2V5c0-1.1-.9-2-2-2zM9 17H7v-7h2v7zm4 0h-2V7h2v10zm4 0h-2v-4h2v4z\"/>\n",
              "    </g>\n",
              "</svg>\n",
              "  </button>\n",
              "\n",
              "<style>\n",
              "  .colab-df-quickchart {\n",
              "      --bg-color: #E8F0FE;\n",
              "      --fill-color: #1967D2;\n",
              "      --hover-bg-color: #E2EBFA;\n",
              "      --hover-fill-color: #174EA6;\n",
              "      --disabled-fill-color: #AAA;\n",
              "      --disabled-bg-color: #DDD;\n",
              "  }\n",
              "\n",
              "  [theme=dark] .colab-df-quickchart {\n",
              "      --bg-color: #3B4455;\n",
              "      --fill-color: #D2E3FC;\n",
              "      --hover-bg-color: #434B5C;\n",
              "      --hover-fill-color: #FFFFFF;\n",
              "      --disabled-bg-color: #3B4455;\n",
              "      --disabled-fill-color: #666;\n",
              "  }\n",
              "\n",
              "  .colab-df-quickchart {\n",
              "    background-color: var(--bg-color);\n",
              "    border: none;\n",
              "    border-radius: 50%;\n",
              "    cursor: pointer;\n",
              "    display: none;\n",
              "    fill: var(--fill-color);\n",
              "    height: 32px;\n",
              "    padding: 0;\n",
              "    width: 32px;\n",
              "  }\n",
              "\n",
              "  .colab-df-quickchart:hover {\n",
              "    background-color: var(--hover-bg-color);\n",
              "    box-shadow: 0 1px 2px rgba(60, 64, 67, 0.3), 0 1px 3px 1px rgba(60, 64, 67, 0.15);\n",
              "    fill: var(--button-hover-fill-color);\n",
              "  }\n",
              "\n",
              "  .colab-df-quickchart-complete:disabled,\n",
              "  .colab-df-quickchart-complete:disabled:hover {\n",
              "    background-color: var(--disabled-bg-color);\n",
              "    fill: var(--disabled-fill-color);\n",
              "    box-shadow: none;\n",
              "  }\n",
              "\n",
              "  .colab-df-spinner {\n",
              "    border: 2px solid var(--fill-color);\n",
              "    border-color: transparent;\n",
              "    border-bottom-color: var(--fill-color);\n",
              "    animation:\n",
              "      spin 1s steps(1) infinite;\n",
              "  }\n",
              "\n",
              "  @keyframes spin {\n",
              "    0% {\n",
              "      border-color: transparent;\n",
              "      border-bottom-color: var(--fill-color);\n",
              "      border-left-color: var(--fill-color);\n",
              "    }\n",
              "    20% {\n",
              "      border-color: transparent;\n",
              "      border-left-color: var(--fill-color);\n",
              "      border-top-color: var(--fill-color);\n",
              "    }\n",
              "    30% {\n",
              "      border-color: transparent;\n",
              "      border-left-color: var(--fill-color);\n",
              "      border-top-color: var(--fill-color);\n",
              "      border-right-color: var(--fill-color);\n",
              "    }\n",
              "    40% {\n",
              "      border-color: transparent;\n",
              "      border-right-color: var(--fill-color);\n",
              "      border-top-color: var(--fill-color);\n",
              "    }\n",
              "    60% {\n",
              "      border-color: transparent;\n",
              "      border-right-color: var(--fill-color);\n",
              "    }\n",
              "    80% {\n",
              "      border-color: transparent;\n",
              "      border-right-color: var(--fill-color);\n",
              "      border-bottom-color: var(--fill-color);\n",
              "    }\n",
              "    90% {\n",
              "      border-color: transparent;\n",
              "      border-bottom-color: var(--fill-color);\n",
              "    }\n",
              "  }\n",
              "</style>\n",
              "\n",
              "  <script>\n",
              "    async function quickchart(key) {\n",
              "      const quickchartButtonEl =\n",
              "        document.querySelector('#' + key + ' button');\n",
              "      quickchartButtonEl.disabled = true;  // To prevent multiple clicks.\n",
              "      quickchartButtonEl.classList.add('colab-df-spinner');\n",
              "      try {\n",
              "        const charts = await google.colab.kernel.invokeFunction(\n",
              "            'suggestCharts', [key], {});\n",
              "      } catch (error) {\n",
              "        console.error('Error during call to suggestCharts:', error);\n",
              "      }\n",
              "      quickchartButtonEl.classList.remove('colab-df-spinner');\n",
              "      quickchartButtonEl.classList.add('colab-df-quickchart-complete');\n",
              "    }\n",
              "    (() => {\n",
              "      let quickchartButtonEl =\n",
              "        document.querySelector('#df-59b364d2-f71a-4bbb-b614-17dec498d2c3 button');\n",
              "      quickchartButtonEl.style.display =\n",
              "        google.colab.kernel.accessAllowed ? 'block' : 'none';\n",
              "    })();\n",
              "  </script>\n",
              "</div>\n",
              "\n",
              "    </div>\n",
              "  </div>\n"
            ]
          },
          "metadata": {},
          "execution_count": 46
        }
      ]
    },
    {
      "cell_type": "markdown",
      "source": [
        "# DistilRoberta Base"
      ],
      "metadata": {
        "id": "p5JgMhLWmVUE"
      }
    },
    {
      "cell_type": "code",
      "source": [
        "model_name = \"distilroberta-base\"\n",
        "model_cls = AutoModelForSequenceClassification\n",
        "config = AutoConfig.from_pretrained(model_name)\n",
        "config.num_labels = len(labels)\n",
        "\n",
        "hf_arch, hf_config, hf_tokenizer, hf_model = get_hf_objects(model_name, model_cls = model_cls, config = config)\n",
        "hf_model.config.problem_type = \"multi_label_classification\""
      ],
      "metadata": {
        "id": "yrEgOS2N2Vbs"
      },
      "execution_count": null,
      "outputs": []
    },
    {
      "cell_type": "code",
      "source": [
        "blocks = (TextBlock(hf_arch, hf_config, hf_tokenizer, hf_model), MultiCategoryBlock(encoded = True, vocab = labels))\n",
        "dblock = DataBlock(blocks = blocks, get_x = ColReader('Quote'), get_y = ColReader('labels'), splitter = RandomSplitter(valid_pct = 0.2, seed = 42))"
      ],
      "metadata": {
        "id": "VBhehlYl3fiF"
      },
      "execution_count": null,
      "outputs": []
    },
    {
      "cell_type": "code",
      "source": [
        "dls = dblock.dataloaders(df, bs = 32)"
      ],
      "metadata": {
        "id": "xITNy8gL5NHo"
      },
      "execution_count": null,
      "outputs": []
    },
    {
      "cell_type": "code",
      "source": [
        "dls_path = \"dataloaders\"\n",
        "if not os.path.exists(dls_path):\n",
        "  os.makedirs(dls_path)\n",
        "torch.save(dls, f\"dataloaders/dls-multilabel-quote-classifier-{model_name}.pkl\")"
      ],
      "metadata": {
        "id": "ovyLzI7C5TP1"
      },
      "execution_count": null,
      "outputs": []
    },
    {
      "cell_type": "code",
      "source": [
        "os.listdir('models')"
      ],
      "metadata": {
        "colab": {
          "base_uri": "https://localhost:8080/"
        },
        "id": "9fGxTfCahuEP",
        "outputId": "3460024d-a584-4577-c164-7364f2ee0c49"
      },
      "execution_count": null,
      "outputs": [
        {
          "output_type": "execute_result",
          "data": {
            "text/plain": [
              "['quote-classifier-distilroberta-base-stage-0.pth',\n",
              " 'quote-classifier-distilroberta-base-stage-0.pkl',\n",
              " 'quote-classifier-distilroberta-base-stage-1.pth',\n",
              " 'quote-classifier-distilroberta-base-stage-1.pkl']"
            ]
          },
          "metadata": {},
          "execution_count": 79
        }
      ]
    },
    {
      "cell_type": "code",
      "source": [
        "dls.vocab"
      ],
      "metadata": {
        "colab": {
          "base_uri": "https://localhost:8080/"
        },
        "id": "-DZjns6o8Igy",
        "outputId": "b453c89e-dbc3-4570-a7b1-19344dbfc9c4"
      },
      "execution_count": null,
      "outputs": [
        {
          "output_type": "execute_result",
          "data": {
            "text/plain": [
              "['Age', 'Mind', 'Matter', 'Over', 'Birthday', 'Man', 'Never', 'Woman', 'Youth', 'Young', 'Help', 'Old', 'Get', 'Men', 'Grow', 'Attention', 'Pay', 'Strength', 'Opportunity', 'Remember', 'Morning', 'Wake Up', 'School', 'Country', 'Happy', 'Child', 'Lie', 'Live', 'Old Age', 'Place', 'Nothing', 'High', 'Best', 'Improve', 'Soul', 'Change', 'Great', 'People', 'I Am', 'Strange', 'Me', 'Try', 'Environment', 'Growing Up', 'Up', 'Life', 'End', 'Wish', 'Minds', 'Order', 'Very', 'Time', 'Habit', 'Busy', 'Person', 'Women', 'Myself', 'Beautiful', 'Purpose', 'Learning', 'Art', 'Work', 'Nature', 'Gift', 'Good', 'Believe', 'True', 'Light', 'Night', 'Love', 'Does', 'Everything', 'How', 'You', 'Success', 'Start', 'Children', 'Who', 'Those', 'Face', 'Long', 'Important', 'Stop', 'Because', 'Heart', 'Always', 'Same', 'She', 'More', 'Something', 'Whatever', 'Early', 'Happens', 'Lose', 'Friend', 'Enemy', 'Only', 'Sad', 'Nice', 'Look', 'Father', 'Blood', 'Wife', 'Trust', 'Your', 'Our', 'Grace', 'Money', 'Health', 'Others', 'Past', 'Black', 'Book', 'Know', 'Body', 'Mirror', 'Day', 'Energy', 'Simply', 'Enough', 'Hope', 'Without', 'Moment', 'Back', 'Late', 'Year', 'New', 'Giving', 'Knowledge', 'Own', 'Feel', 'Effort', 'Process', 'Company', 'Real', 'Rich', 'Where', 'Should', 'Been', 'Thinking', 'Still', 'Had', 'Sin', 'Being', 'Home', 'World', 'Lost', 'Parents', 'Interesting', 'Journey', 'Road', 'Advice', 'Living', 'Needs', 'Nobody', 'Respect', 'Tomorrow', 'Possible', 'Family', 'Like', 'Cannot', 'Better', 'America', 'Just', 'Green', 'Pride', 'Belief', 'Funny', 'Wrong', 'Play', 'Stars', 'Dress', 'Sky', 'Born', 'Talent', 'Will', 'Struggle', 'Regret', 'Confidence', 'Now', 'Hands', 'Moon', 'Poet', 'Head', 'Business', 'Within', 'Come', 'Dreams', 'Fight', 'Afraid', 'Way', 'Death', 'Attitude', 'Losing', 'Genius', 'Understand', 'Learn', 'Culture', 'Cinema', 'Faith', 'Religion', 'Brainy', 'Happiness', 'Failure', 'Passion', 'First', 'Fun', 'Ideas', 'Sex', 'News', 'Bad', 'Mean', 'Destiny', 'Information', 'Wisdom', 'Fool', 'Spirit', 'Find', 'Next', 'War', 'Violence', 'Imagination', 'Picture', 'Motivational', 'Universe', 'Church', 'Experience', 'Far', 'Education', 'Forget', 'Dead', 'Two', 'He', 'Years', 'Act', 'About', 'Need', 'Us', 'Marriage', 'Which', 'Moments', 'Search', 'Think', 'Unique', 'Special', 'Meaning', 'Right', 'Skill', 'Go', 'Die', 'Someone', 'Today', 'Media', 'Human', 'Poor', 'Progress', 'Vision', 'Wise', 'Away', 'Alone', 'Truth', 'Battle', 'Food', 'Architecture', 'Memories', 'Hard', 'Anything', 'I Think', 'Dad', 'Kindness', 'Emotions', 'Pressure', 'Poverty', 'Evil', 'Well', 'God', 'Three', 'Legal', 'Lawyer', 'Politics', 'Political', 'Feelings', 'Game', 'Walk', 'Character', 'Before', 'Justice', 'Personality', 'Greatness', \"don't Care\", 'Care', 'Much', 'Any', 'Friends', 'Beauty', 'Future', 'Positive', 'Power', 'Door', 'Sometimes', 'Car', 'Going', 'Control', 'Waiting', 'Community', 'Trying', 'Fear', 'Practice', 'Eyes', 'Wonder', 'Talk', 'Value', 'History', 'Poetry', 'Daily', 'Forgiveness', 'Ambition', 'Powerful', 'Little', 'Sympathy', 'Tough', 'Government', 'Society', 'Support', 'Job', 'Weird', 'Artist', 'Mother', 'Behavior', 'Speak', 'Thankful', 'Acting', 'Music', 'Cool', 'Tired', 'Keep', 'Magic', 'Hell', 'Singing', 'Mom', 'Dance', 'Laugh', 'Every Day', 'Technology', 'Romantic', 'Free', 'Medical', 'Situation', 'Fame', 'Language', 'Question', 'Want', 'Meet', 'Rest', 'Travel', 'Fish', 'Values', 'Humanity', 'Problems', 'Achievement', 'Story', 'Feet', 'Leadership', 'Out', 'Social Media', 'Gender', 'Style', 'Key', 'Beginning', 'Doing', 'Even', 'Done', 'Freedom', 'Together', 'Why', 'Childhood', 'Generation', 'Race', 'Direction', 'Discipline', 'Dating', 'Diet', 'Internet', 'Opinion', 'Doctor', 'Days', 'Too', 'Ignorance', 'Winning', 'Memory', 'Sense', 'Courage', 'Impact', 'Wealth', 'Loved', 'See', 'Become', 'Movies', 'Television', 'Gratitude', 'Simple', 'Friendship', 'View', 'Football', 'Space', 'Fitness', 'Peace', 'Present', 'Ahead', 'Blessed', 'Potential', 'Dream', 'Teacher', 'Brain', 'Say', 'Alive', 'Tree', 'Worst', 'Lot', 'Law', 'Bring', 'Intelligence', 'Fighting', 'General', 'Challenges', 'Difficult', 'Hard Work', 'Beyond', 'Result', 'Understanding', 'Things', 'Rather', 'Limits', 'Pain', 'Fans', 'Really', 'Influence', 'Focus', 'Achieve', 'Decision', 'Army', 'Son', 'Hate', 'Ability', 'Cold', 'Tradition', 'Amazing', 'Research', 'Top', 'Loyalty', 'Forever', 'Your Dreams', 'Guitar', 'Every', 'Chance', 'My Life', 'Am', 'Survive', 'Hero', 'Goals', 'Crazy', 'Quite', 'Smart', 'Building', 'City', 'Yes', 'I Can', 'Deep', 'Reality', 'Moving', 'Rights', 'Make', 'Stay', 'Rules', 'Name', 'Impossible', 'Design', 'Build', 'Finance', 'Would', 'Suffering', 'May', 'Science', 'Last', 'Responsibility', 'Than', 'Through', 'Shadow', 'Luck', 'Computers', 'Liberty', 'Love Is', 'Talking', 'Relationship', 'King', 'Sports', 'Literature', 'Many', 'Choice', 'Quiet', 'Democracy', 'Water', 'Path', 'Spiritual', 'Escape', 'Patience', 'American', 'Weakness', 'Bible', 'Often', 'Integrity', 'Conflict', 'Fashion', 'Train', 'Action', 'Duty', 'Doubt', 'Laughter', 'Too Much', 'White', 'Competition', 'Moving On', 'Perspective', 'Reason', 'Fiction', 'Career', 'Enjoy', 'Dangerous', 'Listening', 'Looking', 'Street', 'Brother', 'Yourself', 'Room', 'Wonderful', 'Sun', 'Independence', 'Easy', 'Heaven', 'Use', 'Thoughts', 'Everyone', 'Choices', 'Voice', 'Song', 'Earth', 'Desire', 'Sleep', 'Stand', 'Quality', \"Valentine's Day\", 'Graduation', 'Christmas', 'Accept', 'Strong', 'Them', 'Revolution', 'Environmental', 'Anger', 'Hurt', 'Other', 'Israel', 'Service', 'Force', 'Table', 'Credit', 'Brave', 'Half', 'Equality', 'Questions', 'Rise', 'Jealousy', 'Enemies', 'Step', 'Growth', 'Cooking', 'Humility', 'Stage', 'Sacrifice', 'Sound', 'Follow', 'Silence', 'Prayer', 'Communication', 'Fly', 'Fall', 'Ready', 'Teen', 'Risks', 'Gardening', 'Worry', 'Patriotism', 'Point', 'Words', 'Team', 'Honor', 'Famous', 'Must', 'Tears', 'Honesty', 'Exist', 'Birth', 'Truth Is', 'Dog', 'Victory', 'Wants', 'Create', 'Realize', 'Commitment', 'Interest', 'Safe', 'Kind', 'Aim', 'Social', 'Eating', 'Film', 'Data', 'Writing', 'Balance', 'Nation', 'Fire', 'System', 'Stupid', 'Wind', 'Big', 'Gay', 'Constitution', 'Economic', 'Thing', 'Negative', 'Used', 'Inspirational', 'Smile', 'Joy', 'Fast', 'Pretty', 'Most', 'Humble', 'Drive', 'Security', 'Again', 'Sweet', 'Comedy', 'Easter', 'Made', 'Events', 'Angry', 'Thanksgiving', 'Fruit', 'Drama', 'Development', 'Pet', 'Line', 'Celebrate', 'Humor', 'Down', 'Waste', 'Serious', 'Seeing', 'Lifestyle', 'Sense Of Humor', 'Wedding', 'Facts', 'Anniversary', 'Thank God', 'Mistakes', 'Holiday', 'Foundation', 'Painting', 'Intellectual', 'College', 'Knowing', 'Training', 'Parenting', 'Success Is']"
            ]
          },
          "metadata": {},
          "execution_count": 53
        }
      ]
    },
    {
      "cell_type": "code",
      "source": [
        "dls.show_batch(dataloaders=dls, max_n=4, trunc_at=512)"
      ],
      "metadata": {
        "colab": {
          "base_uri": "https://localhost:8080/",
          "height": 244
        },
        "id": "J2bzQEqM9Dd4",
        "outputId": "17675044-0192-4a4d-a6b6-cd7da7aee18b"
      },
      "execution_count": null,
      "outputs": [
        {
          "output_type": "display_data",
          "data": {
            "text/plain": [
              "<IPython.core.display.HTML object>"
            ],
            "text/html": [
              "<table border=\"1\" class=\"dataframe\">\n",
              "  <thead>\n",
              "    <tr style=\"text-align: right;\">\n",
              "      <th></th>\n",
              "      <th>text</th>\n",
              "      <th>target</th>\n",
              "    </tr>\n",
              "  </thead>\n",
              "  <tbody>\n",
              "    <tr>\n",
              "      <th>0</th>\n",
              "      <td>You can scroll through my iTunes and I've got everything. I've got Ace Hood, Alt-J, Annie Lennox, Arctic Monkeys, Beanie Sigel, the Beatles, Beth Hart, Big Sean, Bob Dylan, Bon Iver, Chief Keef, Coldplay, the Flaming Lips, Mariah Carey, Miley Cyrus, Nicki Minaj, OutKast, Pet Shop Boys, Peter Gabriel, the Smiths, and the list goes on from there.</td>\n",
              "      <td>[Everything, Big, Pet]</td>\n",
              "    </tr>\n",
              "    <tr>\n",
              "      <th>1</th>\n",
              "      <td>I was always a fan of the old-style comics. I loved vaudeville. I loved Milton Berle, Dick Shawn, Phyllis Diller, Don Rickles, Charlie Callas, all those guys. Hilarious. I love the Bing Crosby and Bob Hope movies, and Abbott &amp; Costello. My television influences were 'Monty Python's Flying Circus,' 'Benny Hill,' and 'Hee Haw.'</td>\n",
              "      <td>[Love, Hope, Loved, Movies]</td>\n",
              "    </tr>\n",
              "    <tr>\n",
              "      <th>2</th>\n",
              "      <td>It's depression. You can't put it into words. You get stuck and time passes by. I'm stood there on the edge of a cliff, can't go back and can't go forward. Days go by. I'm still in the same place. Everyone else's life goes on, but you're stuck. You try and try and try and I don't know how, but you came out of it eventually.</td>\n",
              "      <td>[Try, Life, Time, Words]</td>\n",
              "    </tr>\n",
              "    <tr>\n",
              "      <th>3</th>\n",
              "      <td>I liked the idea of creating a new pop-culture, folkloric hero character that I created with 'Django' that I think's gonna last for a long time. And I think as the generations go on and everything, you know, my hope is it can be a rite of passage for black fathers and their sons. Like, when are they old enough to watch 'Django Unchained'?</td>\n",
              "      <td>[Time, Long, Black, Hope, Character]</td>\n",
              "    </tr>\n",
              "  </tbody>\n",
              "</table>"
            ]
          },
          "metadata": {}
        }
      ]
    },
    {
      "cell_type": "code",
      "source": [
        "doc(partial)"
      ],
      "metadata": {
        "colab": {
          "base_uri": "https://localhost:8080/",
          "height": 131
        },
        "id": "qqMXGw3Q9LLT",
        "outputId": "39efee6b-3c14-40bb-f342-fbe8c34b9710"
      },
      "execution_count": null,
      "outputs": [
        {
          "output_type": "display_data",
          "data": {
            "text/plain": [
              "<IPython.core.display.HTML object>"
            ],
            "text/html": [
              "<hr/>\n",
              "<h3>partial</h3>\n",
              "<blockquote><pre><code>partial</code></pre></blockquote><p>partial(func, *args, **keywords) - new function with partial application\n",
              "of the given arguments and keywords.</p>"
            ]
          },
          "metadata": {}
        }
      ]
    },
    {
      "cell_type": "code",
      "source": [
        "model = BaseModelWrapper(hf_model)\n",
        "\n",
        "acc = partial(accuracy_multi)\n",
        "\n",
        "learner = Learner(dls,\n",
        "                  model,\n",
        "                  opt_func=partial(OptimWrapper, opt=torch.optim.AdamW),\n",
        "                  loss_func=BCEWithLogitsLossFlat(),\n",
        "                  metrics=[acc],\n",
        "                  cbs=[BaseModelCallback],\n",
        "                  splitter=blurr_splitter\n",
        "                  ).to_fp16()"
      ],
      "metadata": {
        "id": "Zj43uH8W9n9x"
      },
      "execution_count": null,
      "outputs": []
    },
    {
      "cell_type": "markdown",
      "source": [
        "Stage - 0"
      ],
      "metadata": {
        "id": "XyXaffvi91mq"
      }
    },
    {
      "cell_type": "code",
      "source": [
        "learner.freeze()\n",
        "learner.lr_find(suggest_funcs=[slide, valley])"
      ],
      "metadata": {
        "colab": {
          "base_uri": "https://localhost:8080/",
          "height": 471
        },
        "id": "Dh_J98hT9yy2",
        "outputId": "c726783b-9fc6-4cf2-d98e-66d8652b9100"
      },
      "execution_count": null,
      "outputs": [
        {
          "output_type": "display_data",
          "data": {
            "text/plain": [
              "<IPython.core.display.HTML object>"
            ],
            "text/html": [
              "\n",
              "<style>\n",
              "    /* Turns off some styling */\n",
              "    progress {\n",
              "        /* gets rid of default border in Firefox and Opera. */\n",
              "        border: none;\n",
              "        /* Needs to be in here for Safari polyfill so background images work as expected. */\n",
              "        background-size: auto;\n",
              "    }\n",
              "    progress:not([value]), progress:not([value])::-webkit-progress-bar {\n",
              "        background: repeating-linear-gradient(45deg, #7e7e7e, #7e7e7e 10px, #5c5c5c 10px, #5c5c5c 20px);\n",
              "    }\n",
              "    .progress-bar-interrupted, .progress-bar-interrupted::-webkit-progress-bar {\n",
              "        background: #F44336;\n",
              "    }\n",
              "</style>\n"
            ]
          },
          "metadata": {}
        },
        {
          "output_type": "display_data",
          "data": {
            "text/plain": [
              "<IPython.core.display.HTML object>"
            ],
            "text/html": []
          },
          "metadata": {}
        },
        {
          "output_type": "execute_result",
          "data": {
            "text/plain": [
              "SuggestedLRs(slide=0.0010000000474974513, valley=0.0002290867705596611)"
            ]
          },
          "metadata": {},
          "execution_count": 57
        },
        {
          "output_type": "display_data",
          "data": {
            "text/plain": [
              "<Figure size 640x480 with 1 Axes>"
            ],
            "image/png": "[encoded data removed]"
          },
          "metadata": {}
        }
      ]
    },
    {
      "cell_type": "code",
      "source": [
        "lr = (0.0010000000474974513 + 0.0002290867705596611)/2\n",
        "print(lr)"
      ],
      "metadata": {
        "colab": {
          "base_uri": "https://localhost:8080/"
        },
        "id": "FXIEmxp7rEGt",
        "outputId": "1b3d4789-505e-4e88-d9bf-8353ba0f0a3f"
      },
      "execution_count": null,
      "outputs": [
        {
          "output_type": "stream",
          "name": "stdout",
          "text": [
            "0.0006145434090285562\n"
          ]
        }
      ]
    },
    {
      "cell_type": "code",
      "source": [
        "learner.fit_one_cycle(2,lr)"
      ],
      "metadata": {
        "colab": {
          "base_uri": "https://localhost:8080/",
          "height": 112
        },
        "id": "NjEmOyvH95Hb",
        "outputId": "dde68f4b-e890-418c-ed89-09d62ac36bc6"
      },
      "execution_count": null,
      "outputs": [
        {
          "output_type": "display_data",
          "data": {
            "text/plain": [
              "<IPython.core.display.HTML object>"
            ],
            "text/html": [
              "\n",
              "<style>\n",
              "    /* Turns off some styling */\n",
              "    progress {\n",
              "        /* gets rid of default border in Firefox and Opera. */\n",
              "        border: none;\n",
              "        /* Needs to be in here for Safari polyfill so background images work as expected. */\n",
              "        background-size: auto;\n",
              "    }\n",
              "    progress:not([value]), progress:not([value])::-webkit-progress-bar {\n",
              "        background: repeating-linear-gradient(45deg, #7e7e7e, #7e7e7e 10px, #5c5c5c 10px, #5c5c5c 20px);\n",
              "    }\n",
              "    .progress-bar-interrupted, .progress-bar-interrupted::-webkit-progress-bar {\n",
              "        background: #F44336;\n",
              "    }\n",
              "</style>\n"
            ]
          },
          "metadata": {}
        },
        {
          "output_type": "display_data",
          "data": {
            "text/plain": [
              "<IPython.core.display.HTML object>"
            ],
            "text/html": [
              "<table border=\"1\" class=\"dataframe\">\n",
              "  <thead>\n",
              "    <tr style=\"text-align: left;\">\n",
              "      <th>epoch</th>\n",
              "      <th>train_loss</th>\n",
              "      <th>valid_loss</th>\n",
              "      <th>accuracy_multi</th>\n",
              "      <th>time</th>\n",
              "    </tr>\n",
              "  </thead>\n",
              "  <tbody>\n",
              "    <tr>\n",
              "      <td>0</td>\n",
              "      <td>0.021057</td>\n",
              "      <td>0.019537</td>\n",
              "      <td>0.995917</td>\n",
              "      <td>02:58</td>\n",
              "    </tr>\n",
              "    <tr>\n",
              "      <td>1</td>\n",
              "      <td>0.015334</td>\n",
              "      <td>0.014217</td>\n",
              "      <td>0.996760</td>\n",
              "      <td>02:56</td>\n",
              "    </tr>\n",
              "  </tbody>\n",
              "</table>"
            ]
          },
          "metadata": {}
        }
      ]
    },
    {
      "cell_type": "code",
      "source": [
        "model_path = \"models\"\n",
        "if not os.path.exists(model_path):\n",
        "  os.makedirs(model_path)"
      ],
      "metadata": {
        "id": "uEE-swyPVHLy"
      },
      "execution_count": null,
      "outputs": []
    },
    {
      "cell_type": "code",
      "source": [
        "learner.save(f\"quote-classifier-{model_name}-stage-0\")"
      ],
      "metadata": {
        "colab": {
          "base_uri": "https://localhost:8080/"
        },
        "id": "zpNmYOIfU4QA",
        "outputId": "4b9e2e6b-c16b-4039-f9bd-d5bbec2dd2dc"
      },
      "execution_count": null,
      "outputs": [
        {
          "output_type": "execute_result",
          "data": {
            "text/plain": [
              "Path('models/quote-classifier-distilroberta-stage-0.pth')"
            ]
          },
          "metadata": {},
          "execution_count": 61
        }
      ]
    },
    {
      "cell_type": "code",
      "source": [
        "learner.export(f\"models/quote-classifier-{model_name}-stage-0.pkl\")"
      ],
      "metadata": {
        "id": "9MBCAiqhVFU4"
      },
      "execution_count": null,
      "outputs": []
    },
    {
      "cell_type": "markdown",
      "source": [
        "Stage - 1"
      ],
      "metadata": {
        "id": "Qzw4d_ozVZ1j"
      }
    },
    {
      "cell_type": "code",
      "source": [
        "learner.unfreeze()"
      ],
      "metadata": {
        "id": "eJCEZmaHVb7j"
      },
      "execution_count": null,
      "outputs": []
    },
    {
      "cell_type": "code",
      "source": [
        "learner.lr_find(suggest_funcs=[slide, valley])"
      ],
      "metadata": {
        "colab": {
          "base_uri": "https://localhost:8080/",
          "height": 471
        },
        "id": "rizL92uKVd9O",
        "outputId": "50623728-759b-4ff5-b81c-14a757f01891"
      },
      "execution_count": null,
      "outputs": [
        {
          "output_type": "display_data",
          "data": {
            "text/plain": [
              "<IPython.core.display.HTML object>"
            ],
            "text/html": [
              "\n",
              "<style>\n",
              "    /* Turns off some styling */\n",
              "    progress {\n",
              "        /* gets rid of default border in Firefox and Opera. */\n",
              "        border: none;\n",
              "        /* Needs to be in here for Safari polyfill so background images work as expected. */\n",
              "        background-size: auto;\n",
              "    }\n",
              "    progress:not([value]), progress:not([value])::-webkit-progress-bar {\n",
              "        background: repeating-linear-gradient(45deg, #7e7e7e, #7e7e7e 10px, #5c5c5c 10px, #5c5c5c 20px);\n",
              "    }\n",
              "    .progress-bar-interrupted, .progress-bar-interrupted::-webkit-progress-bar {\n",
              "        background: #F44336;\n",
              "    }\n",
              "</style>\n"
            ]
          },
          "metadata": {}
        },
        {
          "output_type": "display_data",
          "data": {
            "text/plain": [
              "<IPython.core.display.HTML object>"
            ],
            "text/html": []
          },
          "metadata": {}
        },
        {
          "output_type": "execute_result",
          "data": {
            "text/plain": [
              "SuggestedLRs(slide=0.00013182566908653826, valley=1.2022644114040304e-05)"
            ]
          },
          "metadata": {},
          "execution_count": 64
        },
        {
          "output_type": "display_data",
          "data": {
            "text/plain": [
              "<Figure size 640x480 with 1 Axes>"
            ],
            "image/png": "[encoded data removed]"
          },
          "metadata": {}
        }
      ]
    },
    {
      "cell_type": "code",
      "source": [
        "lr = (0.00013182566908653826 + 1.2022644114040304e-05)/2\n",
        "print(lr)"
      ],
      "metadata": {
        "colab": {
          "base_uri": "https://localhost:8080/"
        },
        "id": "ZB019wP9Zo6T",
        "outputId": "f808281c-495d-421d-8844-3ea5f34470f0"
      },
      "execution_count": null,
      "outputs": [
        {
          "output_type": "stream",
          "name": "stdout",
          "text": [
            "7.192415660028928e-05\n"
          ]
        }
      ]
    },
    {
      "cell_type": "code",
      "source": [
        "learner.fit_one_cycle(3,lr)"
      ],
      "metadata": {
        "colab": {
          "base_uri": "https://localhost:8080/",
          "height": 143
        },
        "id": "q5idkSyJVeVv",
        "outputId": "da562736-597d-4372-bc13-65323d4d4652"
      },
      "execution_count": null,
      "outputs": [
        {
          "output_type": "display_data",
          "data": {
            "text/plain": [
              "<IPython.core.display.HTML object>"
            ],
            "text/html": [
              "\n",
              "<style>\n",
              "    /* Turns off some styling */\n",
              "    progress {\n",
              "        /* gets rid of default border in Firefox and Opera. */\n",
              "        border: none;\n",
              "        /* Needs to be in here for Safari polyfill so background images work as expected. */\n",
              "        background-size: auto;\n",
              "    }\n",
              "    progress:not([value]), progress:not([value])::-webkit-progress-bar {\n",
              "        background: repeating-linear-gradient(45deg, #7e7e7e, #7e7e7e 10px, #5c5c5c 10px, #5c5c5c 20px);\n",
              "    }\n",
              "    .progress-bar-interrupted, .progress-bar-interrupted::-webkit-progress-bar {\n",
              "        background: #F44336;\n",
              "    }\n",
              "</style>\n"
            ]
          },
          "metadata": {}
        },
        {
          "output_type": "display_data",
          "data": {
            "text/plain": [
              "<IPython.core.display.HTML object>"
            ],
            "text/html": [
              "<table border=\"1\" class=\"dataframe\">\n",
              "  <thead>\n",
              "    <tr style=\"text-align: left;\">\n",
              "      <th>epoch</th>\n",
              "      <th>train_loss</th>\n",
              "      <th>valid_loss</th>\n",
              "      <th>accuracy_multi</th>\n",
              "      <th>time</th>\n",
              "    </tr>\n",
              "  </thead>\n",
              "  <tbody>\n",
              "    <tr>\n",
              "      <td>0</td>\n",
              "      <td>0.010467</td>\n",
              "      <td>0.009456</td>\n",
              "      <td>0.997613</td>\n",
              "      <td>04:46</td>\n",
              "    </tr>\n",
              "    <tr>\n",
              "      <td>1</td>\n",
              "      <td>0.007487</td>\n",
              "      <td>0.006732</td>\n",
              "      <td>0.998211</td>\n",
              "      <td>04:48</td>\n",
              "    </tr>\n",
              "    <tr>\n",
              "      <td>2</td>\n",
              "      <td>0.006536</td>\n",
              "      <td>0.006090</td>\n",
              "      <td>0.998396</td>\n",
              "      <td>04:49</td>\n",
              "    </tr>\n",
              "  </tbody>\n",
              "</table>"
            ]
          },
          "metadata": {}
        }
      ]
    },
    {
      "cell_type": "code",
      "source": [
        "learner.save(f\"quote-classifier-{model_name}-stage-1\")"
      ],
      "metadata": {
        "colab": {
          "base_uri": "https://localhost:8080/"
        },
        "id": "n1K_PpWjVgfr",
        "outputId": "c2f1c782-7bd2-4732-85ea-047f16313842"
      },
      "execution_count": null,
      "outputs": [
        {
          "output_type": "execute_result",
          "data": {
            "text/plain": [
              "Path('models/quote-classifier-distilroberta-stage-1.pth')"
            ]
          },
          "metadata": {},
          "execution_count": 68
        }
      ]
    },
    {
      "cell_type": "code",
      "source": [
        "learner.export(f\"models/quote-classifier-{model_name}-stage-1.pkl\")"
      ],
      "metadata": {
        "id": "gFH3zsxmViFO"
      },
      "execution_count": null,
      "outputs": []
    },
    {
      "cell_type": "markdown",
      "source": [
        "# BERT"
      ],
      "metadata": {
        "id": "ooWoipeCgRO3"
      }
    },
    {
      "cell_type": "code",
      "source": [
        "model_name = \"bert-base-uncased\"\n",
        "model_cls = AutoModelForSequenceClassification\n",
        "config = AutoConfig.from_pretrained(model_name)\n",
        "config.num_labels = len(labels)\n",
        "\n",
        "hf_arch, hf_config, hf_tokenizer, hf_model = get_hf_objects(model_name, model_cls = model_cls, config = config)\n",
        "hf_model.config.problem_type = \"multi_label_classification\""
      ],
      "metadata": {
        "id": "ua_md2a2ZlMb"
      },
      "execution_count": null,
      "outputs": []
    },
    {
      "cell_type": "code",
      "source": [
        "blocks = (TextBlock(hf_arch, hf_config, hf_tokenizer, hf_model), MultiCategoryBlock(encoded = True, vocab = labels))\n",
        "dblock = DataBlock(blocks = blocks, get_x = ColReader('Quote'), get_y = ColReader('labels'), splitter = RandomSplitter(valid_pct = 0.2, seed = 42))"
      ],
      "metadata": {
        "id": "tU0dc0_RdgSZ"
      },
      "execution_count": null,
      "outputs": []
    },
    {
      "cell_type": "code",
      "source": [
        "dls = dblock.dataloaders(df, bs = 32)"
      ],
      "metadata": {
        "id": "y9ydA_Jff9ff"
      },
      "execution_count": null,
      "outputs": []
    },
    {
      "cell_type": "code",
      "source": [
        "torch.save(dls, f\"dataloaders/dls-multilabel-quote-classifier-{model_name}.pkl\")"
      ],
      "metadata": {
        "id": "XeGgb59LisuU"
      },
      "execution_count": null,
      "outputs": []
    },
    {
      "cell_type": "code",
      "source": [
        "dls.show_batch(dataloaders=dls, max_n=4, trunc_at=512)"
      ],
      "metadata": {
        "colab": {
          "base_uri": "https://localhost:8080/",
          "height": 244
        },
        "outputId": "357739e0-5580-4744-cdd4-cea9b474d9b7",
        "id": "O-t4BdoGi_UD"
      },
      "execution_count": null,
      "outputs": [
        {
          "output_type": "display_data",
          "data": {
            "text/plain": [
              "<IPython.core.display.HTML object>"
            ],
            "text/html": [
              "<table border=\"1\" class=\"dataframe\">\n",
              "  <thead>\n",
              "    <tr style=\"text-align: right;\">\n",
              "      <th></th>\n",
              "      <th>text</th>\n",
              "      <th>target</th>\n",
              "    </tr>\n",
              "  </thead>\n",
              "  <tbody>\n",
              "    <tr>\n",
              "      <th>0</th>\n",
              "      <td>it's a funny thing. i'll be in my home town of columbus at a restaurant or something, and the waiter maybe asks,'what do you do?'and i say,'oh, i'm in a band... twenty one pilots,'and he'll say,'cool, i'll check it out. i never heard of them.'and then i say,'in september we're playing the schottenstein center,'and it's like,'what?! '</td>\n",
              "      <td>[Never, Home, Funny, Cool]</td>\n",
              "    </tr>\n",
              "    <tr>\n",
              "      <th>1</th>\n",
              "      <td>we had an argument, and he told me to be home at midnight, and i said no. and so when i did come home, the door was locked. and i had gotten a set of luggage for graduation that day, and it was on the front porch, packed. he thought that he was going to prove a point and i was going to say,'oh, i'm sorry, daddy, i'm sorry '.</td>\n",
              "      <td>[Day, Home, Door, Graduation]</td>\n",
              "    </tr>\n",
              "    <tr>\n",
              "      <th>2</th>\n",
              "      <td>write about your experiences! when i moved to l. a., i didn't have any friends, and the office janitor was the person who i saw the most. he would always come in at around 10 : 00 p. m., and i would still be at my desk, so i wrote a play about a first - year tv writer and the friendship that she developed with the janitor. our stories matter.</td>\n",
              "      <td>[Person, She, Friends, Friendship]</td>\n",
              "    </tr>\n",
              "    <tr>\n",
              "      <th>3</th>\n",
              "      <td>at a certain point, if you still have your marbles and are not faced with serious financial challenges, you have a chance to put your house in order. it's a cliche, but it's underestimated as an analgesic on all levels. putting your house in order, if you can do it, is one of the most comforting activities, and the benefits of it are incalculable.</td>\n",
              "      <td>[Challenges, Chance, Point]</td>\n",
              "    </tr>\n",
              "  </tbody>\n",
              "</table>"
            ]
          },
          "metadata": {}
        }
      ]
    },
    {
      "cell_type": "code",
      "source": [
        "model = BaseModelWrapper(hf_model)\n",
        "\n",
        "acc = partial(accuracy_multi)\n",
        "\n",
        "learner = Learner(dls,\n",
        "                  model,\n",
        "                  opt_func=partial(OptimWrapper, opt=torch.optim.AdamW),\n",
        "                  loss_func=BCEWithLogitsLossFlat(),\n",
        "                  metrics=[acc],\n",
        "                  cbs=[BaseModelCallback],\n",
        "                  splitter=blurr_splitter\n",
        "                  ).to_fp16()"
      ],
      "metadata": {
        "id": "ND8dyunzi_UE"
      },
      "execution_count": null,
      "outputs": []
    },
    {
      "cell_type": "markdown",
      "source": [
        "Stage - 0"
      ],
      "metadata": {
        "id": "jVWWlaUsi_UE"
      }
    },
    {
      "cell_type": "code",
      "source": [
        "learner.freeze()\n",
        "learner.lr_find(suggest_funcs=[slide, valley])"
      ],
      "metadata": {
        "colab": {
          "base_uri": "https://localhost:8080/",
          "height": 471
        },
        "outputId": "3c8d5ba1-0473-419e-95a9-83a322937bbb",
        "id": "5tX4wy9Qi_UE"
      },
      "execution_count": null,
      "outputs": [
        {
          "output_type": "display_data",
          "data": {
            "text/plain": [
              "<IPython.core.display.HTML object>"
            ],
            "text/html": [
              "\n",
              "<style>\n",
              "    /* Turns off some styling */\n",
              "    progress {\n",
              "        /* gets rid of default border in Firefox and Opera. */\n",
              "        border: none;\n",
              "        /* Needs to be in here for Safari polyfill so background images work as expected. */\n",
              "        background-size: auto;\n",
              "    }\n",
              "    progress:not([value]), progress:not([value])::-webkit-progress-bar {\n",
              "        background: repeating-linear-gradient(45deg, #7e7e7e, #7e7e7e 10px, #5c5c5c 10px, #5c5c5c 20px);\n",
              "    }\n",
              "    .progress-bar-interrupted, .progress-bar-interrupted::-webkit-progress-bar {\n",
              "        background: #F44336;\n",
              "    }\n",
              "</style>\n"
            ]
          },
          "metadata": {}
        },
        {
          "output_type": "display_data",
          "data": {
            "text/plain": [
              "<IPython.core.display.HTML object>"
            ],
            "text/html": []
          },
          "metadata": {}
        },
        {
          "output_type": "execute_result",
          "data": {
            "text/plain": [
              "SuggestedLRs(slide=0.0008317637839354575, valley=0.0003311311302240938)"
            ]
          },
          "metadata": {},
          "execution_count": 86
        },
        {
          "output_type": "display_data",
          "data": {
            "text/plain": [
              "<Figure size 640x480 with 1 Axes>"
            ],
            "image/png": "[encoded data removed]"
          },
          "metadata": {}
        }
      ]
    },
    {
      "cell_type": "code",
      "source": [
        "lr = (0.0008317637839354575 + 0.0003311311302240938)/2\n",
        "print(lr)"
      ],
      "metadata": {
        "colab": {
          "base_uri": "https://localhost:8080/"
        },
        "outputId": "a49cdcdc-613c-42ea-8089-fd822b0785bf",
        "id": "r_478CB6i_UE"
      },
      "execution_count": null,
      "outputs": [
        {
          "output_type": "stream",
          "name": "stdout",
          "text": [
            "0.0005814474570797756\n"
          ]
        }
      ]
    },
    {
      "cell_type": "code",
      "source": [
        "learner.fit_one_cycle(2,lr)"
      ],
      "metadata": {
        "colab": {
          "base_uri": "https://localhost:8080/",
          "height": 112
        },
        "outputId": "9fb69146-e211-41d8-90e6-94aa5004ef5c",
        "id": "fQbrPMNji_UE"
      },
      "execution_count": null,
      "outputs": [
        {
          "output_type": "display_data",
          "data": {
            "text/plain": [
              "<IPython.core.display.HTML object>"
            ],
            "text/html": [
              "\n",
              "<style>\n",
              "    /* Turns off some styling */\n",
              "    progress {\n",
              "        /* gets rid of default border in Firefox and Opera. */\n",
              "        border: none;\n",
              "        /* Needs to be in here for Safari polyfill so background images work as expected. */\n",
              "        background-size: auto;\n",
              "    }\n",
              "    progress:not([value]), progress:not([value])::-webkit-progress-bar {\n",
              "        background: repeating-linear-gradient(45deg, #7e7e7e, #7e7e7e 10px, #5c5c5c 10px, #5c5c5c 20px);\n",
              "    }\n",
              "    .progress-bar-interrupted, .progress-bar-interrupted::-webkit-progress-bar {\n",
              "        background: #F44336;\n",
              "    }\n",
              "</style>\n"
            ]
          },
          "metadata": {}
        },
        {
          "output_type": "display_data",
          "data": {
            "text/plain": [
              "<IPython.core.display.HTML object>"
            ],
            "text/html": [
              "<table border=\"1\" class=\"dataframe\">\n",
              "  <thead>\n",
              "    <tr style=\"text-align: left;\">\n",
              "      <th>epoch</th>\n",
              "      <th>train_loss</th>\n",
              "      <th>valid_loss</th>\n",
              "      <th>accuracy_multi</th>\n",
              "      <th>time</th>\n",
              "    </tr>\n",
              "  </thead>\n",
              "  <tbody>\n",
              "    <tr>\n",
              "      <td>0</td>\n",
              "      <td>0.031648</td>\n",
              "      <td>0.031621</td>\n",
              "      <td>0.994219</td>\n",
              "      <td>04:49</td>\n",
              "    </tr>\n",
              "    <tr>\n",
              "      <td>1</td>\n",
              "      <td>0.029042</td>\n",
              "      <td>0.029243</td>\n",
              "      <td>0.994219</td>\n",
              "      <td>04:44</td>\n",
              "    </tr>\n",
              "  </tbody>\n",
              "</table>"
            ]
          },
          "metadata": {}
        }
      ]
    },
    {
      "cell_type": "code",
      "source": [
        "learner.save(f\"quote-classifier-{model_name}-stage-0\")"
      ],
      "metadata": {
        "colab": {
          "base_uri": "https://localhost:8080/"
        },
        "outputId": "6e566d46-c6e2-4216-ca1b-7be3287704fd",
        "id": "F6ajAT_Ii_UE"
      },
      "execution_count": null,
      "outputs": [
        {
          "output_type": "execute_result",
          "data": {
            "text/plain": [
              "Path('models/quote-classifier-bert-base-uncased-stage-0.pth')"
            ]
          },
          "metadata": {},
          "execution_count": 89
        }
      ]
    },
    {
      "cell_type": "code",
      "source": [
        "learner.export(f\"models/quote-classifier-{model_name}-stage-0.pkl\")"
      ],
      "metadata": {
        "id": "b9u2cNgni_UE"
      },
      "execution_count": null,
      "outputs": []
    },
    {
      "cell_type": "markdown",
      "source": [
        "Stage - 1"
      ],
      "metadata": {
        "id": "YT6iJVO3i_UE"
      }
    },
    {
      "cell_type": "code",
      "source": [
        "learner.unfreeze()"
      ],
      "metadata": {
        "id": "cUWpcGJvi_UE"
      },
      "execution_count": null,
      "outputs": []
    },
    {
      "cell_type": "code",
      "source": [
        "learner.lr_find(suggest_funcs=[slide, valley])"
      ],
      "metadata": {
        "colab": {
          "base_uri": "https://localhost:8080/",
          "height": 471
        },
        "outputId": "d5368a7c-5880-4a37-bf4b-645524badf89",
        "id": "SN7_yi5Ai_UE"
      },
      "execution_count": null,
      "outputs": [
        {
          "output_type": "display_data",
          "data": {
            "text/plain": [
              "<IPython.core.display.HTML object>"
            ],
            "text/html": [
              "\n",
              "<style>\n",
              "    /* Turns off some styling */\n",
              "    progress {\n",
              "        /* gets rid of default border in Firefox and Opera. */\n",
              "        border: none;\n",
              "        /* Needs to be in here for Safari polyfill so background images work as expected. */\n",
              "        background-size: auto;\n",
              "    }\n",
              "    progress:not([value]), progress:not([value])::-webkit-progress-bar {\n",
              "        background: repeating-linear-gradient(45deg, #7e7e7e, #7e7e7e 10px, #5c5c5c 10px, #5c5c5c 20px);\n",
              "    }\n",
              "    .progress-bar-interrupted, .progress-bar-interrupted::-webkit-progress-bar {\n",
              "        background: #F44336;\n",
              "    }\n",
              "</style>\n"
            ]
          },
          "metadata": {}
        },
        {
          "output_type": "display_data",
          "data": {
            "text/plain": [
              "<IPython.core.display.HTML object>"
            ],
            "text/html": []
          },
          "metadata": {}
        },
        {
          "output_type": "execute_result",
          "data": {
            "text/plain": [
              "SuggestedLRs(slide=0.0002754228771664202, valley=1.737800812406931e-05)"
            ]
          },
          "metadata": {},
          "execution_count": 92
        },
        {
          "output_type": "display_data",
          "data": {
            "text/plain": [
              "<Figure size 640x480 with 1 Axes>"
            ],
            "image/png": "[encoded data removed]"
          },
          "metadata": {}
        }
      ]
    },
    {
      "cell_type": "code",
      "source": [
        "lr = (0.0002754228771664202 + 1.737800812406931e-05)/2\n",
        "print(lr)"
      ],
      "metadata": {
        "colab": {
          "base_uri": "https://localhost:8080/"
        },
        "outputId": "99152977-bcde-48fd-9f3c-fc101ba382c2",
        "id": "_5YRtqFDi_UE"
      },
      "execution_count": null,
      "outputs": [
        {
          "output_type": "stream",
          "name": "stdout",
          "text": [
            "0.00014640044264524477\n"
          ]
        }
      ]
    },
    {
      "cell_type": "code",
      "source": [
        "learner.fit_one_cycle(3,lr)"
      ],
      "metadata": {
        "colab": {
          "base_uri": "https://localhost:8080/",
          "height": 299
        },
        "outputId": "e2e3322f-b7c2-496e-b2a0-122b30ad0d7f",
        "id": "T02FIuAui_UE"
      },
      "execution_count": null,
      "outputs": [
        {
          "data": {
            "text/html": [
              "\n",
              "<style>\n",
              "    /* Turns off some styling */\n",
              "    progress {\n",
              "        /* gets rid of default border in Firefox and Opera. */\n",
              "        border: none;\n",
              "        /* Needs to be in here for Safari polyfill so background images work as expected. */\n",
              "        background-size: auto;\n",
              "    }\n",
              "    progress:not([value]), progress:not([value])::-webkit-progress-bar {\n",
              "        background: repeating-linear-gradient(45deg, #7e7e7e, #7e7e7e 10px, #5c5c5c 10px, #5c5c5c 20px);\n",
              "    }\n",
              "    .progress-bar-interrupted, .progress-bar-interrupted::-webkit-progress-bar {\n",
              "        background: #F44336;\n",
              "    }\n",
              "</style>\n"
            ],
            "text/plain": [
              "<IPython.core.display.HTML object>"
            ]
          },
          "metadata": {},
          "output_type": "display_data"
        },
        {
          "data": {
            "text/html": [
              "\n",
              "    <div>\n",
              "      <progress value='2' class='' max='3' style='width:300px; height:20px; vertical-align: middle;'></progress>\n",
              "      66.67% [2/3 13:19&lt;06:39]\n",
              "    </div>\n",
              "    \n",
              "<table border=\"1\" class=\"dataframe\">\n",
              "  <thead>\n",
              "    <tr style=\"text-align: left;\">\n",
              "      <th>epoch</th>\n",
              "      <th>train_loss</th>\n",
              "      <th>valid_loss</th>\n",
              "      <th>accuracy_multi</th>\n",
              "      <th>time</th>\n",
              "    </tr>\n",
              "  </thead>\n",
              "  <tbody>\n",
              "    <tr>\n",
              "      <td>0</td>\n",
              "      <td>0.012605</td>\n",
              "      <td>0.012171</td>\n",
              "      <td>0.997356</td>\n",
              "      <td>06:43</td>\n",
              "    </tr>\n",
              "    <tr>\n",
              "      <td>1</td>\n",
              "      <td>0.006401</td>\n",
              "      <td>0.006147</td>\n",
              "      <td>0.998466</td>\n",
              "      <td>06:35</td>\n",
              "    </tr>\n",
              "  </tbody>\n",
              "</table><p>\n",
              "\n",
              "    <div>\n",
              "      <progress value='268' class='' max='2530' style='width:300px; height:20px; vertical-align: middle;'></progress>\n",
              "      10.59% [268/2530 00:38&lt;05:28 0.0054]\n",
              "    </div>\n",
              "    "
            ],
            "text/plain": [
              "<IPython.core.display.HTML object>"
            ]
          },
          "metadata": {},
          "output_type": "display_data"
        },
        {
          "output_type": "display_data",
          "data": {
            "text/plain": [
              "<IPython.core.display.HTML object>"
            ],
            "text/html": [
              "\n",
              "    <div>\n",
              "      <progress value='2' class='' max='3' style='width:300px; height:20px; vertical-align: middle;'></progress>\n",
              "      66.67% [2/3 13:19&lt;06:39]\n",
              "    </div>\n",
              "    \n",
              "<table border=\"1\" class=\"dataframe\">\n",
              "  <thead>\n",
              "    <tr style=\"text-align: left;\">\n",
              "      <th>epoch</th>\n",
              "      <th>train_loss</th>\n",
              "      <th>valid_loss</th>\n",
              "      <th>accuracy_multi</th>\n",
              "      <th>time</th>\n",
              "    </tr>\n",
              "  </thead>\n",
              "  <tbody>\n",
              "    <tr>\n",
              "      <td>0</td>\n",
              "      <td>0.012605</td>\n",
              "      <td>0.012171</td>\n",
              "      <td>0.997356</td>\n",
              "      <td>06:43</td>\n",
              "    </tr>\n",
              "    <tr>\n",
              "      <td>1</td>\n",
              "      <td>0.006401</td>\n",
              "      <td>0.006147</td>\n",
              "      <td>0.998466</td>\n",
              "      <td>06:35</td>\n",
              "    </tr>\n",
              "  </tbody>\n",
              "</table><p>\n",
              "\n",
              "    <div>\n",
              "      <progress value='2438' class='' max='2530' style='width:300px; height:20px; vertical-align: middle;'></progress>\n",
              "      96.36% [2438/2530 05:59&lt;00:13 0.0047]\n",
              "    </div>\n",
              "    "
            ]
          },
          "metadata": {}
        }
      ]
    },
    {
      "cell_type": "code",
      "source": [
        "learner.save(f\"quote-classifier-{model_name}-stage-1\")"
      ],
      "metadata": {
        "id": "aS5x6NkCi_UF"
      },
      "execution_count": null,
      "outputs": []
    },
    {
      "cell_type": "code",
      "source": [
        "learner.export(f\"models/quote-classifier-{model_name}-stage-1.pkl\")"
      ],
      "metadata": {
        "id": "hh83haCdi_UF"
      },
      "execution_count": null,
      "outputs": []
    },
    {
      "cell_type": "markdown",
      "source": [
        "# Inference and F1 score"
      ],
      "metadata": {
        "id": "hQ1W1r80c0hg"
      }
    },
    {
      "cell_type": "code",
      "source": [
        "df = pd.read_csv('prep_quotes.csv')"
      ],
      "metadata": {
        "id": "74ZYL5_vccnA"
      },
      "execution_count": null,
      "outputs": []
    },
    {
      "cell_type": "code",
      "source": [
        "df.columns"
      ],
      "metadata": {
        "colab": {
          "base_uri": "https://localhost:8080/"
        },
        "id": "diyVHZjfxNFN",
        "outputId": "597dbec7-13f0-4b26-cd08-2a24be4e1899"
      },
      "execution_count": null,
      "outputs": [
        {
          "output_type": "execute_result",
          "data": {
            "text/plain": [
              "Index(['Quote', 'Author', 'Category', 'Url', 'Tags', 'revised_tags', 'labels'], dtype='object')"
            ]
          },
          "metadata": {},
          "execution_count": 24
        }
      ]
    },
    {
      "cell_type": "code",
      "source": [
        "df['labels'] = df['labels'].apply(convert_to_int)"
      ],
      "metadata": {
        "id": "ldfBWMSGfEnM"
      },
      "execution_count": null,
      "outputs": []
    },
    {
      "cell_type": "code",
      "source": [
        "splitter = RandomSplitter(valid_pct=0.2, seed=42)\n",
        "train_ids, valid_ids = splitter(df)\n",
        "len(train_ids), len(valid_ids)"
      ],
      "metadata": {
        "id": "E534BZ9mfIYe",
        "colab": {
          "base_uri": "https://localhost:8080/"
        },
        "outputId": "35c5aa88-a98b-4fd5-b27d-189db8337a7a"
      },
      "execution_count": null,
      "outputs": [
        {
          "output_type": "execute_result",
          "data": {
            "text/plain": [
              "(80961, 20240)"
            ]
          },
          "metadata": {},
          "execution_count": 12
        }
      ]
    },
    {
      "cell_type": "code",
      "source": [
        "valid_df = df.loc[valid_ids]\n",
        "valid_df.head()"
      ],
      "metadata": {
        "colab": {
          "base_uri": "https://localhost:8080/",
          "height": 553
        },
        "id": "N4Gq5WtXxhYu",
        "outputId": "e2be2447-a90d-40f3-891c-91bd308d3807"
      },
      "execution_count": null,
      "outputs": [
        {
          "output_type": "execute_result",
          "data": {
            "text/plain": [
              "                                                                                                                                                                                                                                      Quote  \\\n",
              "47647                                                                   We are a country where people of all backgrounds, all nations of origin, all languages, all religions, all races, can make a home. America was built by immigrants.   \n",
              "60068                                                                                                                                                                                                  Love is often the fruit of marriage.   \n",
              "8427                                                                  I consider my ability to arouse enthusiasm among men the greatest asset I possess. The way to develop the best that is in a man is by appreciation and encouragement.   \n",
              "19987                                                                                                     I was dating a guy that was a huge wrestling fan and I'm embarrassed to say it now but I used to make fun of him for watching it.   \n",
              "2831   United Artists wanted to do records with me. I had no idea, what a rare thing that was... to make an album. And they put a guy with me working on songs, and I got busy with films. I just kind of let it slide. Isn't that amazing?   \n",
              "\n",
              "                  Author  Category  \\\n",
              "47647    Hillary Clinton      Home   \n",
              "60068            Moliere  Marriage   \n",
              "8427   Charles M. Schwab      Best   \n",
              "19987      Torrie Wilson    Dating   \n",
              "2831          John Astin   Amazing   \n",
              "\n",
              "                                                                         Url  \\\n",
              "47647   https://www.brainyquote.com/quotes/hillary_clinton_751721?src=t_home   \n",
              "60068       https://www.brainyquote.com/quotes/moliere_380418?src=t_marriage   \n",
              "8427   https://www.brainyquote.com/quotes/charles_m_schwab_121301?src=t_best   \n",
              "19987   https://www.brainyquote.com/quotes/torrie_wilson_177705?src=t_dating   \n",
              "2831      https://www.brainyquote.com/quotes/john_astin_249953?src=t_amazing   \n",
              "\n",
              "                                                       Tags  \\\n",
              "47647        ['Home', 'America', 'All Religions', 'People']   \n",
              "60068     ['Love', 'Marriage', 'Love Is', 'Fruit', 'Often']   \n",
              "8427   ['Best', 'Men', 'Man', 'Appreciation', 'Enthusiasm']   \n",
              "19987     ['Dating', 'Fun', 'Wrestling', 'Now', 'Watching']   \n",
              "2831              ['Amazing', 'Busy', 'Me', 'Rare', 'Just']   \n",
              "\n",
              "                                            revised_tags  \\\n",
              "47647                      ['Home', 'America', 'People']   \n",
              "60068  ['Love', 'Marriage', 'Love Is', 'Fruit', 'Often']   \n",
              "8427                              ['Best', 'Men', 'Man']   \n",
              "19987                           ['Dating', 'Fun', 'Now']   \n",
              "2831                   ['Amazing', 'Busy', 'Me', 'Just']   \n",
              "\n",
              "                                                                                                                                                                                                                                                                                                                  labels  \n",
              "47647  [0, 0, 0, 0, 0, 0, 0, 0, 0, 0, 0, 0, 0, 0, 0, 0, 0, 0, 0, 0, 0, 0, 0, 0, 0, 0, 0, 0, 0, 0, 0, 0, 0, 0, 0, 0, 0, 1, 0, 0, 0, 0, 0, 0, 0, 0, 0, 0, 0, 0, 0, 0, 0, 0, 0, 0, 0, 0, 0, 0, 0, 0, 0, 0, 0, 0, 0, 0, 0, 0, 0, 0, 0, 0, 0, 0, 0, 0, 0, 0, 0, 0, 0, 0, 0, 0, 0, 0, 0, 0, 0, 0, 0, 0, 0, 0, 0, 0, 0, 0, ...]  \n",
              "60068  [0, 0, 0, 0, 0, 0, 0, 0, 0, 0, 0, 0, 0, 0, 0, 0, 0, 0, 0, 0, 0, 0, 0, 0, 0, 0, 0, 0, 0, 0, 0, 0, 0, 0, 0, 0, 0, 0, 0, 0, 0, 0, 0, 0, 0, 0, 0, 0, 0, 0, 0, 0, 0, 0, 0, 0, 0, 0, 0, 0, 0, 0, 0, 0, 0, 0, 0, 0, 0, 1, 0, 0, 0, 0, 0, 0, 0, 0, 0, 0, 0, 0, 0, 0, 0, 0, 0, 0, 0, 0, 0, 0, 0, 0, 0, 0, 0, 0, 0, 0, ...]  \n",
              "8427   [0, 0, 0, 0, 0, 1, 0, 0, 0, 0, 0, 0, 0, 1, 0, 0, 0, 0, 0, 0, 0, 0, 0, 0, 0, 0, 0, 0, 0, 0, 0, 0, 1, 0, 0, 0, 0, 0, 0, 0, 0, 0, 0, 0, 0, 0, 0, 0, 0, 0, 0, 0, 0, 0, 0, 0, 0, 0, 0, 0, 0, 0, 0, 0, 0, 0, 0, 0, 0, 0, 0, 0, 0, 0, 0, 0, 0, 0, 0, 0, 0, 0, 0, 0, 0, 0, 0, 0, 0, 0, 0, 0, 0, 0, 0, 0, 0, 0, 0, 0, ...]  \n",
              "19987  [0, 0, 0, 0, 0, 0, 0, 0, 0, 0, 0, 0, 0, 0, 0, 0, 0, 0, 0, 0, 0, 0, 0, 0, 0, 0, 0, 0, 0, 0, 0, 0, 0, 0, 0, 0, 0, 0, 0, 0, 0, 0, 0, 0, 0, 0, 0, 0, 0, 0, 0, 0, 0, 0, 0, 0, 0, 0, 0, 0, 0, 0, 0, 0, 0, 0, 0, 0, 0, 0, 0, 0, 0, 0, 0, 0, 0, 0, 0, 0, 0, 0, 0, 0, 0, 0, 0, 0, 0, 0, 0, 0, 0, 0, 0, 0, 0, 0, 0, 0, ...]  \n",
              "2831   [0, 0, 0, 0, 0, 0, 0, 0, 0, 0, 0, 0, 0, 0, 0, 0, 0, 0, 0, 0, 0, 0, 0, 0, 0, 0, 0, 0, 0, 0, 0, 0, 0, 0, 0, 0, 0, 0, 0, 0, 1, 0, 0, 0, 0, 0, 0, 0, 0, 0, 0, 0, 0, 1, 0, 0, 0, 0, 0, 0, 0, 0, 0, 0, 0, 0, 0, 0, 0, 0, 0, 0, 0, 0, 0, 0, 0, 0, 0, 0, 0, 0, 0, 0, 0, 0, 0, 0, 0, 0, 0, 0, 0, 0, 0, 0, 0, 0, 0, 0, ...]  "
            ],
            "text/html": [
              "\n",
              "  <div id=\"df-d9370650-7029-49e1-acc2-83973d1df8f2\" class=\"colab-df-container\">\n",
              "    <div>\n",
              "<style scoped>\n",
              "    .dataframe tbody tr th:only-of-type {\n",
              "        vertical-align: middle;\n",
              "    }\n",
              "\n",
              "    .dataframe tbody tr th {\n",
              "        vertical-align: top;\n",
              "    }\n",
              "\n",
              "    .dataframe thead th {\n",
              "        text-align: right;\n",
              "    }\n",
              "</style>\n",
              "<table border=\"1\" class=\"dataframe\">\n",
              "  <thead>\n",
              "    <tr style=\"text-align: right;\">\n",
              "      <th></th>\n",
              "      <th>Quote</th>\n",
              "      <th>Author</th>\n",
              "      <th>Category</th>\n",
              "      <th>Url</th>\n",
              "      <th>Tags</th>\n",
              "      <th>revised_tags</th>\n",
              "      <th>labels</th>\n",
              "    </tr>\n",
              "  </thead>\n",
              "  <tbody>\n",
              "    <tr>\n",
              "      <th>47647</th>\n",
              "      <td>We are a country where people of all backgrounds, all nations of origin, all languages, all religions, all races, can make a home. America was built by immigrants.</td>\n",
              "      <td>Hillary Clinton</td>\n",
              "      <td>Home</td>\n",
              "      <td>https://www.brainyquote.com/quotes/hillary_clinton_751721?src=t_home</td>\n",
              "      <td>['Home', 'America', 'All Religions', 'People']</td>\n",
              "      <td>['Home', 'America', 'People']</td>\n",
              "      <td>[0, 0, 0, 0, 0, 0, 0, 0, 0, 0, 0, 0, 0, 0, 0, 0, 0, 0, 0, 0, 0, 0, 0, 0, 0, 0, 0, 0, 0, 0, 0, 0, 0, 0, 0, 0, 0, 1, 0, 0, 0, 0, 0, 0, 0, 0, 0, 0, 0, 0, 0, 0, 0, 0, 0, 0, 0, 0, 0, 0, 0, 0, 0, 0, 0, 0, 0, 0, 0, 0, 0, 0, 0, 0, 0, 0, 0, 0, 0, 0, 0, 0, 0, 0, 0, 0, 0, 0, 0, 0, 0, 0, 0, 0, 0, 0, 0, 0, 0, 0, ...]</td>\n",
              "    </tr>\n",
              "    <tr>\n",
              "      <th>60068</th>\n",
              "      <td>Love is often the fruit of marriage.</td>\n",
              "      <td>Moliere</td>\n",
              "      <td>Marriage</td>\n",
              "      <td>https://www.brainyquote.com/quotes/moliere_380418?src=t_marriage</td>\n",
              "      <td>['Love', 'Marriage', 'Love Is', 'Fruit', 'Often']</td>\n",
              "      <td>['Love', 'Marriage', 'Love Is', 'Fruit', 'Often']</td>\n",
              "      <td>[0, 0, 0, 0, 0, 0, 0, 0, 0, 0, 0, 0, 0, 0, 0, 0, 0, 0, 0, 0, 0, 0, 0, 0, 0, 0, 0, 0, 0, 0, 0, 0, 0, 0, 0, 0, 0, 0, 0, 0, 0, 0, 0, 0, 0, 0, 0, 0, 0, 0, 0, 0, 0, 0, 0, 0, 0, 0, 0, 0, 0, 0, 0, 0, 0, 0, 0, 0, 0, 1, 0, 0, 0, 0, 0, 0, 0, 0, 0, 0, 0, 0, 0, 0, 0, 0, 0, 0, 0, 0, 0, 0, 0, 0, 0, 0, 0, 0, 0, 0, ...]</td>\n",
              "    </tr>\n",
              "    <tr>\n",
              "      <th>8427</th>\n",
              "      <td>I consider my ability to arouse enthusiasm among men the greatest asset I possess. The way to develop the best that is in a man is by appreciation and encouragement.</td>\n",
              "      <td>Charles M. Schwab</td>\n",
              "      <td>Best</td>\n",
              "      <td>https://www.brainyquote.com/quotes/charles_m_schwab_121301?src=t_best</td>\n",
              "      <td>['Best', 'Men', 'Man', 'Appreciation', 'Enthusiasm']</td>\n",
              "      <td>['Best', 'Men', 'Man']</td>\n",
              "      <td>[0, 0, 0, 0, 0, 1, 0, 0, 0, 0, 0, 0, 0, 1, 0, 0, 0, 0, 0, 0, 0, 0, 0, 0, 0, 0, 0, 0, 0, 0, 0, 0, 1, 0, 0, 0, 0, 0, 0, 0, 0, 0, 0, 0, 0, 0, 0, 0, 0, 0, 0, 0, 0, 0, 0, 0, 0, 0, 0, 0, 0, 0, 0, 0, 0, 0, 0, 0, 0, 0, 0, 0, 0, 0, 0, 0, 0, 0, 0, 0, 0, 0, 0, 0, 0, 0, 0, 0, 0, 0, 0, 0, 0, 0, 0, 0, 0, 0, 0, 0, ...]</td>\n",
              "    </tr>\n",
              "    <tr>\n",
              "      <th>19987</th>\n",
              "      <td>I was dating a guy that was a huge wrestling fan and I'm embarrassed to say it now but I used to make fun of him for watching it.</td>\n",
              "      <td>Torrie Wilson</td>\n",
              "      <td>Dating</td>\n",
              "      <td>https://www.brainyquote.com/quotes/torrie_wilson_177705?src=t_dating</td>\n",
              "      <td>['Dating', 'Fun', 'Wrestling', 'Now', 'Watching']</td>\n",
              "      <td>['Dating', 'Fun', 'Now']</td>\n",
              "      <td>[0, 0, 0, 0, 0, 0, 0, 0, 0, 0, 0, 0, 0, 0, 0, 0, 0, 0, 0, 0, 0, 0, 0, 0, 0, 0, 0, 0, 0, 0, 0, 0, 0, 0, 0, 0, 0, 0, 0, 0, 0, 0, 0, 0, 0, 0, 0, 0, 0, 0, 0, 0, 0, 0, 0, 0, 0, 0, 0, 0, 0, 0, 0, 0, 0, 0, 0, 0, 0, 0, 0, 0, 0, 0, 0, 0, 0, 0, 0, 0, 0, 0, 0, 0, 0, 0, 0, 0, 0, 0, 0, 0, 0, 0, 0, 0, 0, 0, 0, 0, ...]</td>\n",
              "    </tr>\n",
              "    <tr>\n",
              "      <th>2831</th>\n",
              "      <td>United Artists wanted to do records with me. I had no idea, what a rare thing that was... to make an album. And they put a guy with me working on songs, and I got busy with films. I just kind of let it slide. Isn't that amazing?</td>\n",
              "      <td>John Astin</td>\n",
              "      <td>Amazing</td>\n",
              "      <td>https://www.brainyquote.com/quotes/john_astin_249953?src=t_amazing</td>\n",
              "      <td>['Amazing', 'Busy', 'Me', 'Rare', 'Just']</td>\n",
              "      <td>['Amazing', 'Busy', 'Me', 'Just']</td>\n",
              "      <td>[0, 0, 0, 0, 0, 0, 0, 0, 0, 0, 0, 0, 0, 0, 0, 0, 0, 0, 0, 0, 0, 0, 0, 0, 0, 0, 0, 0, 0, 0, 0, 0, 0, 0, 0, 0, 0, 0, 0, 0, 1, 0, 0, 0, 0, 0, 0, 0, 0, 0, 0, 0, 0, 1, 0, 0, 0, 0, 0, 0, 0, 0, 0, 0, 0, 0, 0, 0, 0, 0, 0, 0, 0, 0, 0, 0, 0, 0, 0, 0, 0, 0, 0, 0, 0, 0, 0, 0, 0, 0, 0, 0, 0, 0, 0, 0, 0, 0, 0, 0, ...]</td>\n",
              "    </tr>\n",
              "  </tbody>\n",
              "</table>\n",
              "</div>\n",
              "    <div class=\"colab-df-buttons\">\n",
              "\n",
              "  <div class=\"colab-df-container\">\n",
              "    <button class=\"colab-df-convert\" onclick=\"convertToInteractive('df-d9370650-7029-49e1-acc2-83973d1df8f2')\"\n",
              "            title=\"Convert this dataframe to an interactive table.\"\n",
              "            style=\"display:none;\">\n",
              "\n",
              "  <svg xmlns=\"http://www.w3.org/2000/svg\" height=\"24px\" viewBox=\"0 -960 960 960\">\n",
              "    <path d=\"M120-120v-720h720v720H120Zm60-500h600v-160H180v160Zm220 220h160v-160H400v160Zm0 220h160v-160H400v160ZM180-400h160v-160H180v160Zm440 0h160v-160H620v160ZM180-180h160v-160H180v160Zm440 0h160v-160H620v160Z\"/>\n",
              "  </svg>\n",
              "    </button>\n",
              "\n",
              "  <style>\n",
              "    .colab-df-container {\n",
              "      display:flex;\n",
              "      gap: 12px;\n",
              "    }\n",
              "\n",
              "    .colab-df-convert {\n",
              "      background-color: #E8F0FE;\n",
              "      border: none;\n",
              "      border-radius: 50%;\n",
              "      cursor: pointer;\n",
              "      display: none;\n",
              "      fill: #1967D2;\n",
              "      height: 32px;\n",
              "      padding: 0 0 0 0;\n",
              "      width: 32px;\n",
              "    }\n",
              "\n",
              "    .colab-df-convert:hover {\n",
              "      background-color: #E2EBFA;\n",
              "      box-shadow: 0px 1px 2px rgba(60, 64, 67, 0.3), 0px 1px 3px 1px rgba(60, 64, 67, 0.15);\n",
              "      fill: #174EA6;\n",
              "    }\n",
              "\n",
              "    .colab-df-buttons div {\n",
              "      margin-bottom: 4px;\n",
              "    }\n",
              "\n",
              "    [theme=dark] .colab-df-convert {\n",
              "      background-color: #3B4455;\n",
              "      fill: #D2E3FC;\n",
              "    }\n",
              "\n",
              "    [theme=dark] .colab-df-convert:hover {\n",
              "      background-color: #434B5C;\n",
              "      box-shadow: 0px 1px 3px 1px rgba(0, 0, 0, 0.15);\n",
              "      filter: drop-shadow(0px 1px 2px rgba(0, 0, 0, 0.3));\n",
              "      fill: #FFFFFF;\n",
              "    }\n",
              "  </style>\n",
              "\n",
              "    <script>\n",
              "      const buttonEl =\n",
              "        document.querySelector('#df-d9370650-7029-49e1-acc2-83973d1df8f2 button.colab-df-convert');\n",
              "      buttonEl.style.display =\n",
              "        google.colab.kernel.accessAllowed ? 'block' : 'none';\n",
              "\n",
              "      async function convertToInteractive(key) {\n",
              "        const element = document.querySelector('#df-d9370650-7029-49e1-acc2-83973d1df8f2');\n",
              "        const dataTable =\n",
              "          await google.colab.kernel.invokeFunction('convertToInteractive',\n",
              "                                                    [key], {});\n",
              "        if (!dataTable) return;\n",
              "\n",
              "        const docLinkHtml = 'Like what you see? Visit the ' +\n",
              "          '<a target=\"_blank\" href=https://colab.research.google.com/notebooks/data_table.ipynb>data table notebook</a>'\n",
              "          + ' to learn more about interactive tables.';\n",
              "        element.innerHTML = '';\n",
              "        dataTable['output_type'] = 'display_data';\n",
              "        await google.colab.output.renderOutput(dataTable, element);\n",
              "        const docLink = document.createElement('div');\n",
              "        docLink.innerHTML = docLinkHtml;\n",
              "        element.appendChild(docLink);\n",
              "      }\n",
              "    </script>\n",
              "  </div>\n",
              "\n",
              "\n",
              "<div id=\"df-a923cbee-0909-4c29-99d8-587a0947f076\">\n",
              "  <button class=\"colab-df-quickchart\" onclick=\"quickchart('df-a923cbee-0909-4c29-99d8-587a0947f076')\"\n",
              "            title=\"Suggest charts\"\n",
              "            style=\"display:none;\">\n",
              "\n",
              "<svg xmlns=\"http://www.w3.org/2000/svg\" height=\"24px\"viewBox=\"0 0 24 24\"\n",
              "     width=\"24px\">\n",
              "    <g>\n",
              "        <path d=\"M19 3H5c-1.1 0-2 .9-2 2v14c0 1.1.9 2 2 2h14c1.1 0 2-.9 2-2V5c0-1.1-.9-2-2-2zM9 17H7v-7h2v7zm4 0h-2V7h2v10zm4 0h-2v-4h2v4z\"/>\n",
              "    </g>\n",
              "</svg>\n",
              "  </button>\n",
              "\n",
              "<style>\n",
              "  .colab-df-quickchart {\n",
              "      --bg-color: #E8F0FE;\n",
              "      --fill-color: #1967D2;\n",
              "      --hover-bg-color: #E2EBFA;\n",
              "      --hover-fill-color: #174EA6;\n",
              "      --disabled-fill-color: #AAA;\n",
              "      --disabled-bg-color: #DDD;\n",
              "  }\n",
              "\n",
              "  [theme=dark] .colab-df-quickchart {\n",
              "      --bg-color: #3B4455;\n",
              "      --fill-color: #D2E3FC;\n",
              "      --hover-bg-color: #434B5C;\n",
              "      --hover-fill-color: #FFFFFF;\n",
              "      --disabled-bg-color: #3B4455;\n",
              "      --disabled-fill-color: #666;\n",
              "  }\n",
              "\n",
              "  .colab-df-quickchart {\n",
              "    background-color: var(--bg-color);\n",
              "    border: none;\n",
              "    border-radius: 50%;\n",
              "    cursor: pointer;\n",
              "    display: none;\n",
              "    fill: var(--fill-color);\n",
              "    height: 32px;\n",
              "    padding: 0;\n",
              "    width: 32px;\n",
              "  }\n",
              "\n",
              "  .colab-df-quickchart:hover {\n",
              "    background-color: var(--hover-bg-color);\n",
              "    box-shadow: 0 1px 2px rgba(60, 64, 67, 0.3), 0 1px 3px 1px rgba(60, 64, 67, 0.15);\n",
              "    fill: var(--button-hover-fill-color);\n",
              "  }\n",
              "\n",
              "  .colab-df-quickchart-complete:disabled,\n",
              "  .colab-df-quickchart-complete:disabled:hover {\n",
              "    background-color: var(--disabled-bg-color);\n",
              "    fill: var(--disabled-fill-color);\n",
              "    box-shadow: none;\n",
              "  }\n",
              "\n",
              "  .colab-df-spinner {\n",
              "    border: 2px solid var(--fill-color);\n",
              "    border-color: transparent;\n",
              "    border-bottom-color: var(--fill-color);\n",
              "    animation:\n",
              "      spin 1s steps(1) infinite;\n",
              "  }\n",
              "\n",
              "  @keyframes spin {\n",
              "    0% {\n",
              "      border-color: transparent;\n",
              "      border-bottom-color: var(--fill-color);\n",
              "      border-left-color: var(--fill-color);\n",
              "    }\n",
              "    20% {\n",
              "      border-color: transparent;\n",
              "      border-left-color: var(--fill-color);\n",
              "      border-top-color: var(--fill-color);\n",
              "    }\n",
              "    30% {\n",
              "      border-color: transparent;\n",
              "      border-left-color: var(--fill-color);\n",
              "      border-top-color: var(--fill-color);\n",
              "      border-right-color: var(--fill-color);\n",
              "    }\n",
              "    40% {\n",
              "      border-color: transparent;\n",
              "      border-right-color: var(--fill-color);\n",
              "      border-top-color: var(--fill-color);\n",
              "    }\n",
              "    60% {\n",
              "      border-color: transparent;\n",
              "      border-right-color: var(--fill-color);\n",
              "    }\n",
              "    80% {\n",
              "      border-color: transparent;\n",
              "      border-right-color: var(--fill-color);\n",
              "      border-bottom-color: var(--fill-color);\n",
              "    }\n",
              "    90% {\n",
              "      border-color: transparent;\n",
              "      border-bottom-color: var(--fill-color);\n",
              "    }\n",
              "  }\n",
              "</style>\n",
              "\n",
              "  <script>\n",
              "    async function quickchart(key) {\n",
              "      const quickchartButtonEl =\n",
              "        document.querySelector('#' + key + ' button');\n",
              "      quickchartButtonEl.disabled = true;  // To prevent multiple clicks.\n",
              "      quickchartButtonEl.classList.add('colab-df-spinner');\n",
              "      try {\n",
              "        const charts = await google.colab.kernel.invokeFunction(\n",
              "            'suggestCharts', [key], {});\n",
              "      } catch (error) {\n",
              "        console.error('Error during call to suggestCharts:', error);\n",
              "      }\n",
              "      quickchartButtonEl.classList.remove('colab-df-spinner');\n",
              "      quickchartButtonEl.classList.add('colab-df-quickchart-complete');\n",
              "    }\n",
              "    (() => {\n",
              "      let quickchartButtonEl =\n",
              "        document.querySelector('#df-a923cbee-0909-4c29-99d8-587a0947f076 button');\n",
              "      quickchartButtonEl.style.display =\n",
              "        google.colab.kernel.accessAllowed ? 'block' : 'none';\n",
              "    })();\n",
              "  </script>\n",
              "</div>\n",
              "\n",
              "    </div>\n",
              "  </div>\n"
            ]
          },
          "metadata": {},
          "execution_count": 27
        }
      ]
    },
    {
      "cell_type": "code",
      "source": [
        "with open('tag_types_encoded.json', 'r') as file:\n",
        "  tag_encoder = json.load(file)"
      ],
      "metadata": {
        "id": "JuWYuUdNxonl"
      },
      "execution_count": null,
      "outputs": []
    },
    {
      "cell_type": "code",
      "source": [
        "os.listdir('models')"
      ],
      "metadata": {
        "colab": {
          "base_uri": "https://localhost:8080/"
        },
        "id": "_kUuQyfavpMZ",
        "outputId": "1755e7d6-54ad-42db-e4e3-457293e77c9d"
      },
      "execution_count": null,
      "outputs": [
        {
          "output_type": "execute_result",
          "data": {
            "text/plain": [
              "['quote-classifier-distilroberta-base-stage-0.pkl',\n",
              " 'quote-classifier-distilroberta-base-stage-0.pth',\n",
              " 'quote-classifier-distilroberta-base-stage-1.pkl',\n",
              " 'quote-classifier-distilroberta-base-stage-1.pth',\n",
              " 'quote-classifier-bert-base-uncased-stage-0.pth',\n",
              " 'quote-classifier-bert-base-uncased-stage-0.pkl',\n",
              " 'quote-classifier-bert-base-uncased-stage-1.pth',\n",
              " 'quote-classifier-bert-base-uncased-stage-1.pkl',\n",
              " 'tmpzpz2jpqv']"
            ]
          },
          "metadata": {},
          "execution_count": 14
        }
      ]
    },
    {
      "cell_type": "code",
      "source": [
        "from sklearn import metrics\n",
        "\n",
        "def metric_measures(test_df, preds):\n",
        "\n",
        "  targets = [np.asarray(target) for target in test_df['labels'].to_list()]\n",
        "  outputs = [np.asarray(pred) for pred in preds]\n",
        "\n",
        "\n",
        "  accuracy = metrics.accuracy_score(targets, outputs)\n",
        "  f1_score_micro = metrics.f1_score(targets, outputs, average='micro')\n",
        "  f1_score_macro = metrics.f1_score(targets, outputs, average='macro')\n",
        "\n",
        "  print(f\"F1 Score (Micro) = {f1_score_micro: .4f}\")\n",
        "  print(f\"F1 Score (Macro) = {f1_score_macro: .4f}\")\n",
        "\n",
        "  return"
      ],
      "metadata": {
        "id": "mO7cksCewofS"
      },
      "execution_count": null,
      "outputs": []
    },
    {
      "cell_type": "code",
      "source": [
        "example = \"What you have accomplished in the past is a much stronger example than talking about what you are capable of doing in the future.Actions do speak louder than words!\""
      ],
      "metadata": {
        "id": "AKGq9yziw0z2"
      },
      "execution_count": null,
      "outputs": []
    },
    {
      "cell_type": "markdown",
      "source": [
        "### Distil Roberta"
      ],
      "metadata": {
        "id": "gyZCLrU97s9t"
      }
    },
    {
      "cell_type": "code",
      "source": [
        "roberta_model_path = \"models/quote-classifier-distilroberta-base-stage-1.pkl\"\n",
        "roberta_learner_inf = load_learner(roberta_model_path)"
      ],
      "metadata": {
        "id": "NtizE84XfeNR"
      },
      "execution_count": null,
      "outputs": []
    },
    {
      "cell_type": "code",
      "source": [
        "roberta_learner_inf.blurr_predict(example)[0]['labels']"
      ],
      "metadata": {
        "colab": {
          "base_uri": "https://localhost:8080/"
        },
        "id": "INP1FFSkwDOh",
        "outputId": "a62b2485-5510-4a40-c0d4-b5dab70f4006"
      },
      "execution_count": null,
      "outputs": [
        {
          "output_type": "execute_result",
          "data": {
            "text/plain": [
              "['Past', 'Future', 'Words']"
            ]
          },
          "metadata": {},
          "execution_count": 23
        }
      ]
    },
    {
      "cell_type": "code",
      "source": [
        "preds = []\n",
        "for idx, row in tqdm(valid_df.iterrows(), total=len(valid_df)):\n",
        "  desc = row['Quote']\n",
        "  labels = roberta_learner_inf.blurr_predict(desc)[0]['labels']\n",
        "  pred_genres = [0] * len(tag_encoder)\n",
        "  for label in labels:\n",
        "    pred_genres[tag_encoder[label]] = 1\n",
        "  preds.append(pred_genres)"
      ],
      "metadata": {
        "colab": {
          "base_uri": "https://localhost:8080/",
          "height": 49,
          "referenced_widgets": [
            "14d228df80d4416bbb9da728e1064f89",
            "e4859a9337be4a19bbf3aa549273a2c8",
            "97116e4050704e958b24def3deb11ca5",
            "66d4c6d5c07a4d3caf3eda89cfe1c522",
            "fc8f04affe8e4087a35cd3bf967567e6",
            "c04baa4711c94430a4dc405fa3ecb764",
            "602786f84dbb4a1980896632992603cc",
            "cc3ea4bc14b64f04833962fd5449888e",
            "52e7493453a94ecf9ab4d59c9ce16f32",
            "ce8d2ec3e66e44e6bdd89a415d96933e",
            "9072a35a5471413296fa39b1c96de324"
          ]
        },
        "id": "0cEWLvxVxJnw",
        "outputId": "a64d4813-2d11-424f-f5c3-3899e4413079"
      },
      "execution_count": null,
      "outputs": [
        {
          "output_type": "display_data",
          "data": {
            "text/plain": [
              "  0%|          | 0/20240 [00:00<?, ?it/s]"
            ],
            "application/vnd.jupyter.widget-view+json": {
              "version_major": 2,
              "version_minor": 0,
              "model_id": "14d228df80d4416bbb9da728e1064f89"
            }
          },
          "metadata": {}
        }
      ]
    },
    {
      "cell_type": "code",
      "source": [
        "metric_measures(valid_df, preds)"
      ],
      "metadata": {
        "colab": {
          "base_uri": "https://localhost:8080/"
        },
        "id": "VrFw2Gasx5s2",
        "outputId": "b71e8eb3-2fe5-4d10-d8c1-81495736ecf5"
      },
      "execution_count": null,
      "outputs": [
        {
          "output_type": "stream",
          "name": "stdout",
          "text": [
            "F1 Score (Micro) =  0.8449\n",
            "F1 Score (Macro) =  0.5242\n"
          ]
        }
      ]
    },
    {
      "cell_type": "markdown",
      "source": [
        "## Bert"
      ],
      "metadata": {
        "id": "bydNwTNz77sh"
      }
    },
    {
      "cell_type": "code",
      "source": [
        "roberta_model_path = \"models/quote-classifier-bert-base-uncased-stage-1.pkl\"\n",
        "roberta_learner_inf = load_learner(roberta_model_path)"
      ],
      "metadata": {
        "id": "9IXRgp2D7TbS"
      },
      "execution_count": null,
      "outputs": []
    },
    {
      "cell_type": "code",
      "source": [
        "roberta_learner_inf.blurr_predict(example)[0]['labels']"
      ],
      "metadata": {
        "colab": {
          "base_uri": "https://localhost:8080/"
        },
        "id": "VNNrxsrx8Lpt",
        "outputId": "64265127-ee06-4fcf-d6f5-8c9cc91018bf"
      },
      "execution_count": null,
      "outputs": [
        {
          "output_type": "execute_result",
          "data": {
            "text/plain": [
              "['Past', 'Future', 'Words']"
            ]
          },
          "metadata": {},
          "execution_count": 40
        }
      ]
    },
    {
      "cell_type": "code",
      "source": [
        "preds = []\n",
        "for idx, row in tqdm(valid_df.iterrows(), total=len(valid_df)):\n",
        "  desc = row['Quote']\n",
        "  labels = roberta_learner_inf.blurr_predict(desc)[0]['labels']\n",
        "  pred_genres = [0] * len(tag_encoder)\n",
        "  for label in labels:\n",
        "    pred_genres[tag_encoder[label]] = 1\n",
        "  preds.append(pred_genres)"
      ],
      "metadata": {
        "colab": {
          "base_uri": "https://localhost:8080/",
          "height": 49,
          "referenced_widgets": [
            "c53a85c9fea24ece94828989e7cfcbd3",
            "074eb23d7f654721963b3d1ccf23870e",
            "46d7ca8431424444a7d8f75537dbf914",
            "19f5703d2a964a7fa3280ea3ad98d193",
            "b9ea9b149e154ea69c3dd5b03d74847f",
            "039aea7079214b33839f3916f65fe207",
            "843c915e575242e0902d6653a9db75e5",
            "6a76f347dc334db9bc09da1aadb63c65",
            "72758c07ca924da7901e400aef23342f",
            "5d5b866157ca482a85405295af6f10c4",
            "93434e0842b0445097fbb98be76db1d2"
          ]
        },
        "id": "9IqsbkrJ8OD6",
        "outputId": "f898d059-ede3-45d3-93e1-e6a9e0f735c0"
      },
      "execution_count": null,
      "outputs": [
        {
          "output_type": "display_data",
          "data": {
            "text/plain": [
              "  0%|          | 0/20240 [00:00<?, ?it/s]"
            ],
            "application/vnd.jupyter.widget-view+json": {
              "version_major": 2,
              "version_minor": 0,
              "model_id": "c53a85c9fea24ece94828989e7cfcbd3"
            }
          },
          "metadata": {}
        }
      ]
    },
    {
      "cell_type": "code",
      "source": [
        "metric_measures(valid_df, preds)"
      ],
      "metadata": {
        "colab": {
          "base_uri": "https://localhost:8080/"
        },
        "id": "YxgCqRSo8P0X",
        "outputId": "4ed05c39-5f0c-4477-e41f-18a39c84602f"
      },
      "execution_count": null,
      "outputs": [
        {
          "output_type": "stream",
          "name": "stdout",
          "text": [
            "F1 Score (Micro) =  0.8860\n",
            "F1 Score (Macro) =  0.6715\n"
          ]
        }
      ]
    },
    {
      "cell_type": "markdown",
      "source": [
        "# ONNX"
      ],
      "metadata": {
        "id": "rV0-wpUEJe22"
      }
    },
    {
      "cell_type": "code",
      "source": [
        "! pip install -q onnxruntime onnx"
      ],
      "metadata": {
        "colab": {
          "base_uri": "https://localhost:8080/"
        },
        "id": "sDH19G65Jwyw",
        "outputId": "99e985b8-afa6-4125-9432-278790d4fef7"
      },
      "execution_count": null,
      "outputs": [
        {
          "output_type": "stream",
          "name": "stdout",
          "text": [
            "\u001b[2K     \u001b[90m━━━━━━━━━━━━━━━━━━━━━━━━━━━━━━━━━━━━━━━━\u001b[0m \u001b[32m15.7/15.7 MB\u001b[0m \u001b[31m38.2 MB/s\u001b[0m eta \u001b[36m0:00:00\u001b[0m\n",
            "\u001b[?25h"
          ]
        }
      ]
    },
    {
      "cell_type": "code",
      "source": [
        "model_path = \"models/quote-classifier-bert-base-uncased-stage-1.pkl\"\n",
        "learner_inf = load_learner(model_path)"
      ],
      "metadata": {
        "id": "egaea3CB8fgh"
      },
      "execution_count": null,
      "outputs": []
    },
    {
      "cell_type": "code",
      "source": [
        "classifier = learner_inf.model.hf_model.eval()\n",
        "\n",
        "torch.onnx.export(\n",
        "    classifier,\n",
        "    torch.LongTensor([[0] * 512]),\n",
        "    'models/quote-classifier.onnx',\n",
        "    input_names=['input_ids'],\n",
        "    output_names=['output'],\n",
        "    opset_version=13,\n",
        "    dynamic_axes={\n",
        "        'input_ids': {0: 'batch_size', 1: 'sequence_len'},\n",
        "        'output': {0: 'batch_size'}\n",
        "    }\n",
        ")"
      ],
      "metadata": {
        "id": "q2BrrDdNJkbX"
      },
      "execution_count": null,
      "outputs": []
    },
    {
      "cell_type": "code",
      "source": [
        "from onnxruntime.quantization import quantize_dynamic, QuantType\n",
        "\n",
        "onnx_model_path = 'models/quote-classifier.onnx'\n",
        "quantized_onnx_model_path = 'models/quote-classifier-quantized.onnx'\n",
        "\n",
        "quantize_dynamic(\n",
        "    onnx_model_path,\n",
        "    quantized_onnx_model_path,\n",
        "    weight_type=QuantType.QUInt8,\n",
        ")"
      ],
      "metadata": {
        "colab": {
          "base_uri": "https://localhost:8080/"
        },
        "id": "eq6_xFtwJnGJ",
        "outputId": "1972a475-fdc4-4170-87c9-3b3794b1f5b4"
      },
      "execution_count": null,
      "outputs": [
        {
          "output_type": "stream",
          "name": "stderr",
          "text": [
            "WARNING:root:Please consider to run pre-processing before quantization. Refer to example: https://github.com/microsoft/onnxruntime-inference-examples/blob/main/quantization/image_classification/cpu/ReadMe.md \n"
          ]
        },
        {
          "output_type": "stream",
          "name": "stdout",
          "text": [
            "Ignore MatMul due to non constant B: /[/bert/encoder/layer.0/attention/self/MatMul]\n",
            "Ignore MatMul due to non constant B: /[/bert/encoder/layer.0/attention/self/MatMul_1]\n",
            "Ignore MatMul due to non constant B: /[/bert/encoder/layer.1/attention/self/MatMul]\n",
            "Ignore MatMul due to non constant B: /[/bert/encoder/layer.1/attention/self/MatMul_1]\n",
            "Ignore MatMul due to non constant B: /[/bert/encoder/layer.2/attention/self/MatMul]\n",
            "Ignore MatMul due to non constant B: /[/bert/encoder/layer.2/attention/self/MatMul_1]\n",
            "Ignore MatMul due to non constant B: /[/bert/encoder/layer.3/attention/self/MatMul]\n",
            "Ignore MatMul due to non constant B: /[/bert/encoder/layer.3/attention/self/MatMul_1]\n",
            "Ignore MatMul due to non constant B: /[/bert/encoder/layer.4/attention/self/MatMul]\n",
            "Ignore MatMul due to non constant B: /[/bert/encoder/layer.4/attention/self/MatMul_1]\n",
            "Ignore MatMul due to non constant B: /[/bert/encoder/layer.5/attention/self/MatMul]\n",
            "Ignore MatMul due to non constant B: /[/bert/encoder/layer.5/attention/self/MatMul_1]\n",
            "Ignore MatMul due to non constant B: /[/bert/encoder/layer.6/attention/self/MatMul]\n",
            "Ignore MatMul due to non constant B: /[/bert/encoder/layer.6/attention/self/MatMul_1]\n",
            "Ignore MatMul due to non constant B: /[/bert/encoder/layer.7/attention/self/MatMul]\n",
            "Ignore MatMul due to non constant B: /[/bert/encoder/layer.7/attention/self/MatMul_1]\n",
            "Ignore MatMul due to non constant B: /[/bert/encoder/layer.8/attention/self/MatMul]\n",
            "Ignore MatMul due to non constant B: /[/bert/encoder/layer.8/attention/self/MatMul_1]\n",
            "Ignore MatMul due to non constant B: /[/bert/encoder/layer.9/attention/self/MatMul]\n",
            "Ignore MatMul due to non constant B: /[/bert/encoder/layer.9/attention/self/MatMul_1]\n",
            "Ignore MatMul due to non constant B: /[/bert/encoder/layer.10/attention/self/MatMul]\n",
            "Ignore MatMul due to non constant B: /[/bert/encoder/layer.10/attention/self/MatMul_1]\n",
            "Ignore MatMul due to non constant B: /[/bert/encoder/layer.11/attention/self/MatMul]\n",
            "Ignore MatMul due to non constant B: /[/bert/encoder/layer.11/attention/self/MatMul_1]\n"
          ]
        }
      ]
    },
    {
      "cell_type": "markdown",
      "source": [
        "## Inference"
      ],
      "metadata": {
        "id": "4fvDU0PlJ7X6"
      }
    },
    {
      "cell_type": "code",
      "source": [
        "os.listdir('models')"
      ],
      "metadata": {
        "colab": {
          "base_uri": "https://localhost:8080/"
        },
        "id": "jqlgcZY3NbEh",
        "outputId": "ead17446-826a-4bb1-a4a8-4dc76868e873"
      },
      "execution_count": null,
      "outputs": [
        {
          "output_type": "execute_result",
          "data": {
            "text/plain": [
              "['quote-classifier-distilroberta-base-stage-0.pkl',\n",
              " 'quote-classifier-distilroberta-base-stage-0.pth',\n",
              " 'quote-classifier-distilroberta-base-stage-1.pkl',\n",
              " 'quote-classifier-distilroberta-base-stage-1.pth',\n",
              " 'quote-classifier-bert-base-uncased-stage-0.pth',\n",
              " 'quote-classifier-bert-base-uncased-stage-0.pkl',\n",
              " 'quote-classifier-bert-base-uncased-stage-1.pth',\n",
              " 'quote-classifier-bert-base-uncased-stage-1.pkl',\n",
              " 'tmpzpz2jpqv',\n",
              " 'quote-classifier.onnx',\n",
              " 'quote-classifier-quantized.onnx']"
            ]
          },
          "metadata": {},
          "execution_count": 50
        }
      ]
    },
    {
      "cell_type": "code",
      "source": [
        "with open('tag_types_encoded.json', 'r') as file:\n",
        "  tag_encoder = json.load(file)"
      ],
      "metadata": {
        "id": "LIKJo2hnKU8-"
      },
      "execution_count": null,
      "outputs": []
    },
    {
      "cell_type": "code",
      "source": [
        "import onnxruntime as rt\n",
        "from transformers import AutoTokenizer\n",
        "import torch\n",
        "\n",
        "tokenizer = AutoTokenizer.from_pretrained(\"bert-base-uncased\")\n",
        "\n",
        "class_labels = list(tag_encoder.keys())\n",
        "\n",
        "inf_session = rt.InferenceSession('models/quote-classifier-quantized.onnx')\n",
        "input_name = inf_session.get_inputs()[0].name\n",
        "output_name = inf_session.get_outputs()[0].name"
      ],
      "metadata": {
        "colab": {
          "base_uri": "https://localhost:8080/",
          "height": 145,
          "referenced_widgets": [
            "9418c1b98f1b4dff9cf88f8e07686977",
            "403f13bbc1c74580934bfe6716d0240c",
            "506279c9b5ca49938a2b469ec18c5c21",
            "2297bb951e7d490d851a1abe5f2a58be",
            "b5f4520ac6784b3e84e76c92329a569f",
            "8d7a8bf219964f4687a988eb2fa022be",
            "5f27671424b4409ca9377ab36695c0f6",
            "cc46e1ee9c16463882b5ce25ee6641f9",
            "f57d26a2e9be400c8863d37cfcc11ec6",
            "73f64587ca3c4b1fb68ee65b53f69d60",
            "cd1efa2d48b84723a59760855ddd8817",
            "a2d34df7d8c4402cb0d0a33b980222b9",
            "5420f9bc4dfb437b957c32c06c65e1c7",
            "844d2bfa4021459399764c12a01cd323",
            "039dd07c4dff4b959f0bd2a3a99a9b6e",
            "7cb10521c9724ad190b3f7f5d8c26f89",
            "7bf67973e24d4b9a9566f560d98e1d26",
            "5dbf6cbff20748578d4bee386adf4455",
            "ce31393b91cb47c2ba723f287d7a782a",
            "006ab6d95f43491288d2d87f9e62a05a",
            "41001ebe12544b86b7d5bbc513e97cc7",
            "f09ecc3bce874453af9793644a7dca17",
            "35288ec3648c4d01b9cca4efb25252d4",
            "36e1facfcea54ad1831b8ccd7ae84dde",
            "325ca24e210f46fb94d1adb25a98553a",
            "bcb741b4855047cca7878cf573a622f1",
            "a7f7af5df9344f91af660b841e246a4e",
            "25cf2e7d17f14dfdb73573d9778afc86",
            "52be78be708a49ffa44189d8c77613e8",
            "d9bcb68942684856b9e956b193f5d504",
            "571d5611be134ad8a9057bfaa1336ce6",
            "1be9b5ac69114ecaaec3c69b8bc9cb4a",
            "fe7887f9ef49458f83501459b1cb0066",
            "7b6afcdbd00246b7ba6745a0b0b0c2fe",
            "e4c8464f49194950a37af1aae1637bb0",
            "ddbd34b6b4b24afb9f6da63ed9419107",
            "5d597659b2f74b569995d425ba1beea2",
            "bd529b293401452db8ec6882ae8833da",
            "4b044ecf7c9344729ad6b461b7c13b4f",
            "287b571a1996463585338a6aa3dff515",
            "23037dc34b9b4d4dacb1fd18ab0f1828",
            "0cbfa40b90db4690bb1a9b5b62062629",
            "bdffc4150337460aaebacd3be1d47ecc",
            "52f8dbf37fbe48018599250f25d16513"
          ]
        },
        "id": "tAC_UZwwJ-H4",
        "outputId": "b41c3ce6-07af-4653-d7cc-14c5a9e341e9"
      },
      "execution_count": null,
      "outputs": [
        {
          "output_type": "display_data",
          "data": {
            "text/plain": [
              "tokenizer_config.json:   0%|          | 0.00/28.0 [00:00<?, ?B/s]"
            ],
            "application/vnd.jupyter.widget-view+json": {
              "version_major": 2,
              "version_minor": 0,
              "model_id": "9418c1b98f1b4dff9cf88f8e07686977"
            }
          },
          "metadata": {}
        },
        {
          "output_type": "display_data",
          "data": {
            "text/plain": [
              "config.json:   0%|          | 0.00/570 [00:00<?, ?B/s]"
            ],
            "application/vnd.jupyter.widget-view+json": {
              "version_major": 2,
              "version_minor": 0,
              "model_id": "a2d34df7d8c4402cb0d0a33b980222b9"
            }
          },
          "metadata": {}
        },
        {
          "output_type": "display_data",
          "data": {
            "text/plain": [
              "vocab.txt:   0%|          | 0.00/232k [00:00<?, ?B/s]"
            ],
            "application/vnd.jupyter.widget-view+json": {
              "version_major": 2,
              "version_minor": 0,
              "model_id": "35288ec3648c4d01b9cca4efb25252d4"
            }
          },
          "metadata": {}
        },
        {
          "output_type": "display_data",
          "data": {
            "text/plain": [
              "tokenizer.json:   0%|          | 0.00/466k [00:00<?, ?B/s]"
            ],
            "application/vnd.jupyter.widget-view+json": {
              "version_major": 2,
              "version_minor": 0,
              "model_id": "7b6afcdbd00246b7ba6745a0b0b0c2fe"
            }
          },
          "metadata": {}
        }
      ]
    },
    {
      "cell_type": "code",
      "source": [
        "preds = []\n",
        "for idx, row in tqdm(valid_df.iterrows(), total=valid_df.shape[0]):\n",
        "  desc = row['Quote']\n",
        "  input_ids = tokenizer(desc)['input_ids'][:512]\n",
        "\n",
        "  probs = inf_session.run([output_name], {input_name: [input_ids]})[0]\n",
        "  probs = torch.FloatTensor(probs)\n",
        "\n",
        "  masks = torch.sigmoid(probs) >= 0.5\n",
        "  labels = [class_labels[idx] for idx, mask in enumerate(masks[0]) if mask]\n",
        "\n",
        "  pred_genres = [0] * len(tag_encoder)\n",
        "  for label in labels:\n",
        "    pred_genres[tag_encoder[label]] = 1\n",
        "  preds.append(pred_genres)"
      ],
      "metadata": {
        "colab": {
          "base_uri": "https://localhost:8080/",
          "height": 49,
          "referenced_widgets": [
            "f33a843bfb4544cd86f498e79bfc3662",
            "eb81daab71f443b89718e3e628eb9464",
            "bf496d707c7e4a9cbea963d3628e8615",
            "f9d47988dee24154b70a0f58654b33d5",
            "6c61654bd6a64b0bb6f13ca56d012d98",
            "41a512bfbf134a20908b2b19f12fc539",
            "3abac31fc1c147a4831925325fd65c42",
            "938b5175a49c4127918c8f3bf896867e",
            "469cecce1a2e49e3b88bf8cbdadc7a6e",
            "0897639b5a6f4ef382d8235255619c9e",
            "17adc6ebba1a49aeaf78eb177719cc47"
          ]
        },
        "id": "Dmn-5dZbKFKa",
        "outputId": "7f521b08-c70a-4256-fb74-5ce7851e97d6"
      },
      "execution_count": null,
      "outputs": [
        {
          "output_type": "display_data",
          "data": {
            "text/plain": [
              "  0%|          | 0/20240 [00:00<?, ?it/s]"
            ],
            "application/vnd.jupyter.widget-view+json": {
              "version_major": 2,
              "version_minor": 0,
              "model_id": "f33a843bfb4544cd86f498e79bfc3662"
            }
          },
          "metadata": {}
        }
      ]
    },
    {
      "cell_type": "code",
      "source": [
        "metric_measures(valid_df, preds)"
      ],
      "metadata": {
        "colab": {
          "base_uri": "https://localhost:8080/"
        },
        "id": "3ZJUWiXfKGTr",
        "outputId": "dcf7133a-e3ab-4a34-8745-124ec6f8ddee"
      },
      "execution_count": null,
      "outputs": [
        {
          "output_type": "stream",
          "name": "stdout",
          "text": [
            "F1 Score (Micro) =  0.8630\n",
            "F1 Score (Macro) =  0.5985\n"
          ]
        }
      ]
    },
    {
      "cell_type": "code",
      "source": [],
      "metadata": {
        "id": "SLsCDKudNvpD"
      },
      "execution_count": null,
      "outputs": []
    }
  ]
}